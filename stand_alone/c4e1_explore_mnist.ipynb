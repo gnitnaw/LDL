{
  "cells": [
    {
      "cell_type": "markdown",
      "metadata": {
        "id": "view-in-github",
        "colab_type": "text"
      },
      "source": [
        "<a href=\"https://colab.research.google.com/github/gnitnaw/LDL/blob/main/stand_alone/c4e1_explore_mnist.ipynb\" target=\"_parent\"><img src=\"https://colab.research.google.com/assets/colab-badge.svg\" alt=\"Open In Colab\"/></a>"
      ]
    },
    {
      "cell_type": "code",
      "execution_count": 1,
      "metadata": {
        "id": "U8uTGkdW3znl",
        "outputId": "6fd64fba-7e3f-4f52-ca45-2367a1865ac1",
        "colab": {
          "base_uri": "https://localhost:8080/",
          "height": 111
        }
      },
      "outputs": [
        {
          "output_type": "execute_result",
          "data": {
            "text/plain": [
              "'\\nThe MIT License (MIT)\\nCopyright (c) 2021 NVIDIA\\nPermission is hereby granted, free of charge, to any person obtaining a copy of\\nthis software and associated documentation files (the \"Software\"), to deal in\\nthe Software without restriction, including without limitation the rights to\\nuse, copy, modify, merge, publish, distribute, sublicense, and/or sell copies of\\nthe Software, and to permit persons to whom the Software is furnished to do so,\\nsubject to the following conditions:\\nThe above copyright notice and this permission notice shall be included in all\\ncopies or substantial portions of the Software.\\nTHE SOFTWARE IS PROVIDED \"AS IS\", WITHOUT WARRANTY OF ANY KIND, EXPRESS OR\\nIMPLIED, INCLUDING BUT NOT LIMITED TO THE WARRANTIES OF MERCHANTABILITY, FITNESS\\nFOR A PARTICULAR PURPOSE AND NONINFRINGEMENT. IN NO EVENT SHALL THE AUTHORS OR\\nCOPYRIGHT HOLDERS BE LIABLE FOR ANY CLAIM, DAMAGES OR OTHER LIABILITY, WHETHER\\nIN AN ACTION OF CONTRACT, TORT OR OTHERWISE, ARISING FROM, OUT OF OR IN\\nCONNECTION WITH THE SOFTWARE OR THE USE OR OTHER DEALINGS IN THE SOFTWARE.\\n'"
            ],
            "application/vnd.google.colaboratory.intrinsic+json": {
              "type": "string"
            }
          },
          "metadata": {},
          "execution_count": 1
        }
      ],
      "source": [
        "\"\"\"\n",
        "The MIT License (MIT)\n",
        "Copyright (c) 2021 NVIDIA\n",
        "Permission is hereby granted, free of charge, to any person obtaining a copy of\n",
        "this software and associated documentation files (the \"Software\"), to deal in\n",
        "the Software without restriction, including without limitation the rights to\n",
        "use, copy, modify, merge, publish, distribute, sublicense, and/or sell copies of\n",
        "the Software, and to permit persons to whom the Software is furnished to do so,\n",
        "subject to the following conditions:\n",
        "The above copyright notice and this permission notice shall be included in all\n",
        "copies or substantial portions of the Software.\n",
        "THE SOFTWARE IS PROVIDED \"AS IS\", WITHOUT WARRANTY OF ANY KIND, EXPRESS OR\n",
        "IMPLIED, INCLUDING BUT NOT LIMITED TO THE WARRANTIES OF MERCHANTABILITY, FITNESS\n",
        "FOR A PARTICULAR PURPOSE AND NONINFRINGEMENT. IN NO EVENT SHALL THE AUTHORS OR\n",
        "COPYRIGHT HOLDERS BE LIABLE FOR ANY CLAIM, DAMAGES OR OTHER LIABILITY, WHETHER\n",
        "IN AN ACTION OF CONTRACT, TORT OR OTHERWISE, ARISING FROM, OUT OF OR IN\n",
        "CONNECTION WITH THE SOFTWARE OR THE USE OR OTHER DEALINGS IN THE SOFTWARE.\n",
        "\"\"\"\n"
      ]
    },
    {
      "cell_type": "markdown",
      "metadata": {
        "id": "lV-CT-JV3zno"
      },
      "source": [
        "This code example loads and explores the MNIST dataset. The dataset first needs to be downloaded and decompressed into the ../data/mnist directory (see README file). More context for this code example can be found in the section \"Exploring the dataset\" in Chapter 4 in the book Learning Deep Learning by Magnus Ekman (ISBN: 9780137470358)."
      ]
    },
    {
      "cell_type": "markdown",
      "metadata": {
        "id": "5_gip3__3znp"
      },
      "source": [
        "The first code snippet shows how we load the files into NumPy arrays and then print the dimensions of these arrays. The file format is not a standard image format, but it is easy to read the files using the idx2numpy library. The dataset is assumed to be in the directory ../data/mnist/.\n"
      ]
    },
    {
      "cell_type": "code",
      "source": [
        "! pip3 install idx2numpy\n",
        "from google.colab import drive\n",
        "drive.mount('/content/drive')\n",
        "path_head = '/content/drive/MyDrive/Colab Notebooks/' # You have to change this. "
      ],
      "metadata": {
        "id": "ikCwZgyN4E-b",
        "outputId": "f77b94a4-4b98-4ad2-cbca-5ae67437b639",
        "colab": {
          "base_uri": "https://localhost:8080/"
        }
      },
      "execution_count": 2,
      "outputs": [
        {
          "output_type": "stream",
          "name": "stdout",
          "text": [
            "Looking in indexes: https://pypi.org/simple, https://us-python.pkg.dev/colab-wheels/public/simple/\n",
            "Collecting idx2numpy\n",
            "  Downloading idx2numpy-1.2.3.tar.gz (6.8 kB)\n",
            "Requirement already satisfied: numpy in /usr/local/lib/python3.7/dist-packages (from idx2numpy) (1.21.6)\n",
            "Requirement already satisfied: six in /usr/local/lib/python3.7/dist-packages (from idx2numpy) (1.15.0)\n",
            "Building wheels for collected packages: idx2numpy\n",
            "  Building wheel for idx2numpy (setup.py) ... \u001b[?25l\u001b[?25hdone\n",
            "  Created wheel for idx2numpy: filename=idx2numpy-1.2.3-py3-none-any.whl size=7917 sha256=abe55adc80a0deaab0dd75b618a7938e7d0492f9c70d3544e91ee9bbf1341568\n",
            "  Stored in directory: /root/.cache/pip/wheels/1a/ce/ad/d5e95a35cfe34149aade5e500f2edd535c0566d79e9a8e1d8a\n",
            "Successfully built idx2numpy\n",
            "Installing collected packages: idx2numpy\n",
            "Successfully installed idx2numpy-1.2.3\n",
            "Mounted at /content/drive\n"
          ]
        }
      ]
    },
    {
      "cell_type": "code",
      "execution_count": 3,
      "metadata": {
        "id": "uySZ5LgA3znq",
        "outputId": "df8c5d4b-2aa3-497d-d7c4-c3d9abc6a778",
        "colab": {
          "base_uri": "https://localhost:8080/"
        }
      },
      "outputs": [
        {
          "output_type": "stream",
          "name": "stdout",
          "text": [
            "dimensions of train_images:  (60000, 28, 28)\n",
            "dimensions of train_labels:  (60000,)\n",
            "dimensions of test_images:  (10000, 28, 28)\n",
            "dimensions of test_images:  (10000,)\n"
          ]
        }
      ],
      "source": [
        "import idx2numpy\n",
        "TRAIN_IMAGE_FILENAME = path_head+'data/mnist/train-images-idx3-ubyte'\n",
        "TRAIN_LABEL_FILENAME = path_head+'data/mnist/train-labels-idx1-ubyte'\n",
        "TEST_IMAGE_FILENAME = path_head+'data/mnist/t10k-images-idx3-ubyte'\n",
        "TEST_LABEL_FILENAME = path_head+'data/mnist/t10k-labels-idx1-ubyte'\n",
        "\n",
        "# Read files.\n",
        "train_images = idx2numpy.convert_from_file(\n",
        "    TRAIN_IMAGE_FILENAME)\n",
        "train_labels = idx2numpy.convert_from_file(\n",
        "    TRAIN_LABEL_FILENAME)\n",
        "test_images = idx2numpy.convert_from_file(TEST_IMAGE_FILENAME)\n",
        "test_labels = idx2numpy.convert_from_file(TEST_LABEL_FILENAME)\n",
        "\n",
        "# Print dimensions.\n",
        "print('dimensions of train_images: ', train_images.shape)\n",
        "print('dimensions of train_labels: ', train_labels.shape)\n",
        "print('dimensions of test_images: ', test_images.shape)\n",
        "print('dimensions of test_images: ', test_labels.shape)\n"
      ]
    },
    {
      "cell_type": "markdown",
      "metadata": {
        "id": "Z8c13r_L3znr"
      },
      "source": [
        "The next code snippet prints out the first training label and image pattern.\n"
      ]
    },
    {
      "cell_type": "code",
      "execution_count": 4,
      "metadata": {
        "id": "sAH209ha3zns",
        "outputId": "fd6d02f0-8a56-459e-a2ca-7e0f2a58692c",
        "colab": {
          "base_uri": "https://localhost:8080/"
        }
      },
      "outputs": [
        {
          "output_type": "stream",
          "name": "stdout",
          "text": [
            "label for first training example:  5\n",
            "---beginning of pattern for first training example---\n",
            "                                                        \n",
            "                                                        \n",
            "                                                        \n",
            "                                                        \n",
            "                                                        \n",
            "                        * * * * * * * * * * * *         \n",
            "                * * * * * * * * * * * * * * * *         \n",
            "              * * * * * * * * * * * * * * * *           \n",
            "              * * * * * * * * * * *                     \n",
            "                * * * * * * *   * *                     \n",
            "                  * * * * *                             \n",
            "                      * * * *                           \n",
            "                      * * * *                           \n",
            "                        * * * * * *                     \n",
            "                          * * * * * *                   \n",
            "                            * * * * * *                 \n",
            "                              * * * * *                 \n",
            "                                  * * * *               \n",
            "                            * * * * * * *               \n",
            "                        * * * * * * * *                 \n",
            "                    * * * * * * * * *                   \n",
            "                * * * * * * * * * *                     \n",
            "            * * * * * * * * * *                         \n",
            "        * * * * * * * * * *                             \n",
            "        * * * * * * * *                                 \n",
            "                                                        \n",
            "                                                        \n",
            "                                                        \n",
            "---end of pattern for first training example---\n"
          ]
        }
      ],
      "source": [
        "# Print one training example.\n",
        "print('label for first training example: ', train_labels[0])\n",
        "print('---beginning of pattern for first training example---')\n",
        "for line in train_images[0]:\n",
        "    for num in line:\n",
        "        if num > 0:\n",
        "            print('*', end = ' ')\n",
        "        else:\n",
        "            print(' ', end = ' ')\n",
        "    print('')\n",
        "print('---end of pattern for first training example---')\n"
      ]
    }
  ],
  "metadata": {
    "kernelspec": {
      "display_name": "Python 3",
      "language": "python",
      "name": "python3"
    },
    "language_info": {
      "codemirror_mode": {
        "name": "ipython",
        "version": 3
      },
      "file_extension": ".py",
      "mimetype": "text/x-python",
      "name": "python",
      "nbconvert_exporter": "python",
      "pygments_lexer": "ipython3",
      "version": "3.8.6"
    },
    "colab": {
      "name": "c4e1_explore_mnist.ipynb",
      "provenance": [],
      "include_colab_link": true
    }
  },
  "nbformat": 4,
  "nbformat_minor": 0
}