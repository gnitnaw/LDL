{
  "cells": [
    {
      "cell_type": "markdown",
      "metadata": {
        "id": "view-in-github",
        "colab_type": "text"
      },
      "source": [
        "<a href=\"https://colab.research.google.com/github/gnitnaw/LDL/blob/main/stand_alone/aFe2_2level_learning_mnist_minibatch.ipynb\" target=\"_parent\"><img src=\"https://colab.research.google.com/assets/colab-badge.svg\" alt=\"Open In Colab\"/></a>"
      ]
    },
    {
      "cell_type": "code",
      "execution_count": 1,
      "metadata": {
        "id": "ruHT5PmBWzSZ",
        "outputId": "c68c508a-a044-4488-fcf1-92695f6bb5c0",
        "colab": {
          "base_uri": "https://localhost:8080/",
          "height": 109
        }
      },
      "outputs": [
        {
          "output_type": "execute_result",
          "data": {
            "text/plain": [
              "'\\nThe MIT License (MIT)\\nCopyright (c) 2021 NVIDIA\\nPermission is hereby granted, free of charge, to any person obtaining a copy of\\nthis software and associated documentation files (the \"Software\"), to deal in\\nthe Software without restriction, including without limitation the rights to\\nuse, copy, modify, merge, publish, distribute, sublicense, and/or sell copies of\\nthe Software, and to permit persons to whom the Software is furnished to do so,\\nsubject to the following conditions:\\nThe above copyright notice and this permission notice shall be included in all\\ncopies or substantial portions of the Software.\\nTHE SOFTWARE IS PROVIDED \"AS IS\", WITHOUT WARRANTY OF ANY KIND, EXPRESS OR\\nIMPLIED, INCLUDING BUT NOT LIMITED TO THE WARRANTIES OF MERCHANTABILITY, FITNESS\\nFOR A PARTICULAR PURPOSE AND NONINFRINGEMENT. IN NO EVENT SHALL THE AUTHORS OR\\nCOPYRIGHT HOLDERS BE LIABLE FOR ANY CLAIM, DAMAGES OR OTHER LIABILITY, WHETHER\\nIN AN ACTION OF CONTRACT, TORT OR OTHERWISE, ARISING FROM, OUT OF OR IN\\nCONNECTION WITH THE SOFTWARE OR THE USE OR OTHER DEALINGS IN THE SOFTWARE.\\n'"
            ],
            "application/vnd.google.colaboratory.intrinsic+json": {
              "type": "string"
            }
          },
          "metadata": {},
          "execution_count": 1
        }
      ],
      "source": [
        "\"\"\"\n",
        "The MIT License (MIT)\n",
        "Copyright (c) 2021 NVIDIA\n",
        "Permission is hereby granted, free of charge, to any person obtaining a copy of\n",
        "this software and associated documentation files (the \"Software\"), to deal in\n",
        "the Software without restriction, including without limitation the rights to\n",
        "use, copy, modify, merge, publish, distribute, sublicense, and/or sell copies of\n",
        "the Software, and to permit persons to whom the Software is furnished to do so,\n",
        "subject to the following conditions:\n",
        "The above copyright notice and this permission notice shall be included in all\n",
        "copies or substantial portions of the Software.\n",
        "THE SOFTWARE IS PROVIDED \"AS IS\", WITHOUT WARRANTY OF ANY KIND, EXPRESS OR\n",
        "IMPLIED, INCLUDING BUT NOT LIMITED TO THE WARRANTIES OF MERCHANTABILITY, FITNESS\n",
        "FOR A PARTICULAR PURPOSE AND NONINFRINGEMENT. IN NO EVENT SHALL THE AUTHORS OR\n",
        "COPYRIGHT HOLDERS BE LIABLE FOR ANY CLAIM, DAMAGES OR OTHER LIABILITY, WHETHER\n",
        "IN AN ACTION OF CONTRACT, TORT OR OTHERWISE, ARISING FROM, OUT OF OR IN\n",
        "CONNECTION WITH THE SOFTWARE OR THE USE OR OTHER DEALINGS IN THE SOFTWARE.\n",
        "\"\"\"\n"
      ]
    },
    {
      "cell_type": "markdown",
      "metadata": {
        "id": "52diuGhKWzSc"
      },
      "source": [
        "This code example demonstrates how to extend aFe1_2level_learning_mnist_matmul to use mini-batches instead of individual training examples. More context for this code example can be found in the section \"Mini-Batch Implementation\" in Appendix F in the book Learning Deep Learning by Magnus Ekman (ISBN: 9780137470358).\n",
        "\n",
        "The initial code is unchanged, apart from creating a list index_list that is used to index mini-batches.\n"
      ]
    },
    {
      "cell_type": "code",
      "source": [
        "! pip3 install idx2numpy\n",
        "from google.colab import drive\n",
        "drive.mount('/content/drive')\n",
        "path_head = '/content/drive/MyDrive/Colab Notebooks/' # You have to change this. "
      ],
      "metadata": {
        "id": "-pYJHvE5XUsO",
        "outputId": "241350c9-f84f-4f41-def5-bbb82f3d2b83",
        "colab": {
          "base_uri": "https://localhost:8080/"
        }
      },
      "execution_count": 2,
      "outputs": [
        {
          "output_type": "stream",
          "name": "stdout",
          "text": [
            "Looking in indexes: https://pypi.org/simple, https://us-python.pkg.dev/colab-wheels/public/simple/\n",
            "Collecting idx2numpy\n",
            "  Downloading idx2numpy-1.2.3.tar.gz (6.8 kB)\n",
            "Requirement already satisfied: numpy in /usr/local/lib/python3.7/dist-packages (from idx2numpy) (1.21.6)\n",
            "Requirement already satisfied: six in /usr/local/lib/python3.7/dist-packages (from idx2numpy) (1.15.0)\n",
            "Building wheels for collected packages: idx2numpy\n",
            "  Building wheel for idx2numpy (setup.py) ... \u001b[?25l\u001b[?25hdone\n",
            "  Created wheel for idx2numpy: filename=idx2numpy-1.2.3-py3-none-any.whl size=7917 sha256=b25aea1af5386cd4b5df82caddf4876b1bf604d3ec8e86142b8e5c8d0074cf9c\n",
            "  Stored in directory: /root/.cache/pip/wheels/1a/ce/ad/d5e95a35cfe34149aade5e500f2edd535c0566d79e9a8e1d8a\n",
            "Successfully built idx2numpy\n",
            "Installing collected packages: idx2numpy\n",
            "Successfully installed idx2numpy-1.2.3\n",
            "Mounted at /content/drive\n"
          ]
        }
      ]
    },
    {
      "cell_type": "code",
      "execution_count": 3,
      "metadata": {
        "id": "Soh6zGjHWzSe"
      },
      "outputs": [],
      "source": [
        "import numpy as np\n",
        "import matplotlib.pyplot as plt\n",
        "import idx2numpy\n",
        "\n",
        "np.random.seed(7) # To make repeatable\n",
        "LEARNING_RATE = 0.1\n",
        "EPOCHS = 20\n",
        "TRAIN_IMAGE_FILENAME = path_head+'data/mnist/train-images.idx3-ubyte'\n",
        "TRAIN_LABEL_FILENAME = path_head+'data/mnist/train-labels.idx1-ubyte'\n",
        "TEST_IMAGE_FILENAME = path_head+'data/mnist/t10k-images.idx3-ubyte'\n",
        "TEST_LABEL_FILENAME = path_head+'data/mnist/t10k-labels.idx1-ubyte'\n",
        "BATCH_SIZE = 32\n",
        "\n",
        "# Function to read dataset.\n",
        "def read_mnist():\n",
        "    train_images = idx2numpy.convert_from_file(\n",
        "        TRAIN_IMAGE_FILENAME)\n",
        "    train_labels = idx2numpy.convert_from_file(\n",
        "        TRAIN_LABEL_FILENAME)\n",
        "    test_images = idx2numpy.convert_from_file(\n",
        "        TEST_IMAGE_FILENAME)\n",
        "    test_labels = idx2numpy.convert_from_file(\n",
        "        TEST_LABEL_FILENAME)\n",
        "\n",
        "    # Reformat and standardize.\n",
        "    x_train = train_images.reshape(60000, 784)\n",
        "    mean = np.mean(x_train)\n",
        "    stddev = np.std(x_train)\n",
        "    x_train = (x_train - mean) / stddev\n",
        "    x_test = test_images.reshape(10000, 784)\n",
        "    x_test = (x_test - mean) / stddev\n",
        "\n",
        "    # One-hot encoded output.\n",
        "    y_train = np.zeros((60000, 10))\n",
        "    y_test = np.zeros((10000, 10))\n",
        "    for i, y in enumerate(train_labels):\n",
        "        y_train[i][y] = 1\n",
        "    for i, y in enumerate(test_labels):\n",
        "        y_test[i][y] = 1\n",
        "    return x_train, y_train, x_test, y_test\n",
        "\n",
        "# Read train and test examples.\n",
        "x_train, y_train, x_test, y_test = read_mnist()\n",
        "index_list = list(range(int(len(x_train)/BATCH_SIZE)))\n"
      ]
    },
    {
      "cell_type": "markdown",
      "metadata": {
        "id": "ltAk_swjWzSf"
      },
      "source": [
        "The code representing the neurons and connections is shown below. The variables that were previously vector variables have now become matrices where the new dimension is the mini-batch size. The programming example assumes that the variable BATCH_SIZE has been initialized with the value 32.\n"
      ]
    },
    {
      "cell_type": "code",
      "execution_count": 4,
      "metadata": {
        "id": "vvKZtOklWzSg"
      },
      "outputs": [],
      "source": [
        "def layer_w(neuron_count, input_count):\n",
        "    weights = np.zeros((neuron_count, input_count+1))\n",
        "    for i in range(neuron_count):\n",
        "        for j in range(1, (input_count+1)):\n",
        "            weights[i][j] = np.random.uniform(-0.1, 0.1)\n",
        "    return weights\n",
        "\n",
        "# Declare matrices and vectors representing the neurons.\n",
        "hidden_layer_w = layer_w(25, 784)\n",
        "hidden_layer_y = np.zeros((25, BATCH_SIZE))\n",
        "hidden_layer_error = np.zeros((25, BATCH_SIZE))\n",
        "\n",
        "output_layer_w = layer_w(10, 25)\n",
        "output_layer_y = np.zeros((10, BATCH_SIZE))\n",
        "output_layer_error = np.zeros((10, BATCH_SIZE))\n"
      ]
    },
    {
      "cell_type": "markdown",
      "metadata": {
        "id": "VNuVpsMdWzSh"
      },
      "source": [
        "The code that plots the learning progress is unchanged.\n"
      ]
    },
    {
      "cell_type": "code",
      "execution_count": 5,
      "metadata": {
        "id": "D8k6j6iXWzSh"
      },
      "outputs": [],
      "source": [
        "chart_x = []\n",
        "chart_y_train = []\n",
        "chart_y_test = []\n",
        "def show_learning(epoch_no, train_acc, test_acc):\n",
        "    global chart_x\n",
        "    global chart_y_train\n",
        "    global chart_y_test\n",
        "    print('epoch no:', epoch_no, ', train_acc: ',\n",
        "          '%6.4f' % train_acc,\n",
        "          ', test_acc: ', '%6.4f' % test_acc)\n",
        "    chart_x.append(epoch_no + 1)\n",
        "    chart_y_train.append(1.0 - train_acc)\n",
        "    chart_y_test.append(1.0 - test_acc)\n",
        "\n",
        "def plot_learning():\n",
        "    plt.plot(chart_x, chart_y_train, 'r-',\n",
        "             label='training error')\n",
        "    plt.plot(chart_x, chart_y_test, 'b-',\n",
        "             label='test error')\n",
        "    plt.axis([0, len(chart_x), 0.0, 1.0])\n",
        "    plt.xlabel('training epochs')\n",
        "    plt.ylabel('error')\n",
        "    plt.legend()\n",
        "    plt.show()\n"
      ]
    },
    {
      "cell_type": "markdown",
      "metadata": {
        "id": "S3SUJyp_WzSi"
      },
      "source": [
        "The code snippet below shows the functions for the forward pass, backward pass, and weight adjustment. The forward_pass function is straightforward. The only difference is that when creating the input to the output layer, we now need to extend it with a vector of bias terms instead of just a single bias term. It is a vector because there needs to be one bias element for each example in the minibatch. Another difference is that x is now a matrix representing a batch of training examples instead of a vector representing a single example. The code itself has not changed, but it is worth noting that the arguments to matmul are now two matrices instead of a matrix and a vector.\n",
        "\n",
        "The backward_pass function is unchanged, although the input y_truth now is a matrix. The same applies to the global variables hidden_layer_error and output_layer_error that are used in the function.\n",
        "\n",
        "In adjust_weights, we need to append a vector of bias terms (technically, a matrix where one dimension is 1) to the outputs from the hidden layer where the vector length represents the mini-batch size. We have added a for loop that loops through all the examples in the mini-batch, accumulates the deltas in the delta_matrix, and then divides by the mini-batch size. This is how we compute the average of the gradient. We then simply do the weight update just as in the previous implementation but now using this averaged matrix instead.\n"
      ]
    },
    {
      "cell_type": "code",
      "execution_count": 6,
      "metadata": {
        "id": "wnavPROhWzSj"
      },
      "outputs": [],
      "source": [
        "def forward_pass(x):\n",
        "    global hidden_layer_y\n",
        "    global output_layer_y\n",
        "    # Activation function for hidden layer.\n",
        "    hidden_layer_z = np.matmul(hidden_layer_w, x)\n",
        "    hidden_layer_y = np.tanh(hidden_layer_z)\n",
        "    hidden_output_array = np.concatenate(\n",
        "        (np.ones((1, BATCH_SIZE)), hidden_layer_y))\n",
        "    # Activation function for output layer.\n",
        "    output_layer_z = np.matmul(output_layer_w,\n",
        "        hidden_output_array)\n",
        "    output_layer_y = 1.0 / (1.0 + np.exp(-output_layer_z))\n",
        "\n",
        "def backward_pass(y_truth):\n",
        "    global hidden_layer_error\n",
        "    global output_layer_error\n",
        "    # Backpropagate error for each output neuron.\n",
        "    error_prime = -(y_truth - output_layer_y)\n",
        "    output_log_prime = output_layer_y * (\n",
        "        1.0 - output_layer_y)\n",
        "    output_layer_error = error_prime * output_log_prime\n",
        "    # Backpropagate error for each hidden neuron.\n",
        "    hidden_tanh_prime = 1.0 - hidden_layer_y**2\n",
        "    hidden_weighted_error = np.matmul(np.matrix.transpose(\n",
        "        output_layer_w[:, 1:]), output_layer_error)\n",
        "    hidden_layer_error = (\n",
        "        hidden_tanh_prime * hidden_weighted_error)\n",
        "\n",
        "def adjust_weights(x):\n",
        "    global output_layer_w\n",
        "    global hidden_layer_w\n",
        "    delta_matrix = np.zeros((len(hidden_layer_error[:, 0]),\n",
        "                             len(x[:, 0])))\n",
        "    for i in range(BATCH_SIZE):\n",
        "        delta_matrix += np.outer(hidden_layer_error[:, i],\n",
        "                                 x[:, i]) * LEARNING_RATE\n",
        "    delta_matrix /= BATCH_SIZE\n",
        "    hidden_layer_w -= delta_matrix\n",
        "    hidden_output_array = np.concatenate(\n",
        "        (np.ones((1, BATCH_SIZE)), hidden_layer_y))\n",
        "    delta_matrix = np.zeros(\n",
        "        (len(output_layer_error[:, 0]),\n",
        "         len(hidden_output_array[:, 0])))\n",
        "    for i in range(BATCH_SIZE):\n",
        "        delta_matrix += np.outer(\n",
        "            output_layer_error[:, i],\n",
        "            hidden_output_array[:, i]) * LEARNING_RATE\n",
        "    delta_matrix /= BATCH_SIZE\n",
        "    output_layer_w -= delta_matrix\n"
      ]
    },
    {
      "cell_type": "markdown",
      "metadata": {
        "id": "_IauErZFWzSk"
      },
      "source": [
        "The final code snippet shows the training loop for the mini-batch implementation. The for loops that loop over the training and test examples are now changed to handle one mini-batch per iteration. This includes logic to collect a number of training examples into a matrix that is then passed to the forward and backward pass functions.\n",
        "\n",
        "We cheated a little bit in the outer loops (index j) by not properly handling the end of the training and test sets if they are not evenly divisible by the mini-batch size. Instead of worrying about how to use partially filled matrices, we simply skip the final few training and test examples. This would not be acceptable in a production implementation but makes the code shorter and easier to understand.\n"
      ]
    },
    {
      "cell_type": "code",
      "execution_count": 7,
      "metadata": {
        "id": "US5uFhM4WzSk",
        "outputId": "d746a65c-5be4-4ca6-f817-85f40b125abd",
        "colab": {
          "base_uri": "https://localhost:8080/",
          "height": 646
        }
      },
      "outputs": [
        {
          "output_type": "stream",
          "name": "stdout",
          "text": [
            "epoch no: 0 , train_acc:  0.7753 , test_acc:  0.9061\n",
            "epoch no: 1 , train_acc:  0.9106 , test_acc:  0.9209\n",
            "epoch no: 2 , train_acc:  0.9214 , test_acc:  0.9215\n",
            "epoch no: 3 , train_acc:  0.9276 , test_acc:  0.9266\n",
            "epoch no: 4 , train_acc:  0.9321 , test_acc:  0.9280\n",
            "epoch no: 5 , train_acc:  0.9341 , test_acc:  0.9316\n",
            "epoch no: 6 , train_acc:  0.9375 , test_acc:  0.9319\n",
            "epoch no: 7 , train_acc:  0.9380 , test_acc:  0.9319\n",
            "epoch no: 8 , train_acc:  0.9407 , test_acc:  0.9349\n",
            "epoch no: 9 , train_acc:  0.9424 , test_acc:  0.9357\n",
            "epoch no: 10 , train_acc:  0.9435 , test_acc:  0.9337\n",
            "epoch no: 11 , train_acc:  0.9441 , test_acc:  0.9331\n",
            "epoch no: 12 , train_acc:  0.9453 , test_acc:  0.9353\n",
            "epoch no: 13 , train_acc:  0.9460 , test_acc:  0.9359\n",
            "epoch no: 14 , train_acc:  0.9477 , test_acc:  0.9358\n",
            "epoch no: 15 , train_acc:  0.9487 , test_acc:  0.9364\n",
            "epoch no: 16 , train_acc:  0.9485 , test_acc:  0.9381\n",
            "epoch no: 17 , train_acc:  0.9490 , test_acc:  0.9355\n",
            "epoch no: 18 , train_acc:  0.9498 , test_acc:  0.9371\n",
            "epoch no: 19 , train_acc:  0.9508 , test_acc:  0.9370\n"
          ]
        },
        {
          "output_type": "display_data",
          "data": {
            "text/plain": [
              "<Figure size 432x288 with 1 Axes>"
            ],
            "image/png": "[encoded data removed]"
          },
          "metadata": {
            "needs_background": "light"
          }
        }
      ],
      "source": [
        "# Network training loop.\n",
        "for i in range(EPOCHS): # Train EPOCHS iterations\n",
        "    np.random.shuffle(index_list) # Randomize order\n",
        "    correct_training_results = 0\n",
        "    for j in index_list: # Train on all examples\n",
        "        j *= BATCH_SIZE\n",
        "        x = np.ones((785, BATCH_SIZE))\n",
        "        y = np.zeros((10, BATCH_SIZE))\n",
        "        for k in range(BATCH_SIZE):\n",
        "            x[1:, k] = x_train[j + k]\n",
        "            y[:, k] = y_train[j + k]\n",
        "        forward_pass(x)\n",
        "        for k in range(BATCH_SIZE):\n",
        "            if(output_layer_y[:, k].argmax()\n",
        "                    == y[:, k].argmax()):\n",
        "                correct_training_results += 1\n",
        "        backward_pass(y)\n",
        "        adjust_weights(x)\n",
        "\n",
        "    correct_test_results = 0\n",
        "    for j in range(0, (len(x_test) - BATCH_SIZE),\n",
        "                   BATCH_SIZE): # Evaluate network\n",
        "        x = np.ones((785, BATCH_SIZE))\n",
        "        y = np.zeros((10, BATCH_SIZE))\n",
        "        for k in range(BATCH_SIZE):\n",
        "            x[1:, k] = x_test[j + k]\n",
        "            y[:, k] = y_test[j + k]\n",
        "        forward_pass(x)\n",
        "        for k in range(BATCH_SIZE):\n",
        "            if(output_layer_y[:, k].argmax()\n",
        "                    == y[:, k].argmax()):\n",
        "                correct_test_results += 1\n",
        "    # Show progress\n",
        "    show_learning(i, correct_training_results/len(x_train),\n",
        "                  correct_test_results/len(x_test))\n",
        "plot_learning() # Create plot\n"
      ]
    }
  ],
  "metadata": {
    "kernelspec": {
      "display_name": "Python 3",
      "language": "python",
      "name": "python3"
    },
    "language_info": {
      "codemirror_mode": {
        "name": "ipython",
        "version": 3
      },
      "file_extension": ".py",
      "mimetype": "text/x-python",
      "name": "python",
      "nbconvert_exporter": "python",
      "pygments_lexer": "ipython3",
      "version": "3.6.7"
    },
    "colab": {
      "name": "aFe2_2level_learning_mnist_minibatch.ipynb",
      "provenance": [],
      "include_colab_link": true
    },
    "accelerator": "GPU",
    "gpuClass": "standard"
  },
  "nbformat": 4,
  "nbformat_minor": 0
}