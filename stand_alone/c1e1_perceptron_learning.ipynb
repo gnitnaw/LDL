{
  "cells": [
    {
      "cell_type": "markdown",
      "metadata": {
        "id": "view-in-github",
        "colab_type": "text"
      },
      "source": [
        "<a href=\"https://colab.research.google.com/github/gnitnaw/LDL/blob/main/stand_alone/c1e1_perceptron_learning.ipynb\" target=\"_parent\"><img src=\"https://colab.research.google.com/assets/colab-badge.svg\" alt=\"Open In Colab\"/></a>"
      ]
    },
    {
      "cell_type": "code",
      "execution_count": null,
      "metadata": {
        "id": "oJhTXBouPJQZ",
        "outputId": "4f39216b-0ceb-41b7-8921-f844467c8385",
        "colab": {
          "base_uri": "https://localhost:8080/",
          "height": 109
        }
      },
      "outputs": [
        {
          "output_type": "execute_result",
          "data": {
            "text/plain": [
              "'\\nThe MIT License (MIT)\\nCopyright (c) 2021 NVIDIA\\nPermission is hereby granted, free of charge, to any person obtaining a copy of\\nthis software and associated documentation files (the \"Software\"), to deal in\\nthe Software without restriction, including without limitation the rights to\\nuse, copy, modify, merge, publish, distribute, sublicense, and/or sell copies of\\nthe Software, and to permit persons to whom the Software is furnished to do so,\\nsubject to the following conditions:\\nThe above copyright notice and this permission notice shall be included in all\\ncopies or substantial portions of the Software.\\nTHE SOFTWARE IS PROVIDED \"AS IS\", WITHOUT WARRANTY OF ANY KIND, EXPRESS OR\\nIMPLIED, INCLUDING BUT NOT LIMITED TO THE WARRANTIES OF MERCHANTABILITY, FITNESS\\nFOR A PARTICULAR PURPOSE AND NONINFRINGEMENT. IN NO EVENT SHALL THE AUTHORS OR\\nCOPYRIGHT HOLDERS BE LIABLE FOR ANY CLAIM, DAMAGES OR OTHER LIABILITY, WHETHER\\nIN AN ACTION OF CONTRACT, TORT OR OTHERWISE, ARISING FROM, OUT OF OR IN\\nCONNECTION WITH THE SOFTWARE OR THE USE OR OTHER DEALINGS IN THE SOFTWARE.\\n'"
            ],
            "application/vnd.google.colaboratory.intrinsic+json": {
              "type": "string"
            }
          },
          "metadata": {},
          "execution_count": 1
        }
      ],
      "source": [
        "\"\"\"\n",
        "The MIT License (MIT)\n",
        "Copyright (c) 2021 NVIDIA\n",
        "Permission is hereby granted, free of charge, to any person obtaining a copy of\n",
        "this software and associated documentation files (the \"Software\"), to deal in\n",
        "the Software without restriction, including without limitation the rights to\n",
        "use, copy, modify, merge, publish, distribute, sublicense, and/or sell copies of\n",
        "the Software, and to permit persons to whom the Software is furnished to do so,\n",
        "subject to the following conditions:\n",
        "The above copyright notice and this permission notice shall be included in all\n",
        "copies or substantial portions of the Software.\n",
        "THE SOFTWARE IS PROVIDED \"AS IS\", WITHOUT WARRANTY OF ANY KIND, EXPRESS OR\n",
        "IMPLIED, INCLUDING BUT NOT LIMITED TO THE WARRANTIES OF MERCHANTABILITY, FITNESS\n",
        "FOR A PARTICULAR PURPOSE AND NONINFRINGEMENT. IN NO EVENT SHALL THE AUTHORS OR\n",
        "COPYRIGHT HOLDERS BE LIABLE FOR ANY CLAIM, DAMAGES OR OTHER LIABILITY, WHETHER\n",
        "IN AN ACTION OF CONTRACT, TORT OR OTHERWISE, ARISING FROM, OUT OF OR IN\n",
        "CONNECTION WITH THE SOFTWARE OR THE USE OR OTHER DEALINGS IN THE SOFTWARE.\n",
        "\"\"\"\n"
      ]
    },
    {
      "cell_type": "markdown",
      "metadata": {
        "id": "RfqXF40rPJQc"
      },
      "source": [
        "This code example implements the perceptron learning algorithm and demonstrates how to use it to learn the not AND (NAND) function. More context for this code example can be found in the section \"The Perceptron Learning Algorithm\" in Chapter 1 in the book Learning Deep Learning by Magnus Ekman (ISBN: 9780137470358).\n"
      ]
    },
    {
      "cell_type": "markdown",
      "metadata": {
        "id": "PE6ihxH1PJQd"
      },
      "source": [
        "The first code snippet shows the initialization code where we first import a library for randomization and then initialize variables for the training examples and perceptron weights.\n"
      ]
    },
    {
      "cell_type": "code",
      "execution_count": null,
      "metadata": {
        "id": "zJ7o_z1pPJQe",
        "outputId": "e8901392-a592-42be-bb91-8ed19b0f00f2",
        "colab": {
          "base_uri": "https://localhost:8080/"
        }
      },
      "outputs": [
        {
          "output_type": "stream",
          "name": "stdout",
          "text": [
            "w0 =  0.20 , w1 = -0.60 , w2 =  0.25\n"
          ]
        }
      ],
      "source": [
        "import random\n",
        "\n",
        "def show_learning(w):\n",
        "    print('w0 =', '%5.2f' % w[0], ', w1 =', '%5.2f' % w[1],\n",
        "          ', w2 =', '%5.2f' % w[2])\n",
        "\n",
        "# Define variables needed to control training process.\n",
        "random.seed(7) # To make repeatable\n",
        "LEARNING_RATE = 0.1\n",
        "index_list = [0, 1, 2, 3] # Used to randomize order\n",
        "\n",
        "# Define training examples.\n",
        "x_train = [(1.0, -1.0, -1.0), (1.0, -1.0, 1.0),\n",
        "    (1.0, 1.0, -1.0), (1.0, 1.0, 1.0)] # Inputs\n",
        "y_train = [1.0, 1.0, 1.0, -1.0] # Output (ground truth)\n",
        "\n",
        "# Define perceptron weights.\n",
        "w = [0.2, -0.6, 0.25] # Initialize to some \"random\" numbers\n",
        "\n",
        "# Print initial weights.\n",
        "show_learning(w)\n"
      ]
    },
    {
      "cell_type": "markdown",
      "metadata": {
        "id": "BCOFJWjpPJQf"
      },
      "source": [
        "Note how each input example consists of three values, but the first value is always 1.0 because it is the bias term. The next code snippet states the perceptron output computation.\n"
      ]
    },
    {
      "cell_type": "code",
      "execution_count": null,
      "metadata": {
        "id": "V2Lz1j1UPJQg"
      },
      "outputs": [],
      "source": [
        "# First element in vector x must be 1.\n",
        "# Length of w and x must be n+1 for neuron with n inputs.\n",
        "def compute_output(w, x):\n",
        "    z = 0.0\n",
        "    for i in range(len(w)):\n",
        "        z += x[i] * w[i] # Compute sum of weighted inputs\n",
        "    if z < 0: # Apply sign function\n",
        "        return -1\n",
        "    else:\n",
        "        return 1\n",
        "\n"
      ]
    },
    {
      "cell_type": "markdown",
      "metadata": {
        "id": "GXm_Bh7CPJQh"
      },
      "source": [
        "The final code snippet contains the perceptron training loop. It is a nested loop in which the inner loop runs through all four training examples in random order. For each example, it computes the output and adjusts and prints the weights if the output is wrong. The outer loop tests whether the perceptron provided correct output for all four examples and, if so, terminates the program.\n"
      ]
    },
    {
      "cell_type": "code",
      "execution_count": null,
      "metadata": {
        "id": "NS8LqNxuPJQh",
        "outputId": "6b1877ee-64f8-4077-80f0-fe77fbe5a381",
        "colab": {
          "base_uri": "https://localhost:8080/"
        }
      },
      "outputs": [
        {
          "output_type": "stream",
          "name": "stdout",
          "text": [
            "w0 =  0.30 , w1 = -0.50 , w2 =  0.15\n",
            "w0 =  0.40 , w1 = -0.40 , w2 =  0.05\n",
            "w0 =  0.30 , w1 = -0.50 , w2 = -0.05\n",
            "w0 =  0.40 , w1 = -0.40 , w2 = -0.15\n"
          ]
        }
      ],
      "source": [
        "# Perceptron training loop.\n",
        "all_correct = False\n",
        "while not all_correct:\n",
        "    all_correct = True\n",
        "    random.shuffle(index_list) # Randomize order\n",
        "    for i in index_list:\n",
        "        x = x_train[i]\n",
        "        y = y_train[i]\n",
        "        p_out = compute_output(w, x) # Perceptron function\n",
        "        if y != p_out: # Update weights when wrong\n",
        "            for j in range(0, len(w)):\n",
        "                w[j] += (y * LEARNING_RATE * x[j])\n",
        "            all_correct = False\n",
        "            show_learning(w) # Show updated weights\n"
      ]
    }
  ],
  "metadata": {
    "kernelspec": {
      "display_name": "Python 3",
      "language": "python",
      "name": "python3"
    },
    "language_info": {
      "codemirror_mode": {
        "name": "ipython",
        "version": 3
      },
      "file_extension": ".py",
      "mimetype": "text/x-python",
      "name": "python",
      "nbconvert_exporter": "python",
      "pygments_lexer": "ipython3",
      "version": "3.6.7"
    },
    "colab": {
      "name": "c1e1_perceptron_learning.ipynb",
      "provenance": [],
      "include_colab_link": true
    }
  },
  "nbformat": 4,
  "nbformat_minor": 0
}