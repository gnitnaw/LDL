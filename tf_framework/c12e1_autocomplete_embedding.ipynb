{
  "cells": [
    {
      "cell_type": "markdown",
      "metadata": {
        "id": "view-in-github",
        "colab_type": "text"
      },
      "source": [
        "<a href=\"https://colab.research.google.com/github/gnitnaw/LDL/blob/main/tf_framework/c12e1_autocomplete_embedding.ipynb\" target=\"_parent\"><img src=\"https://colab.research.google.com/assets/colab-badge.svg\" alt=\"Open In Colab\"/></a>"
      ]
    },
    {
      "cell_type": "code",
      "execution_count": 1,
      "metadata": {
        "id": "ltJRXixteQqe",
        "outputId": "52955c6a-1b9d-469a-c101-93f3f41a368d",
        "colab": {
          "base_uri": "https://localhost:8080/",
          "height": 111
        }
      },
      "outputs": [
        {
          "output_type": "execute_result",
          "data": {
            "text/plain": [
              "'\\nThe MIT License (MIT)\\nCopyright (c) 2021 NVIDIA\\nPermission is hereby granted, free of charge, to any person obtaining a copy of\\nthis software and associated documentation files (the \"Software\"), to deal in\\nthe Software without restriction, including without limitation the rights to\\nuse, copy, modify, merge, publish, distribute, sublicense, and/or sell copies of\\nthe Software, and to permit persons to whom the Software is furnished to do so,\\nsubject to the following conditions:\\nThe above copyright notice and this permission notice shall be included in all\\ncopies or substantial portions of the Software.\\nTHE SOFTWARE IS PROVIDED \"AS IS\", WITHOUT WARRANTY OF ANY KIND, EXPRESS OR\\nIMPLIED, INCLUDING BUT NOT LIMITED TO THE WARRANTIES OF MERCHANTABILITY, FITNESS\\nFOR A PARTICULAR PURPOSE AND NONINFRINGEMENT. IN NO EVENT SHALL THE AUTHORS OR\\nCOPYRIGHT HOLDERS BE LIABLE FOR ANY CLAIM, DAMAGES OR OTHER LIABILITY, WHETHER\\nIN AN ACTION OF CONTRACT, TORT OR OTHERWISE, ARISING FROM, OUT OF OR IN\\nCONNECTION WITH THE SOFTWARE OR THE USE OR OTHER DEALINGS IN THE SOFTWARE.\\n'"
            ],
            "application/vnd.google.colaboratory.intrinsic+json": {
              "type": "string"
            }
          },
          "metadata": {},
          "execution_count": 1
        }
      ],
      "source": [
        "\"\"\"\n",
        "The MIT License (MIT)\n",
        "Copyright (c) 2021 NVIDIA\n",
        "Permission is hereby granted, free of charge, to any person obtaining a copy of\n",
        "this software and associated documentation files (the \"Software\"), to deal in\n",
        "the Software without restriction, including without limitation the rights to\n",
        "use, copy, modify, merge, publish, distribute, sublicense, and/or sell copies of\n",
        "the Software, and to permit persons to whom the Software is furnished to do so,\n",
        "subject to the following conditions:\n",
        "The above copyright notice and this permission notice shall be included in all\n",
        "copies or substantial portions of the Software.\n",
        "THE SOFTWARE IS PROVIDED \"AS IS\", WITHOUT WARRANTY OF ANY KIND, EXPRESS OR\n",
        "IMPLIED, INCLUDING BUT NOT LIMITED TO THE WARRANTIES OF MERCHANTABILITY, FITNESS\n",
        "FOR A PARTICULAR PURPOSE AND NONINFRINGEMENT. IN NO EVENT SHALL THE AUTHORS OR\n",
        "COPYRIGHT HOLDERS BE LIABLE FOR ANY CLAIM, DAMAGES OR OTHER LIABILITY, WHETHER\n",
        "IN AN ACTION OF CONTRACT, TORT OR OTHERWISE, ARISING FROM, OUT OF OR IN\n",
        "CONNECTION WITH THE SOFTWARE OR THE USE OR OTHER DEALINGS IN THE SOFTWARE.\n",
        "\"\"\"\n"
      ]
    },
    {
      "cell_type": "markdown",
      "metadata": {
        "id": "yyliWqjgeQqh"
      },
      "source": [
        "This code example is similar to c11_e1_autocomplete, but it works on words (encoded with an embedding layer) instead of characters and it does not do beam search. More context for this code example can be found in the section \"Programming Example: Neural Language Model and Resulting Embeddings\" in Chapter 12 in the book Learning Deep Learning by Magnus Ekman (ISBN: 9780137470358).\n"
      ]
    },
    {
      "cell_type": "markdown",
      "metadata": {
        "id": "fNyO4PtveQqj"
      },
      "source": [
        "The initialization code below contains a couple of additional imports compared to c11_e1_autocomplete and defines two new constants MAX_WORDS and EMBEDDING_WIDTH that define the max size of our vocabulary and the dimensionality of the word vectors.\n"
      ]
    },
    {
      "cell_type": "markdown",
      "source": [
        "# Google Drive"
      ],
      "metadata": {
        "id": "OIIYSVmoeqaD"
      }
    },
    {
      "cell_type": "code",
      "source": [
        "from google.colab import drive\n",
        "drive.mount('/content/drive')\n",
        "path_head = '/content/drive/MyDrive/Colab Notebooks/' # You have to change this. "
      ],
      "metadata": {
        "id": "l7Yv0FS0enk_",
        "outputId": "b3f65c43-5a5c-4912-91fb-a9bf7fca7830",
        "colab": {
          "base_uri": "https://localhost:8080/"
        }
      },
      "execution_count": 2,
      "outputs": [
        {
          "output_type": "stream",
          "name": "stdout",
          "text": [
            "Drive already mounted at /content/drive; to attempt to forcibly remount, call drive.mount(\"/content/drive\", force_remount=True).\n"
          ]
        }
      ]
    },
    {
      "cell_type": "code",
      "execution_count": 3,
      "metadata": {
        "id": "CVPgOwSgeQqj"
      },
      "outputs": [],
      "source": [
        "import numpy as np\n",
        "from tensorflow.keras.models import Sequential\n",
        "from tensorflow.keras.layers import Dense\n",
        "from tensorflow.keras.layers import LSTM\n",
        "from tensorflow.keras.layers import Embedding\n",
        "from tensorflow.keras.preprocessing.text import Tokenizer\n",
        "from tensorflow.keras.preprocessing.text \\\n",
        "    import text_to_word_sequence\n",
        "import tensorflow as tf\n",
        "import logging\n",
        "tf.get_logger().setLevel(logging.ERROR)\n",
        "\n",
        "EPOCHS = 32\n",
        "BATCH_SIZE = 256\n",
        "# INPUT_FILE_NAME = '../data/frankenstein.txt'\n",
        "INPUT_FILE_NAME = path_head+'data/frankenstein.txt'\n",
        "WINDOW_LENGTH = 40\n",
        "WINDOW_STEP = 3\n",
        "PREDICT_LENGTH = 3\n",
        "MAX_WORDS = 10000\n",
        "EMBEDDING_WIDTH = 100\n"
      ]
    },
    {
      "cell_type": "markdown",
      "metadata": {
        "id": "flK5u8Y-eQqk"
      },
      "source": [
        "The next code snippet first reads the input file and splits the text into a list of individual words. The latter is done by using the imported function text_to_word_sequence(), which also removes punctuation and converts the text to lowercase. We then create input fragments and associated target words just as in the character-based example.\n"
      ]
    },
    {
      "cell_type": "code",
      "execution_count": 4,
      "metadata": {
        "id": "jRXCZnxqeQqk"
      },
      "outputs": [],
      "source": [
        "# Open and read file.\n",
        "file = open(INPUT_FILE_NAME, 'r', encoding='utf-8-sig')\n",
        "text = file.read()\n",
        "file.close()\n",
        "\n",
        "# Make lower case and split into individual words.\n",
        "text = text_to_word_sequence(text)\n",
        "\n",
        "# Create training examples.\n",
        "fragments = []\n",
        "targets = []\n",
        "for i in range(0, len(text) - WINDOW_LENGTH, WINDOW_STEP):\n",
        "    fragments.append(text[i: i + WINDOW_LENGTH])\n",
        "    targets.append(text[i + WINDOW_LENGTH])\n"
      ]
    },
    {
      "cell_type": "markdown",
      "metadata": {
        "id": "tv_j_9J-eQql"
      },
      "source": [
        "The next step is to convert the training examples into the correct format. Each input word needs to be encoded to a corresponding word index (an integer). This index will then be converted into an embedding by the Embedding layer. The target (output) word should still be one-hot encoded. To simplify how to interpret the output, we want the one-hot encoding to be done in such a way that bit N is hot when the network outputs the word corresponding to index N in the input encoding.\n",
        "\n",
        "We make use of the Keras Tokenizer class. When we construct our tokenizer, we provide an argument num_words = MAX_WORDS that caps the size of the vocabulary. The tokenizer object reserves index 0 to use as a special padding value and index 1 for unknown words. The remaining 9,998 indices (MAX_WORDS was set to 10,000) are used to represent words in the vocabulary.\n",
        "\n",
        "The padding value (index 0) can be used to make all training examples within the same batch have the same length. The Embedding layer can be instructed to ignore this value, so the network does not train on the padding values.\n",
        "\n",
        "Index 1 is reserved for UNKnown (UNK) words because we have declared UNK as an out-of-vocabulary (oov) token. When using the tokenizer to convert text to tokens, any word that is not in the vocabulary will be replaced by the word UNK. Similarly, if we try to convert an index that is not assigned to a word, the tokenizer will return UNK. If we do not set the oov_token parameter, it will simply ignore such words/indices.\n",
        "\n",
        "After instantiating our tokenizer, we call fit_on_texts() with our entire text corpus, which will result in the tokenizer assigning indices to words. We can then use the function texts_to_sequences to convert a text string into a list of indices, where unknown words will be assigned the index 1.\n"
      ]
    },
    {
      "cell_type": "code",
      "execution_count": 5,
      "metadata": {
        "id": "E-emBLB9eQql"
      },
      "outputs": [],
      "source": [
        "# Convert to indices.\n",
        "tokenizer = Tokenizer(num_words=MAX_WORDS, oov_token='UNK')\n",
        "tokenizer.fit_on_texts(text)\n",
        "fragments_indexed = tokenizer.texts_to_sequences(fragments)\n",
        "targets_indexed = tokenizer.texts_to_sequences(targets)\n",
        "\n",
        "# Convert to appropriate input and output formats.\n",
        "X = np.array(fragments_indexed, dtype=np.int64)\n",
        "y = np.zeros((len(targets_indexed), MAX_WORDS))\n",
        "for i, target_index in enumerate(targets_indexed):\n",
        "    y[i, target_index] = 1\n"
      ]
    },
    {
      "cell_type": "markdown",
      "metadata": {
        "id": "8JbE4mKheQqm"
      },
      "source": [
        "The next code snippet creates a model with an Embedding layer followed by two long short-term memory (LSTM) layers, followed by one fully connected layer with ReLU activation, and finally a fully connected layer with softmax as output. When we declare the Embedding layer, we provide it with its input dimensions (vocabulary size) and output dimensions (embedding width) and tell it to mask inputs using index 0. This masking is not necessary for our programming example given that we created the training input such that all input examples have the same length, but we do it for good practice. We state input_length=None so that we can feed training examples of any length to the network.\n"
      ]
    },
    {
      "cell_type": "code",
      "execution_count": 6,
      "metadata": {
        "id": "eaDirQKBeQqt",
        "outputId": "dbef5db1-2436-431a-a804-4114fa5f03e1",
        "colab": {
          "base_uri": "https://localhost:8080/"
        }
      },
      "outputs": [
        {
          "output_type": "stream",
          "name": "stdout",
          "text": [
            "Model: \"sequential\"\n",
            "_________________________________________________________________\n",
            " Layer (type)                Output Shape              Param #   \n",
            "=================================================================\n",
            " embedding (Embedding)       (None, None, 100)         1000000   \n",
            "                                                                 \n",
            " lstm (LSTM)                 (None, None, 128)         117248    \n",
            "                                                                 \n",
            " lstm_1 (LSTM)               (None, 128)               131584    \n",
            "                                                                 \n",
            " dense (Dense)               (None, 128)               16512     \n",
            "                                                                 \n",
            " dense_1 (Dense)             (None, 10000)             1290000   \n",
            "                                                                 \n",
            "=================================================================\n",
            "Total params: 2,555,344\n",
            "Trainable params: 2,555,344\n",
            "Non-trainable params: 0\n",
            "_________________________________________________________________\n",
            "Epoch 1/32\n",
            "98/98 - 62s - loss: 7.2116 - val_loss: 7.6998 - 62s/epoch - 633ms/step\n",
            "Epoch 2/32\n",
            "98/98 - 46s - loss: 6.4847 - val_loss: 7.9176 - 46s/epoch - 468ms/step\n",
            "Epoch 3/32\n",
            "98/98 - 48s - loss: 6.3587 - val_loss: 8.0156 - 48s/epoch - 485ms/step\n",
            "Epoch 4/32\n",
            "98/98 - 44s - loss: 6.2085 - val_loss: 8.1563 - 44s/epoch - 450ms/step\n",
            "Epoch 5/32\n",
            "98/98 - 43s - loss: 6.0734 - val_loss: 8.3689 - 43s/epoch - 438ms/step\n",
            "Epoch 6/32\n",
            "98/98 - 43s - loss: 5.9706 - val_loss: 8.3781 - 43s/epoch - 440ms/step\n",
            "Epoch 7/32\n",
            "98/98 - 44s - loss: 5.8883 - val_loss: 8.4467 - 44s/epoch - 453ms/step\n",
            "Epoch 8/32\n",
            "98/98 - 42s - loss: 5.8157 - val_loss: 8.5622 - 42s/epoch - 424ms/step\n",
            "Epoch 9/32\n",
            "98/98 - 42s - loss: 5.7415 - val_loss: 8.4333 - 42s/epoch - 432ms/step\n",
            "Epoch 10/32\n",
            "98/98 - 43s - loss: 5.6687 - val_loss: 8.5100 - 43s/epoch - 435ms/step\n",
            "Epoch 11/32\n",
            "98/98 - 42s - loss: 5.5879 - val_loss: 8.4572 - 42s/epoch - 432ms/step\n",
            "Epoch 12/32\n",
            "98/98 - 42s - loss: 5.5117 - val_loss: 8.5175 - 42s/epoch - 430ms/step\n",
            "Epoch 13/32\n",
            "98/98 - 43s - loss: 5.4331 - val_loss: 8.5046 - 43s/epoch - 438ms/step\n",
            "Epoch 14/32\n",
            "98/98 - 43s - loss: 5.3643 - val_loss: 8.7408 - 43s/epoch - 438ms/step\n",
            "Epoch 15/32\n",
            "98/98 - 42s - loss: 5.4109 - val_loss: 8.5167 - 42s/epoch - 432ms/step\n",
            "Epoch 16/32\n",
            "98/98 - 42s - loss: 5.2849 - val_loss: 8.9505 - 42s/epoch - 431ms/step\n",
            "Epoch 17/32\n",
            "98/98 - 42s - loss: 5.2016 - val_loss: 8.9887 - 42s/epoch - 428ms/step\n",
            "Epoch 18/32\n",
            "98/98 - 42s - loss: 5.1351 - val_loss: 9.1408 - 42s/epoch - 433ms/step\n",
            "Epoch 19/32\n",
            "98/98 - 41s - loss: 5.0781 - val_loss: 9.2314 - 41s/epoch - 421ms/step\n",
            "Epoch 20/32\n",
            "98/98 - 42s - loss: 5.0021 - val_loss: 9.3073 - 42s/epoch - 428ms/step\n",
            "Epoch 21/32\n",
            "98/98 - 42s - loss: 4.9294 - val_loss: 9.5584 - 42s/epoch - 430ms/step\n",
            "Epoch 22/32\n",
            "98/98 - 43s - loss: 4.8653 - val_loss: 9.7390 - 43s/epoch - 437ms/step\n",
            "Epoch 23/32\n",
            "98/98 - 41s - loss: 4.8085 - val_loss: 9.8502 - 41s/epoch - 420ms/step\n",
            "Epoch 24/32\n",
            "98/98 - 41s - loss: 4.7774 - val_loss: 9.9702 - 41s/epoch - 422ms/step\n",
            "Epoch 25/32\n",
            "98/98 - 41s - loss: 4.7267 - val_loss: 10.1687 - 41s/epoch - 423ms/step\n",
            "Epoch 26/32\n",
            "98/98 - 42s - loss: 4.6732 - val_loss: 10.2331 - 42s/epoch - 430ms/step\n",
            "Epoch 27/32\n",
            "98/98 - 41s - loss: 4.6204 - val_loss: 10.3253 - 41s/epoch - 422ms/step\n",
            "Epoch 28/32\n",
            "98/98 - 42s - loss: 4.5703 - val_loss: 10.5324 - 42s/epoch - 427ms/step\n",
            "Epoch 29/32\n",
            "98/98 - 42s - loss: 4.5273 - val_loss: 10.6648 - 42s/epoch - 426ms/step\n",
            "Epoch 30/32\n",
            "98/98 - 42s - loss: 4.4737 - val_loss: 10.7866 - 42s/epoch - 426ms/step\n",
            "Epoch 31/32\n",
            "98/98 - 43s - loss: 4.4337 - val_loss: 10.8556 - 43s/epoch - 436ms/step\n",
            "Epoch 32/32\n",
            "98/98 - 42s - loss: 4.3856 - val_loss: 11.1403 - 42s/epoch - 425ms/step\n"
          ]
        }
      ],
      "source": [
        "# Build and train model.\n",
        "training_model = Sequential()\n",
        "training_model.add(Embedding(\n",
        "    output_dim=EMBEDDING_WIDTH, input_dim=MAX_WORDS,\n",
        "    mask_zero=True, input_length=None))\n",
        "training_model.add(LSTM(128, return_sequences=True,\n",
        "                        dropout=0.2, recurrent_dropout=0.2))\n",
        "training_model.add(LSTM(128, dropout=0.2,\n",
        "                        recurrent_dropout=0.2))\n",
        "training_model.add(Dense(128, activation='relu'))\n",
        "training_model.add(Dense(MAX_WORDS, activation='softmax'))\n",
        "training_model.compile(loss='categorical_crossentropy',\n",
        "                       optimizer='adam')\n",
        "training_model.summary()\n",
        "history = training_model.fit(X, y, validation_split=0.05,\n",
        "                             batch_size=BATCH_SIZE, \n",
        "                             epochs=EPOCHS, verbose=2, \n",
        "                             shuffle=True)\n"
      ]
    },
    {
      "cell_type": "markdown",
      "metadata": {
        "id": "QAjzsJ7ReQqu"
      },
      "source": [
        "After training the model, we are ready to use it to do predictions. We do this a little bit differently than in the previous chapters. Instead of feeding a string of symbols as input to the model, we feed it only a single symbol at a time. This is an alternative implementation compared to the implementation in c11e1_autocomplete, where we repeatedly fed the model a growing sequence of characters (see the book for a more detailed description).\n",
        "\n",
        "The scheme used in this chapter has a subtle implication, which has to do with dependencies between multiple consecutive calls to model.predict(). We want the LSTM layers to retain their c and h states from one call to another so that the outputs of subsequent calls to predict() will depend on the prior calls to predict(). This can be done by giving the parameter stateful=True to the LSTM layers. A side effect of this is that we manually need to call reset_states() on the model before our first prediction.\n",
        "\n",
        "The code snippet below creates a model that is identical to the training model except that we declare the LSTM layers with stateful=True as well as specify a fixed batch size (required when declaring the LSTM layer as stateful) of size 1 using the batch_input_shape argument. We will transfer the weights from the trained model to this new model and use it for inference. This is done in the two last lines in the code snippet. There, we first read out the weights from the trained model and then initialize it into our inference model. For this to work, the models must have identical topology.\n"
      ]
    },
    {
      "cell_type": "code",
      "execution_count": 7,
      "metadata": {
        "id": "KBSMdv4QeQqv"
      },
      "outputs": [],
      "source": [
        "# Build stateful model used for prediction.\n",
        "inference_model = Sequential()\n",
        "inference_model.add(Embedding(\n",
        "    output_dim=EMBEDDING_WIDTH, input_dim=MAX_WORDS,\n",
        "    mask_zero=True, batch_input_shape=(1, 1)))\n",
        "inference_model.add(LSTM(128, return_sequences=True,\n",
        "                         dropout=0.2, recurrent_dropout=0.2,\n",
        "                         stateful=True))\n",
        "inference_model.add(LSTM(128, dropout=0.2,\n",
        "                         recurrent_dropout=0.2, stateful=True))\n",
        "inference_model.add(Dense(128, activation='relu'))\n",
        "inference_model.add(Dense(MAX_WORDS, activation='softmax'))\n",
        "weights = training_model.get_weights()\n",
        "inference_model.set_weights(weights)\n"
      ]
    },
    {
      "cell_type": "markdown",
      "metadata": {
        "id": "V4nQLPF7eQqv"
      },
      "source": [
        "The next code snippet implements logic of presenting a word to the model and retrieving the word with the highest probability from the output. This word is then fed back as input to the model in the next timestep. The resulting autocompleted text sequence is printed.\n"
      ]
    },
    {
      "cell_type": "code",
      "execution_count": 8,
      "metadata": {
        "id": "RijVTJ0TeQqv",
        "outputId": "8ac3bdd8-f8ec-4c69-f2ca-cf4d45431425",
        "colab": {
          "base_uri": "https://localhost:8080/"
        }
      },
      "outputs": [
        {
          "output_type": "stream",
          "name": "stdout",
          "text": [
            "i saw and the air \n"
          ]
        }
      ],
      "source": [
        "# Provide beginning of sentence and\n",
        "# predict next words in a greedy manner\n",
        "first_words = ['i', 'saw']\n",
        "first_words_indexed = tokenizer.texts_to_sequences(\n",
        "    first_words)\n",
        "inference_model.reset_states()\n",
        "predicted_string = ''\n",
        "# Feed initial words to the model.\n",
        "for i, word_index in enumerate(first_words_indexed):\n",
        "    x = np.zeros((1, 1), dtype=np.int64)\n",
        "    x[0][0] = word_index[0]\n",
        "    predicted_string += first_words[i]\n",
        "    predicted_string += ' '\n",
        "    y_predict = inference_model.predict(x, verbose=0)[0]\n",
        "# Predict PREDICT_LENGTH words.\n",
        "for i in range(PREDICT_LENGTH):\n",
        "    new_word_index = np.argmax(y_predict)\n",
        "    word = tokenizer.sequences_to_texts(\n",
        "        [[new_word_index]])\n",
        "    x[0][0] = new_word_index\n",
        "    predicted_string += word[0]\n",
        "    predicted_string += ' '\n",
        "    y_predict = inference_model.predict(x, verbose=0)[0]\n",
        "print(predicted_string)\n"
      ]
    },
    {
      "cell_type": "markdown",
      "metadata": {
        "id": "EL8GB44BeQqw"
      },
      "source": [
        "All of the preceding code had to do with building and using a language model. The next code snippet adds some functionality to explore the learned embeddings. We first read out the word embeddings from the Embedding layer by calling get_weights() on layer 0, which represents the Embedding layer. We then declare a list of a number of arbitrary lookup words. This is followed by a loop that does one iteration per lookup word. The loop uses the Tokenizer to convert the lookup word to a word index, which is then used to retrieve the corresponding word embedding. The Tokenizer functions are generally assumed to work on lists. Therefore, although we work with a single word at a time, we need to provide it as a list of size 1, and then we need to retrieve element zero ([0]) from the output.\n",
        "\n",
        "Once we have retrieved the corresponding word embedding, we loop through all the other embeddings and calculate the Euclidean distance to the embedding for the lookup word using the NumPy function norm(). We add the distance and the corresponding word to the dictionary word_indices. Once we have calculated the distance to each word, we simply sort the distances and retrieve the five word indices that correspond to the word embeddings that are closest in vector space. We use the Tokenizer to convert these indices back to words and print them and their corresponding distances.\n"
      ]
    },
    {
      "cell_type": "code",
      "execution_count": 9,
      "metadata": {
        "id": "_bKKx_WNeQqw",
        "outputId": "690bd11e-ed7a-403e-e354-0517aa5f1b8d",
        "colab": {
          "base_uri": "https://localhost:8080/"
        }
      },
      "outputs": [
        {
          "output_type": "stream",
          "name": "stdout",
          "text": [
            "words close to: the\n",
            "the:  0.0\n",
            "a:  1.0806463\n",
            "“man:  1.3769337\n",
            "perpendicular:  1.38155\n",
            "heavily:  1.3912796\n",
            "\n",
            "words close to: saw\n",
            "saw:  0.0\n",
            "as:  0.48732606\n",
            "which:  0.49339467\n",
            "that:  0.5051552\n",
            "UNK:  0.5101035\n",
            "\n",
            "words close to: see\n",
            "see:  0.0\n",
            "made:  0.55155224\n",
            "saw:  0.5805882\n",
            "waves:  0.5845164\n",
            "lake:  0.58588165\n",
            "\n",
            "words close to: of\n",
            "of:  0.0\n",
            "by:  0.427217\n",
            "in:  0.43739766\n",
            "declared:  0.47325063\n",
            "unwholesome:  0.47516632\n",
            "\n",
            "words close to: and\n",
            "and:  0.0\n",
            "now:  0.37749964\n",
            "am:  0.41460738\n",
            "UNK:  0.4224915\n",
            "lieu:  0.42396092\n",
            "\n",
            "words close to: monster\n",
            "monster:  0.0\n",
            "alone:  0.49328128\n",
            "prison:  0.51289016\n",
            "UNK:  0.5157103\n",
            "UNK:  0.51599073\n",
            "\n",
            "words close to: frankenstein\n",
            "frankenstein:  0.0\n",
            "UNK:  0.44750696\n",
            "UNK:  0.45352083\n",
            "UNK:  0.45699644\n",
            "UNK:  0.45789152\n",
            "\n",
            "words close to: read\n",
            "read:  0.0\n",
            "me:  0.54325795\n",
            "UNK:  0.5451037\n",
            "UNK:  0.56608945\n",
            "decline:  0.56610894\n",
            "\n",
            "words close to: eat\n",
            "eat:  0.0\n",
            "extremely:  0.54712933\n",
            "stopped:  0.56699574\n",
            "whirlwind:  0.5690579\n",
            "impetuous:  0.57299787\n",
            "\n"
          ]
        }
      ],
      "source": [
        "# Explore embedding similarities.\n",
        "embeddings = training_model.layers[0].get_weights()[0]\n",
        "lookup_words = ['the', 'saw', 'see', 'of', 'and',\n",
        "                'monster', 'frankenstein', 'read', 'eat']\n",
        "for lookup_word in lookup_words:\n",
        "    lookup_word_indexed = tokenizer.texts_to_sequences(\n",
        "        [lookup_word])\n",
        "    print('words close to:', lookup_word)\n",
        "    lookup_embedding = embeddings[lookup_word_indexed[0]]\n",
        "    word_indices = {}\n",
        "    # Calculate distances.\n",
        "    for i, embedding in enumerate(embeddings):\n",
        "        distance = np.linalg.norm(\n",
        "            embedding - lookup_embedding)\n",
        "        word_indices[distance] = i\n",
        "    # Print sorted by distance.\n",
        "    for distance in sorted(word_indices.keys())[:5]:\n",
        "        word_index = word_indices[distance]\n",
        "        word = tokenizer.sequences_to_texts([[word_index]])[0]\n",
        "        print(word + ': ', distance)\n",
        "    print('')\n"
      ]
    }
  ],
  "metadata": {
    "kernelspec": {
      "display_name": "Python 3",
      "language": "python",
      "name": "python3"
    },
    "language_info": {
      "codemirror_mode": {
        "name": "ipython",
        "version": 3
      },
      "file_extension": ".py",
      "mimetype": "text/x-python",
      "name": "python",
      "nbconvert_exporter": "python",
      "pygments_lexer": "ipython3",
      "version": "3.8.6"
    },
    "colab": {
      "provenance": [],
      "include_colab_link": true
    },
    "accelerator": "GPU",
    "gpuClass": "standard"
  },
  "nbformat": 4,
  "nbformat_minor": 0
}