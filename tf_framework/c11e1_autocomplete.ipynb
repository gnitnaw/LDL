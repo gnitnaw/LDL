{
  "cells": [
    {
      "cell_type": "markdown",
      "metadata": {
        "id": "view-in-github",
        "colab_type": "text"
      },
      "source": [
        "<a href=\"https://colab.research.google.com/github/gnitnaw/LDL/blob/main/tf_framework/c11e1_autocomplete.ipynb\" target=\"_parent\"><img src=\"https://colab.research.google.com/assets/colab-badge.svg\" alt=\"Open In Colab\"/></a>"
      ]
    },
    {
      "cell_type": "code",
      "execution_count": 1,
      "metadata": {
        "id": "UzW2yAXYP0Kj",
        "outputId": "a3078b57-4014-4dbd-c73a-f4d97956c3db",
        "colab": {
          "base_uri": "https://localhost:8080/",
          "height": 111
        }
      },
      "outputs": [
        {
          "output_type": "execute_result",
          "data": {
            "text/plain": [
              "'\\nThe MIT License (MIT)\\nCopyright (c) 2021 NVIDIA\\nPermission is hereby granted, free of charge, to any person obtaining a copy of\\nthis software and associated documentation files (the \"Software\"), to deal in\\nthe Software without restriction, including without limitation the rights to\\nuse, copy, modify, merge, publish, distribute, sublicense, and/or sell copies of\\nthe Software, and to permit persons to whom the Software is furnished to do so,\\nsubject to the following conditions:\\nThe above copyright notice and this permission notice shall be included in all\\ncopies or substantial portions of the Software.\\nTHE SOFTWARE IS PROVIDED \"AS IS\", WITHOUT WARRANTY OF ANY KIND, EXPRESS OR\\nIMPLIED, INCLUDING BUT NOT LIMITED TO THE WARRANTIES OF MERCHANTABILITY, FITNESS\\nFOR A PARTICULAR PURPOSE AND NONINFRINGEMENT. IN NO EVENT SHALL THE AUTHORS OR\\nCOPYRIGHT HOLDERS BE LIABLE FOR ANY CLAIM, DAMAGES OR OTHER LIABILITY, WHETHER\\nIN AN ACTION OF CONTRACT, TORT OR OTHERWISE, ARISING FROM, OUT OF OR IN\\nCONNECTION WITH THE SOFTWARE OR THE USE OR OTHER DEALINGS IN THE SOFTWARE.\\n'"
            ],
            "application/vnd.google.colaboratory.intrinsic+json": {
              "type": "string"
            }
          },
          "metadata": {},
          "execution_count": 1
        }
      ],
      "source": [
        "\"\"\"\n",
        "The MIT License (MIT)\n",
        "Copyright (c) 2021 NVIDIA\n",
        "Permission is hereby granted, free of charge, to any person obtaining a copy of\n",
        "this software and associated documentation files (the \"Software\"), to deal in\n",
        "the Software without restriction, including without limitation the rights to\n",
        "use, copy, modify, merge, publish, distribute, sublicense, and/or sell copies of\n",
        "the Software, and to permit persons to whom the Software is furnished to do so,\n",
        "subject to the following conditions:\n",
        "The above copyright notice and this permission notice shall be included in all\n",
        "copies or substantial portions of the Software.\n",
        "THE SOFTWARE IS PROVIDED \"AS IS\", WITHOUT WARRANTY OF ANY KIND, EXPRESS OR\n",
        "IMPLIED, INCLUDING BUT NOT LIMITED TO THE WARRANTIES OF MERCHANTABILITY, FITNESS\n",
        "FOR A PARTICULAR PURPOSE AND NONINFRINGEMENT. IN NO EVENT SHALL THE AUTHORS OR\n",
        "COPYRIGHT HOLDERS BE LIABLE FOR ANY CLAIM, DAMAGES OR OTHER LIABILITY, WHETHER\n",
        "IN AN ACTION OF CONTRACT, TORT OR OTHERWISE, ARISING FROM, OUT OF OR IN\n",
        "CONNECTION WITH THE SOFTWARE OR THE USE OR OTHER DEALINGS IN THE SOFTWARE.\n",
        "\"\"\"\n"
      ]
    },
    {
      "cell_type": "markdown",
      "metadata": {
        "id": "6R27yyWzP0Kn"
      },
      "source": [
        "This code example demonstrates how to use an LSTM-based neural network and beam search to do text autocompletion. More context for this code example can be found in the section \"Programming Example: Using LSTM for Text Autocompletion\" in Chapter 11 in the book Learning Deep Learning by Magnus Ekman (ISBN: 9780137470358).\n"
      ]
    },
    {
      "cell_type": "markdown",
      "metadata": {
        "id": "wbG4YFtvP0Kp"
      },
      "source": [
        "The initialization code is shown in the first code snippet. Apart from the import statements, we need to provide the path to the text file to use for training. We also define two variables, WINDOW_LENGTH and WINDOW_STEP, which are used to control the process of splitting up this text file into multiple training examples. The other three variables control the beam-search algorithm and are described shortly. The text used to train the model is assumed to be in the file ../data/frankenstein.txt."
      ]
    },
    {
      "cell_type": "markdown",
      "source": [
        "# Google Drive"
      ],
      "metadata": {
        "id": "QgdHFad1P443"
      }
    },
    {
      "cell_type": "code",
      "source": [
        "from google.colab import drive\n",
        "drive.mount('/content/drive')\n",
        "path_head = '/content/drive/MyDrive/Colab Notebooks/' # You have to change this. "
      ],
      "metadata": {
        "id": "-uQWFOoOP62-",
        "outputId": "e9ace5a1-dd7d-401d-a9e3-9ae1fbd11a72",
        "colab": {
          "base_uri": "https://localhost:8080/"
        }
      },
      "execution_count": 2,
      "outputs": [
        {
          "output_type": "stream",
          "name": "stdout",
          "text": [
            "Mounted at /content/drive\n"
          ]
        }
      ]
    },
    {
      "cell_type": "code",
      "execution_count": 3,
      "metadata": {
        "id": "sM6HEGZrP0Kq"
      },
      "outputs": [],
      "source": [
        "import numpy as np\n",
        "from tensorflow.keras.models import Sequential\n",
        "from tensorflow.keras.layers import Dense\n",
        "from tensorflow.keras.layers import LSTM\n",
        "import tensorflow as tf\n",
        "import logging\n",
        "tf.get_logger().setLevel(logging.ERROR)\n",
        "\n",
        "EPOCHS = 32\n",
        "BATCH_SIZE = 256\n",
        "#INPUT_FILE_NAME = '../data/frankenstein.txt'\n",
        "INPUT_FILE_NAME = path_head+'data/frankenstein.txt'\n",
        "WINDOW_LENGTH = 40\n",
        "WINDOW_STEP = 3\n",
        "BEAM_SIZE = 8\n",
        "NUM_LETTERS = 11\n",
        "MAX_LENGTH = 50\n"
      ]
    },
    {
      "cell_type": "markdown",
      "metadata": {
        "id": "CpwjSCUjP0Kr"
      },
      "source": [
        "The next code snippet opens and reads the content of the file, converts it all into lowercase, and replaces double spaces with single spaces. To enable us to easily one-hot encode each character, we want to assign a monotonically increasing index to each character. This is done by first creating a list of unique characters. Once we have that list, we can loop over it and assign an incrementing index to each character. We do this twice to create one dictionary (a hash table) that maps from character to index and a reverse dictionary from index to character. These will come in handy later when we want to convert text into one-hot encoded input to the network as well as when we want to convert one-hot encoded output into characters. Finally, we initialize a variable encoding_width with the count of unique characters, which will be the width of each one-hot encoded vector that represents a character."
      ]
    },
    {
      "cell_type": "code",
      "execution_count": 4,
      "metadata": {
        "id": "kPbXV9qbP0Ks"
      },
      "outputs": [],
      "source": [
        "# Open the input file.\n",
        "file = open(INPUT_FILE_NAME, 'r', encoding='utf-8-sig')\n",
        "text = file.read()\n",
        "file.close()\n",
        "\n",
        "# Make lowercase and remove newline and extra spaces.\n",
        "text = text.lower()\n",
        "text = text.replace('\\n', ' ')\n",
        "text = text.replace('  ', ' ')\n",
        "\n",
        "# Encode characters as indices.\n",
        "unique_chars = list(set(text))\n",
        "char_to_index = dict((ch, index) for index,\n",
        "                     ch in enumerate(unique_chars))\n",
        "index_to_char = dict((index, ch) for index,\n",
        "                     ch in enumerate(unique_chars))\n",
        "encoding_width = len(char_to_index)\n"
      ]
    },
    {
      "cell_type": "markdown",
      "metadata": {
        "id": "KTQCXBEuP0Kt"
      },
      "source": [
        "The next step is to create training examples from the text file. This is done by the next code snippet. Each training example will consist of a sequence of characters and a target output value of a single character immediately following the input characters. We create these input examples using a sliding window of length WINDOW_LENGTH. Once we have created one training example, we slide the window by WINDOW_STEP positions and create the next training example. We add the input examples to one list and the output values to another. All of this is done by the first for loop.\n",
        "\n",
        "We then create a single tensor holding all the input examples and another tensor holding the output values. Both of these tensors will hold data in one-hot encoded form, so each character is represented by a dimension of size encoding_width. We first allocate space for the two tensors and then fill in the values using a nested for loop.\n"
      ]
    },
    {
      "cell_type": "code",
      "execution_count": 5,
      "metadata": {
        "id": "xgXgE8jfP0Kv"
      },
      "outputs": [],
      "source": [
        "# Create training examples.\n",
        "fragments = []\n",
        "targets = []\n",
        "for i in range(0, len(text) - WINDOW_LENGTH, WINDOW_STEP):\n",
        "    fragments.append(text[i: i + WINDOW_LENGTH])\n",
        "    targets.append(text[i + WINDOW_LENGTH])\n",
        "\n",
        "# Convert to one-hot encoded training data.\n",
        "X = np.zeros((len(fragments), WINDOW_LENGTH, encoding_width))\n",
        "y = np.zeros((len(fragments), encoding_width))\n",
        "for i, fragment in enumerate(fragments):\n",
        "    for j, char in enumerate(fragment):\n",
        "        X[i, j, char_to_index[char]] = 1\n",
        "    target_char = targets[i]\n",
        "    y[i, char_to_index[target_char]] = 1\n"
      ]
    },
    {
      "cell_type": "markdown",
      "metadata": {
        "id": "PQDX3tEKP0Kw"
      },
      "source": [
        "We are now ready to build our model. From the perspective of training our model, it will look similar to the book sales prediction example, but we use a deeper model consisting of two LSTM layers. Both LSTM layers use a dropout value of 0.2 on the connections between layers as well as on the recurrent connections. Note how we pass return_sequences=True to the constructor of the first layer because the second layer needs to see the output values for all timesteps from the first layer. The second LSTM layer is followed by a fully connected layer with multiple neurons using a softmax function because we will be predicting probabilities for discrete entities (characters). We use categorical cross-entropy as our loss function, which is the recommended loss function for multicategory classification.\n",
        "\n",
        "One thing to note is that when we prepared the data, we did not split the dataset into a training set and a test set. Instead, we provide a parameter validation_ split=0.05 to the fit() function. Keras will then automatically split our training data into a training set and a test set, where the parameter 0.05 indicates that 5% of the data will be used as a test set. We will also inspect the predictions to get an idea of whether the network is doing what we would like it to do. Finally, we train the model for 32 epochs with a mini-batch size of 256.\n"
      ]
    },
    {
      "cell_type": "code",
      "execution_count": 6,
      "metadata": {
        "id": "7UjCNEq-P0Kz",
        "outputId": "fb340b4c-bb37-4ca3-b2b7-06df785fc93f",
        "colab": {
          "base_uri": "https://localhost:8080/"
        }
      },
      "outputs": [
        {
          "output_type": "stream",
          "name": "stdout",
          "text": [
            "Model: \"sequential\"\n",
            "_________________________________________________________________\n",
            " Layer (type)                Output Shape              Param #   \n",
            "=================================================================\n",
            " lstm (LSTM)                 (None, None, 128)         99840     \n",
            "                                                                 \n",
            " lstm_1 (LSTM)               (None, 128)               131584    \n",
            "                                                                 \n",
            " dense (Dense)               (None, 66)                8514      \n",
            "                                                                 \n",
            "=================================================================\n",
            "Total params: 239,938\n",
            "Trainable params: 239,938\n",
            "Non-trainable params: 0\n",
            "_________________________________________________________________\n",
            "Epoch 1/32\n",
            "542/542 - 169s - loss: 2.7819 - val_loss: 2.6343 - 169s/epoch - 312ms/step\n",
            "Epoch 2/32\n",
            "542/542 - 163s - loss: 2.3966 - val_loss: 2.4968 - 163s/epoch - 302ms/step\n",
            "Epoch 3/32\n",
            "542/542 - 165s - loss: 2.2670 - val_loss: 2.4290 - 165s/epoch - 305ms/step\n",
            "Epoch 4/32\n",
            "542/542 - 164s - loss: 2.1824 - val_loss: 2.3555 - 164s/epoch - 302ms/step\n",
            "Epoch 5/32\n",
            "542/542 - 161s - loss: 2.1205 - val_loss: 2.2997 - 161s/epoch - 297ms/step\n",
            "Epoch 6/32\n",
            "542/542 - 165s - loss: 2.0656 - val_loss: 2.2946 - 165s/epoch - 304ms/step\n",
            "Epoch 7/32\n",
            "542/542 - 160s - loss: 2.0261 - val_loss: 2.2511 - 160s/epoch - 294ms/step\n",
            "Epoch 8/32\n",
            "542/542 - 160s - loss: 1.9888 - val_loss: 2.2382 - 160s/epoch - 294ms/step\n",
            "Epoch 9/32\n",
            "542/542 - 162s - loss: 2.0945 - val_loss: 2.6504 - 162s/epoch - 298ms/step\n",
            "Epoch 10/32\n",
            "542/542 - 163s - loss: 2.3092 - val_loss: 2.4103 - 163s/epoch - 300ms/step\n",
            "Epoch 11/32\n",
            "542/542 - 162s - loss: 2.1169 - val_loss: 2.3272 - 162s/epoch - 299ms/step\n",
            "Epoch 12/32\n",
            "542/542 - 163s - loss: 2.0238 - val_loss: 2.2638 - 163s/epoch - 300ms/step\n",
            "Epoch 13/32\n",
            "542/542 - 163s - loss: 1.9611 - val_loss: 2.2282 - 163s/epoch - 301ms/step\n",
            "Epoch 14/32\n",
            "542/542 - 163s - loss: 1.9145 - val_loss: 2.1963 - 163s/epoch - 301ms/step\n",
            "Epoch 15/32\n",
            "542/542 - 161s - loss: 1.8739 - val_loss: 2.1845 - 161s/epoch - 297ms/step\n",
            "Epoch 16/32\n",
            "542/542 - 161s - loss: 1.8387 - val_loss: 2.1621 - 161s/epoch - 297ms/step\n",
            "Epoch 17/32\n",
            "542/542 - 161s - loss: 1.8091 - val_loss: 2.1367 - 161s/epoch - 297ms/step\n",
            "Epoch 18/32\n",
            "542/542 - 161s - loss: 1.7833 - val_loss: 2.1543 - 161s/epoch - 296ms/step\n",
            "Epoch 19/32\n",
            "542/542 - 158s - loss: 1.7564 - val_loss: 2.1209 - 158s/epoch - 291ms/step\n",
            "Epoch 20/32\n",
            "542/542 - 158s - loss: 1.7351 - val_loss: 2.1086 - 158s/epoch - 291ms/step\n",
            "Epoch 21/32\n",
            "542/542 - 156s - loss: 1.7182 - val_loss: 2.1147 - 156s/epoch - 288ms/step\n",
            "Epoch 22/32\n",
            "542/542 - 157s - loss: 1.6993 - val_loss: 2.0928 - 157s/epoch - 289ms/step\n",
            "Epoch 23/32\n",
            "542/542 - 155s - loss: 1.6835 - val_loss: 2.0887 - 155s/epoch - 287ms/step\n",
            "Epoch 24/32\n",
            "542/542 - 155s - loss: 1.6669 - val_loss: 2.0868 - 155s/epoch - 287ms/step\n",
            "Epoch 25/32\n",
            "542/542 - 156s - loss: 1.6539 - val_loss: 2.0702 - 156s/epoch - 287ms/step\n",
            "Epoch 26/32\n",
            "542/542 - 157s - loss: 1.6396 - val_loss: 2.0661 - 157s/epoch - 289ms/step\n",
            "Epoch 27/32\n",
            "542/542 - 156s - loss: 1.6288 - val_loss: 2.0664 - 156s/epoch - 289ms/step\n",
            "Epoch 28/32\n",
            "542/542 - 155s - loss: 1.6186 - val_loss: 2.0648 - 155s/epoch - 286ms/step\n",
            "Epoch 29/32\n",
            "542/542 - 157s - loss: 1.6075 - val_loss: 2.0592 - 157s/epoch - 289ms/step\n",
            "Epoch 30/32\n",
            "542/542 - 156s - loss: 1.5965 - val_loss: 2.0556 - 156s/epoch - 287ms/step\n",
            "Epoch 31/32\n",
            "542/542 - 155s - loss: 1.5872 - val_loss: 2.0437 - 155s/epoch - 287ms/step\n",
            "Epoch 32/32\n",
            "542/542 - 155s - loss: 1.5773 - val_loss: 2.0377 - 155s/epoch - 286ms/step\n"
          ]
        }
      ],
      "source": [
        "# Build and train model.\n",
        "model = Sequential()\n",
        "model.add(LSTM(128, return_sequences=True,\n",
        "                        dropout=0.2, recurrent_dropout=0.2,\n",
        "                        input_shape=(None, encoding_width)))\n",
        "model.add(LSTM(128, dropout=0.2,\n",
        "                        recurrent_dropout=0.2))\n",
        "model.add(Dense(encoding_width, activation='softmax'))\n",
        "model.compile(loss='categorical_crossentropy',\n",
        "              optimizer='adam')\n",
        "model.summary()\n",
        "history = model.fit(X, y, validation_split=0.05,\n",
        "                    batch_size=BATCH_SIZE,\n",
        "                    epochs=EPOCHS, verbose=2,\n",
        "                    shuffle=True)\n"
      ]
    },
    {
      "cell_type": "markdown",
      "metadata": {
        "id": "WJ4JjusZP0K1"
      },
      "source": [
        "The next step is to implement the beamsearch algorithm to predict text. Consult the relevant section in the book for more details about beamsearch. In our implementation, each beam is represented by a tuple with three elements. The first element is the logarithm of the cumulative probability for the current sequence of characters (logarithm is used to avoid numerical underflow, see book for more details). The second element is the string of characters. The third element is a one-hot encoded version of the string of characters.\n",
        "\n",
        "We start by creating a single beam with an initial sequence of characters ('the body ') and set the initial probability to 1.0. The one-hot encoded version of the string is created by the first loop. We add this beam to a list named beams.\n",
        "\n",
        "This is followed by a nested loop that uses the trained model to do predictions according to the beam-search algorithm. We extract the one-hot encoding representation of each beam and create a NumPy array with multiple input examples. There is one input example per beam. During the first iteration, there is only a single input example. During the remaining iterations, there will be BEAM_SIZE number of examples.\n",
        "\n",
        "We call model.predict(), which results in one softmax vector per beam. The softmax vector contains one probability per word in the vocabulary. For each beam, we create BEAM_SIZE new beams, each beam consisting of the words from the original beam concatenated with one more word. We choose the most probable words when creating the beams. The probability for each beam can be computed by multiplying the current probability of the beam by the probability for the added word.\n",
        "\n",
        "Once we have created BEAM_SIZE beams for each existing beam, we sort the list of new beams according to their probabilities. We then discard all but the top BEAM_SIZE beams. This represents the pruning step. For the first iteration, this does not result in any pruning because we started with a single beam, and this beam resulted in just BEAM_SIZE beams. For all remaining iterations, we will end up with BEAM_SIZE * BEAM_SIZE beams and discard most of them.\n",
        "\n",
        "The loop runs for a fixed number of iterations followed by printing out the generated predictions.\n"
      ]
    },
    {
      "cell_type": "code",
      "execution_count": 7,
      "metadata": {
        "id": "_EzP78czP0K2",
        "outputId": "424fa86f-0e43-4648-8117-0316f2eb5544",
        "colab": {
          "base_uri": "https://localhost:8080/"
        }
      },
      "outputs": [
        {
          "output_type": "stream",
          "name": "stdout",
          "text": [
            "the body of the pres\n",
            "the body of the comp\n",
            "the body of the mind\n",
            "the body of the more\n",
            "the body of the coul\n",
            "the body of the sump\n",
            "the body of the coun\n",
            "the body of the mort\n"
          ]
        }
      ],
      "source": [
        "# Create initial single beam represented by triplet\n",
        "# (probability , string , one-hot encoded string).\n",
        "letters = 'the body '\n",
        "one_hots = []\n",
        "for i, char in enumerate(letters):\n",
        "    x = np.zeros(encoding_width)\n",
        "    x[char_to_index[char]] = 1\n",
        "    one_hots.append(x)\n",
        "beams = [(np.log(1.0), letters, one_hots)]\n",
        "\n",
        "# Predict NUM_LETTERS into the future.\n",
        "for i in range(NUM_LETTERS):\n",
        "    minibatch_list = []\n",
        "    # Create minibatch from one-hot encodings, and predict.\n",
        "    for triple in beams:\n",
        "        minibatch_list.append(triple[2])\n",
        "    minibatch = np.array(minibatch_list)\n",
        "    y_predict = model.predict(minibatch, verbose=0)\n",
        "    new_beams = []\n",
        "    for j, softmax_vec in enumerate(y_predict):\n",
        "        triple = beams[j]\n",
        "        # Create BEAM_SIZE new beams from each existing beam.\n",
        "        for k in range(BEAM_SIZE):\n",
        "            char_index = np.argmax(softmax_vec)\n",
        "            new_prob = triple[0] + np.log(\n",
        "                softmax_vec[char_index])\n",
        "            new_letters = triple[1] + index_to_char[char_index]\n",
        "            x = np.zeros(encoding_width)\n",
        "            x[char_index] = 1\n",
        "            new_one_hots = triple[2].copy()\n",
        "            new_one_hots.append(x)\n",
        "            new_beams.append((new_prob, new_letters,\n",
        "                              new_one_hots))\n",
        "            softmax_vec[char_index] = 0\n",
        "    # Prune tree to only keep BEAM_SIZE most probable beams.\n",
        "    new_beams.sort(key=lambda tup: tup[0], reverse=True)\n",
        "    beams = new_beams[0:BEAM_SIZE]\n",
        "for item in beams:\n",
        "    print(item[1])\n"
      ]
    }
  ],
  "metadata": {
    "kernelspec": {
      "display_name": "Python 3",
      "language": "python",
      "name": "python3"
    },
    "language_info": {
      "codemirror_mode": {
        "name": "ipython",
        "version": 3
      },
      "file_extension": ".py",
      "mimetype": "text/x-python",
      "name": "python",
      "nbconvert_exporter": "python",
      "pygments_lexer": "ipython3",
      "version": "3.8.6"
    },
    "colab": {
      "provenance": [],
      "include_colab_link": true
    },
    "accelerator": "GPU",
    "gpuClass": "standard"
  },
  "nbformat": 4,
  "nbformat_minor": 0
}