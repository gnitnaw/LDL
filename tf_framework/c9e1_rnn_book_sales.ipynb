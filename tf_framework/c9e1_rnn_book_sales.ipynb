{
  "cells": [
    {
      "cell_type": "markdown",
      "metadata": {
        "id": "view-in-github",
        "colab_type": "text"
      },
      "source": [
        "<a href=\"https://colab.research.google.com/github/gnitnaw/LDL/blob/main/tf_framework/c9e1_rnn_book_sales.ipynb\" target=\"_parent\"><img src=\"https://colab.research.google.com/assets/colab-badge.svg\" alt=\"Open In Colab\"/></a>"
      ]
    },
    {
      "cell_type": "code",
      "execution_count": 1,
      "metadata": {
        "id": "TPGmRA0ip-uq",
        "outputId": "f6282edd-8f43-4541-d3a6-8eda866678a9",
        "colab": {
          "base_uri": "https://localhost:8080/",
          "height": 111
        }
      },
      "outputs": [
        {
          "output_type": "execute_result",
          "data": {
            "text/plain": [
              "'\\nThe MIT License (MIT)\\nCopyright (c) 2021 NVIDIA\\nPermission is hereby granted, free of charge, to any person obtaining a copy of\\nthis software and associated documentation files (the \"Software\"), to deal in\\nthe Software without restriction, including without limitation the rights to\\nuse, copy, modify, merge, publish, distribute, sublicense, and/or sell copies of\\nthe Software, and to permit persons to whom the Software is furnished to do so,\\nsubject to the following conditions:\\nThe above copyright notice and this permission notice shall be included in all\\ncopies or substantial portions of the Software.\\nTHE SOFTWARE IS PROVIDED \"AS IS\", WITHOUT WARRANTY OF ANY KIND, EXPRESS OR\\nIMPLIED, INCLUDING BUT NOT LIMITED TO THE WARRANTIES OF MERCHANTABILITY, FITNESS\\nFOR A PARTICULAR PURPOSE AND NONINFRINGEMENT. IN NO EVENT SHALL THE AUTHORS OR\\nCOPYRIGHT HOLDERS BE LIABLE FOR ANY CLAIM, DAMAGES OR OTHER LIABILITY, WHETHER\\nIN AN ACTION OF CONTRACT, TORT OR OTHERWISE, ARISING FROM, OUT OF OR IN\\nCONNECTION WITH THE SOFTWARE OR THE USE OR OTHER DEALINGS IN THE SOFTWARE.\\n'"
            ],
            "application/vnd.google.colaboratory.intrinsic+json": {
              "type": "string"
            }
          },
          "metadata": {},
          "execution_count": 1
        }
      ],
      "source": [
        "\"\"\"\n",
        "The MIT License (MIT)\n",
        "Copyright (c) 2021 NVIDIA\n",
        "Permission is hereby granted, free of charge, to any person obtaining a copy of\n",
        "this software and associated documentation files (the \"Software\"), to deal in\n",
        "the Software without restriction, including without limitation the rights to\n",
        "use, copy, modify, merge, publish, distribute, sublicense, and/or sell copies of\n",
        "the Software, and to permit persons to whom the Software is furnished to do so,\n",
        "subject to the following conditions:\n",
        "The above copyright notice and this permission notice shall be included in all\n",
        "copies or substantial portions of the Software.\n",
        "THE SOFTWARE IS PROVIDED \"AS IS\", WITHOUT WARRANTY OF ANY KIND, EXPRESS OR\n",
        "IMPLIED, INCLUDING BUT NOT LIMITED TO THE WARRANTIES OF MERCHANTABILITY, FITNESS\n",
        "FOR A PARTICULAR PURPOSE AND NONINFRINGEMENT. IN NO EVENT SHALL THE AUTHORS OR\n",
        "COPYRIGHT HOLDERS BE LIABLE FOR ANY CLAIM, DAMAGES OR OTHER LIABILITY, WHETHER\n",
        "IN AN ACTION OF CONTRACT, TORT OR OTHERWISE, ARISING FROM, OUT OF OR IN\n",
        "CONNECTION WITH THE SOFTWARE OR THE USE OR OTHER DEALINGS IN THE SOFTWARE.\n",
        "\"\"\"\n"
      ]
    },
    {
      "cell_type": "markdown",
      "metadata": {
        "id": "_hPFuLQYp-ut"
      },
      "source": [
        "This code example demonstrates how to use a recurrent neural network to solve a time series prediction problem. The goal is to predict future sales data based on historical values. More context for this code example can be found in the section \"Programming Example: Forecasting Book Sales\" in Chapter 9 in the book Learning Deep Learning by Magnus Ekman (ISBN: 9780137470358).\n"
      ]
    },
    {
      "cell_type": "markdown",
      "source": [
        "# Google drive"
      ],
      "metadata": {
        "id": "QolGyij5sYTE"
      }
    },
    {
      "cell_type": "code",
      "source": [
        "from google.colab import drive\n",
        "drive.mount('/content/drive')\n",
        "path_head = '/content/drive/MyDrive/Colab Notebooks/' # You have to change this. "
      ],
      "metadata": {
        "id": "aPfWLaLasU1j",
        "outputId": "f9415943-2f23-40e8-d08d-c9af61efb7a8",
        "colab": {
          "base_uri": "https://localhost:8080/"
        }
      },
      "execution_count": 2,
      "outputs": [
        {
          "output_type": "stream",
          "name": "stdout",
          "text": [
            "Drive already mounted at /content/drive; to attempt to forcibly remount, call drive.mount(\"/content/drive\", force_remount=True).\n"
          ]
        }
      ]
    },
    {
      "cell_type": "markdown",
      "metadata": {
        "id": "BDZcid8Vp-uw"
      },
      "source": [
        "We start with initialization code. First, we import modules that we need for the network. We also load the data file into an array. We then split the data into training data (the first 80% of the data points) and test data (the remaining 20% of the months). The data is assumed to be in the file ../data/book_store_sales.csv."
      ]
    },
    {
      "cell_type": "code",
      "execution_count": 3,
      "metadata": {
        "id": "6mxnaR-9p-ux"
      },
      "outputs": [],
      "source": [
        "import numpy as np\n",
        "import matplotlib.pyplot as plt\n",
        "import tensorflow as tf\n",
        "from tensorflow import keras\n",
        "from tensorflow.keras.models import Sequential\n",
        "from tensorflow.keras.layers import Dense\n",
        "from tensorflow.keras.layers import SimpleRNN\n",
        "#import keras.utils\n",
        "import logging\n",
        "tf.get_logger().setLevel(logging.ERROR)\n",
        "\n",
        "EPOCHS = 100\n",
        "BATCH_SIZE = 16\n",
        "TRAIN_TEST_SPLIT = 0.8\n",
        "MIN = 12\n",
        "FILE_NAME = path_head+'data/SeriesReport-ch9.csv'\n",
        "#FILE_NAME = '../data/book_store_sales.csv'\n",
        "\n",
        "def readfile(file_name):\n",
        "    file = open(file_name, 'r', encoding='utf-8')\n",
        "    next(file)\n",
        "    data = []\n",
        "    for line in (file):\n",
        "        values = line.split(',')\n",
        "        data.append(float(values[1]))\n",
        "    file.close()\n",
        "    return np.array(data, dtype=np.float32)\n",
        "\n",
        "# Read data and split into training and test data.\n",
        "sales = readfile(FILE_NAME)\n",
        "months = len(sales)\n",
        "split = int(months * TRAIN_TEST_SPLIT)\n",
        "train_sales = sales[0:split]\n",
        "test_sales = sales[split:]\n"
      ]
    },
    {
      "cell_type": "markdown",
      "metadata": {
        "id": "VO0Dns0hp-uz"
      },
      "source": [
        "The next code snippet plots the historical sales data. The data shows a clear seasonal pattern along with an indication that the overall trend in sales has changed over time, presumably due to increased online sales. The data starts in 1992 and ends in March 2020. The drop for the last month was likely caused by the COVID-19 pandemic hitting the United States.\n"
      ]
    },
    {
      "cell_type": "code",
      "execution_count": 4,
      "metadata": {
        "id": "o1DSwT9cp-u0",
        "outputId": "6f665e3b-d514-47f4-e8ba-13ddab94d8f8",
        "colab": {
          "base_uri": "https://localhost:8080/",
          "height": 295
        }
      },
      "outputs": [
        {
          "output_type": "display_data",
          "data": {
            "text/plain": [
              "<Figure size 432x288 with 1 Axes>"
            ],
            "image/png": "[encoded data removed]"
          },
          "metadata": {
            "needs_background": "light"
          }
        }
      ],
      "source": [
        "# Plot dataset\n",
        "x = range(len(sales))\n",
        "plt.plot(x, sales, 'r-', label='book sales')\n",
        "plt.title('Book store sales')\n",
        "plt.axis([0, 339, 0.0, 3000.0])\n",
        "plt.xlabel('Months')\n",
        "plt.ylabel('Sales (millions $)')\n",
        "plt.legend()\n",
        "plt.show()\n"
      ]
    },
    {
      "cell_type": "markdown",
      "metadata": {
        "id": "WNW7mIDUp-u2"
      },
      "source": [
        "For comparison purposes, create output corresponding to a naive model that predicts that the sales next month will be the same as the sales this month. Compare this to the correct data by plotting the values side by side.\n"
      ]
    },
    {
      "cell_type": "code",
      "execution_count": 5,
      "metadata": {
        "id": "fJFXPvBnp-u4",
        "outputId": "993706cb-b567-4e6a-d2db-09a2e2e7e84b",
        "colab": {
          "base_uri": "https://localhost:8080/",
          "height": 295
        }
      },
      "outputs": [
        {
          "output_type": "display_data",
          "data": {
            "text/plain": [
              "<Figure size 432x288 with 1 Axes>"
            ],
            "image/png": "[encoded data removed]"
          },
          "metadata": {
            "needs_background": "light"
          }
        }
      ],
      "source": [
        "# Plot naive prediction\n",
        "test_output = test_sales[MIN:]\n",
        "naive_prediction = test_sales[MIN-1:-1]\n",
        "x = range(len(test_output))\n",
        "plt.plot(x, test_output, 'g-', label='test_output')\n",
        "plt.plot(x, naive_prediction, 'm-', label='naive prediction')\n",
        "plt.title('Book store sales')\n",
        "plt.axis([0, len(test_output), 0.0, 3000.0])\n",
        "plt.xlabel('months')\n",
        "plt.ylabel('Monthly book store sales')\n",
        "plt.legend()\n",
        "plt.show()\n"
      ]
    },
    {
      "cell_type": "markdown",
      "metadata": {
        "id": "t5wLZ64Np-u6"
      },
      "source": [
        "The next step is to standardize the data points by subtracting the mean and dividing by the standard deviation of the training examples.\n"
      ]
    },
    {
      "cell_type": "code",
      "execution_count": 6,
      "metadata": {
        "id": "9sAM22j7p-u7"
      },
      "outputs": [],
      "source": [
        "# Standardize train and test data.\n",
        "# Use only training seasons to compute mean and stddev.\n",
        "mean = np.mean(train_sales)\n",
        "stddev = np.std(train_sales)\n",
        "train_sales_std = (train_sales - mean)/stddev\n",
        "test_sales_std = (test_sales - mean)/stddev\n"
      ]
    },
    {
      "cell_type": "markdown",
      "metadata": {
        "id": "WyiMraC_p-u-"
      },
      "source": [
        "In our previous examples, the datasets were already organized into individual examples. For example, we had an array of images serving as input values and an associated array of classes serving as expected output values. However, the data that we created in this example is raw historical data and not yet organized as a set of training and test examples (see the section in the book for an illustration of how we need it organized). This is the next step in our code example. The code snippet below allocates tensors for the training data and initializes all entries to 0. It then loops through the historical data and creates training examples, then does the same thing with the test data."
      ]
    },
    {
      "cell_type": "code",
      "execution_count": 7,
      "metadata": {
        "id": "6MILpVMXp-u_",
        "outputId": "da83b950-c4da-475d-e4ec-e3f54bbe1ed9",
        "colab": {
          "base_uri": "https://localhost:8080/"
        }
      },
      "outputs": [
        {
          "output_type": "stream",
          "name": "stdout",
          "text": [
            "(259, 270, 1)\n",
            "(56, 67, 1)\n"
          ]
        }
      ],
      "source": [
        "# Create training examples.\n",
        "train_months = len(train_sales)\n",
        "train_X = np.zeros((train_months-MIN, train_months-1, 1))\n",
        "train_y = np.zeros((train_months-MIN, 1))\n",
        "for i in range(0, train_months-MIN):\n",
        "    train_X[i, -(i+MIN):, 0] = train_sales_std[0:i+MIN]\n",
        "    train_y[i, 0] = train_sales_std[i+MIN]\n",
        "\n",
        "# Create test examples.\n",
        "test_months = len(test_sales)\n",
        "test_X = np.zeros((test_months-MIN, test_months-1, 1))\n",
        "test_y = np.zeros((test_months-MIN, 1))\n",
        "for i in range(0, test_months-MIN):\n",
        "    test_X[i, -(i+MIN):, 0] = test_sales_std[0:i+MIN]\n",
        "    test_y[i, 0] = test_sales_std[i+MIN]\n",
        "\n",
        "print(train_X.shape)\n",
        "print(test_X.shape)\n"
      ]
    },
    {
      "cell_type": "markdown",
      "metadata": {
        "id": "Em5Nn0-kp-u_"
      },
      "source": [
        "We are finally ready to define and train our network. This is shown in the code snippet below."
      ]
    },
    {
      "cell_type": "code",
      "execution_count": 8,
      "metadata": {
        "id": "gUln7m2Wp-u_",
        "outputId": "91515ede-1aeb-4d43-e734-aee7acfdbf2b",
        "colab": {
          "base_uri": "https://localhost:8080/"
        }
      },
      "outputs": [
        {
          "output_type": "stream",
          "name": "stdout",
          "text": [
            "Model: \"sequential\"\n",
            "_________________________________________________________________\n",
            " Layer (type)                Output Shape              Param #   \n",
            "=================================================================\n",
            " simple_rnn (SimpleRNN)      (None, 128)               16640     \n",
            "                                                                 \n",
            " dense (Dense)               (None, 1)                 129       \n",
            "                                                                 \n",
            "=================================================================\n",
            "Total params: 16,769\n",
            "Trainable params: 16,769\n",
            "Non-trainable params: 0\n",
            "_________________________________________________________________\n",
            "Epoch 1/100\n",
            "17/17 - 6s - loss: 0.8105 - mean_absolute_error: 0.6368 - val_loss: 0.4190 - val_mean_absolute_error: 0.5987 - 6s/epoch - 342ms/step\n",
            "Epoch 2/100\n",
            "17/17 - 2s - loss: 0.4709 - mean_absolute_error: 0.4826 - val_loss: 0.2523 - val_mean_absolute_error: 0.4230 - 2s/epoch - 134ms/step\n",
            "Epoch 3/100\n",
            "17/17 - 2s - loss: 0.3654 - mean_absolute_error: 0.4431 - val_loss: 0.1440 - val_mean_absolute_error: 0.3239 - 2s/epoch - 129ms/step\n",
            "Epoch 4/100\n",
            "17/17 - 1s - loss: 0.1810 - mean_absolute_error: 0.3172 - val_loss: 0.0988 - val_mean_absolute_error: 0.2043 - 1s/epoch - 75ms/step\n",
            "Epoch 5/100\n",
            "17/17 - 1s - loss: 0.0815 - mean_absolute_error: 0.2136 - val_loss: 0.0685 - val_mean_absolute_error: 0.2121 - 1s/epoch - 63ms/step\n",
            "Epoch 6/100\n",
            "17/17 - 1s - loss: 0.0648 - mean_absolute_error: 0.1898 - val_loss: 0.0532 - val_mean_absolute_error: 0.1752 - 1s/epoch - 63ms/step\n",
            "Epoch 7/100\n",
            "17/17 - 1s - loss: 0.0637 - mean_absolute_error: 0.1749 - val_loss: 0.0330 - val_mean_absolute_error: 0.1323 - 1s/epoch - 63ms/step\n",
            "Epoch 8/100\n",
            "17/17 - 1s - loss: 0.0448 - mean_absolute_error: 0.1563 - val_loss: 0.0389 - val_mean_absolute_error: 0.1474 - 1s/epoch - 65ms/step\n",
            "Epoch 9/100\n",
            "17/17 - 1s - loss: 0.0507 - mean_absolute_error: 0.1673 - val_loss: 0.0411 - val_mean_absolute_error: 0.1555 - 1s/epoch - 68ms/step\n",
            "Epoch 10/100\n",
            "17/17 - 1s - loss: 0.0448 - mean_absolute_error: 0.1555 - val_loss: 0.0475 - val_mean_absolute_error: 0.1636 - 1s/epoch - 66ms/step\n",
            "Epoch 11/100\n",
            "17/17 - 1s - loss: 0.0346 - mean_absolute_error: 0.1424 - val_loss: 0.0314 - val_mean_absolute_error: 0.1298 - 1s/epoch - 61ms/step\n",
            "Epoch 12/100\n",
            "17/17 - 1s - loss: 0.0432 - mean_absolute_error: 0.1554 - val_loss: 0.0296 - val_mean_absolute_error: 0.1350 - 1s/epoch - 59ms/step\n",
            "Epoch 13/100\n",
            "17/17 - 1s - loss: 0.0369 - mean_absolute_error: 0.1487 - val_loss: 0.0228 - val_mean_absolute_error: 0.1090 - 1s/epoch - 61ms/step\n",
            "Epoch 14/100\n",
            "17/17 - 1s - loss: 0.0252 - mean_absolute_error: 0.1227 - val_loss: 0.0240 - val_mean_absolute_error: 0.1197 - 989ms/epoch - 58ms/step\n",
            "Epoch 15/100\n",
            "17/17 - 1s - loss: 0.0240 - mean_absolute_error: 0.1186 - val_loss: 0.0325 - val_mean_absolute_error: 0.1430 - 1s/epoch - 59ms/step\n",
            "Epoch 16/100\n",
            "17/17 - 1s - loss: 0.0217 - mean_absolute_error: 0.1148 - val_loss: 0.0214 - val_mean_absolute_error: 0.1070 - 1s/epoch - 60ms/step\n",
            "Epoch 17/100\n",
            "17/17 - 1s - loss: 0.0316 - mean_absolute_error: 0.1233 - val_loss: 0.0272 - val_mean_absolute_error: 0.1205 - 1s/epoch - 61ms/step\n",
            "Epoch 18/100\n",
            "17/17 - 1s - loss: 0.0275 - mean_absolute_error: 0.1232 - val_loss: 0.0256 - val_mean_absolute_error: 0.1205 - 997ms/epoch - 59ms/step\n",
            "Epoch 19/100\n",
            "17/17 - 1s - loss: 0.0222 - mean_absolute_error: 0.1101 - val_loss: 0.0200 - val_mean_absolute_error: 0.0994 - 1s/epoch - 60ms/step\n",
            "Epoch 20/100\n",
            "17/17 - 1s - loss: 0.0188 - mean_absolute_error: 0.1021 - val_loss: 0.0251 - val_mean_absolute_error: 0.1164 - 1s/epoch - 61ms/step\n",
            "Epoch 21/100\n",
            "17/17 - 1s - loss: 0.0234 - mean_absolute_error: 0.1173 - val_loss: 0.0251 - val_mean_absolute_error: 0.1190 - 1s/epoch - 61ms/step\n",
            "Epoch 22/100\n",
            "17/17 - 1s - loss: 0.0206 - mean_absolute_error: 0.1131 - val_loss: 0.0302 - val_mean_absolute_error: 0.1358 - 1s/epoch - 59ms/step\n",
            "Epoch 23/100\n",
            "17/17 - 1s - loss: 0.0246 - mean_absolute_error: 0.1151 - val_loss: 0.0281 - val_mean_absolute_error: 0.1281 - 1s/epoch - 60ms/step\n",
            "Epoch 24/100\n",
            "17/17 - 1s - loss: 0.0395 - mean_absolute_error: 0.1382 - val_loss: 0.0341 - val_mean_absolute_error: 0.1441 - 1s/epoch - 60ms/step\n",
            "Epoch 25/100\n",
            "17/17 - 1s - loss: 0.0230 - mean_absolute_error: 0.1096 - val_loss: 0.0244 - val_mean_absolute_error: 0.1131 - 1s/epoch - 63ms/step\n",
            "Epoch 26/100\n",
            "17/17 - 1s - loss: 0.0535 - mean_absolute_error: 0.1678 - val_loss: 0.0258 - val_mean_absolute_error: 0.1287 - 1s/epoch - 61ms/step\n",
            "Epoch 27/100\n",
            "17/17 - 1s - loss: 0.0315 - mean_absolute_error: 0.1331 - val_loss: 0.0163 - val_mean_absolute_error: 0.0952 - 1s/epoch - 62ms/step\n",
            "Epoch 28/100\n",
            "17/17 - 1s - loss: 0.0193 - mean_absolute_error: 0.1056 - val_loss: 0.0188 - val_mean_absolute_error: 0.1018 - 1s/epoch - 63ms/step\n",
            "Epoch 29/100\n",
            "17/17 - 1s - loss: 0.0163 - mean_absolute_error: 0.0957 - val_loss: 0.0195 - val_mean_absolute_error: 0.1007 - 1s/epoch - 59ms/step\n",
            "Epoch 30/100\n",
            "17/17 - 1s - loss: 0.0174 - mean_absolute_error: 0.0979 - val_loss: 0.0183 - val_mean_absolute_error: 0.0970 - 1s/epoch - 60ms/step\n",
            "Epoch 31/100\n",
            "17/17 - 1s - loss: 0.0160 - mean_absolute_error: 0.0953 - val_loss: 0.0140 - val_mean_absolute_error: 0.0780 - 1s/epoch - 62ms/step\n",
            "Epoch 32/100\n",
            "17/17 - 1s - loss: 0.0149 - mean_absolute_error: 0.0930 - val_loss: 0.0245 - val_mean_absolute_error: 0.1188 - 1s/epoch - 60ms/step\n",
            "Epoch 33/100\n",
            "17/17 - 1s - loss: 0.0147 - mean_absolute_error: 0.0892 - val_loss: 0.0179 - val_mean_absolute_error: 0.0962 - 1s/epoch - 64ms/step\n",
            "Epoch 34/100\n",
            "17/17 - 1s - loss: 0.0158 - mean_absolute_error: 0.0921 - val_loss: 0.0273 - val_mean_absolute_error: 0.1305 - 1s/epoch - 60ms/step\n",
            "Epoch 35/100\n",
            "17/17 - 1s - loss: 0.0140 - mean_absolute_error: 0.0866 - val_loss: 0.0239 - val_mean_absolute_error: 0.1164 - 1s/epoch - 59ms/step\n",
            "Epoch 36/100\n",
            "17/17 - 1s - loss: 0.0156 - mean_absolute_error: 0.0892 - val_loss: 0.0268 - val_mean_absolute_error: 0.1275 - 1s/epoch - 65ms/step\n",
            "Epoch 37/100\n",
            "17/17 - 1s - loss: 0.0119 - mean_absolute_error: 0.0795 - val_loss: 0.0214 - val_mean_absolute_error: 0.1096 - 1s/epoch - 64ms/step\n",
            "Epoch 38/100\n",
            "17/17 - 1s - loss: 0.0129 - mean_absolute_error: 0.0870 - val_loss: 0.0284 - val_mean_absolute_error: 0.1355 - 1s/epoch - 60ms/step\n",
            "Epoch 39/100\n",
            "17/17 - 1s - loss: 0.0147 - mean_absolute_error: 0.0937 - val_loss: 0.0220 - val_mean_absolute_error: 0.1060 - 1s/epoch - 59ms/step\n",
            "Epoch 40/100\n",
            "17/17 - 1s - loss: 0.0116 - mean_absolute_error: 0.0828 - val_loss: 0.0190 - val_mean_absolute_error: 0.0911 - 1s/epoch - 60ms/step\n",
            "Epoch 41/100\n",
            "17/17 - 1s - loss: 0.0159 - mean_absolute_error: 0.0898 - val_loss: 0.0180 - val_mean_absolute_error: 0.0978 - 1s/epoch - 60ms/step\n",
            "Epoch 42/100\n",
            "17/17 - 1s - loss: 0.0196 - mean_absolute_error: 0.1011 - val_loss: 0.0151 - val_mean_absolute_error: 0.0893 - 1s/epoch - 61ms/step\n",
            "Epoch 43/100\n",
            "17/17 - 1s - loss: 0.0170 - mean_absolute_error: 0.0993 - val_loss: 0.0169 - val_mean_absolute_error: 0.0939 - 998ms/epoch - 59ms/step\n",
            "Epoch 44/100\n",
            "17/17 - 1s - loss: 0.0130 - mean_absolute_error: 0.0875 - val_loss: 0.0189 - val_mean_absolute_error: 0.1015 - 1s/epoch - 61ms/step\n",
            "Epoch 45/100\n",
            "17/17 - 1s - loss: 0.0112 - mean_absolute_error: 0.0763 - val_loss: 0.0222 - val_mean_absolute_error: 0.1030 - 1s/epoch - 63ms/step\n",
            "Epoch 46/100\n",
            "17/17 - 1s - loss: 0.0134 - mean_absolute_error: 0.0847 - val_loss: 0.0161 - val_mean_absolute_error: 0.0861 - 1s/epoch - 62ms/step\n",
            "Epoch 47/100\n",
            "17/17 - 1s - loss: 0.0168 - mean_absolute_error: 0.0932 - val_loss: 0.0189 - val_mean_absolute_error: 0.0982 - 1s/epoch - 65ms/step\n",
            "Epoch 48/100\n",
            "17/17 - 1s - loss: 0.0158 - mean_absolute_error: 0.0918 - val_loss: 0.0181 - val_mean_absolute_error: 0.0932 - 1s/epoch - 64ms/step\n",
            "Epoch 49/100\n",
            "17/17 - 1s - loss: 0.0150 - mean_absolute_error: 0.0879 - val_loss: 0.0197 - val_mean_absolute_error: 0.1005 - 1s/epoch - 61ms/step\n",
            "Epoch 50/100\n",
            "17/17 - 1s - loss: 0.0118 - mean_absolute_error: 0.0815 - val_loss: 0.0278 - val_mean_absolute_error: 0.1333 - 1s/epoch - 61ms/step\n",
            "Epoch 51/100\n",
            "17/17 - 1s - loss: 0.0147 - mean_absolute_error: 0.0895 - val_loss: 0.0247 - val_mean_absolute_error: 0.1106 - 1s/epoch - 61ms/step\n",
            "Epoch 52/100\n",
            "17/17 - 1s - loss: 0.0119 - mean_absolute_error: 0.0812 - val_loss: 0.0163 - val_mean_absolute_error: 0.0923 - 1s/epoch - 65ms/step\n",
            "Epoch 53/100\n",
            "17/17 - 1s - loss: 0.0163 - mean_absolute_error: 0.0930 - val_loss: 0.0138 - val_mean_absolute_error: 0.0844 - 1s/epoch - 64ms/step\n",
            "Epoch 54/100\n",
            "17/17 - 1s - loss: 0.0149 - mean_absolute_error: 0.0960 - val_loss: 0.0132 - val_mean_absolute_error: 0.0846 - 1s/epoch - 60ms/step\n",
            "Epoch 55/100\n",
            "17/17 - 1s - loss: 0.0117 - mean_absolute_error: 0.0815 - val_loss: 0.0221 - val_mean_absolute_error: 0.1078 - 1s/epoch - 61ms/step\n",
            "Epoch 56/100\n",
            "17/17 - 1s - loss: 0.0193 - mean_absolute_error: 0.1045 - val_loss: 0.0369 - val_mean_absolute_error: 0.1507 - 1s/epoch - 60ms/step\n",
            "Epoch 57/100\n",
            "17/17 - 1s - loss: 0.0152 - mean_absolute_error: 0.0949 - val_loss: 0.0153 - val_mean_absolute_error: 0.0895 - 1s/epoch - 64ms/step\n",
            "Epoch 58/100\n",
            "17/17 - 1s - loss: 0.0118 - mean_absolute_error: 0.0745 - val_loss: 0.0175 - val_mean_absolute_error: 0.0987 - 1s/epoch - 64ms/step\n",
            "Epoch 59/100\n",
            "17/17 - 1s - loss: 0.0140 - mean_absolute_error: 0.0870 - val_loss: 0.0177 - val_mean_absolute_error: 0.0952 - 1s/epoch - 62ms/step\n",
            "Epoch 60/100\n",
            "17/17 - 1s - loss: 0.0150 - mean_absolute_error: 0.0938 - val_loss: 0.0178 - val_mean_absolute_error: 0.0929 - 1s/epoch - 64ms/step\n",
            "Epoch 61/100\n",
            "17/17 - 1s - loss: 0.0123 - mean_absolute_error: 0.0844 - val_loss: 0.0269 - val_mean_absolute_error: 0.1140 - 1s/epoch - 70ms/step\n",
            "Epoch 62/100\n",
            "17/17 - 1s - loss: 0.0142 - mean_absolute_error: 0.0880 - val_loss: 0.0177 - val_mean_absolute_error: 0.0950 - 1s/epoch - 64ms/step\n",
            "Epoch 63/100\n",
            "17/17 - 1s - loss: 0.0164 - mean_absolute_error: 0.0929 - val_loss: 0.0234 - val_mean_absolute_error: 0.1250 - 1s/epoch - 65ms/step\n",
            "Epoch 64/100\n",
            "17/17 - 1s - loss: 0.0128 - mean_absolute_error: 0.0845 - val_loss: 0.0187 - val_mean_absolute_error: 0.0989 - 1s/epoch - 67ms/step\n",
            "Epoch 65/100\n",
            "17/17 - 1s - loss: 0.0113 - mean_absolute_error: 0.0810 - val_loss: 0.0186 - val_mean_absolute_error: 0.0986 - 1s/epoch - 71ms/step\n",
            "Epoch 66/100\n",
            "17/17 - 1s - loss: 0.0115 - mean_absolute_error: 0.0809 - val_loss: 0.0203 - val_mean_absolute_error: 0.1037 - 1s/epoch - 69ms/step\n",
            "Epoch 67/100\n",
            "17/17 - 1s - loss: 0.0102 - mean_absolute_error: 0.0723 - val_loss: 0.0247 - val_mean_absolute_error: 0.1182 - 1s/epoch - 67ms/step\n",
            "Epoch 68/100\n",
            "17/17 - 1s - loss: 0.0112 - mean_absolute_error: 0.0761 - val_loss: 0.0275 - val_mean_absolute_error: 0.1322 - 1s/epoch - 63ms/step\n",
            "Epoch 69/100\n",
            "17/17 - 1s - loss: 0.0131 - mean_absolute_error: 0.0886 - val_loss: 0.0209 - val_mean_absolute_error: 0.1051 - 1s/epoch - 62ms/step\n",
            "Epoch 70/100\n",
            "17/17 - 1s - loss: 0.0117 - mean_absolute_error: 0.0804 - val_loss: 0.0202 - val_mean_absolute_error: 0.1042 - 1s/epoch - 62ms/step\n",
            "Epoch 71/100\n",
            "17/17 - 1s - loss: 0.0155 - mean_absolute_error: 0.0926 - val_loss: 0.0328 - val_mean_absolute_error: 0.1457 - 1s/epoch - 60ms/step\n",
            "Epoch 72/100\n",
            "17/17 - 1s - loss: 0.0128 - mean_absolute_error: 0.0883 - val_loss: 0.0222 - val_mean_absolute_error: 0.1161 - 1s/epoch - 60ms/step\n",
            "Epoch 73/100\n",
            "17/17 - 1s - loss: 0.0115 - mean_absolute_error: 0.0789 - val_loss: 0.0155 - val_mean_absolute_error: 0.0929 - 998ms/epoch - 59ms/step\n",
            "Epoch 74/100\n",
            "17/17 - 1s - loss: 0.0122 - mean_absolute_error: 0.0822 - val_loss: 0.0459 - val_mean_absolute_error: 0.1784 - 1s/epoch - 62ms/step\n",
            "Epoch 75/100\n",
            "17/17 - 1s - loss: 0.0139 - mean_absolute_error: 0.0922 - val_loss: 0.0283 - val_mean_absolute_error: 0.1252 - 1s/epoch - 61ms/step\n",
            "Epoch 76/100\n",
            "17/17 - 1s - loss: 0.0141 - mean_absolute_error: 0.0865 - val_loss: 0.0272 - val_mean_absolute_error: 0.1237 - 988ms/epoch - 58ms/step\n",
            "Epoch 77/100\n",
            "17/17 - 1s - loss: 0.0151 - mean_absolute_error: 0.0877 - val_loss: 0.0272 - val_mean_absolute_error: 0.1193 - 1s/epoch - 59ms/step\n",
            "Epoch 78/100\n",
            "17/17 - 1s - loss: 0.0173 - mean_absolute_error: 0.0904 - val_loss: 0.0137 - val_mean_absolute_error: 0.0899 - 1s/epoch - 62ms/step\n",
            "Epoch 79/100\n",
            "17/17 - 1s - loss: 0.0138 - mean_absolute_error: 0.0859 - val_loss: 0.0262 - val_mean_absolute_error: 0.1143 - 1s/epoch - 61ms/step\n",
            "Epoch 80/100\n",
            "17/17 - 1s - loss: 0.0093 - mean_absolute_error: 0.0708 - val_loss: 0.0169 - val_mean_absolute_error: 0.1026 - 1s/epoch - 62ms/step\n",
            "Epoch 81/100\n",
            "17/17 - 1s - loss: 0.0130 - mean_absolute_error: 0.0755 - val_loss: 0.0187 - val_mean_absolute_error: 0.1013 - 1s/epoch - 60ms/step\n",
            "Epoch 82/100\n",
            "17/17 - 1s - loss: 0.0109 - mean_absolute_error: 0.0743 - val_loss: 0.0207 - val_mean_absolute_error: 0.1102 - 971ms/epoch - 57ms/step\n",
            "Epoch 83/100\n",
            "17/17 - 1s - loss: 0.0110 - mean_absolute_error: 0.0768 - val_loss: 0.0279 - val_mean_absolute_error: 0.1322 - 1s/epoch - 61ms/step\n",
            "Epoch 84/100\n",
            "17/17 - 1s - loss: 0.0093 - mean_absolute_error: 0.0721 - val_loss: 0.0181 - val_mean_absolute_error: 0.1012 - 1s/epoch - 61ms/step\n",
            "Epoch 85/100\n",
            "17/17 - 1s - loss: 0.0099 - mean_absolute_error: 0.0719 - val_loss: 0.0202 - val_mean_absolute_error: 0.1026 - 997ms/epoch - 59ms/step\n",
            "Epoch 86/100\n",
            "17/17 - 1s - loss: 0.0107 - mean_absolute_error: 0.0717 - val_loss: 0.0187 - val_mean_absolute_error: 0.1011 - 1s/epoch - 60ms/step\n",
            "Epoch 87/100\n",
            "17/17 - 1s - loss: 0.0071 - mean_absolute_error: 0.0624 - val_loss: 0.0217 - val_mean_absolute_error: 0.1128 - 1s/epoch - 63ms/step\n",
            "Epoch 88/100\n",
            "17/17 - 1s - loss: 0.0075 - mean_absolute_error: 0.0645 - val_loss: 0.0175 - val_mean_absolute_error: 0.0962 - 1s/epoch - 65ms/step\n",
            "Epoch 89/100\n",
            "17/17 - 1s - loss: 0.0064 - mean_absolute_error: 0.0592 - val_loss: 0.0236 - val_mean_absolute_error: 0.1155 - 1s/epoch - 60ms/step\n",
            "Epoch 90/100\n",
            "17/17 - 1s - loss: 0.0072 - mean_absolute_error: 0.0653 - val_loss: 0.0173 - val_mean_absolute_error: 0.0999 - 1s/epoch - 61ms/step\n",
            "Epoch 91/100\n",
            "17/17 - 1s - loss: 0.0079 - mean_absolute_error: 0.0680 - val_loss: 0.0205 - val_mean_absolute_error: 0.1131 - 1s/epoch - 64ms/step\n",
            "Epoch 92/100\n",
            "17/17 - 1s - loss: 0.0071 - mean_absolute_error: 0.0635 - val_loss: 0.0202 - val_mean_absolute_error: 0.1102 - 1s/epoch - 63ms/step\n",
            "Epoch 93/100\n",
            "17/17 - 1s - loss: 0.0105 - mean_absolute_error: 0.0721 - val_loss: 0.0284 - val_mean_absolute_error: 0.1304 - 1s/epoch - 60ms/step\n",
            "Epoch 94/100\n",
            "17/17 - 1s - loss: 0.0109 - mean_absolute_error: 0.0780 - val_loss: 0.0172 - val_mean_absolute_error: 0.0908 - 1s/epoch - 61ms/step\n",
            "Epoch 95/100\n",
            "17/17 - 1s - loss: 0.0147 - mean_absolute_error: 0.0914 - val_loss: 0.0342 - val_mean_absolute_error: 0.1462 - 1s/epoch - 71ms/step\n",
            "Epoch 96/100\n",
            "17/17 - 2s - loss: 0.0101 - mean_absolute_error: 0.0754 - val_loss: 0.0243 - val_mean_absolute_error: 0.1203 - 2s/epoch - 89ms/step\n",
            "Epoch 97/100\n",
            "17/17 - 1s - loss: 0.0091 - mean_absolute_error: 0.0713 - val_loss: 0.0160 - val_mean_absolute_error: 0.0937 - 1s/epoch - 81ms/step\n",
            "Epoch 98/100\n",
            "17/17 - 1s - loss: 0.0125 - mean_absolute_error: 0.0797 - val_loss: 0.0175 - val_mean_absolute_error: 0.1005 - 1s/epoch - 60ms/step\n",
            "Epoch 99/100\n",
            "17/17 - 1s - loss: 0.0128 - mean_absolute_error: 0.0821 - val_loss: 0.0219 - val_mean_absolute_error: 0.1096 - 1s/epoch - 59ms/step\n",
            "Epoch 100/100\n",
            "17/17 - 1s - loss: 0.0133 - mean_absolute_error: 0.0848 - val_loss: 0.0181 - val_mean_absolute_error: 0.1076 - 1s/epoch - 60ms/step\n"
          ]
        }
      ],
      "source": [
        "# Create RNN model\n",
        "model = Sequential()\n",
        "model.add(SimpleRNN(128, activation='relu',\n",
        "                    input_shape=(None, 1)))\n",
        "model.add(Dense(1, activation='linear'))\n",
        "model.compile(loss='mean_squared_error', optimizer = 'adam',\n",
        "              metrics =['mean_absolute_error'])\n",
        "model.summary()\n",
        "history = model.fit(train_X, train_y,\n",
        "                    validation_data\n",
        "                    = (test_X, test_y), epochs=EPOCHS,\n",
        "                    batch_size=BATCH_SIZE, verbose=2,\n",
        "                    shuffle=True)\n"
      ]
    },
    {
      "cell_type": "markdown",
      "metadata": {
        "id": "q9dC8qHcp-vA"
      },
      "source": [
        "For comparison, create naive predictions based on standardized data."
      ]
    },
    {
      "cell_type": "code",
      "execution_count": 9,
      "metadata": {
        "id": "P4subFw5p-vA",
        "outputId": "3c64da73-a420-4cc7-80fc-9204098f9920",
        "colab": {
          "base_uri": "https://localhost:8080/"
        }
      },
      "outputs": [
        {
          "output_type": "stream",
          "name": "stdout",
          "text": [
            "naive test mse:  0.6334499\n",
            "naive test mean abs:  0.56117445\n"
          ]
        }
      ],
      "source": [
        "# Create naive prediction based on standardized data.\n",
        "test_output = test_sales_std[MIN:]\n",
        "naive_prediction = test_sales_std[MIN-1:-1]\n",
        "mean_squared_error = np.mean(np.square(naive_prediction\n",
        "                                       - test_output))\n",
        "mean_abs_error = np.mean(np.abs(naive_prediction\n",
        "                                - test_output))\n",
        "print('naive test mse: ', mean_squared_error)\n",
        "print('naive test mean abs: ', mean_abs_error)\n"
      ]
    },
    {
      "cell_type": "markdown",
      "metadata": {
        "id": "Tz_0pc10p-vA"
      },
      "source": [
        "To shed some light on how this affects the end behavior, let us use our newly trained model to do some predictions and then plot these predictions next to the actual values. The code snippet below demonstrates how this can be done. We first call model.predict with the test input as argument. The second argument is the batch size, and we state the length of the input tensor as the batch size (i.e., we ask it to do a prediction for all the input examples in parallel). During training, the batch size will affect the result, but for prediction, it should not affect anything except for possibly runtime. We could just as well have used 16 or 32 or some other value. The model will return a 2D array with the output values. Because each output value is a single value, a 1D array works just as well, and that is the format we want in order to enable plotting the data, so we call np.reshape to change the dimensions of the array. The network works with standardized data, so the output will not represent demand directly. We must first destandardize the data by doing the reverse operation compared to the standardization. That is, we multiply by the standard deviation and add the mean. We then plot the data."
      ]
    },
    {
      "cell_type": "code",
      "execution_count": 10,
      "metadata": {
        "id": "vAj-FBx8p-vB",
        "outputId": "215c0dd1-d2b8-4ec9-b39d-d81c1ef48869",
        "colab": {
          "base_uri": "https://localhost:8080/",
          "height": 314
        }
      },
      "outputs": [
        {
          "output_type": "stream",
          "name": "stdout",
          "text": [
            "1/1 [==============================] - 0s 210ms/step\n"
          ]
        },
        {
          "output_type": "display_data",
          "data": {
            "text/plain": [
              "<Figure size 432x288 with 1 Axes>"
            ],
            "image/png": "[encoded data removed]"
          },
          "metadata": {
            "needs_background": "light"
          }
        }
      ],
      "source": [
        "# Use trained model to predict the test data\n",
        "predicted_test = model.predict(test_X, len(test_X))\n",
        "predicted_test = np.reshape(predicted_test,\n",
        "                            (len(predicted_test)))\n",
        "predicted_test = predicted_test * stddev + mean\n",
        "\n",
        "# Plot test prediction.\n",
        "x = range(len(test_sales)-MIN)\n",
        "plt.plot(x, predicted_test, 'm-',\n",
        "         label='predicted test_output')\n",
        "plt.plot(x, test_sales[-(len(test_sales)-MIN):],\n",
        "         'g-', label='actual test_output')\n",
        "plt.title('Book sales')\n",
        "plt.axis([0, 55, 0.0, 3000.0])\n",
        "plt.xlabel('months')\n",
        "plt.ylabel('Predicted book sales')\n",
        "plt.legend()\n",
        "plt.show()\n"
      ]
    },
    {
      "cell_type": "markdown",
      "source": [
        "## Add Code Snipper 9-9"
      ],
      "metadata": {
        "id": "7Kk8rdGVfl7C"
      }
    },
    {
      "cell_type": "code",
      "source": [
        "from matplotlib.cbook import flatten\n",
        "# Create training examples.\n",
        "train_X2 = train_X[:, (train_months - 13):, :]\n",
        "test_X2 = test_X[:, (test_months - 13):, :]\n",
        "train_X2 = np.reshape(train_X2, (train_X2.shape[0], train_X2.shape[1]))\n",
        "test_X2 = np.reshape(test_X2, (test_X2.shape[0], test_X2.shape[1]))\n",
        "print(train_X2.shape)\n",
        "print(test_X2.shape)\n",
        "# Create Dense model\n",
        "model2 = Sequential()\n",
        "model2.add(Dense(256, activation='relu', input_shape=[12]))\n",
        "model2.add(Dense(1, activation='linear'))\n",
        "model2.compile(loss='mean_squared_error', optimizer = 'adam',\n",
        "              metrics =['mean_absolute_error'])\n",
        "model2.summary()\n",
        "history = model2.fit(train_X2, train_y,\n",
        "                    validation_data\n",
        "                    = (test_X2, test_y), epochs=EPOCHS,\n",
        "                    batch_size=BATCH_SIZE, verbose=2,\n",
        "                    shuffle=True)\n",
        "\n",
        "# Use trained model to predict the test data\n",
        "predicted_test2 = model2.predict(test_X2, test_X2.shape[0])\n",
        "print(predicted_test2.shape)\n",
        "predicted_test2 = np.reshape(predicted_test2, len(predicted_test2))\n",
        "predicted_test2 = predicted_test2 * stddev + mean\n",
        "\n",
        "# Plot test prediction.\n",
        "x = range(len(test_sales)-MIN)\n",
        "plt.plot(x, predicted_test2, 'm-',\n",
        "         label='predicted test_output')\n",
        "plt.plot(x, test_sales[-(len(test_sales)-MIN):],\n",
        "         'g-', label='actual test_output')\n",
        "plt.title('Book sales')\n",
        "plt.axis([0, 55, 0.0, 3000.0])\n",
        "plt.xlabel('months')\n",
        "plt.ylabel('Predicted book sales')\n",
        "plt.legend()\n",
        "plt.show()"
      ],
      "metadata": {
        "id": "FnMl6ZemfpSE",
        "outputId": "662f80bb-a57b-48c4-971d-6007af7904f3",
        "colab": {
          "base_uri": "https://localhost:8080/",
          "height": 1000
        }
      },
      "execution_count": 11,
      "outputs": [
        {
          "output_type": "stream",
          "name": "stdout",
          "text": [
            "(259, 12)\n",
            "(56, 12)\n",
            "Model: \"sequential_1\"\n",
            "_________________________________________________________________\n",
            " Layer (type)                Output Shape              Param #   \n",
            "=================================================================\n",
            " dense_1 (Dense)             (None, 256)               3328      \n",
            "                                                                 \n",
            " dense_2 (Dense)             (None, 1)                 257       \n",
            "                                                                 \n",
            "=================================================================\n",
            "Total params: 3,585\n",
            "Trainable params: 3,585\n",
            "Non-trainable params: 0\n",
            "_________________________________________________________________\n",
            "Epoch 1/100\n",
            "17/17 - 1s - loss: 0.7260 - mean_absolute_error: 0.6193 - val_loss: 0.1183 - val_mean_absolute_error: 0.2737 - 669ms/epoch - 39ms/step\n",
            "Epoch 2/100\n",
            "17/17 - 0s - loss: 0.2229 - mean_absolute_error: 0.3531 - val_loss: 0.0597 - val_mean_absolute_error: 0.2096 - 64ms/epoch - 4ms/step\n",
            "Epoch 3/100\n",
            "17/17 - 0s - loss: 0.0814 - mean_absolute_error: 0.2307 - val_loss: 0.0662 - val_mean_absolute_error: 0.2051 - 74ms/epoch - 4ms/step\n",
            "Epoch 4/100\n",
            "17/17 - 0s - loss: 0.0459 - mean_absolute_error: 0.1663 - val_loss: 0.0335 - val_mean_absolute_error: 0.1431 - 62ms/epoch - 4ms/step\n",
            "Epoch 5/100\n",
            "17/17 - 0s - loss: 0.0380 - mean_absolute_error: 0.1477 - val_loss: 0.0404 - val_mean_absolute_error: 0.1554 - 76ms/epoch - 4ms/step\n",
            "Epoch 6/100\n",
            "17/17 - 0s - loss: 0.0350 - mean_absolute_error: 0.1396 - val_loss: 0.0369 - val_mean_absolute_error: 0.1490 - 64ms/epoch - 4ms/step\n",
            "Epoch 7/100\n",
            "17/17 - 0s - loss: 0.0382 - mean_absolute_error: 0.1461 - val_loss: 0.0370 - val_mean_absolute_error: 0.1492 - 64ms/epoch - 4ms/step\n",
            "Epoch 8/100\n",
            "17/17 - 0s - loss: 0.0303 - mean_absolute_error: 0.1302 - val_loss: 0.0387 - val_mean_absolute_error: 0.1546 - 59ms/epoch - 3ms/step\n",
            "Epoch 9/100\n",
            "17/17 - 0s - loss: 0.0285 - mean_absolute_error: 0.1263 - val_loss: 0.0417 - val_mean_absolute_error: 0.1622 - 62ms/epoch - 4ms/step\n",
            "Epoch 10/100\n",
            "17/17 - 0s - loss: 0.0267 - mean_absolute_error: 0.1232 - val_loss: 0.0346 - val_mean_absolute_error: 0.1442 - 84ms/epoch - 5ms/step\n",
            "Epoch 11/100\n",
            "17/17 - 0s - loss: 0.0269 - mean_absolute_error: 0.1238 - val_loss: 0.0434 - val_mean_absolute_error: 0.1653 - 61ms/epoch - 4ms/step\n",
            "Epoch 12/100\n",
            "17/17 - 0s - loss: 0.0243 - mean_absolute_error: 0.1178 - val_loss: 0.0417 - val_mean_absolute_error: 0.1612 - 81ms/epoch - 5ms/step\n",
            "Epoch 13/100\n",
            "17/17 - 0s - loss: 0.0241 - mean_absolute_error: 0.1160 - val_loss: 0.0366 - val_mean_absolute_error: 0.1500 - 86ms/epoch - 5ms/step\n",
            "Epoch 14/100\n",
            "17/17 - 0s - loss: 0.0243 - mean_absolute_error: 0.1160 - val_loss: 0.0414 - val_mean_absolute_error: 0.1619 - 61ms/epoch - 4ms/step\n",
            "Epoch 15/100\n",
            "17/17 - 0s - loss: 0.0230 - mean_absolute_error: 0.1147 - val_loss: 0.0391 - val_mean_absolute_error: 0.1551 - 75ms/epoch - 4ms/step\n",
            "Epoch 16/100\n",
            "17/17 - 0s - loss: 0.0235 - mean_absolute_error: 0.1158 - val_loss: 0.0329 - val_mean_absolute_error: 0.1392 - 66ms/epoch - 4ms/step\n",
            "Epoch 17/100\n",
            "17/17 - 0s - loss: 0.0225 - mean_absolute_error: 0.1122 - val_loss: 0.0458 - val_mean_absolute_error: 0.1731 - 73ms/epoch - 4ms/step\n",
            "Epoch 18/100\n",
            "17/17 - 0s - loss: 0.0210 - mean_absolute_error: 0.1085 - val_loss: 0.0315 - val_mean_absolute_error: 0.1343 - 65ms/epoch - 4ms/step\n",
            "Epoch 19/100\n",
            "17/17 - 0s - loss: 0.0205 - mean_absolute_error: 0.1078 - val_loss: 0.0360 - val_mean_absolute_error: 0.1490 - 71ms/epoch - 4ms/step\n",
            "Epoch 20/100\n",
            "17/17 - 0s - loss: 0.0208 - mean_absolute_error: 0.1061 - val_loss: 0.0300 - val_mean_absolute_error: 0.1302 - 72ms/epoch - 4ms/step\n",
            "Epoch 21/100\n",
            "17/17 - 0s - loss: 0.0211 - mean_absolute_error: 0.1093 - val_loss: 0.0398 - val_mean_absolute_error: 0.1561 - 59ms/epoch - 3ms/step\n",
            "Epoch 22/100\n",
            "17/17 - 0s - loss: 0.0200 - mean_absolute_error: 0.1042 - val_loss: 0.0420 - val_mean_absolute_error: 0.1616 - 63ms/epoch - 4ms/step\n",
            "Epoch 23/100\n",
            "17/17 - 0s - loss: 0.0202 - mean_absolute_error: 0.1060 - val_loss: 0.0305 - val_mean_absolute_error: 0.1315 - 65ms/epoch - 4ms/step\n",
            "Epoch 24/100\n",
            "17/17 - 0s - loss: 0.0199 - mean_absolute_error: 0.1061 - val_loss: 0.0331 - val_mean_absolute_error: 0.1373 - 74ms/epoch - 4ms/step\n",
            "Epoch 25/100\n",
            "17/17 - 0s - loss: 0.0196 - mean_absolute_error: 0.1045 - val_loss: 0.0349 - val_mean_absolute_error: 0.1486 - 72ms/epoch - 4ms/step\n",
            "Epoch 26/100\n",
            "17/17 - 0s - loss: 0.0224 - mean_absolute_error: 0.1120 - val_loss: 0.0359 - val_mean_absolute_error: 0.1448 - 79ms/epoch - 5ms/step\n",
            "Epoch 27/100\n",
            "17/17 - 0s - loss: 0.0222 - mean_absolute_error: 0.1132 - val_loss: 0.0347 - val_mean_absolute_error: 0.1472 - 58ms/epoch - 3ms/step\n",
            "Epoch 28/100\n",
            "17/17 - 0s - loss: 0.0179 - mean_absolute_error: 0.1008 - val_loss: 0.0343 - val_mean_absolute_error: 0.1430 - 63ms/epoch - 4ms/step\n",
            "Epoch 29/100\n",
            "17/17 - 0s - loss: 0.0186 - mean_absolute_error: 0.1024 - val_loss: 0.0284 - val_mean_absolute_error: 0.1276 - 72ms/epoch - 4ms/step\n",
            "Epoch 30/100\n",
            "17/17 - 0s - loss: 0.0170 - mean_absolute_error: 0.0968 - val_loss: 0.0399 - val_mean_absolute_error: 0.1561 - 73ms/epoch - 4ms/step\n",
            "Epoch 31/100\n",
            "17/17 - 0s - loss: 0.0181 - mean_absolute_error: 0.1001 - val_loss: 0.0283 - val_mean_absolute_error: 0.1285 - 76ms/epoch - 4ms/step\n",
            "Epoch 32/100\n",
            "17/17 - 0s - loss: 0.0178 - mean_absolute_error: 0.0993 - val_loss: 0.0411 - val_mean_absolute_error: 0.1597 - 81ms/epoch - 5ms/step\n",
            "Epoch 33/100\n",
            "17/17 - 0s - loss: 0.0171 - mean_absolute_error: 0.0975 - val_loss: 0.0354 - val_mean_absolute_error: 0.1465 - 66ms/epoch - 4ms/step\n",
            "Epoch 34/100\n",
            "17/17 - 0s - loss: 0.0162 - mean_absolute_error: 0.0949 - val_loss: 0.0255 - val_mean_absolute_error: 0.1131 - 64ms/epoch - 4ms/step\n",
            "Epoch 35/100\n",
            "17/17 - 0s - loss: 0.0159 - mean_absolute_error: 0.0933 - val_loss: 0.0336 - val_mean_absolute_error: 0.1420 - 76ms/epoch - 4ms/step\n",
            "Epoch 36/100\n",
            "17/17 - 0s - loss: 0.0153 - mean_absolute_error: 0.0928 - val_loss: 0.0324 - val_mean_absolute_error: 0.1353 - 75ms/epoch - 4ms/step\n",
            "Epoch 37/100\n",
            "17/17 - 0s - loss: 0.0154 - mean_absolute_error: 0.0931 - val_loss: 0.0362 - val_mean_absolute_error: 0.1451 - 88ms/epoch - 5ms/step\n",
            "Epoch 38/100\n",
            "17/17 - 0s - loss: 0.0159 - mean_absolute_error: 0.0938 - val_loss: 0.0504 - val_mean_absolute_error: 0.1794 - 66ms/epoch - 4ms/step\n",
            "Epoch 39/100\n",
            "17/17 - 0s - loss: 0.0166 - mean_absolute_error: 0.0961 - val_loss: 0.0229 - val_mean_absolute_error: 0.1082 - 75ms/epoch - 4ms/step\n",
            "Epoch 40/100\n",
            "17/17 - 0s - loss: 0.0163 - mean_absolute_error: 0.0958 - val_loss: 0.0419 - val_mean_absolute_error: 0.1583 - 89ms/epoch - 5ms/step\n",
            "Epoch 41/100\n",
            "17/17 - 0s - loss: 0.0154 - mean_absolute_error: 0.0927 - val_loss: 0.0407 - val_mean_absolute_error: 0.1575 - 78ms/epoch - 5ms/step\n",
            "Epoch 42/100\n",
            "17/17 - 0s - loss: 0.0148 - mean_absolute_error: 0.0911 - val_loss: 0.0268 - val_mean_absolute_error: 0.1192 - 88ms/epoch - 5ms/step\n",
            "Epoch 43/100\n",
            "17/17 - 0s - loss: 0.0142 - mean_absolute_error: 0.0890 - val_loss: 0.0323 - val_mean_absolute_error: 0.1361 - 77ms/epoch - 5ms/step\n",
            "Epoch 44/100\n",
            "17/17 - 0s - loss: 0.0143 - mean_absolute_error: 0.0893 - val_loss: 0.0379 - val_mean_absolute_error: 0.1464 - 74ms/epoch - 4ms/step\n",
            "Epoch 45/100\n",
            "17/17 - 0s - loss: 0.0145 - mean_absolute_error: 0.0896 - val_loss: 0.0249 - val_mean_absolute_error: 0.1166 - 73ms/epoch - 4ms/step\n",
            "Epoch 46/100\n",
            "17/17 - 0s - loss: 0.0150 - mean_absolute_error: 0.0935 - val_loss: 0.0250 - val_mean_absolute_error: 0.1157 - 69ms/epoch - 4ms/step\n",
            "Epoch 47/100\n",
            "17/17 - 0s - loss: 0.0149 - mean_absolute_error: 0.0915 - val_loss: 0.0492 - val_mean_absolute_error: 0.1797 - 70ms/epoch - 4ms/step\n",
            "Epoch 48/100\n",
            "17/17 - 0s - loss: 0.0152 - mean_absolute_error: 0.0927 - val_loss: 0.0391 - val_mean_absolute_error: 0.1557 - 66ms/epoch - 4ms/step\n",
            "Epoch 49/100\n",
            "17/17 - 0s - loss: 0.0138 - mean_absolute_error: 0.0868 - val_loss: 0.0240 - val_mean_absolute_error: 0.1098 - 71ms/epoch - 4ms/step\n",
            "Epoch 50/100\n",
            "17/17 - 0s - loss: 0.0143 - mean_absolute_error: 0.0894 - val_loss: 0.0460 - val_mean_absolute_error: 0.1709 - 64ms/epoch - 4ms/step\n",
            "Epoch 51/100\n",
            "17/17 - 0s - loss: 0.0146 - mean_absolute_error: 0.0914 - val_loss: 0.0338 - val_mean_absolute_error: 0.1421 - 67ms/epoch - 4ms/step\n",
            "Epoch 52/100\n",
            "17/17 - 0s - loss: 0.0138 - mean_absolute_error: 0.0878 - val_loss: 0.0359 - val_mean_absolute_error: 0.1455 - 79ms/epoch - 5ms/step\n",
            "Epoch 53/100\n",
            "17/17 - 0s - loss: 0.0141 - mean_absolute_error: 0.0858 - val_loss: 0.0319 - val_mean_absolute_error: 0.1313 - 65ms/epoch - 4ms/step\n",
            "Epoch 54/100\n",
            "17/17 - 0s - loss: 0.0148 - mean_absolute_error: 0.0894 - val_loss: 0.0237 - val_mean_absolute_error: 0.1121 - 63ms/epoch - 4ms/step\n",
            "Epoch 55/100\n",
            "17/17 - 0s - loss: 0.0184 - mean_absolute_error: 0.0998 - val_loss: 0.0387 - val_mean_absolute_error: 0.1505 - 57ms/epoch - 3ms/step\n",
            "Epoch 56/100\n",
            "17/17 - 0s - loss: 0.0158 - mean_absolute_error: 0.0943 - val_loss: 0.0346 - val_mean_absolute_error: 0.1445 - 74ms/epoch - 4ms/step\n",
            "Epoch 57/100\n",
            "17/17 - 0s - loss: 0.0132 - mean_absolute_error: 0.0874 - val_loss: 0.0254 - val_mean_absolute_error: 0.1123 - 76ms/epoch - 4ms/step\n",
            "Epoch 58/100\n",
            "17/17 - 0s - loss: 0.0135 - mean_absolute_error: 0.0840 - val_loss: 0.0271 - val_mean_absolute_error: 0.1187 - 60ms/epoch - 4ms/step\n",
            "Epoch 59/100\n",
            "17/17 - 0s - loss: 0.0140 - mean_absolute_error: 0.0895 - val_loss: 0.0449 - val_mean_absolute_error: 0.1687 - 64ms/epoch - 4ms/step\n",
            "Epoch 60/100\n",
            "17/17 - 0s - loss: 0.0140 - mean_absolute_error: 0.0879 - val_loss: 0.0256 - val_mean_absolute_error: 0.1130 - 70ms/epoch - 4ms/step\n",
            "Epoch 61/100\n",
            "17/17 - 0s - loss: 0.0132 - mean_absolute_error: 0.0852 - val_loss: 0.0288 - val_mean_absolute_error: 0.1311 - 71ms/epoch - 4ms/step\n",
            "Epoch 62/100\n",
            "17/17 - 0s - loss: 0.0148 - mean_absolute_error: 0.0933 - val_loss: 0.0324 - val_mean_absolute_error: 0.1302 - 73ms/epoch - 4ms/step\n",
            "Epoch 63/100\n",
            "17/17 - 0s - loss: 0.0146 - mean_absolute_error: 0.0885 - val_loss: 0.0197 - val_mean_absolute_error: 0.0982 - 64ms/epoch - 4ms/step\n",
            "Epoch 64/100\n",
            "17/17 - 0s - loss: 0.0144 - mean_absolute_error: 0.0892 - val_loss: 0.0273 - val_mean_absolute_error: 0.1207 - 78ms/epoch - 5ms/step\n",
            "Epoch 65/100\n",
            "17/17 - 0s - loss: 0.0140 - mean_absolute_error: 0.0874 - val_loss: 0.0331 - val_mean_absolute_error: 0.1368 - 76ms/epoch - 4ms/step\n",
            "Epoch 66/100\n",
            "17/17 - 0s - loss: 0.0126 - mean_absolute_error: 0.0843 - val_loss: 0.0382 - val_mean_absolute_error: 0.1492 - 73ms/epoch - 4ms/step\n",
            "Epoch 67/100\n",
            "17/17 - 0s - loss: 0.0141 - mean_absolute_error: 0.0867 - val_loss: 0.0418 - val_mean_absolute_error: 0.1654 - 59ms/epoch - 3ms/step\n",
            "Epoch 68/100\n",
            "17/17 - 0s - loss: 0.0138 - mean_absolute_error: 0.0887 - val_loss: 0.0333 - val_mean_absolute_error: 0.1342 - 75ms/epoch - 4ms/step\n",
            "Epoch 69/100\n",
            "17/17 - 0s - loss: 0.0122 - mean_absolute_error: 0.0834 - val_loss: 0.0316 - val_mean_absolute_error: 0.1393 - 60ms/epoch - 4ms/step\n",
            "Epoch 70/100\n",
            "17/17 - 0s - loss: 0.0122 - mean_absolute_error: 0.0795 - val_loss: 0.0451 - val_mean_absolute_error: 0.1666 - 74ms/epoch - 4ms/step\n",
            "Epoch 71/100\n",
            "17/17 - 0s - loss: 0.0137 - mean_absolute_error: 0.0875 - val_loss: 0.0390 - val_mean_absolute_error: 0.1521 - 66ms/epoch - 4ms/step\n",
            "Epoch 72/100\n",
            "17/17 - 0s - loss: 0.0118 - mean_absolute_error: 0.0810 - val_loss: 0.0315 - val_mean_absolute_error: 0.1320 - 59ms/epoch - 3ms/step\n",
            "Epoch 73/100\n",
            "17/17 - 0s - loss: 0.0114 - mean_absolute_error: 0.0789 - val_loss: 0.0380 - val_mean_absolute_error: 0.1552 - 85ms/epoch - 5ms/step\n",
            "Epoch 74/100\n",
            "17/17 - 0s - loss: 0.0126 - mean_absolute_error: 0.0846 - val_loss: 0.0257 - val_mean_absolute_error: 0.1163 - 86ms/epoch - 5ms/step\n",
            "Epoch 75/100\n",
            "17/17 - 0s - loss: 0.0122 - mean_absolute_error: 0.0829 - val_loss: 0.0257 - val_mean_absolute_error: 0.1147 - 94ms/epoch - 6ms/step\n",
            "Epoch 76/100\n",
            "17/17 - 0s - loss: 0.0122 - mean_absolute_error: 0.0811 - val_loss: 0.0300 - val_mean_absolute_error: 0.1277 - 101ms/epoch - 6ms/step\n",
            "Epoch 77/100\n",
            "17/17 - 0s - loss: 0.0118 - mean_absolute_error: 0.0793 - val_loss: 0.0315 - val_mean_absolute_error: 0.1362 - 105ms/epoch - 6ms/step\n",
            "Epoch 78/100\n",
            "17/17 - 0s - loss: 0.0125 - mean_absolute_error: 0.0853 - val_loss: 0.0366 - val_mean_absolute_error: 0.1514 - 108ms/epoch - 6ms/step\n",
            "Epoch 79/100\n",
            "17/17 - 0s - loss: 0.0121 - mean_absolute_error: 0.0820 - val_loss: 0.0364 - val_mean_absolute_error: 0.1481 - 125ms/epoch - 7ms/step\n",
            "Epoch 80/100\n",
            "17/17 - 0s - loss: 0.0125 - mean_absolute_error: 0.0815 - val_loss: 0.0259 - val_mean_absolute_error: 0.1152 - 106ms/epoch - 6ms/step\n",
            "Epoch 81/100\n",
            "17/17 - 0s - loss: 0.0116 - mean_absolute_error: 0.0780 - val_loss: 0.0281 - val_mean_absolute_error: 0.1292 - 111ms/epoch - 7ms/step\n",
            "Epoch 82/100\n",
            "17/17 - 0s - loss: 0.0119 - mean_absolute_error: 0.0803 - val_loss: 0.0316 - val_mean_absolute_error: 0.1328 - 114ms/epoch - 7ms/step\n",
            "Epoch 83/100\n",
            "17/17 - 0s - loss: 0.0109 - mean_absolute_error: 0.0747 - val_loss: 0.0243 - val_mean_absolute_error: 0.1114 - 91ms/epoch - 5ms/step\n",
            "Epoch 84/100\n",
            "17/17 - 0s - loss: 0.0112 - mean_absolute_error: 0.0786 - val_loss: 0.0258 - val_mean_absolute_error: 0.1150 - 110ms/epoch - 6ms/step\n",
            "Epoch 85/100\n",
            "17/17 - 0s - loss: 0.0115 - mean_absolute_error: 0.0798 - val_loss: 0.0240 - val_mean_absolute_error: 0.1129 - 105ms/epoch - 6ms/step\n",
            "Epoch 86/100\n",
            "17/17 - 0s - loss: 0.0121 - mean_absolute_error: 0.0792 - val_loss: 0.0330 - val_mean_absolute_error: 0.1382 - 104ms/epoch - 6ms/step\n",
            "Epoch 87/100\n",
            "17/17 - 0s - loss: 0.0126 - mean_absolute_error: 0.0821 - val_loss: 0.0233 - val_mean_absolute_error: 0.1107 - 139ms/epoch - 8ms/step\n",
            "Epoch 88/100\n",
            "17/17 - 0s - loss: 0.0121 - mean_absolute_error: 0.0839 - val_loss: 0.0331 - val_mean_absolute_error: 0.1416 - 105ms/epoch - 6ms/step\n",
            "Epoch 89/100\n",
            "17/17 - 0s - loss: 0.0110 - mean_absolute_error: 0.0749 - val_loss: 0.0361 - val_mean_absolute_error: 0.1465 - 112ms/epoch - 7ms/step\n",
            "Epoch 90/100\n",
            "17/17 - 0s - loss: 0.0134 - mean_absolute_error: 0.0831 - val_loss: 0.0287 - val_mean_absolute_error: 0.1227 - 108ms/epoch - 6ms/step\n",
            "Epoch 91/100\n",
            "17/17 - 0s - loss: 0.0127 - mean_absolute_error: 0.0812 - val_loss: 0.0320 - val_mean_absolute_error: 0.1327 - 101ms/epoch - 6ms/step\n",
            "Epoch 92/100\n",
            "17/17 - 0s - loss: 0.0115 - mean_absolute_error: 0.0811 - val_loss: 0.0232 - val_mean_absolute_error: 0.1127 - 90ms/epoch - 5ms/step\n",
            "Epoch 93/100\n",
            "17/17 - 0s - loss: 0.0108 - mean_absolute_error: 0.0788 - val_loss: 0.0233 - val_mean_absolute_error: 0.1119 - 93ms/epoch - 5ms/step\n",
            "Epoch 94/100\n",
            "17/17 - 0s - loss: 0.0106 - mean_absolute_error: 0.0751 - val_loss: 0.0332 - val_mean_absolute_error: 0.1362 - 84ms/epoch - 5ms/step\n",
            "Epoch 95/100\n",
            "17/17 - 0s - loss: 0.0106 - mean_absolute_error: 0.0764 - val_loss: 0.0356 - val_mean_absolute_error: 0.1464 - 97ms/epoch - 6ms/step\n",
            "Epoch 96/100\n",
            "17/17 - 0s - loss: 0.0108 - mean_absolute_error: 0.0765 - val_loss: 0.0511 - val_mean_absolute_error: 0.1828 - 93ms/epoch - 5ms/step\n",
            "Epoch 97/100\n",
            "17/17 - 0s - loss: 0.0109 - mean_absolute_error: 0.0764 - val_loss: 0.0322 - val_mean_absolute_error: 0.1366 - 100ms/epoch - 6ms/step\n",
            "Epoch 98/100\n",
            "17/17 - 0s - loss: 0.0102 - mean_absolute_error: 0.0747 - val_loss: 0.0370 - val_mean_absolute_error: 0.1527 - 96ms/epoch - 6ms/step\n",
            "Epoch 99/100\n",
            "17/17 - 0s - loss: 0.0110 - mean_absolute_error: 0.0784 - val_loss: 0.0393 - val_mean_absolute_error: 0.1534 - 98ms/epoch - 6ms/step\n",
            "Epoch 100/100\n",
            "17/17 - 0s - loss: 0.0105 - mean_absolute_error: 0.0755 - val_loss: 0.0324 - val_mean_absolute_error: 0.1414 - 86ms/epoch - 5ms/step\n",
            "1/1 [==============================] - 0s 73ms/step\n",
            "(56, 1)\n"
          ]
        },
        {
          "output_type": "display_data",
          "data": {
            "text/plain": [
              "<Figure size 432x288 with 1 Axes>"
            ],
            "image/png": "[encoded data removed]"
          },
          "metadata": {
            "needs_background": "light"
          }
        }
      ]
    }
  ],
  "metadata": {
    "kernelspec": {
      "display_name": "Python 3",
      "language": "python",
      "name": "python3"
    },
    "language_info": {
      "codemirror_mode": {
        "name": "ipython",
        "version": 3
      },
      "file_extension": ".py",
      "mimetype": "text/x-python",
      "name": "python",
      "nbconvert_exporter": "python",
      "pygments_lexer": "ipython3",
      "version": "3.8.6"
    },
    "colab": {
      "provenance": [],
      "include_colab_link": true
    }
  },
  "nbformat": 4,
  "nbformat_minor": 0
}