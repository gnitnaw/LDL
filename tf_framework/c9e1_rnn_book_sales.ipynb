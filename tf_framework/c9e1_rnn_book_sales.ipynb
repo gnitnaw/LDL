{
  "cells": [
    {
      "cell_type": "markdown",
      "metadata": {
        "id": "view-in-github",
        "colab_type": "text"
      },
      "source": [
        "<a href=\"https://colab.research.google.com/github/gnitnaw/LDL/blob/main/tf_framework/c9e1_rnn_book_sales.ipynb\" target=\"_parent\"><img src=\"https://colab.research.google.com/assets/colab-badge.svg\" alt=\"Open In Colab\"/></a>"
      ]
    },
    {
      "cell_type": "code",
      "execution_count": 1,
      "metadata": {
        "id": "TPGmRA0ip-uq",
        "outputId": "7094988d-b6db-49e5-c432-40e264fed63d",
        "colab": {
          "base_uri": "https://localhost:8080/",
          "height": 111
        }
      },
      "outputs": [
        {
          "output_type": "execute_result",
          "data": {
            "text/plain": [
              "'\\nThe MIT License (MIT)\\nCopyright (c) 2021 NVIDIA\\nPermission is hereby granted, free of charge, to any person obtaining a copy of\\nthis software and associated documentation files (the \"Software\"), to deal in\\nthe Software without restriction, including without limitation the rights to\\nuse, copy, modify, merge, publish, distribute, sublicense, and/or sell copies of\\nthe Software, and to permit persons to whom the Software is furnished to do so,\\nsubject to the following conditions:\\nThe above copyright notice and this permission notice shall be included in all\\ncopies or substantial portions of the Software.\\nTHE SOFTWARE IS PROVIDED \"AS IS\", WITHOUT WARRANTY OF ANY KIND, EXPRESS OR\\nIMPLIED, INCLUDING BUT NOT LIMITED TO THE WARRANTIES OF MERCHANTABILITY, FITNESS\\nFOR A PARTICULAR PURPOSE AND NONINFRINGEMENT. IN NO EVENT SHALL THE AUTHORS OR\\nCOPYRIGHT HOLDERS BE LIABLE FOR ANY CLAIM, DAMAGES OR OTHER LIABILITY, WHETHER\\nIN AN ACTION OF CONTRACT, TORT OR OTHERWISE, ARISING FROM, OUT OF OR IN\\nCONNECTION WITH THE SOFTWARE OR THE USE OR OTHER DEALINGS IN THE SOFTWARE.\\n'"
            ],
            "application/vnd.google.colaboratory.intrinsic+json": {
              "type": "string"
            }
          },
          "metadata": {},
          "execution_count": 1
        }
      ],
      "source": [
        "\"\"\"\n",
        "The MIT License (MIT)\n",
        "Copyright (c) 2021 NVIDIA\n",
        "Permission is hereby granted, free of charge, to any person obtaining a copy of\n",
        "this software and associated documentation files (the \"Software\"), to deal in\n",
        "the Software without restriction, including without limitation the rights to\n",
        "use, copy, modify, merge, publish, distribute, sublicense, and/or sell copies of\n",
        "the Software, and to permit persons to whom the Software is furnished to do so,\n",
        "subject to the following conditions:\n",
        "The above copyright notice and this permission notice shall be included in all\n",
        "copies or substantial portions of the Software.\n",
        "THE SOFTWARE IS PROVIDED \"AS IS\", WITHOUT WARRANTY OF ANY KIND, EXPRESS OR\n",
        "IMPLIED, INCLUDING BUT NOT LIMITED TO THE WARRANTIES OF MERCHANTABILITY, FITNESS\n",
        "FOR A PARTICULAR PURPOSE AND NONINFRINGEMENT. IN NO EVENT SHALL THE AUTHORS OR\n",
        "COPYRIGHT HOLDERS BE LIABLE FOR ANY CLAIM, DAMAGES OR OTHER LIABILITY, WHETHER\n",
        "IN AN ACTION OF CONTRACT, TORT OR OTHERWISE, ARISING FROM, OUT OF OR IN\n",
        "CONNECTION WITH THE SOFTWARE OR THE USE OR OTHER DEALINGS IN THE SOFTWARE.\n",
        "\"\"\"\n"
      ]
    },
    {
      "cell_type": "markdown",
      "metadata": {
        "id": "_hPFuLQYp-ut"
      },
      "source": [
        "This code example demonstrates how to use a recurrent neural network to solve a time series prediction problem. The goal is to predict future sales data based on historical values. More context for this code example can be found in the section \"Programming Example: Forecasting Book Sales\" in Chapter 9 in the book Learning Deep Learning by Magnus Ekman (ISBN: 9780137470358).\n"
      ]
    },
    {
      "cell_type": "markdown",
      "source": [
        "# Google drive"
      ],
      "metadata": {
        "id": "QolGyij5sYTE"
      }
    },
    {
      "cell_type": "code",
      "source": [
        "from google.colab import drive\n",
        "drive.mount('/content/drive')\n",
        "path_head = '/content/drive/MyDrive/Colab Notebooks/' # You have to change this. "
      ],
      "metadata": {
        "id": "aPfWLaLasU1j",
        "outputId": "674229a9-8724-4744-8ee6-6ef96a863740",
        "colab": {
          "base_uri": "https://localhost:8080/"
        }
      },
      "execution_count": 2,
      "outputs": [
        {
          "output_type": "stream",
          "name": "stdout",
          "text": [
            "Drive already mounted at /content/drive; to attempt to forcibly remount, call drive.mount(\"/content/drive\", force_remount=True).\n"
          ]
        }
      ]
    },
    {
      "cell_type": "markdown",
      "metadata": {
        "id": "BDZcid8Vp-uw"
      },
      "source": [
        "We start with initialization code. First, we import modules that we need for the network. We also load the data file into an array. We then split the data into training data (the first 80% of the data points) and test data (the remaining 20% of the months). The data is assumed to be in the file ../data/book_store_sales.csv."
      ]
    },
    {
      "cell_type": "code",
      "execution_count": 3,
      "metadata": {
        "id": "6mxnaR-9p-ux"
      },
      "outputs": [],
      "source": [
        "import numpy as np\n",
        "import matplotlib.pyplot as plt\n",
        "import tensorflow as tf\n",
        "from tensorflow import keras\n",
        "from tensorflow.keras.models import Sequential\n",
        "from tensorflow.keras.layers import Dense\n",
        "from tensorflow.keras.layers import SimpleRNN\n",
        "from tensorflow.keras.layers import Flatten\n",
        "#import keras.utils\n",
        "import logging\n",
        "tf.get_logger().setLevel(logging.ERROR)\n",
        "\n",
        "EPOCHS = 100\n",
        "BATCH_SIZE = 16\n",
        "TRAIN_TEST_SPLIT = 0.8\n",
        "MIN = 12\n",
        "FILE_NAME = path_head+'data/SeriesReport-ch9.csv'\n",
        "#FILE_NAME = '../data/book_store_sales.csv'\n",
        "\n",
        "def readfile(file_name):\n",
        "    file = open(file_name, 'r', encoding='utf-8')\n",
        "    next(file)\n",
        "    data = []\n",
        "    for line in (file):\n",
        "        values = line.split(',')\n",
        "        data.append(float(values[1]))\n",
        "    file.close()\n",
        "    return np.array(data, dtype=np.float32)\n",
        "\n",
        "# Read data and split into training and test data.\n",
        "sales = readfile(FILE_NAME)\n",
        "months = len(sales)\n",
        "split = int(months * TRAIN_TEST_SPLIT)\n",
        "train_sales = sales[0:split]\n",
        "test_sales = sales[split:]\n"
      ]
    },
    {
      "cell_type": "markdown",
      "metadata": {
        "id": "VO0Dns0hp-uz"
      },
      "source": [
        "The next code snippet plots the historical sales data. The data shows a clear seasonal pattern along with an indication that the overall trend in sales has changed over time, presumably due to increased online sales. The data starts in 1992 and ends in March 2020. The drop for the last month was likely caused by the COVID-19 pandemic hitting the United States.\n"
      ]
    },
    {
      "cell_type": "code",
      "execution_count": 4,
      "metadata": {
        "id": "o1DSwT9cp-u0",
        "outputId": "014f9713-05e2-4abb-ae39-87d6996725fd",
        "colab": {
          "base_uri": "https://localhost:8080/",
          "height": 295
        }
      },
      "outputs": [
        {
          "output_type": "display_data",
          "data": {
            "text/plain": [
              "<Figure size 432x288 with 1 Axes>"
            ],
            "image/png": "[encoded data removed]"
          },
          "metadata": {
            "needs_background": "light"
          }
        }
      ],
      "source": [
        "# Plot dataset\n",
        "x = range(len(sales))\n",
        "plt.plot(x, sales, 'r-', label='book sales')\n",
        "plt.title('Book store sales')\n",
        "plt.axis([0, 339, 0.0, 3000.0])\n",
        "plt.xlabel('Months')\n",
        "plt.ylabel('Sales (millions $)')\n",
        "plt.legend()\n",
        "plt.show()\n"
      ]
    },
    {
      "cell_type": "markdown",
      "metadata": {
        "id": "WNW7mIDUp-u2"
      },
      "source": [
        "For comparison purposes, create output corresponding to a naive model that predicts that the sales next month will be the same as the sales this month. Compare this to the correct data by plotting the values side by side.\n"
      ]
    },
    {
      "cell_type": "code",
      "execution_count": 5,
      "metadata": {
        "id": "fJFXPvBnp-u4",
        "outputId": "bb782659-ac85-4ec9-85c9-66c2765f80a7",
        "colab": {
          "base_uri": "https://localhost:8080/",
          "height": 295
        }
      },
      "outputs": [
        {
          "output_type": "display_data",
          "data": {
            "text/plain": [
              "<Figure size 432x288 with 1 Axes>"
            ],
            "image/png": "[encoded data removed]"
          },
          "metadata": {
            "needs_background": "light"
          }
        }
      ],
      "source": [
        "# Plot naive prediction\n",
        "test_output = test_sales[MIN:]\n",
        "naive_prediction = test_sales[MIN-1:-1]\n",
        "x = range(len(test_output))\n",
        "plt.plot(x, test_output, 'g-', label='test_output')\n",
        "plt.plot(x, naive_prediction, 'm-', label='naive prediction')\n",
        "plt.title('Book store sales')\n",
        "plt.axis([0, len(test_output), 0.0, 3000.0])\n",
        "plt.xlabel('months')\n",
        "plt.ylabel('Monthly book store sales')\n",
        "plt.legend()\n",
        "plt.show()\n"
      ]
    },
    {
      "cell_type": "markdown",
      "metadata": {
        "id": "t5wLZ64Np-u6"
      },
      "source": [
        "The next step is to standardize the data points by subtracting the mean and dividing by the standard deviation of the training examples.\n"
      ]
    },
    {
      "cell_type": "code",
      "execution_count": 6,
      "metadata": {
        "id": "9sAM22j7p-u7"
      },
      "outputs": [],
      "source": [
        "# Standardize train and test data.\n",
        "# Use only training seasons to compute mean and stddev.\n",
        "mean = np.mean(train_sales)\n",
        "stddev = np.std(train_sales)\n",
        "train_sales_std = (train_sales - mean)/stddev\n",
        "test_sales_std = (test_sales - mean)/stddev\n"
      ]
    },
    {
      "cell_type": "markdown",
      "metadata": {
        "id": "WyiMraC_p-u-"
      },
      "source": [
        "In our previous examples, the datasets were already organized into individual examples. For example, we had an array of images serving as input values and an associated array of classes serving as expected output values. However, the data that we created in this example is raw historical data and not yet organized as a set of training and test examples (see the section in the book for an illustration of how we need it organized). This is the next step in our code example. The code snippet below allocates tensors for the training data and initializes all entries to 0. It then loops through the historical data and creates training examples, then does the same thing with the test data."
      ]
    },
    {
      "cell_type": "code",
      "execution_count": 7,
      "metadata": {
        "id": "6MILpVMXp-u_",
        "outputId": "d85766d5-ba5f-4f84-8aba-1548244a3c55",
        "colab": {
          "base_uri": "https://localhost:8080/"
        }
      },
      "outputs": [
        {
          "output_type": "stream",
          "name": "stdout",
          "text": [
            "(259, 270, 1)\n",
            "(56, 67, 1)\n"
          ]
        }
      ],
      "source": [
        "# Create training examples.\n",
        "train_months = len(train_sales)\n",
        "train_X = np.zeros((train_months-MIN, train_months-1, 1))\n",
        "train_y = np.zeros((train_months-MIN, 1))\n",
        "for i in range(0, train_months-MIN):\n",
        "    train_X[i, -(i+MIN):, 0] = train_sales_std[0:i+MIN]\n",
        "    train_y[i, 0] = train_sales_std[i+MIN]\n",
        "\n",
        "# Create test examples.\n",
        "test_months = len(test_sales)\n",
        "test_X = np.zeros((test_months-MIN, test_months-1, 1))\n",
        "test_y = np.zeros((test_months-MIN, 1))\n",
        "for i in range(0, test_months-MIN):\n",
        "    test_X[i, -(i+MIN):, 0] = test_sales_std[0:i+MIN]\n",
        "    test_y[i, 0] = test_sales_std[i+MIN]\n",
        "\n",
        "print(train_X.shape)\n",
        "print(test_X.shape)\n"
      ]
    },
    {
      "cell_type": "markdown",
      "metadata": {
        "id": "Em5Nn0-kp-u_"
      },
      "source": [
        "We are finally ready to define and train our network. This is shown in the code snippet below."
      ]
    },
    {
      "cell_type": "code",
      "execution_count": 8,
      "metadata": {
        "id": "gUln7m2Wp-u_",
        "outputId": "a7d4853f-e0f4-4216-9cfc-3fde61360a02",
        "colab": {
          "base_uri": "https://localhost:8080/"
        }
      },
      "outputs": [
        {
          "output_type": "stream",
          "name": "stdout",
          "text": [
            "Model: \"sequential\"\n",
            "_________________________________________________________________\n",
            " Layer (type)                Output Shape              Param #   \n",
            "=================================================================\n",
            " simple_rnn (SimpleRNN)      (None, 128)               16640     \n",
            "                                                                 \n",
            " dense (Dense)               (None, 1)                 129       \n",
            "                                                                 \n",
            "=================================================================\n",
            "Total params: 16,769\n",
            "Trainable params: 16,769\n",
            "Non-trainable params: 0\n",
            "_________________________________________________________________\n",
            "Epoch 1/100\n",
            "17/17 - 5s - loss: 0.8538 - mean_absolute_error: 0.6914 - val_loss: 0.5655 - val_mean_absolute_error: 0.6903 - 5s/epoch - 277ms/step\n",
            "Epoch 2/100\n",
            "17/17 - 2s - loss: 0.5073 - mean_absolute_error: 0.5543 - val_loss: 0.3232 - val_mean_absolute_error: 0.5016 - 2s/epoch - 112ms/step\n",
            "Epoch 3/100\n",
            "17/17 - 2s - loss: 0.2389 - mean_absolute_error: 0.3712 - val_loss: 0.1090 - val_mean_absolute_error: 0.2442 - 2s/epoch - 111ms/step\n",
            "Epoch 4/100\n",
            "17/17 - 2s - loss: 0.1243 - mean_absolute_error: 0.2570 - val_loss: 0.0729 - val_mean_absolute_error: 0.2046 - 2s/epoch - 106ms/step\n",
            "Epoch 5/100\n",
            "17/17 - 1s - loss: 0.1000 - mean_absolute_error: 0.2335 - val_loss: 0.0571 - val_mean_absolute_error: 0.1654 - 877ms/epoch - 52ms/step\n",
            "Epoch 6/100\n",
            "17/17 - 1s - loss: 0.0696 - mean_absolute_error: 0.1957 - val_loss: 0.0469 - val_mean_absolute_error: 0.1468 - 795ms/epoch - 47ms/step\n",
            "Epoch 7/100\n",
            "17/17 - 1s - loss: 0.0631 - mean_absolute_error: 0.1901 - val_loss: 0.0458 - val_mean_absolute_error: 0.1494 - 798ms/epoch - 47ms/step\n",
            "Epoch 8/100\n",
            "17/17 - 1s - loss: 0.0615 - mean_absolute_error: 0.1830 - val_loss: 0.0612 - val_mean_absolute_error: 0.2024 - 822ms/epoch - 48ms/step\n",
            "Epoch 9/100\n",
            "17/17 - 1s - loss: 0.0528 - mean_absolute_error: 0.1677 - val_loss: 0.0398 - val_mean_absolute_error: 0.1446 - 838ms/epoch - 49ms/step\n",
            "Epoch 10/100\n",
            "17/17 - 1s - loss: 0.0495 - mean_absolute_error: 0.1639 - val_loss: 0.0370 - val_mean_absolute_error: 0.1347 - 864ms/epoch - 51ms/step\n",
            "Epoch 11/100\n",
            "17/17 - 1s - loss: 0.0466 - mean_absolute_error: 0.1517 - val_loss: 0.0511 - val_mean_absolute_error: 0.1705 - 815ms/epoch - 48ms/step\n",
            "Epoch 12/100\n",
            "17/17 - 1s - loss: 0.0432 - mean_absolute_error: 0.1594 - val_loss: 0.0531 - val_mean_absolute_error: 0.1781 - 858ms/epoch - 50ms/step\n",
            "Epoch 13/100\n",
            "17/17 - 1s - loss: 0.0294 - mean_absolute_error: 0.1250 - val_loss: 0.0319 - val_mean_absolute_error: 0.1289 - 846ms/epoch - 50ms/step\n",
            "Epoch 14/100\n",
            "17/17 - 1s - loss: 0.0457 - mean_absolute_error: 0.1533 - val_loss: 0.0724 - val_mean_absolute_error: 0.2026 - 845ms/epoch - 50ms/step\n",
            "Epoch 15/100\n",
            "17/17 - 1s - loss: 0.0342 - mean_absolute_error: 0.1399 - val_loss: 0.0442 - val_mean_absolute_error: 0.1333 - 874ms/epoch - 51ms/step\n",
            "Epoch 16/100\n",
            "17/17 - 1s - loss: 0.0304 - mean_absolute_error: 0.1340 - val_loss: 0.0408 - val_mean_absolute_error: 0.1471 - 896ms/epoch - 53ms/step\n",
            "Epoch 17/100\n",
            "17/17 - 1s - loss: 0.0263 - mean_absolute_error: 0.1206 - val_loss: 0.0327 - val_mean_absolute_error: 0.1257 - 859ms/epoch - 51ms/step\n",
            "Epoch 18/100\n",
            "17/17 - 1s - loss: 0.0225 - mean_absolute_error: 0.1111 - val_loss: 0.0342 - val_mean_absolute_error: 0.1232 - 836ms/epoch - 49ms/step\n",
            "Epoch 19/100\n",
            "17/17 - 1s - loss: 0.0225 - mean_absolute_error: 0.1087 - val_loss: 0.0410 - val_mean_absolute_error: 0.1576 - 849ms/epoch - 50ms/step\n",
            "Epoch 20/100\n",
            "17/17 - 1s - loss: 0.0236 - mean_absolute_error: 0.1151 - val_loss: 0.0363 - val_mean_absolute_error: 0.1396 - 864ms/epoch - 51ms/step\n",
            "Epoch 21/100\n",
            "17/17 - 1s - loss: 0.0201 - mean_absolute_error: 0.1047 - val_loss: 0.0337 - val_mean_absolute_error: 0.1332 - 831ms/epoch - 49ms/step\n",
            "Epoch 22/100\n",
            "17/17 - 1s - loss: 0.0175 - mean_absolute_error: 0.1010 - val_loss: 0.0331 - val_mean_absolute_error: 0.1230 - 815ms/epoch - 48ms/step\n",
            "Epoch 23/100\n",
            "17/17 - 1s - loss: 0.0176 - mean_absolute_error: 0.0977 - val_loss: 0.0438 - val_mean_absolute_error: 0.1452 - 803ms/epoch - 47ms/step\n",
            "Epoch 24/100\n",
            "17/17 - 1s - loss: 0.0200 - mean_absolute_error: 0.1059 - val_loss: 0.0384 - val_mean_absolute_error: 0.1373 - 831ms/epoch - 49ms/step\n",
            "Epoch 25/100\n",
            "17/17 - 1s - loss: 0.0255 - mean_absolute_error: 0.1145 - val_loss: 0.0335 - val_mean_absolute_error: 0.1469 - 921ms/epoch - 54ms/step\n",
            "Epoch 26/100\n",
            "17/17 - 1s - loss: 0.0572 - mean_absolute_error: 0.1624 - val_loss: 0.0574 - val_mean_absolute_error: 0.2050 - 877ms/epoch - 52ms/step\n",
            "Epoch 27/100\n",
            "17/17 - 1s - loss: 0.0439 - mean_absolute_error: 0.1565 - val_loss: 0.0340 - val_mean_absolute_error: 0.1277 - 889ms/epoch - 52ms/step\n",
            "Epoch 28/100\n",
            "17/17 - 1s - loss: 0.0217 - mean_absolute_error: 0.1088 - val_loss: 0.0219 - val_mean_absolute_error: 0.1009 - 870ms/epoch - 51ms/step\n",
            "Epoch 29/100\n",
            "17/17 - 1s - loss: 0.0183 - mean_absolute_error: 0.0987 - val_loss: 0.0298 - val_mean_absolute_error: 0.1240 - 830ms/epoch - 49ms/step\n",
            "Epoch 30/100\n",
            "17/17 - 1s - loss: 0.0182 - mean_absolute_error: 0.1015 - val_loss: 0.0417 - val_mean_absolute_error: 0.1448 - 823ms/epoch - 48ms/step\n",
            "Epoch 31/100\n",
            "17/17 - 1s - loss: 0.0212 - mean_absolute_error: 0.1082 - val_loss: 0.0389 - val_mean_absolute_error: 0.1631 - 875ms/epoch - 51ms/step\n",
            "Epoch 32/100\n",
            "17/17 - 1s - loss: 0.0251 - mean_absolute_error: 0.1197 - val_loss: 0.0306 - val_mean_absolute_error: 0.1230 - 873ms/epoch - 51ms/step\n",
            "Epoch 33/100\n",
            "17/17 - 1s - loss: 0.0225 - mean_absolute_error: 0.1150 - val_loss: 0.0225 - val_mean_absolute_error: 0.0957 - 847ms/epoch - 50ms/step\n",
            "Epoch 34/100\n",
            "17/17 - 1s - loss: 0.0178 - mean_absolute_error: 0.1020 - val_loss: 0.0355 - val_mean_absolute_error: 0.1434 - 834ms/epoch - 49ms/step\n",
            "Epoch 35/100\n",
            "17/17 - 1s - loss: 0.0168 - mean_absolute_error: 0.0974 - val_loss: 0.0364 - val_mean_absolute_error: 0.1530 - 835ms/epoch - 49ms/step\n",
            "Epoch 36/100\n",
            "17/17 - 1s - loss: 0.0189 - mean_absolute_error: 0.1008 - val_loss: 0.0279 - val_mean_absolute_error: 0.1155 - 877ms/epoch - 52ms/step\n",
            "Epoch 37/100\n",
            "17/17 - 1s - loss: 0.0178 - mean_absolute_error: 0.0961 - val_loss: 0.0301 - val_mean_absolute_error: 0.1195 - 870ms/epoch - 51ms/step\n",
            "Epoch 38/100\n",
            "17/17 - 1s - loss: 0.0143 - mean_absolute_error: 0.0898 - val_loss: 0.0229 - val_mean_absolute_error: 0.1088 - 871ms/epoch - 51ms/step\n",
            "Epoch 39/100\n",
            "17/17 - 1s - loss: 0.0167 - mean_absolute_error: 0.0955 - val_loss: 0.0318 - val_mean_absolute_error: 0.1186 - 847ms/epoch - 50ms/step\n",
            "Epoch 40/100\n",
            "17/17 - 1s - loss: 0.0174 - mean_absolute_error: 0.0946 - val_loss: 0.0288 - val_mean_absolute_error: 0.1148 - 859ms/epoch - 51ms/step\n",
            "Epoch 41/100\n",
            "17/17 - 1s - loss: 0.0181 - mean_absolute_error: 0.1002 - val_loss: 0.0347 - val_mean_absolute_error: 0.1489 - 881ms/epoch - 52ms/step\n",
            "Epoch 42/100\n",
            "17/17 - 1s - loss: 0.0172 - mean_absolute_error: 0.0953 - val_loss: 0.0370 - val_mean_absolute_error: 0.1173 - 882ms/epoch - 52ms/step\n",
            "Epoch 43/100\n",
            "17/17 - 1s - loss: 0.0216 - mean_absolute_error: 0.1115 - val_loss: 0.0253 - val_mean_absolute_error: 0.1065 - 819ms/epoch - 48ms/step\n",
            "Epoch 44/100\n",
            "17/17 - 1s - loss: 0.0163 - mean_absolute_error: 0.0989 - val_loss: 0.0249 - val_mean_absolute_error: 0.1018 - 963ms/epoch - 57ms/step\n",
            "Epoch 45/100\n",
            "17/17 - 1s - loss: 0.0156 - mean_absolute_error: 0.0951 - val_loss: 0.0353 - val_mean_absolute_error: 0.1414 - 891ms/epoch - 52ms/step\n",
            "Epoch 46/100\n",
            "17/17 - 1s - loss: 0.0177 - mean_absolute_error: 0.0959 - val_loss: 0.0274 - val_mean_absolute_error: 0.1121 - 834ms/epoch - 49ms/step\n",
            "Epoch 47/100\n",
            "17/17 - 1s - loss: 0.0151 - mean_absolute_error: 0.0939 - val_loss: 0.0182 - val_mean_absolute_error: 0.0855 - 803ms/epoch - 47ms/step\n",
            "Epoch 48/100\n",
            "17/17 - 1s - loss: 0.0153 - mean_absolute_error: 0.0908 - val_loss: 0.0238 - val_mean_absolute_error: 0.1143 - 892ms/epoch - 52ms/step\n",
            "Epoch 49/100\n",
            "17/17 - 1s - loss: 0.0147 - mean_absolute_error: 0.0939 - val_loss: 0.0381 - val_mean_absolute_error: 0.1206 - 863ms/epoch - 51ms/step\n",
            "Epoch 50/100\n",
            "17/17 - 1s - loss: 0.0142 - mean_absolute_error: 0.0894 - val_loss: 0.0291 - val_mean_absolute_error: 0.1230 - 815ms/epoch - 48ms/step\n",
            "Epoch 51/100\n",
            "17/17 - 1s - loss: 0.0173 - mean_absolute_error: 0.0990 - val_loss: 0.0426 - val_mean_absolute_error: 0.1644 - 908ms/epoch - 53ms/step\n",
            "Epoch 52/100\n",
            "17/17 - 1s - loss: 0.0169 - mean_absolute_error: 0.1010 - val_loss: 0.0214 - val_mean_absolute_error: 0.0913 - 883ms/epoch - 52ms/step\n",
            "Epoch 53/100\n",
            "17/17 - 1s - loss: 0.0143 - mean_absolute_error: 0.0901 - val_loss: 0.0257 - val_mean_absolute_error: 0.1242 - 871ms/epoch - 51ms/step\n",
            "Epoch 54/100\n",
            "17/17 - 1s - loss: 0.0262 - mean_absolute_error: 0.1092 - val_loss: 0.0461 - val_mean_absolute_error: 0.1523 - 856ms/epoch - 50ms/step\n",
            "Epoch 55/100\n",
            "17/17 - 1s - loss: 0.0173 - mean_absolute_error: 0.0961 - val_loss: 0.0277 - val_mean_absolute_error: 0.1204 - 830ms/epoch - 49ms/step\n",
            "Epoch 56/100\n",
            "17/17 - 1s - loss: 0.0137 - mean_absolute_error: 0.0875 - val_loss: 0.0191 - val_mean_absolute_error: 0.0904 - 814ms/epoch - 48ms/step\n",
            "Epoch 57/100\n",
            "17/17 - 1s - loss: 0.0124 - mean_absolute_error: 0.0776 - val_loss: 0.0264 - val_mean_absolute_error: 0.1178 - 809ms/epoch - 48ms/step\n",
            "Epoch 58/100\n",
            "17/17 - 1s - loss: 0.0136 - mean_absolute_error: 0.0816 - val_loss: 0.0207 - val_mean_absolute_error: 0.0954 - 865ms/epoch - 51ms/step\n",
            "Epoch 59/100\n",
            "17/17 - 1s - loss: 0.0105 - mean_absolute_error: 0.0748 - val_loss: 0.0223 - val_mean_absolute_error: 0.1070 - 871ms/epoch - 51ms/step\n",
            "Epoch 60/100\n",
            "17/17 - 1s - loss: 0.0095 - mean_absolute_error: 0.0703 - val_loss: 0.0280 - val_mean_absolute_error: 0.1158 - 855ms/epoch - 50ms/step\n",
            "Epoch 61/100\n",
            "17/17 - 1s - loss: 0.0100 - mean_absolute_error: 0.0691 - val_loss: 0.0268 - val_mean_absolute_error: 0.1116 - 817ms/epoch - 48ms/step\n",
            "Epoch 62/100\n",
            "17/17 - 1s - loss: 0.0102 - mean_absolute_error: 0.0737 - val_loss: 0.0251 - val_mean_absolute_error: 0.1137 - 808ms/epoch - 48ms/step\n",
            "Epoch 63/100\n",
            "17/17 - 1s - loss: 0.0115 - mean_absolute_error: 0.0761 - val_loss: 0.0336 - val_mean_absolute_error: 0.1293 - 807ms/epoch - 47ms/step\n",
            "Epoch 64/100\n",
            "17/17 - 1s - loss: 0.0101 - mean_absolute_error: 0.0766 - val_loss: 0.0230 - val_mean_absolute_error: 0.1001 - 854ms/epoch - 50ms/step\n",
            "Epoch 65/100\n",
            "17/17 - 1s - loss: 0.0110 - mean_absolute_error: 0.0764 - val_loss: 0.0340 - val_mean_absolute_error: 0.1281 - 863ms/epoch - 51ms/step\n",
            "Epoch 66/100\n",
            "17/17 - 1s - loss: 0.0186 - mean_absolute_error: 0.0928 - val_loss: 0.0237 - val_mean_absolute_error: 0.1059 - 896ms/epoch - 53ms/step\n",
            "Epoch 67/100\n",
            "17/17 - 1s - loss: 0.0153 - mean_absolute_error: 0.0879 - val_loss: 0.0237 - val_mean_absolute_error: 0.1214 - 879ms/epoch - 52ms/step\n",
            "Epoch 68/100\n",
            "17/17 - 1s - loss: 0.0143 - mean_absolute_error: 0.0879 - val_loss: 0.0229 - val_mean_absolute_error: 0.1054 - 872ms/epoch - 51ms/step\n",
            "Epoch 69/100\n",
            "17/17 - 1s - loss: 0.0143 - mean_absolute_error: 0.0877 - val_loss: 0.0238 - val_mean_absolute_error: 0.1032 - 887ms/epoch - 52ms/step\n",
            "Epoch 70/100\n",
            "17/17 - 1s - loss: 0.0145 - mean_absolute_error: 0.0873 - val_loss: 0.0373 - val_mean_absolute_error: 0.1469 - 826ms/epoch - 49ms/step\n",
            "Epoch 71/100\n",
            "17/17 - 1s - loss: 0.0115 - mean_absolute_error: 0.0797 - val_loss: 0.0177 - val_mean_absolute_error: 0.1001 - 891ms/epoch - 52ms/step\n",
            "Epoch 72/100\n",
            "17/17 - 1s - loss: 0.0108 - mean_absolute_error: 0.0751 - val_loss: 0.0199 - val_mean_absolute_error: 0.1014 - 900ms/epoch - 53ms/step\n",
            "Epoch 73/100\n",
            "17/17 - 1s - loss: 0.0117 - mean_absolute_error: 0.0761 - val_loss: 0.0182 - val_mean_absolute_error: 0.1036 - 817ms/epoch - 48ms/step\n",
            "Epoch 74/100\n",
            "17/17 - 1s - loss: 0.0089 - mean_absolute_error: 0.0688 - val_loss: 0.0223 - val_mean_absolute_error: 0.1071 - 836ms/epoch - 49ms/step\n",
            "Epoch 75/100\n",
            "17/17 - 1s - loss: 0.0088 - mean_absolute_error: 0.0691 - val_loss: 0.0285 - val_mean_absolute_error: 0.1268 - 1s/epoch - 59ms/step\n",
            "Epoch 76/100\n",
            "17/17 - 1s - loss: 0.0090 - mean_absolute_error: 0.0707 - val_loss: 0.0165 - val_mean_absolute_error: 0.0942 - 1s/epoch - 65ms/step\n",
            "Epoch 77/100\n",
            "17/17 - 1s - loss: 0.0181 - mean_absolute_error: 0.0943 - val_loss: 0.0216 - val_mean_absolute_error: 0.0972 - 970ms/epoch - 57ms/step\n",
            "Epoch 78/100\n",
            "17/17 - 1s - loss: 0.0170 - mean_absolute_error: 0.0952 - val_loss: 0.0174 - val_mean_absolute_error: 0.0934 - 938ms/epoch - 55ms/step\n",
            "Epoch 79/100\n",
            "17/17 - 2s - loss: 0.0149 - mean_absolute_error: 0.0890 - val_loss: 0.0305 - val_mean_absolute_error: 0.1164 - 2s/epoch - 89ms/step\n",
            "Epoch 80/100\n",
            "17/17 - 2s - loss: 0.0108 - mean_absolute_error: 0.0774 - val_loss: 0.0224 - val_mean_absolute_error: 0.1025 - 2s/epoch - 116ms/step\n",
            "Epoch 81/100\n",
            "17/17 - 2s - loss: 0.0103 - mean_absolute_error: 0.0748 - val_loss: 0.0238 - val_mean_absolute_error: 0.1108 - 2s/epoch - 110ms/step\n",
            "Epoch 82/100\n",
            "17/17 - 1s - loss: 0.0127 - mean_absolute_error: 0.0825 - val_loss: 0.0197 - val_mean_absolute_error: 0.1013 - 891ms/epoch - 52ms/step\n",
            "Epoch 83/100\n",
            "17/17 - 1s - loss: 0.0175 - mean_absolute_error: 0.0998 - val_loss: 0.0239 - val_mean_absolute_error: 0.1055 - 888ms/epoch - 52ms/step\n",
            "Epoch 84/100\n",
            "17/17 - 1s - loss: 0.0198 - mean_absolute_error: 0.0956 - val_loss: 0.0454 - val_mean_absolute_error: 0.1713 - 885ms/epoch - 52ms/step\n",
            "Epoch 85/100\n",
            "17/17 - 1s - loss: 0.0159 - mean_absolute_error: 0.0936 - val_loss: 0.0165 - val_mean_absolute_error: 0.0942 - 897ms/epoch - 53ms/step\n",
            "Epoch 86/100\n",
            "17/17 - 1s - loss: 0.0108 - mean_absolute_error: 0.0751 - val_loss: 0.0241 - val_mean_absolute_error: 0.1103 - 872ms/epoch - 51ms/step\n",
            "Epoch 87/100\n",
            "17/17 - 1s - loss: 0.0097 - mean_absolute_error: 0.0733 - val_loss: 0.0162 - val_mean_absolute_error: 0.1046 - 970ms/epoch - 57ms/step\n",
            "Epoch 88/100\n",
            "17/17 - 1s - loss: 0.0104 - mean_absolute_error: 0.0724 - val_loss: 0.0175 - val_mean_absolute_error: 0.0954 - 888ms/epoch - 52ms/step\n",
            "Epoch 89/100\n",
            "17/17 - 1s - loss: 0.0081 - mean_absolute_error: 0.0650 - val_loss: 0.0248 - val_mean_absolute_error: 0.1063 - 864ms/epoch - 51ms/step\n",
            "Epoch 90/100\n",
            "17/17 - 1s - loss: 0.0114 - mean_absolute_error: 0.0789 - val_loss: 0.0225 - val_mean_absolute_error: 0.0989 - 859ms/epoch - 51ms/step\n",
            "Epoch 91/100\n",
            "17/17 - 1s - loss: 0.0118 - mean_absolute_error: 0.0795 - val_loss: 0.0225 - val_mean_absolute_error: 0.1109 - 888ms/epoch - 52ms/step\n",
            "Epoch 92/100\n",
            "17/17 - 1s - loss: 0.0095 - mean_absolute_error: 0.0723 - val_loss: 0.0289 - val_mean_absolute_error: 0.1294 - 888ms/epoch - 52ms/step\n",
            "Epoch 93/100\n",
            "17/17 - 1s - loss: 0.0082 - mean_absolute_error: 0.0663 - val_loss: 0.0156 - val_mean_absolute_error: 0.0970 - 848ms/epoch - 50ms/step\n",
            "Epoch 94/100\n",
            "17/17 - 1s - loss: 0.0084 - mean_absolute_error: 0.0677 - val_loss: 0.0184 - val_mean_absolute_error: 0.1002 - 860ms/epoch - 51ms/step\n",
            "Epoch 95/100\n",
            "17/17 - 1s - loss: 0.0110 - mean_absolute_error: 0.0767 - val_loss: 0.0283 - val_mean_absolute_error: 0.1235 - 844ms/epoch - 50ms/step\n",
            "Epoch 96/100\n",
            "17/17 - 1s - loss: 0.0131 - mean_absolute_error: 0.0882 - val_loss: 0.0295 - val_mean_absolute_error: 0.1390 - 872ms/epoch - 51ms/step\n",
            "Epoch 97/100\n",
            "17/17 - 1s - loss: 0.0120 - mean_absolute_error: 0.0786 - val_loss: 0.0234 - val_mean_absolute_error: 0.1137 - 865ms/epoch - 51ms/step\n",
            "Epoch 98/100\n",
            "17/17 - 1s - loss: 0.0118 - mean_absolute_error: 0.0828 - val_loss: 0.0198 - val_mean_absolute_error: 0.0937 - 912ms/epoch - 54ms/step\n",
            "Epoch 99/100\n",
            "17/17 - 1s - loss: 0.0206 - mean_absolute_error: 0.0995 - val_loss: 0.0394 - val_mean_absolute_error: 0.1319 - 1s/epoch - 59ms/step\n",
            "Epoch 100/100\n",
            "17/17 - 1s - loss: 0.0137 - mean_absolute_error: 0.0870 - val_loss: 0.0348 - val_mean_absolute_error: 0.1434 - 995ms/epoch - 59ms/step\n"
          ]
        }
      ],
      "source": [
        "# Create RNN model\n",
        "model = Sequential()\n",
        "model.add(SimpleRNN(128, activation='relu',\n",
        "                    input_shape=(None, 1)))\n",
        "model.add(Dense(1, activation='linear'))\n",
        "model.compile(loss='mean_squared_error', optimizer = 'adam',\n",
        "              metrics =['mean_absolute_error'])\n",
        "model.summary()\n",
        "history = model.fit(train_X, train_y,\n",
        "                    validation_data\n",
        "                    = (test_X, test_y), epochs=EPOCHS,\n",
        "                    batch_size=BATCH_SIZE, verbose=2,\n",
        "                    shuffle=True)\n"
      ]
    },
    {
      "cell_type": "markdown",
      "metadata": {
        "id": "q9dC8qHcp-vA"
      },
      "source": [
        "For comparison, create naive predictions based on standardized data."
      ]
    },
    {
      "cell_type": "code",
      "execution_count": 9,
      "metadata": {
        "id": "P4subFw5p-vA",
        "outputId": "3b240a60-ef29-47f0-ac80-e939ae821be0",
        "colab": {
          "base_uri": "https://localhost:8080/"
        }
      },
      "outputs": [
        {
          "output_type": "stream",
          "name": "stdout",
          "text": [
            "naive test mse:  0.6334499\n",
            "naive test mean abs:  0.56117445\n"
          ]
        }
      ],
      "source": [
        "# Create naive prediction based on standardized data.\n",
        "test_output = test_sales_std[MIN:]\n",
        "naive_prediction = test_sales_std[MIN-1:-1]\n",
        "mean_squared_error = np.mean(np.square(naive_prediction\n",
        "                                       - test_output))\n",
        "mean_abs_error = np.mean(np.abs(naive_prediction\n",
        "                                - test_output))\n",
        "print('naive test mse: ', mean_squared_error)\n",
        "print('naive test mean abs: ', mean_abs_error)\n"
      ]
    },
    {
      "cell_type": "markdown",
      "metadata": {
        "id": "Tz_0pc10p-vA"
      },
      "source": [
        "To shed some light on how this affects the end behavior, let us use our newly trained model to do some predictions and then plot these predictions next to the actual values. The code snippet below demonstrates how this can be done. We first call model.predict with the test input as argument. The second argument is the batch size, and we state the length of the input tensor as the batch size (i.e., we ask it to do a prediction for all the input examples in parallel). During training, the batch size will affect the result, but for prediction, it should not affect anything except for possibly runtime. We could just as well have used 16 or 32 or some other value. The model will return a 2D array with the output values. Because each output value is a single value, a 1D array works just as well, and that is the format we want in order to enable plotting the data, so we call np.reshape to change the dimensions of the array. The network works with standardized data, so the output will not represent demand directly. We must first destandardize the data by doing the reverse operation compared to the standardization. That is, we multiply by the standard deviation and add the mean. We then plot the data."
      ]
    },
    {
      "cell_type": "code",
      "execution_count": 10,
      "metadata": {
        "id": "vAj-FBx8p-vB",
        "outputId": "75355ff5-e66d-46c2-c6d6-7554be614f9e",
        "colab": {
          "base_uri": "https://localhost:8080/",
          "height": 314
        }
      },
      "outputs": [
        {
          "output_type": "stream",
          "name": "stdout",
          "text": [
            "1/1 [==============================] - 0s 246ms/step\n"
          ]
        },
        {
          "output_type": "display_data",
          "data": {
            "text/plain": [
              "<Figure size 432x288 with 1 Axes>"
            ],
            "image/png": "[encoded data removed]"
          },
          "metadata": {
            "needs_background": "light"
          }
        }
      ],
      "source": [
        "# Use trained model to predict the test data\n",
        "predicted_test = model.predict(test_X, len(test_X))\n",
        "predicted_test = np.reshape(predicted_test,\n",
        "                            (len(predicted_test)))\n",
        "predicted_test = predicted_test * stddev + mean\n",
        "\n",
        "# Plot test prediction.\n",
        "x = range(len(test_sales)-MIN)\n",
        "plt.plot(x, predicted_test, 'm-',\n",
        "         label='predicted test_output')\n",
        "plt.plot(x, test_sales[-(len(test_sales)-MIN):],\n",
        "         'g-', label='actual test_output')\n",
        "plt.title('Book sales')\n",
        "plt.axis([0, 55, 0.0, 3000.0])\n",
        "plt.xlabel('months')\n",
        "plt.ylabel('Predicted book sales')\n",
        "plt.legend()\n",
        "plt.show()\n"
      ]
    },
    {
      "cell_type": "markdown",
      "source": [
        "## Add Code Snipper 9-9"
      ],
      "metadata": {
        "id": "7Kk8rdGVfl7C"
      }
    },
    {
      "cell_type": "code",
      "source": [
        "from matplotlib.cbook import flatten\n",
        "# Create training examples.\n",
        "train_X2 = train_X[:, (train_months - 13):, :]\n",
        "test_X2 = test_X[:, (test_months - 13):, :]\n",
        "\n",
        "# Create Dense model\n",
        "model2 = Sequential()\n",
        "model2.add(Flatten(input_shape=(12, 1)))\n",
        "model2.add(Dense(1, activation='linear'))\n",
        "model2.compile(loss='mean_squared_error', optimizer = 'adam',\n",
        "              metrics =['mean_absolute_error'])\n",
        "model2.summary()\n",
        "history = model2.fit(train_X2, train_y,\n",
        "                    validation_data\n",
        "                    = (test_X2, test_y), epochs=EPOCHS,\n",
        "                    batch_size=BATCH_SIZE, verbose=2,\n",
        "                    shuffle=True)\n",
        "\n",
        "# Use trained model to predict the test data\n",
        "#predicted_test2 = model2.predict(test_X2, test_X2.shape[0])\n",
        "predicted_test2 = model.predict(test_X2, len(test_X2))\n",
        "predicted_test2 = np.reshape(predicted_test2,\n",
        "                            (len(predicted_test2)))\n",
        "predicted_test2 = predicted_test2 * stddev + mean\n",
        "\n",
        "# Plot test prediction.\n",
        "x = range(len(test_sales)-MIN)\n",
        "plt.plot(x, predicted_test2, 'm-',\n",
        "         label='predicted test_output')\n",
        "plt.plot(x, test_sales[-(len(test_sales)-MIN):],\n",
        "         'g-', label='actual test_output')\n",
        "plt.title('Book sales')\n",
        "plt.axis([0, 55, 0.0, 3000.0])\n",
        "plt.xlabel('months')\n",
        "plt.ylabel('Predicted book sales')\n",
        "plt.legend()\n",
        "plt.show()"
      ],
      "metadata": {
        "id": "FnMl6ZemfpSE",
        "outputId": "91bafaf7-ca04-4571-ac17-c11508d04595",
        "colab": {
          "base_uri": "https://localhost:8080/",
          "height": 1000
        }
      },
      "execution_count": 11,
      "outputs": [
        {
          "output_type": "stream",
          "name": "stdout",
          "text": [
            "Model: \"sequential_1\"\n",
            "_________________________________________________________________\n",
            " Layer (type)                Output Shape              Param #   \n",
            "=================================================================\n",
            " flatten (Flatten)           (None, 12)                0         \n",
            "                                                                 \n",
            " dense_1 (Dense)             (None, 1)                 13        \n",
            "                                                                 \n",
            "=================================================================\n",
            "Total params: 13\n",
            "Trainable params: 13\n",
            "Non-trainable params: 0\n",
            "_________________________________________________________________\n",
            "Epoch 1/100\n",
            "17/17 - 1s - loss: 3.1611 - mean_absolute_error: 1.4544 - val_loss: 3.3047 - val_mean_absolute_error: 1.5556 - 551ms/epoch - 32ms/step\n",
            "Epoch 2/100\n",
            "17/17 - 0s - loss: 2.9833 - mean_absolute_error: 1.4129 - val_loss: 3.0908 - val_mean_absolute_error: 1.5014 - 75ms/epoch - 4ms/step\n",
            "Epoch 3/100\n",
            "17/17 - 0s - loss: 2.8251 - mean_absolute_error: 1.3743 - val_loss: 2.8730 - val_mean_absolute_error: 1.4430 - 86ms/epoch - 5ms/step\n",
            "Epoch 4/100\n",
            "17/17 - 0s - loss: 2.6745 - mean_absolute_error: 1.3361 - val_loss: 2.6796 - val_mean_absolute_error: 1.3902 - 83ms/epoch - 5ms/step\n",
            "Epoch 5/100\n",
            "17/17 - 0s - loss: 2.5333 - mean_absolute_error: 1.2991 - val_loss: 2.4791 - val_mean_absolute_error: 1.3313 - 90ms/epoch - 5ms/step\n",
            "Epoch 6/100\n",
            "17/17 - 0s - loss: 2.4028 - mean_absolute_error: 1.2620 - val_loss: 2.3091 - val_mean_absolute_error: 1.2807 - 87ms/epoch - 5ms/step\n",
            "Epoch 7/100\n",
            "17/17 - 0s - loss: 2.2731 - mean_absolute_error: 1.2263 - val_loss: 2.1477 - val_mean_absolute_error: 1.2306 - 97ms/epoch - 6ms/step\n",
            "Epoch 8/100\n",
            "17/17 - 0s - loss: 2.1523 - mean_absolute_error: 1.1910 - val_loss: 2.0037 - val_mean_absolute_error: 1.1853 - 81ms/epoch - 5ms/step\n",
            "Epoch 9/100\n",
            "17/17 - 0s - loss: 2.0415 - mean_absolute_error: 1.1578 - val_loss: 1.8737 - val_mean_absolute_error: 1.1426 - 91ms/epoch - 5ms/step\n",
            "Epoch 10/100\n",
            "17/17 - 0s - loss: 1.9352 - mean_absolute_error: 1.1269 - val_loss: 1.7593 - val_mean_absolute_error: 1.1029 - 87ms/epoch - 5ms/step\n",
            "Epoch 11/100\n",
            "17/17 - 0s - loss: 1.8384 - mean_absolute_error: 1.0961 - val_loss: 1.6532 - val_mean_absolute_error: 1.0668 - 93ms/epoch - 5ms/step\n",
            "Epoch 12/100\n",
            "17/17 - 0s - loss: 1.7464 - mean_absolute_error: 1.0672 - val_loss: 1.5460 - val_mean_absolute_error: 1.0277 - 87ms/epoch - 5ms/step\n",
            "Epoch 13/100\n",
            "17/17 - 0s - loss: 1.6574 - mean_absolute_error: 1.0381 - val_loss: 1.4488 - val_mean_absolute_error: 0.9905 - 96ms/epoch - 6ms/step\n",
            "Epoch 14/100\n",
            "17/17 - 0s - loss: 1.5804 - mean_absolute_error: 1.0116 - val_loss: 1.3653 - val_mean_absolute_error: 0.9586 - 68ms/epoch - 4ms/step\n",
            "Epoch 15/100\n",
            "17/17 - 0s - loss: 1.5028 - mean_absolute_error: 0.9855 - val_loss: 1.2675 - val_mean_absolute_error: 0.9186 - 87ms/epoch - 5ms/step\n",
            "Epoch 16/100\n",
            "17/17 - 0s - loss: 1.4291 - mean_absolute_error: 0.9596 - val_loss: 1.1870 - val_mean_absolute_error: 0.8851 - 89ms/epoch - 5ms/step\n",
            "Epoch 17/100\n",
            "17/17 - 0s - loss: 1.3639 - mean_absolute_error: 0.9358 - val_loss: 1.1219 - val_mean_absolute_error: 0.8589 - 68ms/epoch - 4ms/step\n",
            "Epoch 18/100\n",
            "17/17 - 0s - loss: 1.3007 - mean_absolute_error: 0.9124 - val_loss: 1.0553 - val_mean_absolute_error: 0.8307 - 65ms/epoch - 4ms/step\n",
            "Epoch 19/100\n",
            "17/17 - 0s - loss: 1.2396 - mean_absolute_error: 0.8898 - val_loss: 0.9972 - val_mean_absolute_error: 0.8060 - 79ms/epoch - 5ms/step\n",
            "Epoch 20/100\n",
            "17/17 - 0s - loss: 1.1814 - mean_absolute_error: 0.8681 - val_loss: 0.9363 - val_mean_absolute_error: 0.7798 - 66ms/epoch - 4ms/step\n",
            "Epoch 21/100\n",
            "17/17 - 0s - loss: 1.1278 - mean_absolute_error: 0.8475 - val_loss: 0.8774 - val_mean_absolute_error: 0.7530 - 85ms/epoch - 5ms/step\n",
            "Epoch 22/100\n",
            "17/17 - 0s - loss: 1.0783 - mean_absolute_error: 0.8277 - val_loss: 0.8239 - val_mean_absolute_error: 0.7282 - 89ms/epoch - 5ms/step\n",
            "Epoch 23/100\n",
            "17/17 - 0s - loss: 1.0296 - mean_absolute_error: 0.8095 - val_loss: 0.7805 - val_mean_absolute_error: 0.7086 - 103ms/epoch - 6ms/step\n",
            "Epoch 24/100\n",
            "17/17 - 0s - loss: 0.9844 - mean_absolute_error: 0.7920 - val_loss: 0.7386 - val_mean_absolute_error: 0.6885 - 82ms/epoch - 5ms/step\n",
            "Epoch 25/100\n",
            "17/17 - 0s - loss: 0.9452 - mean_absolute_error: 0.7755 - val_loss: 0.6952 - val_mean_absolute_error: 0.6664 - 106ms/epoch - 6ms/step\n",
            "Epoch 26/100\n",
            "17/17 - 0s - loss: 0.9044 - mean_absolute_error: 0.7588 - val_loss: 0.6601 - val_mean_absolute_error: 0.6485 - 84ms/epoch - 5ms/step\n",
            "Epoch 27/100\n",
            "17/17 - 0s - loss: 0.8674 - mean_absolute_error: 0.7436 - val_loss: 0.6257 - val_mean_absolute_error: 0.6310 - 76ms/epoch - 4ms/step\n",
            "Epoch 28/100\n",
            "17/17 - 0s - loss: 0.8321 - mean_absolute_error: 0.7294 - val_loss: 0.5920 - val_mean_absolute_error: 0.6142 - 91ms/epoch - 5ms/step\n",
            "Epoch 29/100\n",
            "17/17 - 0s - loss: 0.7972 - mean_absolute_error: 0.7156 - val_loss: 0.5610 - val_mean_absolute_error: 0.5985 - 83ms/epoch - 5ms/step\n",
            "Epoch 30/100\n",
            "17/17 - 0s - loss: 0.7650 - mean_absolute_error: 0.7023 - val_loss: 0.5287 - val_mean_absolute_error: 0.5821 - 82ms/epoch - 5ms/step\n",
            "Epoch 31/100\n",
            "17/17 - 0s - loss: 0.7326 - mean_absolute_error: 0.6884 - val_loss: 0.5000 - val_mean_absolute_error: 0.5674 - 87ms/epoch - 5ms/step\n",
            "Epoch 32/100\n",
            "17/17 - 0s - loss: 0.7036 - mean_absolute_error: 0.6762 - val_loss: 0.4767 - val_mean_absolute_error: 0.5562 - 89ms/epoch - 5ms/step\n",
            "Epoch 33/100\n",
            "17/17 - 0s - loss: 0.6760 - mean_absolute_error: 0.6641 - val_loss: 0.4528 - val_mean_absolute_error: 0.5441 - 132ms/epoch - 8ms/step\n",
            "Epoch 34/100\n",
            "17/17 - 0s - loss: 0.6489 - mean_absolute_error: 0.6513 - val_loss: 0.4291 - val_mean_absolute_error: 0.5314 - 107ms/epoch - 6ms/step\n",
            "Epoch 35/100\n",
            "17/17 - 0s - loss: 0.6228 - mean_absolute_error: 0.6392 - val_loss: 0.4117 - val_mean_absolute_error: 0.5213 - 88ms/epoch - 5ms/step\n",
            "Epoch 36/100\n",
            "17/17 - 0s - loss: 0.5995 - mean_absolute_error: 0.6279 - val_loss: 0.3917 - val_mean_absolute_error: 0.5096 - 110ms/epoch - 6ms/step\n",
            "Epoch 37/100\n",
            "17/17 - 0s - loss: 0.5775 - mean_absolute_error: 0.6174 - val_loss: 0.3713 - val_mean_absolute_error: 0.4974 - 87ms/epoch - 5ms/step\n",
            "Epoch 38/100\n",
            "17/17 - 0s - loss: 0.5558 - mean_absolute_error: 0.6073 - val_loss: 0.3537 - val_mean_absolute_error: 0.4862 - 112ms/epoch - 7ms/step\n",
            "Epoch 39/100\n",
            "17/17 - 0s - loss: 0.5360 - mean_absolute_error: 0.5973 - val_loss: 0.3382 - val_mean_absolute_error: 0.4760 - 108ms/epoch - 6ms/step\n",
            "Epoch 40/100\n",
            "17/17 - 0s - loss: 0.5163 - mean_absolute_error: 0.5875 - val_loss: 0.3217 - val_mean_absolute_error: 0.4656 - 108ms/epoch - 6ms/step\n",
            "Epoch 41/100\n",
            "17/17 - 0s - loss: 0.4983 - mean_absolute_error: 0.5783 - val_loss: 0.3072 - val_mean_absolute_error: 0.4560 - 108ms/epoch - 6ms/step\n",
            "Epoch 42/100\n",
            "17/17 - 0s - loss: 0.4812 - mean_absolute_error: 0.5691 - val_loss: 0.2921 - val_mean_absolute_error: 0.4456 - 97ms/epoch - 6ms/step\n",
            "Epoch 43/100\n",
            "17/17 - 0s - loss: 0.4648 - mean_absolute_error: 0.5600 - val_loss: 0.2807 - val_mean_absolute_error: 0.4376 - 114ms/epoch - 7ms/step\n",
            "Epoch 44/100\n",
            "17/17 - 0s - loss: 0.4486 - mean_absolute_error: 0.5506 - val_loss: 0.2679 - val_mean_absolute_error: 0.4279 - 113ms/epoch - 7ms/step\n",
            "Epoch 45/100\n",
            "17/17 - 0s - loss: 0.4331 - mean_absolute_error: 0.5415 - val_loss: 0.2567 - val_mean_absolute_error: 0.4190 - 113ms/epoch - 7ms/step\n",
            "Epoch 46/100\n",
            "17/17 - 0s - loss: 0.4190 - mean_absolute_error: 0.5329 - val_loss: 0.2470 - val_mean_absolute_error: 0.4116 - 75ms/epoch - 4ms/step\n",
            "Epoch 47/100\n",
            "17/17 - 0s - loss: 0.4051 - mean_absolute_error: 0.5245 - val_loss: 0.2365 - val_mean_absolute_error: 0.4033 - 82ms/epoch - 5ms/step\n",
            "Epoch 48/100\n",
            "17/17 - 0s - loss: 0.3917 - mean_absolute_error: 0.5162 - val_loss: 0.2258 - val_mean_absolute_error: 0.3947 - 82ms/epoch - 5ms/step\n",
            "Epoch 49/100\n",
            "17/17 - 0s - loss: 0.3773 - mean_absolute_error: 0.5072 - val_loss: 0.2194 - val_mean_absolute_error: 0.3892 - 66ms/epoch - 4ms/step\n",
            "Epoch 50/100\n",
            "17/17 - 0s - loss: 0.3642 - mean_absolute_error: 0.4988 - val_loss: 0.2139 - val_mean_absolute_error: 0.3844 - 71ms/epoch - 4ms/step\n",
            "Epoch 51/100\n",
            "17/17 - 0s - loss: 0.3529 - mean_absolute_error: 0.4914 - val_loss: 0.2074 - val_mean_absolute_error: 0.3786 - 77ms/epoch - 5ms/step\n",
            "Epoch 52/100\n",
            "17/17 - 0s - loss: 0.3414 - mean_absolute_error: 0.4839 - val_loss: 0.1979 - val_mean_absolute_error: 0.3701 - 66ms/epoch - 4ms/step\n",
            "Epoch 53/100\n",
            "17/17 - 0s - loss: 0.3305 - mean_absolute_error: 0.4765 - val_loss: 0.1929 - val_mean_absolute_error: 0.3650 - 52ms/epoch - 3ms/step\n",
            "Epoch 54/100\n",
            "17/17 - 0s - loss: 0.3203 - mean_absolute_error: 0.4695 - val_loss: 0.1849 - val_mean_absolute_error: 0.3575 - 50ms/epoch - 3ms/step\n",
            "Epoch 55/100\n",
            "17/17 - 0s - loss: 0.3109 - mean_absolute_error: 0.4626 - val_loss: 0.1788 - val_mean_absolute_error: 0.3520 - 49ms/epoch - 3ms/step\n",
            "Epoch 56/100\n",
            "17/17 - 0s - loss: 0.3012 - mean_absolute_error: 0.4557 - val_loss: 0.1713 - val_mean_absolute_error: 0.3447 - 52ms/epoch - 3ms/step\n",
            "Epoch 57/100\n",
            "17/17 - 0s - loss: 0.2918 - mean_absolute_error: 0.4490 - val_loss: 0.1637 - val_mean_absolute_error: 0.3374 - 50ms/epoch - 3ms/step\n",
            "Epoch 58/100\n",
            "17/17 - 0s - loss: 0.2833 - mean_absolute_error: 0.4426 - val_loss: 0.1567 - val_mean_absolute_error: 0.3304 - 52ms/epoch - 3ms/step\n",
            "Epoch 59/100\n",
            "17/17 - 0s - loss: 0.2748 - mean_absolute_error: 0.4362 - val_loss: 0.1537 - val_mean_absolute_error: 0.3269 - 62ms/epoch - 4ms/step\n",
            "Epoch 60/100\n",
            "17/17 - 0s - loss: 0.2668 - mean_absolute_error: 0.4298 - val_loss: 0.1486 - val_mean_absolute_error: 0.3218 - 69ms/epoch - 4ms/step\n",
            "Epoch 61/100\n",
            "17/17 - 0s - loss: 0.2591 - mean_absolute_error: 0.4234 - val_loss: 0.1443 - val_mean_absolute_error: 0.3169 - 50ms/epoch - 3ms/step\n",
            "Epoch 62/100\n",
            "17/17 - 0s - loss: 0.2518 - mean_absolute_error: 0.4177 - val_loss: 0.1400 - val_mean_absolute_error: 0.3120 - 65ms/epoch - 4ms/step\n",
            "Epoch 63/100\n",
            "17/17 - 0s - loss: 0.2448 - mean_absolute_error: 0.4121 - val_loss: 0.1339 - val_mean_absolute_error: 0.3050 - 69ms/epoch - 4ms/step\n",
            "Epoch 64/100\n",
            "17/17 - 0s - loss: 0.2384 - mean_absolute_error: 0.4067 - val_loss: 0.1288 - val_mean_absolute_error: 0.2988 - 54ms/epoch - 3ms/step\n",
            "Epoch 65/100\n",
            "17/17 - 0s - loss: 0.2317 - mean_absolute_error: 0.4012 - val_loss: 0.1248 - val_mean_absolute_error: 0.2938 - 63ms/epoch - 4ms/step\n",
            "Epoch 66/100\n",
            "17/17 - 0s - loss: 0.2254 - mean_absolute_error: 0.3959 - val_loss: 0.1208 - val_mean_absolute_error: 0.2892 - 56ms/epoch - 3ms/step\n",
            "Epoch 67/100\n",
            "17/17 - 0s - loss: 0.2195 - mean_absolute_error: 0.3904 - val_loss: 0.1164 - val_mean_absolute_error: 0.2839 - 55ms/epoch - 3ms/step\n",
            "Epoch 68/100\n",
            "17/17 - 0s - loss: 0.2137 - mean_absolute_error: 0.3853 - val_loss: 0.1122 - val_mean_absolute_error: 0.2787 - 51ms/epoch - 3ms/step\n",
            "Epoch 69/100\n",
            "17/17 - 0s - loss: 0.2076 - mean_absolute_error: 0.3798 - val_loss: 0.1077 - val_mean_absolute_error: 0.2728 - 65ms/epoch - 4ms/step\n",
            "Epoch 70/100\n",
            "17/17 - 0s - loss: 0.2022 - mean_absolute_error: 0.3750 - val_loss: 0.1029 - val_mean_absolute_error: 0.2667 - 52ms/epoch - 3ms/step\n",
            "Epoch 71/100\n",
            "17/17 - 0s - loss: 0.1966 - mean_absolute_error: 0.3697 - val_loss: 0.0993 - val_mean_absolute_error: 0.2620 - 55ms/epoch - 3ms/step\n",
            "Epoch 72/100\n",
            "17/17 - 0s - loss: 0.1919 - mean_absolute_error: 0.3652 - val_loss: 0.0972 - val_mean_absolute_error: 0.2585 - 50ms/epoch - 3ms/step\n",
            "Epoch 73/100\n",
            "17/17 - 0s - loss: 0.1873 - mean_absolute_error: 0.3605 - val_loss: 0.0943 - val_mean_absolute_error: 0.2544 - 51ms/epoch - 3ms/step\n",
            "Epoch 74/100\n",
            "17/17 - 0s - loss: 0.1829 - mean_absolute_error: 0.3560 - val_loss: 0.0914 - val_mean_absolute_error: 0.2504 - 57ms/epoch - 3ms/step\n",
            "Epoch 75/100\n",
            "17/17 - 0s - loss: 0.1787 - mean_absolute_error: 0.3520 - val_loss: 0.0892 - val_mean_absolute_error: 0.2470 - 49ms/epoch - 3ms/step\n",
            "Epoch 76/100\n",
            "17/17 - 0s - loss: 0.1747 - mean_absolute_error: 0.3475 - val_loss: 0.0862 - val_mean_absolute_error: 0.2428 - 71ms/epoch - 4ms/step\n",
            "Epoch 77/100\n",
            "17/17 - 0s - loss: 0.1707 - mean_absolute_error: 0.3431 - val_loss: 0.0847 - val_mean_absolute_error: 0.2406 - 66ms/epoch - 4ms/step\n",
            "Epoch 78/100\n",
            "17/17 - 0s - loss: 0.1668 - mean_absolute_error: 0.3391 - val_loss: 0.0835 - val_mean_absolute_error: 0.2386 - 59ms/epoch - 3ms/step\n",
            "Epoch 79/100\n",
            "17/17 - 0s - loss: 0.1630 - mean_absolute_error: 0.3350 - val_loss: 0.0825 - val_mean_absolute_error: 0.2366 - 48ms/epoch - 3ms/step\n",
            "Epoch 80/100\n",
            "17/17 - 0s - loss: 0.1593 - mean_absolute_error: 0.3310 - val_loss: 0.0805 - val_mean_absolute_error: 0.2337 - 65ms/epoch - 4ms/step\n",
            "Epoch 81/100\n",
            "17/17 - 0s - loss: 0.1562 - mean_absolute_error: 0.3277 - val_loss: 0.0774 - val_mean_absolute_error: 0.2297 - 73ms/epoch - 4ms/step\n",
            "Epoch 82/100\n",
            "17/17 - 0s - loss: 0.1528 - mean_absolute_error: 0.3239 - val_loss: 0.0750 - val_mean_absolute_error: 0.2263 - 50ms/epoch - 3ms/step\n",
            "Epoch 83/100\n",
            "17/17 - 0s - loss: 0.1497 - mean_absolute_error: 0.3211 - val_loss: 0.0741 - val_mean_absolute_error: 0.2248 - 54ms/epoch - 3ms/step\n",
            "Epoch 84/100\n",
            "17/17 - 0s - loss: 0.1463 - mean_absolute_error: 0.3177 - val_loss: 0.0726 - val_mean_absolute_error: 0.2221 - 64ms/epoch - 4ms/step\n",
            "Epoch 85/100\n",
            "17/17 - 0s - loss: 0.1436 - mean_absolute_error: 0.3146 - val_loss: 0.0703 - val_mean_absolute_error: 0.2186 - 48ms/epoch - 3ms/step\n",
            "Epoch 86/100\n",
            "17/17 - 0s - loss: 0.1407 - mean_absolute_error: 0.3113 - val_loss: 0.0684 - val_mean_absolute_error: 0.2159 - 62ms/epoch - 4ms/step\n",
            "Epoch 87/100\n",
            "17/17 - 0s - loss: 0.1380 - mean_absolute_error: 0.3081 - val_loss: 0.0681 - val_mean_absolute_error: 0.2152 - 55ms/epoch - 3ms/step\n",
            "Epoch 88/100\n",
            "17/17 - 0s - loss: 0.1354 - mean_absolute_error: 0.3049 - val_loss: 0.0668 - val_mean_absolute_error: 0.2128 - 64ms/epoch - 4ms/step\n",
            "Epoch 89/100\n",
            "17/17 - 0s - loss: 0.1328 - mean_absolute_error: 0.3015 - val_loss: 0.0651 - val_mean_absolute_error: 0.2099 - 56ms/epoch - 3ms/step\n",
            "Epoch 90/100\n",
            "17/17 - 0s - loss: 0.1305 - mean_absolute_error: 0.2985 - val_loss: 0.0646 - val_mean_absolute_error: 0.2085 - 55ms/epoch - 3ms/step\n",
            "Epoch 91/100\n",
            "17/17 - 0s - loss: 0.1282 - mean_absolute_error: 0.2955 - val_loss: 0.0643 - val_mean_absolute_error: 0.2076 - 63ms/epoch - 4ms/step\n",
            "Epoch 92/100\n",
            "17/17 - 0s - loss: 0.1261 - mean_absolute_error: 0.2927 - val_loss: 0.0633 - val_mean_absolute_error: 0.2056 - 72ms/epoch - 4ms/step\n",
            "Epoch 93/100\n",
            "17/17 - 0s - loss: 0.1238 - mean_absolute_error: 0.2896 - val_loss: 0.0617 - val_mean_absolute_error: 0.2029 - 59ms/epoch - 3ms/step\n",
            "Epoch 94/100\n",
            "17/17 - 0s - loss: 0.1219 - mean_absolute_error: 0.2871 - val_loss: 0.0611 - val_mean_absolute_error: 0.2019 - 68ms/epoch - 4ms/step\n",
            "Epoch 95/100\n",
            "17/17 - 0s - loss: 0.1198 - mean_absolute_error: 0.2844 - val_loss: 0.0594 - val_mean_absolute_error: 0.1987 - 83ms/epoch - 5ms/step\n",
            "Epoch 96/100\n",
            "17/17 - 0s - loss: 0.1178 - mean_absolute_error: 0.2815 - val_loss: 0.0587 - val_mean_absolute_error: 0.1973 - 53ms/epoch - 3ms/step\n",
            "Epoch 97/100\n",
            "17/17 - 0s - loss: 0.1162 - mean_absolute_error: 0.2792 - val_loss: 0.0584 - val_mean_absolute_error: 0.1968 - 74ms/epoch - 4ms/step\n",
            "Epoch 98/100\n",
            "17/17 - 0s - loss: 0.1144 - mean_absolute_error: 0.2767 - val_loss: 0.0568 - val_mean_absolute_error: 0.1940 - 58ms/epoch - 3ms/step\n",
            "Epoch 99/100\n",
            "17/17 - 0s - loss: 0.1127 - mean_absolute_error: 0.2744 - val_loss: 0.0566 - val_mean_absolute_error: 0.1935 - 69ms/epoch - 4ms/step\n",
            "Epoch 100/100\n",
            "17/17 - 0s - loss: 0.1109 - mean_absolute_error: 0.2723 - val_loss: 0.0554 - val_mean_absolute_error: 0.1912 - 59ms/epoch - 3ms/step\n",
            "1/1 [==============================] - 0s 147ms/step\n"
          ]
        },
        {
          "output_type": "display_data",
          "data": {
            "text/plain": [
              "<Figure size 432x288 with 1 Axes>"
            ],
            "image/png": "[encoded data removed]"
          },
          "metadata": {
            "needs_background": "light"
          }
        }
      ]
    }
  ],
  "metadata": {
    "kernelspec": {
      "display_name": "Python 3",
      "language": "python",
      "name": "python3"
    },
    "language_info": {
      "codemirror_mode": {
        "name": "ipython",
        "version": 3
      },
      "file_extension": ".py",
      "mimetype": "text/x-python",
      "name": "python",
      "nbconvert_exporter": "python",
      "pygments_lexer": "ipython3",
      "version": "3.8.6"
    },
    "colab": {
      "provenance": [],
      "include_colab_link": true
    }
  },
  "nbformat": 4,
  "nbformat_minor": 0
}