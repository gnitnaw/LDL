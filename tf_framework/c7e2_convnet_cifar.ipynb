{
  "cells": [
    {
      "cell_type": "markdown",
      "metadata": {
        "id": "view-in-github",
        "colab_type": "text"
      },
      "source": [
        "<a href=\"https://colab.research.google.com/github/gnitnaw/LDL/blob/main/tf_framework/c7e2_convnet_cifar.ipynb\" target=\"_parent\"><img src=\"https://colab.research.google.com/assets/colab-badge.svg\" alt=\"Open In Colab\"/></a>"
      ]
    },
    {
      "cell_type": "code",
      "execution_count": 1,
      "metadata": {
        "id": "gB9ymUfLLdI8",
        "outputId": "6d27f38f-a541-44a9-87aa-bbd44d531403",
        "colab": {
          "base_uri": "https://localhost:8080/",
          "height": 111
        }
      },
      "outputs": [
        {
          "output_type": "execute_result",
          "data": {
            "text/plain": [
              "'\\nThe MIT License (MIT)\\nCopyright (c) 2021 NVIDIA\\nPermission is hereby granted, free of charge, to any person obtaining a copy of\\nthis software and associated documentation files (the \"Software\"), to deal in\\nthe Software without restriction, including without limitation the rights to\\nuse, copy, modify, merge, publish, distribute, sublicense, and/or sell copies of\\nthe Software, and to permit persons to whom the Software is furnished to do so,\\nsubject to the following conditions:\\nThe above copyright notice and this permission notice shall be included in all\\ncopies or substantial portions of the Software.\\nTHE SOFTWARE IS PROVIDED \"AS IS\", WITHOUT WARRANTY OF ANY KIND, EXPRESS OR\\nIMPLIED, INCLUDING BUT NOT LIMITED TO THE WARRANTIES OF MERCHANTABILITY, FITNESS\\nFOR A PARTICULAR PURPOSE AND NONINFRINGEMENT. IN NO EVENT SHALL THE AUTHORS OR\\nCOPYRIGHT HOLDERS BE LIABLE FOR ANY CLAIM, DAMAGES OR OTHER LIABILITY, WHETHER\\nIN AN ACTION OF CONTRACT, TORT OR OTHERWISE, ARISING FROM, OUT OF OR IN\\nCONNECTION WITH THE SOFTWARE OR THE USE OR OTHER DEALINGS IN THE SOFTWARE.\\n'"
            ],
            "application/vnd.google.colaboratory.intrinsic+json": {
              "type": "string"
            }
          },
          "metadata": {},
          "execution_count": 1
        }
      ],
      "source": [
        "\"\"\"\n",
        "The MIT License (MIT)\n",
        "Copyright (c) 2021 NVIDIA\n",
        "Permission is hereby granted, free of charge, to any person obtaining a copy of\n",
        "this software and associated documentation files (the \"Software\"), to deal in\n",
        "the Software without restriction, including without limitation the rights to\n",
        "use, copy, modify, merge, publish, distribute, sublicense, and/or sell copies of\n",
        "the Software, and to permit persons to whom the Software is furnished to do so,\n",
        "subject to the following conditions:\n",
        "The above copyright notice and this permission notice shall be included in all\n",
        "copies or substantial portions of the Software.\n",
        "THE SOFTWARE IS PROVIDED \"AS IS\", WITHOUT WARRANTY OF ANY KIND, EXPRESS OR\n",
        "IMPLIED, INCLUDING BUT NOT LIMITED TO THE WARRANTIES OF MERCHANTABILITY, FITNESS\n",
        "FOR A PARTICULAR PURPOSE AND NONINFRINGEMENT. IN NO EVENT SHALL THE AUTHORS OR\n",
        "COPYRIGHT HOLDERS BE LIABLE FOR ANY CLAIM, DAMAGES OR OTHER LIABILITY, WHETHER\n",
        "IN AN ACTION OF CONTRACT, TORT OR OTHERWISE, ARISING FROM, OUT OF OR IN\n",
        "CONNECTION WITH THE SOFTWARE OR THE USE OR OTHER DEALINGS IN THE SOFTWARE.\n",
        "\"\"\"\n"
      ]
    },
    {
      "cell_type": "markdown",
      "metadata": {
        "id": "Ux2aeLARLdI_"
      },
      "source": [
        "This code example demonstrates how to use a convolutional neural network to solve an image classification problem, using the CIFAR-10 dataset. More context for this code example can be found in the section \"Programming Example: Image Classification with a Convolutional Network\" in Chapter 7 in the book Learning Deep Learning by Magnus Ekman (ISBN: 9780137470358).\n"
      ]
    },
    {
      "cell_type": "markdown",
      "metadata": {
        "id": "1I7qRKOzLdJA"
      },
      "source": [
        "The first code snippet shows the initialization code for our CNN program. Among the import statements, we now import a new layer called Conv2D, which is a 2D convolutional layer. We load and standardize the CIFAR-10 dataset."
      ]
    },
    {
      "cell_type": "code",
      "execution_count": 2,
      "metadata": {
        "id": "IcQYHuHWLdJA",
        "outputId": "97ed0035-ffa5-40c8-fff2-54d5490d7a2f",
        "colab": {
          "base_uri": "https://localhost:8080/"
        }
      },
      "outputs": [
        {
          "output_type": "stream",
          "name": "stdout",
          "text": [
            "mean:  120.70756512369792\n",
            "stddev:  64.1500758911213\n"
          ]
        }
      ],
      "source": [
        "import tensorflow as tf\n",
        "from tensorflow import keras\n",
        "from tensorflow.keras.utils import to_categorical\n",
        "from tensorflow.keras.models import Sequential\n",
        "from tensorflow.keras.layers import Dense\n",
        "from tensorflow.keras.layers import Flatten\n",
        "from tensorflow.keras.layers import Conv2D\n",
        "import numpy as np\n",
        "import logging\n",
        "import matplotlib.pyplot as plt\n",
        "\n",
        "tf.get_logger().setLevel(logging.ERROR)\n",
        "\n",
        "EPOCHS = 128\n",
        "BATCH_SIZE = 32\n",
        "\n",
        "# Load dataset.\n",
        "cifar_dataset = keras.datasets.cifar10\n",
        "(train_images, train_labels), (test_images,\n",
        "    test_labels) = cifar_dataset.load_data()\n",
        "\n",
        "# Standardize dataset.\n",
        "mean = np.mean(train_images)\n",
        "stddev = np.std(train_images)\n",
        "train_images = (train_images - mean) / stddev\n",
        "test_images = (test_images - mean) / stddev\n",
        "print('mean: ', mean)\n",
        "print('stddev: ', stddev)\n",
        "\n",
        "# Change labels to one-hot.\n",
        "train_labels = to_categorical(train_labels,\n",
        "                              num_classes=10)\n",
        "test_labels = to_categorical(test_labels,\n",
        "                             num_classes=10)\n"
      ]
    },
    {
      "cell_type": "markdown",
      "metadata": {
        "id": "_4OzOFygLdJC"
      },
      "source": [
        "The actual model is created by the next code snippet, which first declares a Sequential model and then adds layers. We are now working with a 2D convolutional layer, so there is no need to start with a Flatten layer because the dimensions of the input image already match the required dimension of the first layer. We tell the layer that the input shape of the image is 32×32×3. We also state that we want 64 channels, a kernel size of 5×5, a stride of (2, 2), and padding=’same’. We specify the neuron type as ReLU because that has been shown to be a good activation function. The combination of padding=’same’ and strides=(2,2) results in half as many neurons in each dimension as in the previous layer (i.e., 16×16 neurons per channel because the input image has 32×32 pixels).\n",
        "\n",
        "The next convolutional layer is similar but with a smaller kernel size. There is no need to specify the input shape—it is implicitly defined by the outputs of the previous layer. The number of neurons per channel is implicitly defined as 8×8 because the previous layer was 16×16 outputs per channel, and we choose a stride of 2, 2 for this layer as well.\n",
        "\n",
        "Before we can add the fully connected (Dense) layer, we need to flatten (convert from three dimensions to a single dimension) the outputs from the second convolutional layer. We use softmax activation for the fully connected layer so we can interpret the one-hot encoded outputs as probabilities.\n",
        "\n",
        "We finally select the categorical_crossentropy loss function and use the Adam optimizer in our call to compile. We then print out a description of the network with a call to model.summary().\n"
      ]
    },
    {
      "cell_type": "code",
      "execution_count": 3,
      "metadata": {
        "id": "--OLCwCwLdJD",
        "outputId": "d2803c36-94f0-465e-8e26-471829bab083",
        "colab": {
          "base_uri": "https://localhost:8080/"
        }
      },
      "outputs": [
        {
          "output_type": "stream",
          "name": "stdout",
          "text": [
            "Model: \"sequential\"\n",
            "_________________________________________________________________\n",
            " Layer (type)                Output Shape              Param #   \n",
            "=================================================================\n",
            " conv2d (Conv2D)             (None, 16, 16, 64)        4864      \n",
            "                                                                 \n",
            " conv2d_1 (Conv2D)           (None, 8, 8, 64)          36928     \n",
            "                                                                 \n",
            " flatten (Flatten)           (None, 4096)              0         \n",
            "                                                                 \n",
            " dense (Dense)               (None, 10)                40970     \n",
            "                                                                 \n",
            "=================================================================\n",
            "Total params: 82,762\n",
            "Trainable params: 82,762\n",
            "Non-trainable params: 0\n",
            "_________________________________________________________________\n"
          ]
        }
      ],
      "source": [
        "# Model with two convolutional and one fully connected layer.\n",
        "model = Sequential()\n",
        "model.add(Conv2D(64, (5, 5), strides=(2,2),\n",
        "                 activation='relu', padding='same',\n",
        "                 input_shape=(32, 32, 3),\n",
        "                 kernel_initializer='he_normal',\n",
        "                 bias_initializer='zeros'))\n",
        "model.add(Conv2D(64, (3, 3), strides=(2,2),\n",
        "                 activation='relu', padding='same',\n",
        "                 kernel_initializer='he_normal',\n",
        "                 bias_initializer='zeros'))\n",
        "model.add(Flatten())\n",
        "model.add(Dense(10, activation='softmax',\n",
        "                kernel_initializer='glorot_uniform',\n",
        "                bias_initializer='zeros'))\n",
        "\n",
        "model.compile(loss='categorical_crossentropy',\n",
        "              optimizer='adam', metrics =['accuracy'])\n",
        "model.summary()\n"
      ]
    },
    {
      "cell_type": "markdown",
      "metadata": {
        "id": "Wani26coLdJE"
      },
      "source": [
        "We are now ready to train the network by calling fit() on the model.\n"
      ]
    },
    {
      "cell_type": "code",
      "execution_count": 4,
      "metadata": {
        "id": "MZQoBHNfLdJE",
        "outputId": "4d9084c1-fd3e-4f47-f8b6-f9fccbb2e0a9",
        "colab": {
          "base_uri": "https://localhost:8080/",
          "height": 1000
        }
      },
      "outputs": [
        {
          "output_type": "stream",
          "name": "stdout",
          "text": [
            "Epoch 1/128\n",
            "1563/1563 - 10s - loss: 1.4004 - accuracy: 0.5040 - val_loss: 1.2007 - val_accuracy: 0.5812 - 10s/epoch - 7ms/step\n",
            "Epoch 2/128\n",
            "1563/1563 - 6s - loss: 1.0544 - accuracy: 0.6325 - val_loss: 1.0640 - val_accuracy: 0.6301 - 6s/epoch - 4ms/step\n",
            "Epoch 3/128\n",
            "1563/1563 - 6s - loss: 0.9156 - accuracy: 0.6819 - val_loss: 1.0383 - val_accuracy: 0.6373 - 6s/epoch - 4ms/step\n",
            "Epoch 4/128\n",
            "1563/1563 - 5s - loss: 0.8146 - accuracy: 0.7155 - val_loss: 1.0436 - val_accuracy: 0.6473 - 5s/epoch - 3ms/step\n",
            "Epoch 5/128\n",
            "1563/1563 - 5s - loss: 0.7287 - accuracy: 0.7463 - val_loss: 1.0556 - val_accuracy: 0.6490 - 5s/epoch - 3ms/step\n",
            "Epoch 6/128\n",
            "1563/1563 - 6s - loss: 0.6614 - accuracy: 0.7691 - val_loss: 1.1309 - val_accuracy: 0.6401 - 6s/epoch - 4ms/step\n",
            "Epoch 7/128\n",
            "1563/1563 - 5s - loss: 0.5993 - accuracy: 0.7914 - val_loss: 1.1698 - val_accuracy: 0.6383 - 5s/epoch - 3ms/step\n",
            "Epoch 8/128\n",
            "1563/1563 - 6s - loss: 0.5483 - accuracy: 0.8070 - val_loss: 1.2629 - val_accuracy: 0.6375 - 6s/epoch - 4ms/step\n",
            "Epoch 9/128\n",
            "1563/1563 - 5s - loss: 0.4979 - accuracy: 0.8250 - val_loss: 1.3144 - val_accuracy: 0.6387 - 5s/epoch - 3ms/step\n",
            "Epoch 10/128\n",
            "1563/1563 - 5s - loss: 0.4564 - accuracy: 0.8375 - val_loss: 1.3548 - val_accuracy: 0.6360 - 5s/epoch - 3ms/step\n",
            "Epoch 11/128\n",
            "1563/1563 - 5s - loss: 0.4206 - accuracy: 0.8500 - val_loss: 1.4161 - val_accuracy: 0.6402 - 5s/epoch - 3ms/step\n",
            "Epoch 12/128\n",
            "1563/1563 - 5s - loss: 0.3859 - accuracy: 0.8608 - val_loss: 1.5364 - val_accuracy: 0.6305 - 5s/epoch - 3ms/step\n",
            "Epoch 13/128\n",
            "1563/1563 - 6s - loss: 0.3606 - accuracy: 0.8699 - val_loss: 1.5980 - val_accuracy: 0.6267 - 6s/epoch - 4ms/step\n",
            "Epoch 14/128\n",
            "1563/1563 - 6s - loss: 0.3291 - accuracy: 0.8805 - val_loss: 1.6973 - val_accuracy: 0.6326 - 6s/epoch - 4ms/step\n",
            "Epoch 15/128\n",
            "1563/1563 - 6s - loss: 0.3088 - accuracy: 0.8895 - val_loss: 1.8341 - val_accuracy: 0.6226 - 6s/epoch - 4ms/step\n",
            "Epoch 16/128\n",
            "1563/1563 - 5s - loss: 0.2874 - accuracy: 0.8973 - val_loss: 1.9229 - val_accuracy: 0.6200 - 5s/epoch - 3ms/step\n",
            "Epoch 17/128\n",
            "1563/1563 - 5s - loss: 0.2695 - accuracy: 0.9027 - val_loss: 1.9968 - val_accuracy: 0.6238 - 5s/epoch - 3ms/step\n",
            "Epoch 18/128\n",
            "1563/1563 - 5s - loss: 0.2582 - accuracy: 0.9043 - val_loss: 2.0944 - val_accuracy: 0.6280 - 5s/epoch - 3ms/step\n",
            "Epoch 19/128\n",
            "1563/1563 - 6s - loss: 0.2366 - accuracy: 0.9144 - val_loss: 2.1720 - val_accuracy: 0.6167 - 6s/epoch - 4ms/step\n",
            "Epoch 20/128\n",
            "1563/1563 - 5s - loss: 0.2245 - accuracy: 0.9183 - val_loss: 2.3324 - val_accuracy: 0.6161 - 5s/epoch - 3ms/step\n",
            "Epoch 21/128\n",
            "1563/1563 - 6s - loss: 0.2173 - accuracy: 0.9212 - val_loss: 2.3760 - val_accuracy: 0.6174 - 6s/epoch - 4ms/step\n",
            "Epoch 22/128\n",
            "1563/1563 - 6s - loss: 0.2055 - accuracy: 0.9267 - val_loss: 2.5193 - val_accuracy: 0.6238 - 6s/epoch - 4ms/step\n",
            "Epoch 23/128\n",
            "1563/1563 - 6s - loss: 0.2035 - accuracy: 0.9269 - val_loss: 2.5972 - val_accuracy: 0.6108 - 6s/epoch - 4ms/step\n",
            "Epoch 24/128\n",
            "1563/1563 - 6s - loss: 0.1921 - accuracy: 0.9308 - val_loss: 2.6807 - val_accuracy: 0.6253 - 6s/epoch - 4ms/step\n",
            "Epoch 25/128\n",
            "1563/1563 - 5s - loss: 0.1877 - accuracy: 0.9342 - val_loss: 2.7992 - val_accuracy: 0.6136 - 5s/epoch - 3ms/step\n",
            "Epoch 26/128\n",
            "1563/1563 - 6s - loss: 0.1728 - accuracy: 0.9384 - val_loss: 2.9209 - val_accuracy: 0.6159 - 6s/epoch - 4ms/step\n",
            "Epoch 27/128\n",
            "1563/1563 - 6s - loss: 0.1753 - accuracy: 0.9369 - val_loss: 3.0084 - val_accuracy: 0.6128 - 6s/epoch - 4ms/step\n",
            "Epoch 28/128\n",
            "1563/1563 - 6s - loss: 0.1760 - accuracy: 0.9367 - val_loss: 3.0165 - val_accuracy: 0.6181 - 6s/epoch - 4ms/step\n",
            "Epoch 29/128\n",
            "1563/1563 - 5s - loss: 0.1669 - accuracy: 0.9422 - val_loss: 3.2789 - val_accuracy: 0.6165 - 5s/epoch - 3ms/step\n",
            "Epoch 30/128\n",
            "1563/1563 - 5s - loss: 0.1592 - accuracy: 0.9439 - val_loss: 3.3007 - val_accuracy: 0.6143 - 5s/epoch - 3ms/step\n",
            "Epoch 31/128\n",
            "1563/1563 - 6s - loss: 0.1617 - accuracy: 0.9437 - val_loss: 3.4585 - val_accuracy: 0.6225 - 6s/epoch - 4ms/step\n",
            "Epoch 32/128\n",
            "1563/1563 - 6s - loss: 0.1577 - accuracy: 0.9457 - val_loss: 3.4667 - val_accuracy: 0.6162 - 6s/epoch - 4ms/step\n",
            "Epoch 33/128\n",
            "1563/1563 - 5s - loss: 0.1544 - accuracy: 0.9467 - val_loss: 3.5783 - val_accuracy: 0.6136 - 5s/epoch - 3ms/step\n",
            "Epoch 34/128\n",
            "1563/1563 - 5s - loss: 0.1557 - accuracy: 0.9480 - val_loss: 3.7331 - val_accuracy: 0.6160 - 5s/epoch - 3ms/step\n",
            "Epoch 35/128\n",
            "1563/1563 - 6s - loss: 0.1499 - accuracy: 0.9492 - val_loss: 3.7976 - val_accuracy: 0.6175 - 6s/epoch - 4ms/step\n",
            "Epoch 36/128\n",
            "1563/1563 - 6s - loss: 0.1537 - accuracy: 0.9489 - val_loss: 3.8329 - val_accuracy: 0.6102 - 6s/epoch - 4ms/step\n",
            "Epoch 37/128\n",
            "1563/1563 - 6s - loss: 0.1557 - accuracy: 0.9487 - val_loss: 3.9817 - val_accuracy: 0.6090 - 6s/epoch - 4ms/step\n",
            "Epoch 38/128\n",
            "1563/1563 - 6s - loss: 0.1486 - accuracy: 0.9509 - val_loss: 3.9553 - val_accuracy: 0.6062 - 6s/epoch - 4ms/step\n",
            "Epoch 39/128\n",
            "1563/1563 - 5s - loss: 0.1402 - accuracy: 0.9533 - val_loss: 4.1127 - val_accuracy: 0.6073 - 5s/epoch - 3ms/step\n",
            "Epoch 40/128\n",
            "1563/1563 - 5s - loss: 0.1418 - accuracy: 0.9536 - val_loss: 4.2115 - val_accuracy: 0.6083 - 5s/epoch - 3ms/step\n",
            "Epoch 41/128\n",
            "1563/1563 - 5s - loss: 0.1492 - accuracy: 0.9530 - val_loss: 4.2694 - val_accuracy: 0.6079 - 5s/epoch - 3ms/step\n",
            "Epoch 42/128\n",
            "1563/1563 - 6s - loss: 0.1340 - accuracy: 0.9563 - val_loss: 4.2478 - val_accuracy: 0.6209 - 6s/epoch - 4ms/step\n",
            "Epoch 43/128\n",
            "1563/1563 - 6s - loss: 0.1437 - accuracy: 0.9542 - val_loss: 4.5737 - val_accuracy: 0.6114 - 6s/epoch - 4ms/step\n",
            "Epoch 44/128\n",
            "1563/1563 - 5s - loss: 0.1444 - accuracy: 0.9545 - val_loss: 4.4968 - val_accuracy: 0.6145 - 5s/epoch - 3ms/step\n",
            "Epoch 45/128\n",
            "1563/1563 - 6s - loss: 0.1335 - accuracy: 0.9582 - val_loss: 4.7143 - val_accuracy: 0.6053 - 6s/epoch - 4ms/step\n",
            "Epoch 46/128\n",
            "1563/1563 - 5s - loss: 0.1451 - accuracy: 0.9548 - val_loss: 4.7512 - val_accuracy: 0.6073 - 5s/epoch - 3ms/step\n",
            "Epoch 47/128\n",
            "1563/1563 - 5s - loss: 0.1387 - accuracy: 0.9578 - val_loss: 4.9288 - val_accuracy: 0.6081 - 5s/epoch - 3ms/step\n",
            "Epoch 48/128\n",
            "1563/1563 - 5s - loss: 0.1338 - accuracy: 0.9595 - val_loss: 4.8515 - val_accuracy: 0.6077 - 5s/epoch - 3ms/step\n",
            "Epoch 49/128\n",
            "1563/1563 - 6s - loss: 0.1345 - accuracy: 0.9580 - val_loss: 4.9622 - val_accuracy: 0.6113 - 6s/epoch - 4ms/step\n",
            "Epoch 50/128\n",
            "1563/1563 - 6s - loss: 0.1439 - accuracy: 0.9588 - val_loss: 4.9922 - val_accuracy: 0.6086 - 6s/epoch - 4ms/step\n",
            "Epoch 51/128\n",
            "1563/1563 - 6s - loss: 0.1329 - accuracy: 0.9601 - val_loss: 5.1620 - val_accuracy: 0.6113 - 6s/epoch - 4ms/step\n",
            "Epoch 52/128\n",
            "1563/1563 - 6s - loss: 0.1487 - accuracy: 0.9572 - val_loss: 5.2533 - val_accuracy: 0.6095 - 6s/epoch - 4ms/step\n",
            "Epoch 53/128\n",
            "1563/1563 - 6s - loss: 0.1341 - accuracy: 0.9610 - val_loss: 5.3692 - val_accuracy: 0.6139 - 6s/epoch - 4ms/step\n",
            "Epoch 54/128\n",
            "1563/1563 - 5s - loss: 0.1304 - accuracy: 0.9624 - val_loss: 5.3330 - val_accuracy: 0.6095 - 5s/epoch - 3ms/step\n",
            "Epoch 55/128\n",
            "1563/1563 - 5s - loss: 0.1392 - accuracy: 0.9598 - val_loss: 5.6261 - val_accuracy: 0.6061 - 5s/epoch - 3ms/step\n",
            "Epoch 56/128\n",
            "1563/1563 - 5s - loss: 0.1335 - accuracy: 0.9610 - val_loss: 5.6166 - val_accuracy: 0.6100 - 5s/epoch - 3ms/step\n",
            "Epoch 57/128\n",
            "1563/1563 - 5s - loss: 0.1314 - accuracy: 0.9622 - val_loss: 5.5928 - val_accuracy: 0.6062 - 5s/epoch - 3ms/step\n",
            "Epoch 58/128\n",
            "1563/1563 - 6s - loss: 0.1402 - accuracy: 0.9624 - val_loss: 5.8957 - val_accuracy: 0.6063 - 6s/epoch - 4ms/step\n",
            "Epoch 59/128\n",
            "1563/1563 - 5s - loss: 0.1324 - accuracy: 0.9634 - val_loss: 5.9651 - val_accuracy: 0.6101 - 5s/epoch - 3ms/step\n",
            "Epoch 60/128\n",
            "1563/1563 - 6s - loss: 0.1290 - accuracy: 0.9634 - val_loss: 6.0224 - val_accuracy: 0.6127 - 6s/epoch - 4ms/step\n",
            "Epoch 61/128\n",
            "1563/1563 - 6s - loss: 0.1379 - accuracy: 0.9630 - val_loss: 6.2693 - val_accuracy: 0.6110 - 6s/epoch - 4ms/step\n",
            "Epoch 62/128\n",
            "1563/1563 - 6s - loss: 0.1301 - accuracy: 0.9641 - val_loss: 6.3398 - val_accuracy: 0.6065 - 6s/epoch - 4ms/step\n",
            "Epoch 63/128\n",
            "1563/1563 - 6s - loss: 0.1372 - accuracy: 0.9632 - val_loss: 6.4779 - val_accuracy: 0.6052 - 6s/epoch - 4ms/step\n",
            "Epoch 64/128\n",
            "1563/1563 - 5s - loss: 0.1331 - accuracy: 0.9640 - val_loss: 6.3837 - val_accuracy: 0.6135 - 5s/epoch - 3ms/step\n",
            "Epoch 65/128\n",
            "1563/1563 - 5s - loss: 0.1276 - accuracy: 0.9655 - val_loss: 6.4429 - val_accuracy: 0.6109 - 5s/epoch - 3ms/step\n",
            "Epoch 66/128\n",
            "1563/1563 - 5s - loss: 0.1385 - accuracy: 0.9629 - val_loss: 6.5992 - val_accuracy: 0.6088 - 5s/epoch - 3ms/step\n",
            "Epoch 67/128\n",
            "1563/1563 - 5s - loss: 0.1291 - accuracy: 0.9661 - val_loss: 6.6835 - val_accuracy: 0.6075 - 5s/epoch - 3ms/step\n",
            "Epoch 68/128\n",
            "1563/1563 - 6s - loss: 0.1336 - accuracy: 0.9648 - val_loss: 6.8710 - val_accuracy: 0.6078 - 6s/epoch - 4ms/step\n",
            "Epoch 69/128\n",
            "1563/1563 - 5s - loss: 0.1443 - accuracy: 0.9634 - val_loss: 6.9670 - val_accuracy: 0.6138 - 5s/epoch - 3ms/step\n",
            "Epoch 70/128\n",
            "1563/1563 - 5s - loss: 0.1275 - accuracy: 0.9671 - val_loss: 6.9047 - val_accuracy: 0.6088 - 5s/epoch - 3ms/step\n",
            "Epoch 71/128\n",
            "1563/1563 - 6s - loss: 0.1378 - accuracy: 0.9655 - val_loss: 6.9950 - val_accuracy: 0.6049 - 6s/epoch - 4ms/step\n",
            "Epoch 72/128\n",
            "1563/1563 - 6s - loss: 0.1309 - accuracy: 0.9662 - val_loss: 7.1713 - val_accuracy: 0.6051 - 6s/epoch - 4ms/step\n",
            "Epoch 73/128\n",
            "1563/1563 - 6s - loss: 0.1371 - accuracy: 0.9662 - val_loss: 7.2113 - val_accuracy: 0.6122 - 6s/epoch - 4ms/step\n",
            "Epoch 74/128\n",
            "1563/1563 - 5s - loss: 0.1337 - accuracy: 0.9666 - val_loss: 7.4021 - val_accuracy: 0.6089 - 5s/epoch - 3ms/step\n",
            "Epoch 75/128\n",
            "1563/1563 - 6s - loss: 0.1307 - accuracy: 0.9673 - val_loss: 7.5727 - val_accuracy: 0.6089 - 6s/epoch - 4ms/step\n",
            "Epoch 76/128\n",
            "1563/1563 - 5s - loss: 0.1264 - accuracy: 0.9690 - val_loss: 7.3229 - val_accuracy: 0.6022 - 5s/epoch - 3ms/step\n",
            "Epoch 77/128\n",
            "1563/1563 - 6s - loss: 0.1363 - accuracy: 0.9674 - val_loss: 7.4642 - val_accuracy: 0.6104 - 6s/epoch - 4ms/step\n",
            "Epoch 78/128\n",
            "1563/1563 - 6s - loss: 0.1359 - accuracy: 0.9670 - val_loss: 7.6563 - val_accuracy: 0.6145 - 6s/epoch - 4ms/step\n",
            "Epoch 79/128\n",
            "1563/1563 - 5s - loss: 0.1390 - accuracy: 0.9674 - val_loss: 8.0321 - val_accuracy: 0.6020 - 5s/epoch - 3ms/step\n",
            "Epoch 80/128\n",
            "1563/1563 - 6s - loss: 0.1316 - accuracy: 0.9687 - val_loss: 8.0644 - val_accuracy: 0.6093 - 6s/epoch - 4ms/step\n",
            "Epoch 81/128\n",
            "1563/1563 - 5s - loss: 0.1372 - accuracy: 0.9683 - val_loss: 8.0424 - val_accuracy: 0.6133 - 5s/epoch - 3ms/step\n",
            "Epoch 82/128\n",
            "1563/1563 - 5s - loss: 0.1328 - accuracy: 0.9689 - val_loss: 8.0813 - val_accuracy: 0.6091 - 5s/epoch - 3ms/step\n",
            "Epoch 83/128\n",
            "1563/1563 - 5s - loss: 0.1435 - accuracy: 0.9677 - val_loss: 8.0705 - val_accuracy: 0.6129 - 5s/epoch - 3ms/step\n",
            "Epoch 84/128\n",
            "1563/1563 - 6s - loss: 0.1369 - accuracy: 0.9691 - val_loss: 8.2676 - val_accuracy: 0.6093 - 6s/epoch - 4ms/step\n",
            "Epoch 85/128\n",
            "1563/1563 - 6s - loss: 0.1289 - accuracy: 0.9710 - val_loss: 8.4098 - val_accuracy: 0.6132 - 6s/epoch - 4ms/step\n",
            "Epoch 86/128\n",
            "1563/1563 - 5s - loss: 0.1336 - accuracy: 0.9707 - val_loss: 8.4627 - val_accuracy: 0.6056 - 5s/epoch - 3ms/step\n",
            "Epoch 87/128\n",
            "1563/1563 - 5s - loss: 0.1373 - accuracy: 0.9694 - val_loss: 8.6201 - val_accuracy: 0.6036 - 5s/epoch - 3ms/step\n",
            "Epoch 88/128\n",
            "1563/1563 - 6s - loss: 0.1353 - accuracy: 0.9696 - val_loss: 8.8044 - val_accuracy: 0.6063 - 6s/epoch - 4ms/step\n",
            "Epoch 89/128\n",
            "1563/1563 - 6s - loss: 0.1364 - accuracy: 0.9697 - val_loss: 8.8037 - val_accuracy: 0.6064 - 6s/epoch - 4ms/step\n",
            "Epoch 90/128\n",
            "1563/1563 - 6s - loss: 0.1374 - accuracy: 0.9699 - val_loss: 8.8608 - val_accuracy: 0.6061 - 6s/epoch - 4ms/step\n",
            "Epoch 91/128\n",
            "1563/1563 - 6s - loss: 0.1329 - accuracy: 0.9710 - val_loss: 9.0312 - val_accuracy: 0.6094 - 6s/epoch - 4ms/step\n",
            "Epoch 92/128\n",
            "1563/1563 - 6s - loss: 0.1359 - accuracy: 0.9706 - val_loss: 9.1278 - val_accuracy: 0.6055 - 6s/epoch - 4ms/step\n",
            "Epoch 93/128\n",
            "1563/1563 - 6s - loss: 0.1341 - accuracy: 0.9717 - val_loss: 9.0551 - val_accuracy: 0.6121 - 6s/epoch - 4ms/step\n",
            "Epoch 94/128\n",
            "1563/1563 - 6s - loss: 0.1287 - accuracy: 0.9732 - val_loss: 9.2701 - val_accuracy: 0.6060 - 6s/epoch - 4ms/step\n",
            "Epoch 95/128\n",
            "1563/1563 - 6s - loss: 0.1460 - accuracy: 0.9707 - val_loss: 9.3881 - val_accuracy: 0.6056 - 6s/epoch - 4ms/step\n",
            "Epoch 96/128\n",
            "1563/1563 - 6s - loss: 0.1220 - accuracy: 0.9734 - val_loss: 9.2970 - val_accuracy: 0.6060 - 6s/epoch - 4ms/step\n",
            "Epoch 97/128\n",
            "1563/1563 - 5s - loss: 0.1402 - accuracy: 0.9710 - val_loss: 9.7260 - val_accuracy: 0.6050 - 5s/epoch - 3ms/step\n",
            "Epoch 98/128\n",
            "1563/1563 - 5s - loss: 0.1296 - accuracy: 0.9736 - val_loss: 10.0202 - val_accuracy: 0.6094 - 5s/epoch - 3ms/step\n",
            "Epoch 99/128\n",
            "1563/1563 - 6s - loss: 0.1460 - accuracy: 0.9697 - val_loss: 9.8898 - val_accuracy: 0.6110 - 6s/epoch - 4ms/step\n",
            "Epoch 100/128\n",
            "1563/1563 - 5s - loss: 0.1356 - accuracy: 0.9720 - val_loss: 10.1499 - val_accuracy: 0.6092 - 5s/epoch - 3ms/step\n",
            "Epoch 101/128\n",
            "1563/1563 - 6s - loss: 0.1226 - accuracy: 0.9752 - val_loss: 9.9374 - val_accuracy: 0.6064 - 6s/epoch - 4ms/step\n",
            "Epoch 102/128\n",
            "1563/1563 - 5s - loss: 0.1388 - accuracy: 0.9723 - val_loss: 10.4529 - val_accuracy: 0.6088 - 5s/epoch - 3ms/step\n",
            "Epoch 103/128\n",
            "1563/1563 - 5s - loss: 0.1405 - accuracy: 0.9738 - val_loss: 10.3086 - val_accuracy: 0.6089 - 5s/epoch - 3ms/step\n",
            "Epoch 104/128\n",
            "1563/1563 - 5s - loss: 0.1330 - accuracy: 0.9737 - val_loss: 10.5356 - val_accuracy: 0.6082 - 5s/epoch - 3ms/step\n",
            "Epoch 105/128\n",
            "1563/1563 - 6s - loss: 0.1291 - accuracy: 0.9743 - val_loss: 10.5956 - val_accuracy: 0.6083 - 6s/epoch - 4ms/step\n",
            "Epoch 106/128\n",
            "1563/1563 - 6s - loss: 0.1613 - accuracy: 0.9702 - val_loss: 10.5694 - val_accuracy: 0.6105 - 6s/epoch - 4ms/step\n",
            "Epoch 107/128\n",
            "1563/1563 - 5s - loss: 0.1265 - accuracy: 0.9745 - val_loss: 10.4393 - val_accuracy: 0.6079 - 5s/epoch - 3ms/step\n",
            "Epoch 108/128\n",
            "1563/1563 - 5s - loss: 0.1514 - accuracy: 0.9714 - val_loss: 10.6674 - val_accuracy: 0.6139 - 5s/epoch - 3ms/step\n",
            "Epoch 109/128\n",
            "1563/1563 - 5s - loss: 0.1424 - accuracy: 0.9727 - val_loss: 11.0779 - val_accuracy: 0.6097 - 5s/epoch - 3ms/step\n",
            "Epoch 110/128\n",
            "1563/1563 - 6s - loss: 0.1304 - accuracy: 0.9736 - val_loss: 11.4992 - val_accuracy: 0.6078 - 6s/epoch - 4ms/step\n",
            "Epoch 111/128\n",
            "1563/1563 - 6s - loss: 0.1345 - accuracy: 0.9748 - val_loss: 11.2283 - val_accuracy: 0.6080 - 6s/epoch - 4ms/step\n",
            "Epoch 112/128\n",
            "1563/1563 - 5s - loss: 0.1417 - accuracy: 0.9732 - val_loss: 11.4060 - val_accuracy: 0.6082 - 5s/epoch - 4ms/step\n",
            "Epoch 113/128\n",
            "1563/1563 - 5s - loss: 0.1401 - accuracy: 0.9750 - val_loss: 11.3985 - val_accuracy: 0.6071 - 5s/epoch - 3ms/step\n",
            "Epoch 114/128\n",
            "1563/1563 - 5s - loss: 0.1448 - accuracy: 0.9733 - val_loss: 11.4463 - val_accuracy: 0.6117 - 5s/epoch - 3ms/step\n",
            "Epoch 115/128\n",
            "1563/1563 - 5s - loss: 0.1201 - accuracy: 0.9775 - val_loss: 11.6927 - val_accuracy: 0.6134 - 5s/epoch - 3ms/step\n",
            "Epoch 116/128\n",
            "1563/1563 - 5s - loss: 0.1578 - accuracy: 0.9726 - val_loss: 11.4660 - val_accuracy: 0.6123 - 5s/epoch - 3ms/step\n",
            "Epoch 117/128\n",
            "1563/1563 - 6s - loss: 0.1301 - accuracy: 0.9763 - val_loss: 11.5397 - val_accuracy: 0.6060 - 6s/epoch - 4ms/step\n",
            "Epoch 118/128\n",
            "1563/1563 - 5s - loss: 0.1442 - accuracy: 0.9745 - val_loss: 12.1541 - val_accuracy: 0.6147 - 5s/epoch - 3ms/step\n",
            "Epoch 119/128\n",
            "1563/1563 - 6s - loss: 0.1291 - accuracy: 0.9762 - val_loss: 12.2235 - val_accuracy: 0.6115 - 6s/epoch - 4ms/step\n",
            "Epoch 120/128\n",
            "1563/1563 - 5s - loss: 0.1472 - accuracy: 0.9756 - val_loss: 12.2687 - val_accuracy: 0.6125 - 5s/epoch - 3ms/step\n",
            "Epoch 121/128\n",
            "1563/1563 - 6s - loss: 0.1370 - accuracy: 0.9754 - val_loss: 12.5936 - val_accuracy: 0.6069 - 6s/epoch - 4ms/step\n",
            "Epoch 122/128\n",
            "1563/1563 - 6s - loss: 0.1540 - accuracy: 0.9751 - val_loss: 12.5192 - val_accuracy: 0.6080 - 6s/epoch - 4ms/step\n",
            "Epoch 123/128\n",
            "1563/1563 - 6s - loss: 0.1437 - accuracy: 0.9758 - val_loss: 12.5433 - val_accuracy: 0.6041 - 6s/epoch - 4ms/step\n",
            "Epoch 124/128\n",
            "1563/1563 - 5s - loss: 0.1390 - accuracy: 0.9768 - val_loss: 12.7323 - val_accuracy: 0.6068 - 5s/epoch - 3ms/step\n",
            "Epoch 125/128\n",
            "1563/1563 - 5s - loss: 0.1374 - accuracy: 0.9769 - val_loss: 12.5929 - val_accuracy: 0.6042 - 5s/epoch - 3ms/step\n",
            "Epoch 126/128\n",
            "1563/1563 - 5s - loss: 0.1563 - accuracy: 0.9753 - val_loss: 13.0519 - val_accuracy: 0.6003 - 5s/epoch - 3ms/step\n",
            "Epoch 127/128\n",
            "1563/1563 - 6s - loss: 0.1373 - accuracy: 0.9766 - val_loss: 12.7983 - val_accuracy: 0.6064 - 6s/epoch - 4ms/step\n",
            "Epoch 128/128\n",
            "1563/1563 - 6s - loss: 0.1428 - accuracy: 0.9763 - val_loss: 13.3092 - val_accuracy: 0.6028 - 6s/epoch - 4ms/step\n"
          ]
        },
        {
          "output_type": "display_data",
          "data": {
            "text/plain": [
              "<Figure size 432x288 with 1 Axes>"
            ],
            "image/png": "[encoded data removed]"
          },
          "metadata": {
            "needs_background": "light"
          }
        }
      ],
      "source": [
        "history = model.fit(\n",
        "    train_images, train_labels, validation_data =\n",
        "    (test_images, test_labels), epochs=EPOCHS,\n",
        "    batch_size=BATCH_SIZE, verbose=2, shuffle=True)\n",
        "\n",
        "\n",
        "\n",
        "# summarize history for accuracy\n",
        "plt.plot(1.0 - np.array(history.history['accuracy']))\n",
        "plt.plot(1.0 - np.array(history.history['val_accuracy']))\n",
        "plt.title('Comparison between training error and test error')\n",
        "plt.ylabel('error')\n",
        "plt.xlabel('training epoch')\n",
        "plt.xlim(0,20)\n",
        "plt.legend(['train error', 'test error'], loc='upper right')\n",
        "plt.show()"
      ]
    }
  ],
  "metadata": {
    "kernelspec": {
      "display_name": "Python 3",
      "language": "python",
      "name": "python3"
    },
    "language_info": {
      "codemirror_mode": {
        "name": "ipython",
        "version": 3
      },
      "file_extension": ".py",
      "mimetype": "text/x-python",
      "name": "python",
      "nbconvert_exporter": "python",
      "pygments_lexer": "ipython3",
      "version": "3.6.7"
    },
    "colab": {
      "provenance": [],
      "include_colab_link": true
    },
    "accelerator": "GPU",
    "gpuClass": "standard"
  },
  "nbformat": 4,
  "nbformat_minor": 0
}