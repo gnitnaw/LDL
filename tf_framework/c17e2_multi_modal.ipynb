{
  "cells": [
    {
      "cell_type": "markdown",
      "metadata": {
        "id": "view-in-github",
        "colab_type": "text"
      },
      "source": [
        "<a href=\"https://colab.research.google.com/github/gnitnaw/LDL/blob/main/tf_framework/c17e2_multi_modal.ipynb\" target=\"_parent\"><img src=\"https://colab.research.google.com/assets/colab-badge.svg\" alt=\"Open In Colab\"/></a>"
      ]
    },
    {
      "cell_type": "code",
      "execution_count": 1,
      "metadata": {
        "id": "FAYlNQ6xffUy",
        "outputId": "1962330d-8096-43ce-be19-14fe603f9b84",
        "colab": {
          "base_uri": "https://localhost:8080/",
          "height": 111
        }
      },
      "outputs": [
        {
          "output_type": "execute_result",
          "data": {
            "text/plain": [
              "'\\nThe MIT License (MIT)\\nCopyright (c) 2021 NVIDIA\\nPermission is hereby granted, free of charge, to any person obtaining a copy of\\nthis software and associated documentation files (the \"Software\"), to deal in\\nthe Software without restriction, including without limitation the rights to\\nuse, copy, modify, merge, publish, distribute, sublicense, and/or sell copies of\\nthe Software, and to permit persons to whom the Software is furnished to do so,\\nsubject to the following conditions:\\nThe above copyright notice and this permission notice shall be included in all\\ncopies or substantial portions of the Software.\\nTHE SOFTWARE IS PROVIDED \"AS IS\", WITHOUT WARRANTY OF ANY KIND, EXPRESS OR\\nIMPLIED, INCLUDING BUT NOT LIMITED TO THE WARRANTIES OF MERCHANTABILITY, FITNESS\\nFOR A PARTICULAR PURPOSE AND NONINFRINGEMENT. IN NO EVENT SHALL THE AUTHORS OR\\nCOPYRIGHT HOLDERS BE LIABLE FOR ANY CLAIM, DAMAGES OR OTHER LIABILITY, WHETHER\\nIN AN ACTION OF CONTRACT, TORT OR OTHERWISE, ARISING FROM, OUT OF OR IN\\nCONNECTION WITH THE SOFTWARE OR THE USE OR OTHER DEALINGS IN THE SOFTWARE.\\n'"
            ],
            "application/vnd.google.colaboratory.intrinsic+json": {
              "type": "string"
            }
          },
          "metadata": {},
          "execution_count": 1
        }
      ],
      "source": [
        "\"\"\"\n",
        "The MIT License (MIT)\n",
        "Copyright (c) 2021 NVIDIA\n",
        "Permission is hereby granted, free of charge, to any person obtaining a copy of\n",
        "this software and associated documentation files (the \"Software\"), to deal in\n",
        "the Software without restriction, including without limitation the rights to\n",
        "use, copy, modify, merge, publish, distribute, sublicense, and/or sell copies of\n",
        "the Software, and to permit persons to whom the Software is furnished to do so,\n",
        "subject to the following conditions:\n",
        "The above copyright notice and this permission notice shall be included in all\n",
        "copies or substantial portions of the Software.\n",
        "THE SOFTWARE IS PROVIDED \"AS IS\", WITHOUT WARRANTY OF ANY KIND, EXPRESS OR\n",
        "IMPLIED, INCLUDING BUT NOT LIMITED TO THE WARRANTIES OF MERCHANTABILITY, FITNESS\n",
        "FOR A PARTICULAR PURPOSE AND NONINFRINGEMENT. IN NO EVENT SHALL THE AUTHORS OR\n",
        "COPYRIGHT HOLDERS BE LIABLE FOR ANY CLAIM, DAMAGES OR OTHER LIABILITY, WHETHER\n",
        "IN AN ACTION OF CONTRACT, TORT OR OTHERWISE, ARISING FROM, OUT OF OR IN\n",
        "CONNECTION WITH THE SOFTWARE OR THE USE OR OTHER DEALINGS IN THE SOFTWARE.\n",
        "\"\"\"\n"
      ]
    },
    {
      "cell_type": "markdown",
      "metadata": {
        "id": "L7a_nrGTffU0"
      },
      "source": [
        "This code example demonstrates how to train a classifier, using two input modalities. We use the MNIST dataset but in addition to the image modality, we also create a textual modality. More context for this code example can be found in the section \"Programming Example: Classification with multimodal input data\" in Chapter 17 in the book Learning Deep Learning by Magnus Ekman (ISBN: 9780137470358).\n",
        "\n",
        "We start with initialization code and loading and standardizing the MNIST dataset in the code snippet below.\n"
      ]
    },
    {
      "cell_type": "code",
      "execution_count": 2,
      "metadata": {
        "id": "-Ak3y9jRffU2",
        "outputId": "38ebaa32-537f-468f-ac4b-40a7a10dca55",
        "colab": {
          "base_uri": "https://localhost:8080/"
        }
      },
      "outputs": [
        {
          "output_type": "stream",
          "name": "stdout",
          "text": [
            "Downloading data from https://storage.googleapis.com/tensorflow/tf-keras-datasets/mnist.npz\n",
            "11490434/11490434 [==============================] - 0s 0us/step\n"
          ]
        }
      ],
      "source": [
        "import tensorflow as tf\n",
        "from tensorflow import keras\n",
        "from tensorflow.keras.utils import to_categorical\n",
        "from tensorflow.keras.preprocessing.text import Tokenizer\n",
        "from tensorflow.keras.preprocessing.text \\\n",
        "    import text_to_word_sequence\n",
        "from tensorflow.keras.preprocessing.sequence \\\n",
        "    import pad_sequences\n",
        "from tensorflow.keras.layers import Input\n",
        "from tensorflow.keras.layers import Embedding\n",
        "from tensorflow.keras.layers import LSTM\n",
        "from tensorflow.keras.layers import Flatten\n",
        "from tensorflow.keras.layers import Concatenate\n",
        "from tensorflow.keras.layers import Dense\n",
        "from tensorflow.keras.models import Model\n",
        "import numpy as np\n",
        "import matplotlib.pyplot as plt\n",
        "import logging\n",
        "tf.get_logger().setLevel(logging.ERROR)\n",
        "\n",
        "EPOCHS = 20\n",
        "MAX_WORDS = 8\n",
        "EMBEDDING_WIDTH = 4\n",
        "\n",
        "# Load training and test datasets.\n",
        "mnist = keras.datasets.mnist\n",
        "(train_images, train_labels), (test_images,\n",
        "                               test_labels) = mnist.load_data()\n",
        "\n",
        "# Standardize the data.\n",
        "mean = np.mean(train_images)\n",
        "stddev = np.std(train_images)\n",
        "train_images = (train_images - mean) / stddev\n",
        "test_images = (test_images - mean) / stddev\n"
      ]
    },
    {
      "cell_type": "markdown",
      "metadata": {
        "id": "pY5tydhCffU3"
      },
      "source": [
        "The code snippet below creates the second input modality, which is a textual representation of each input example. To not make it too easy for the network, this textual view of the data is not complete but gives only partial information about the digit. For each training and test example, we alternate between specifying that the digit is odd or even and specifying that it is a high or low number. The textual modality created in this code snippet does not fully define what digit it is but can be helpful when an image is ambiguous.\n"
      ]
    },
    {
      "cell_type": "code",
      "execution_count": 3,
      "metadata": {
        "id": "5OkExP9tffU4"
      },
      "outputs": [],
      "source": [
        "# Function to create second modality.\n",
        "def create_text(tokenizer, labels):\n",
        "    text = []\n",
        "    for i, label in enumerate(labels):\n",
        "        if i % 2 == 0:\n",
        "            if label < 5:\n",
        "                text.append('lower half')\n",
        "            else:\n",
        "                text.append('upper half')\n",
        "        else:\n",
        "            if label % 2 == 0:\n",
        "                text.append('even number')\n",
        "            else:\n",
        "                text.append('odd number')\n",
        "    text = tokenizer.texts_to_sequences(text)\n",
        "    text = pad_sequences(text)\n",
        "    return text\n",
        "\n",
        "# Create second modality for training and test set.\n",
        "vocabulary = ['lower', 'upper', 'half', 'even', 'odd', 'number']\n",
        "tokenizer = Tokenizer(num_words=MAX_WORDS)\n",
        "tokenizer.fit_on_texts(vocabulary)\n",
        "train_text = create_text(tokenizer, train_labels)\n",
        "test_text = create_text(tokenizer, test_labels)\n"
      ]
    },
    {
      "cell_type": "markdown",
      "metadata": {
        "id": "mWGyVpAkffU4"
      },
      "source": [
        "The image classification network is similar to the example c5e1_mnist_learning but with an additional subnetwork that processes the textual input. This subnetwork consists of an Embedding layer and an LSTM layer. The output of the LSTM layer is concatenated with the image input and fed to a fully connected layer. This layer is followed by the final fully connected softmax layer that produces the classification. The implementation is shown below."
      ]
    },
    {
      "cell_type": "code",
      "execution_count": 4,
      "metadata": {
        "id": "TG_q74WNffU4",
        "outputId": "23bd17e7-4b74-48b1-9f00-f557ddb04e2d",
        "colab": {
          "base_uri": "https://localhost:8080/"
        }
      },
      "outputs": [
        {
          "output_type": "stream",
          "name": "stdout",
          "text": [
            "Model: \"model\"\n",
            "__________________________________________________________________________________________________\n",
            " Layer (type)                   Output Shape         Param #     Connected to                     \n",
            "==================================================================================================\n",
            " input_2 (InputLayer)           [(None, 2)]          0           []                               \n",
            "                                                                                                  \n",
            " embedding (Embedding)          (None, 2, 4)         32          ['input_2[0][0]']                \n",
            "                                                                                                  \n",
            " input_1 (InputLayer)           [(None, 28, 28)]     0           []                               \n",
            "                                                                                                  \n",
            " lstm (LSTM)                    (None, 8)            416         ['embedding[0][0]']              \n",
            "                                                                                                  \n",
            " flatten (Flatten)              (None, 784)          0           ['input_1[0][0]']                \n",
            "                                                                                                  \n",
            " concatenate (Concatenate)      (None, 792)          0           ['lstm[0][0]',                   \n",
            "                                                                  'flatten[0][0]']                \n",
            "                                                                                                  \n",
            " dense (Dense)                  (None, 25)           19825       ['concatenate[0][0]']            \n",
            "                                                                                                  \n",
            " dense_1 (Dense)                (None, 10)           260         ['dense[0][0]']                  \n",
            "                                                                                                  \n",
            "==================================================================================================\n",
            "Total params: 20,533\n",
            "Trainable params: 20,533\n",
            "Non-trainable params: 0\n",
            "__________________________________________________________________________________________________\n",
            "Epoch 1/20\n",
            "938/938 - 14s - loss: 0.3127 - accuracy: 0.9063 - val_loss: 0.1877 - val_accuracy: 0.9431 - 14s/epoch - 15ms/step\n",
            "Epoch 2/20\n",
            "938/938 - 5s - loss: 0.1405 - accuracy: 0.9583 - val_loss: 0.1405 - val_accuracy: 0.9554 - 5s/epoch - 5ms/step\n",
            "Epoch 3/20\n",
            "938/938 - 4s - loss: 0.1045 - accuracy: 0.9689 - val_loss: 0.1101 - val_accuracy: 0.9676 - 4s/epoch - 4ms/step\n",
            "Epoch 4/20\n",
            "938/938 - 4s - loss: 0.0834 - accuracy: 0.9757 - val_loss: 0.1026 - val_accuracy: 0.9688 - 4s/epoch - 4ms/step\n",
            "Epoch 5/20\n",
            "938/938 - 3s - loss: 0.0685 - accuracy: 0.9797 - val_loss: 0.0965 - val_accuracy: 0.9728 - 3s/epoch - 4ms/step\n",
            "Epoch 6/20\n",
            "938/938 - 3s - loss: 0.0583 - accuracy: 0.9817 - val_loss: 0.0902 - val_accuracy: 0.9738 - 3s/epoch - 4ms/step\n",
            "Epoch 7/20\n",
            "938/938 - 4s - loss: 0.0529 - accuracy: 0.9833 - val_loss: 0.0924 - val_accuracy: 0.9723 - 4s/epoch - 5ms/step\n",
            "Epoch 8/20\n",
            "938/938 - 3s - loss: 0.0468 - accuracy: 0.9851 - val_loss: 0.0876 - val_accuracy: 0.9723 - 3s/epoch - 4ms/step\n",
            "Epoch 9/20\n",
            "938/938 - 3s - loss: 0.0421 - accuracy: 0.9865 - val_loss: 0.0890 - val_accuracy: 0.9741 - 3s/epoch - 4ms/step\n",
            "Epoch 10/20\n",
            "938/938 - 4s - loss: 0.0388 - accuracy: 0.9880 - val_loss: 0.0819 - val_accuracy: 0.9761 - 4s/epoch - 4ms/step\n",
            "Epoch 11/20\n",
            "938/938 - 3s - loss: 0.0353 - accuracy: 0.9893 - val_loss: 0.0837 - val_accuracy: 0.9764 - 3s/epoch - 4ms/step\n",
            "Epoch 12/20\n",
            "938/938 - 3s - loss: 0.0341 - accuracy: 0.9895 - val_loss: 0.1064 - val_accuracy: 0.9705 - 3s/epoch - 4ms/step\n",
            "Epoch 13/20\n",
            "938/938 - 3s - loss: 0.0312 - accuracy: 0.9902 - val_loss: 0.1007 - val_accuracy: 0.9719 - 3s/epoch - 4ms/step\n",
            "Epoch 14/20\n",
            "938/938 - 4s - loss: 0.0285 - accuracy: 0.9907 - val_loss: 0.0892 - val_accuracy: 0.9751 - 4s/epoch - 4ms/step\n",
            "Epoch 15/20\n",
            "938/938 - 3s - loss: 0.0286 - accuracy: 0.9912 - val_loss: 0.0861 - val_accuracy: 0.9768 - 3s/epoch - 4ms/step\n",
            "Epoch 16/20\n",
            "938/938 - 3s - loss: 0.0249 - accuracy: 0.9923 - val_loss: 0.1040 - val_accuracy: 0.9729 - 3s/epoch - 4ms/step\n",
            "Epoch 17/20\n",
            "938/938 - 4s - loss: 0.0236 - accuracy: 0.9923 - val_loss: 0.1046 - val_accuracy: 0.9721 - 4s/epoch - 5ms/step\n",
            "Epoch 18/20\n",
            "938/938 - 3s - loss: 0.0225 - accuracy: 0.9926 - val_loss: 0.0974 - val_accuracy: 0.9756 - 3s/epoch - 4ms/step\n",
            "Epoch 19/20\n",
            "938/938 - 3s - loss: 0.0200 - accuracy: 0.9936 - val_loss: 0.0990 - val_accuracy: 0.9747 - 3s/epoch - 4ms/step\n",
            "Epoch 20/20\n",
            "938/938 - 4s - loss: 0.0189 - accuracy: 0.9936 - val_loss: 0.0948 - val_accuracy: 0.9756 - 4s/epoch - 5ms/step\n"
          ]
        }
      ],
      "source": [
        "# Create model with functional API.\n",
        "image_input = Input(shape=(28, 28))\n",
        "text_input = Input(shape=(2, ))\n",
        "\n",
        "# Declare layers.\n",
        "embedding_layer = Embedding(output_dim=EMBEDDING_WIDTH,\n",
        "                            input_dim = MAX_WORDS)\n",
        "lstm_layer = LSTM(8)\n",
        "flatten_layer = Flatten()\n",
        "concat_layer = Concatenate()\n",
        "dense_layer = Dense(25,activation='relu')\n",
        "output_layer = Dense(10, activation='softmax')\n",
        "\n",
        "# Connect layers.\n",
        "embedding_output = embedding_layer(text_input)\n",
        "lstm_output = lstm_layer(embedding_output)\n",
        "flatten_output = flatten_layer(image_input)\n",
        "concat_output = concat_layer([lstm_output, flatten_output])\n",
        "dense_output = dense_layer(concat_output)\n",
        "outputs = output_layer(dense_output)\n",
        "\n",
        "# Build and train model.\n",
        "model = Model([image_input, text_input], outputs)\n",
        "model.compile(loss='sparse_categorical_crossentropy',\n",
        "              optimizer='adam', metrics =['accuracy'])\n",
        "model.summary()\n",
        "history = model.fit([train_images, train_text], train_labels,\n",
        "                    validation_data=([test_images, test_text],\n",
        "                                     test_labels), epochs=EPOCHS,\n",
        "                    batch_size=64, verbose=2, shuffle=True)\n"
      ]
    },
    {
      "cell_type": "markdown",
      "metadata": {
        "id": "ccsXJmhFffU5"
      },
      "source": [
        "To illustrate the effect of using the two input modalities, we do an experiment in the code snippet below. We first show all the information about a given test example. It turns out to be the digit 7, and the textual description was 'upper half'. We then use the network to make a prediction, given this image and textual description as input. We print out digits and predicted probabilities, sorted on the basis of the probabilities. The expected result is that the network correctly predicts the digit as a 7.\n",
        "\n",
        "As a next step, we do another prediction, but this time we change the textual input to indicate 'lower half'. Looking at the probabilities, the probabilities for the high digits should now have decreased. The exact result varies, but in many cases, the probabilities changes enough so the prediction from the network changes from a 7 to a 3. This illustrates that the network has learned to take both the image and the textual description into account.\n"
      ]
    },
    {
      "cell_type": "code",
      "execution_count": 5,
      "metadata": {
        "id": "NmGtSp2fffU5",
        "outputId": "bb004794-bbe8-4a86-9939-a3fe856b23e8",
        "colab": {
          "base_uri": "https://localhost:8080/",
          "height": 650
        }
      },
      "outputs": [
        {
          "output_type": "stream",
          "name": "stdout",
          "text": [
            "7\n",
            "['upper half']\n"
          ]
        },
        {
          "output_type": "display_data",
          "data": {
            "text/plain": [
              "<Figure size 100x100 with 1 Axes>"
            ],
            "image/png": "[encoded data removed]"
          },
          "metadata": {}
        },
        {
          "output_type": "stream",
          "name": "stdout",
          "text": [
            "1/1 [==============================] - 1s 510ms/step\n",
            "Predictions with correct input:\n",
            "Digit: 7, probability: 1.00e+00\n",
            "Digit: 5, probability: 1.13e-07\n",
            "Digit: 9, probability: 1.06e-07\n",
            "Digit: 8, probability: 1.79e-08\n",
            "Digit: 3, probability: 7.67e-11\n",
            "Digit: 1, probability: 7.49e-16\n",
            "Digit: 2, probability: 1.22e-17\n",
            "Digit: 6, probability: 1.54e-19\n",
            "Digit: 4, probability: 1.01e-19\n",
            "Digit: 0, probability: 3.08e-20\n",
            "\n",
            "Predictions with incorrect input:\n",
            "1/1 [==============================] - 0s 24ms/step\n",
            "Digit: 7, probability: 5.68e-01\n",
            "Digit: 3, probability: 4.32e-01\n",
            "Digit: 2, probability: 5.81e-05\n",
            "Digit: 1, probability: 8.65e-06\n",
            "Digit: 9, probability: 9.06e-07\n",
            "Digit: 8, probability: 3.84e-07\n",
            "Digit: 0, probability: 2.42e-07\n",
            "Digit: 4, probability: 2.41e-07\n",
            "Digit: 5, probability: 1.12e-08\n",
            "Digit: 6, probability: 9.09e-19\n"
          ]
        }
      ],
      "source": [
        "# Print input modalities and output for one test example.\n",
        "print(test_labels[0])\n",
        "print(tokenizer.sequences_to_texts([test_text[0]]))\n",
        "plt.figure(figsize=(1, 1))\n",
        "plt.imshow(test_images[0], cmap=plt.get_cmap('gray'))\n",
        "plt.show()\n",
        "\n",
        "# Predict test example.\n",
        "y = model.predict([test_images[0:1], np.array(\n",
        "    tokenizer.texts_to_sequences(['upper half']))])[0] #7\n",
        "print('Predictions with correct input:')\n",
        "for i in range(len(y)):\n",
        "    index = y.argmax()\n",
        "    print('Digit: %d,' %index, 'probability: %5.2e' %y[index])\n",
        "    y[index] = 0\n",
        "\n",
        "# Predict same test example but with modified textual description.\n",
        "print('\\nPredictions with incorrect input:')\n",
        "y = model.predict([test_images[0:1], np.array(\n",
        "    tokenizer.texts_to_sequences(['lower half']))])[0] #7\n",
        "for i in range(len(y)):\n",
        "    index = y.argmax()\n",
        "    print('Digit: %d,' %index, 'probability: %5.2e' %y[index])\n",
        "    y[index] = 0\n"
      ]
    }
  ],
  "metadata": {
    "kernelspec": {
      "display_name": "Python 3",
      "language": "python",
      "name": "python3"
    },
    "language_info": {
      "codemirror_mode": {
        "name": "ipython",
        "version": 3
      },
      "file_extension": ".py",
      "mimetype": "text/x-python",
      "name": "python",
      "nbconvert_exporter": "python",
      "pygments_lexer": "ipython3",
      "version": "3.6.7"
    },
    "colab": {
      "provenance": [],
      "include_colab_link": true
    }
  },
  "nbformat": 4,
  "nbformat_minor": 0
}