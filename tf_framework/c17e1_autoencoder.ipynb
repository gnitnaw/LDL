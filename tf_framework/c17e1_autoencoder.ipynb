{
  "cells": [
    {
      "cell_type": "markdown",
      "metadata": {
        "id": "view-in-github",
        "colab_type": "text"
      },
      "source": [
        "<a href=\"https://colab.research.google.com/github/gnitnaw/LDL/blob/main/tf_framework/c17e1_autoencoder.ipynb\" target=\"_parent\"><img src=\"https://colab.research.google.com/assets/colab-badge.svg\" alt=\"Open In Colab\"/></a>"
      ]
    },
    {
      "cell_type": "code",
      "execution_count": 1,
      "metadata": {
        "id": "60yG_YKWlGy_",
        "outputId": "0da1e359-5789-4502-923b-974558856aaf",
        "colab": {
          "base_uri": "https://localhost:8080/",
          "height": 111
        }
      },
      "outputs": [
        {
          "output_type": "execute_result",
          "data": {
            "text/plain": [
              "'\\nThe MIT License (MIT)\\nCopyright (c) 2021 NVIDIA\\nPermission is hereby granted, free of charge, to any person obtaining a copy of\\nthis software and associated documentation files (the \"Software\"), to deal in\\nthe Software without restriction, including without limitation the rights to\\nuse, copy, modify, merge, publish, distribute, sublicense, and/or sell copies of\\nthe Software, and to permit persons to whom the Software is furnished to do so,\\nsubject to the following conditions:\\nThe above copyright notice and this permission notice shall be included in all\\ncopies or substantial portions of the Software.\\nTHE SOFTWARE IS PROVIDED \"AS IS\", WITHOUT WARRANTY OF ANY KIND, EXPRESS OR\\nIMPLIED, INCLUDING BUT NOT LIMITED TO THE WARRANTIES OF MERCHANTABILITY, FITNESS\\nFOR A PARTICULAR PURPOSE AND NONINFRINGEMENT. IN NO EVENT SHALL THE AUTHORS OR\\nCOPYRIGHT HOLDERS BE LIABLE FOR ANY CLAIM, DAMAGES OR OTHER LIABILITY, WHETHER\\nIN AN ACTION OF CONTRACT, TORT OR OTHERWISE, ARISING FROM, OUT OF OR IN\\nCONNECTION WITH THE SOFTWARE OR THE USE OR OTHER DEALINGS IN THE SOFTWARE.\\n'"
            ],
            "application/vnd.google.colaboratory.intrinsic+json": {
              "type": "string"
            }
          },
          "metadata": {},
          "execution_count": 1
        }
      ],
      "source": [
        "\"\"\"\n",
        "The MIT License (MIT)\n",
        "Copyright (c) 2021 NVIDIA\n",
        "Permission is hereby granted, free of charge, to any person obtaining a copy of\n",
        "this software and associated documentation files (the \"Software\"), to deal in\n",
        "the Software without restriction, including without limitation the rights to\n",
        "use, copy, modify, merge, publish, distribute, sublicense, and/or sell copies of\n",
        "the Software, and to permit persons to whom the Software is furnished to do so,\n",
        "subject to the following conditions:\n",
        "The above copyright notice and this permission notice shall be included in all\n",
        "copies or substantial portions of the Software.\n",
        "THE SOFTWARE IS PROVIDED \"AS IS\", WITHOUT WARRANTY OF ANY KIND, EXPRESS OR\n",
        "IMPLIED, INCLUDING BUT NOT LIMITED TO THE WARRANTIES OF MERCHANTABILITY, FITNESS\n",
        "FOR A PARTICULAR PURPOSE AND NONINFRINGEMENT. IN NO EVENT SHALL THE AUTHORS OR\n",
        "COPYRIGHT HOLDERS BE LIABLE FOR ANY CLAIM, DAMAGES OR OTHER LIABILITY, WHETHER\n",
        "IN AN ACTION OF CONTRACT, TORT OR OTHERWISE, ARISING FROM, OUT OF OR IN\n",
        "CONNECTION WITH THE SOFTWARE OR THE USE OR OTHER DEALINGS IN THE SOFTWARE.\n",
        "\"\"\"\n"
      ]
    },
    {
      "cell_type": "markdown",
      "metadata": {
        "id": "UPf0dGtXlGzB"
      },
      "source": [
        "This code example demonstrates how an autoencoder can be used for outlier detection. We do this by first training an autoencoder on the Modified National Institute of Standards and Technology (MNIST) dataset. Then we observe how the error is higher when the network is presented with an image that does not represent a handwritten digit. More context for this code example can be found in the section \"Programming Example: Autoencoder for outlier detection\" in Chapter 17 in the book Learning Deep Learning by Magnus Ekman (ISBN: 9780137470358).\n"
      ]
    },
    {
      "cell_type": "markdown",
      "metadata": {
        "id": "0J7IsVUllGzC"
      },
      "source": [
        "We start with the usual set of import statements, followed by loading the MNIST dataset. Instead of standardizing the data to be centered around 0, we scale the data to be in the range 0 to 1. See the book for a discussion of why this is the case.\n"
      ]
    },
    {
      "cell_type": "code",
      "execution_count": 2,
      "metadata": {
        "id": "-jm-g3A5lGzD",
        "outputId": "d42b495e-b1fa-4ab3-cfcc-808ef390f5e0",
        "colab": {
          "base_uri": "https://localhost:8080/"
        }
      },
      "outputs": [
        {
          "output_type": "stream",
          "name": "stdout",
          "text": [
            "Downloading data from https://storage.googleapis.com/tensorflow/tf-keras-datasets/mnist.npz\n",
            "11490434/11490434 [==============================] - 0s 0us/step\n"
          ]
        }
      ],
      "source": [
        "import tensorflow as tf\n",
        "from tensorflow import keras\n",
        "from tensorflow.keras.utils import to_categorical\n",
        "import numpy as np\n",
        "import matplotlib.pyplot as plt\n",
        "import logging\n",
        "tf.get_logger().setLevel(logging.ERROR)\n",
        "\n",
        "EPOCHS = 10\n",
        "\n",
        "# Load traditional MNIST dataset.\n",
        "mnist = keras.datasets.mnist\n",
        "(train_images, train_labels), (test_images,\n",
        "                               test_labels) = mnist.load_data()\n",
        "\n",
        "# Scale the data.\n",
        "train_images = train_images / 255.0\n",
        "test_images = test_images / 255.0\n"
      ]
    },
    {
      "cell_type": "markdown",
      "metadata": {
        "id": "GIlBoYx9lGzE"
      },
      "source": [
        "The next step is to define and train the model. This is shown in the code snippet below. The encoder part of the model consists of a Flatten layer (changing the dimension from 28×28 to 784) followed by a single fully connected (Dense) layer with 64 units. The decoder consists of another fully connected layer with 784 units, followed by a Reshape layer that changes the dimension from 784 to 28×28. That is, the decoder performs the inverse of the operations done by the encoder. The goal for the autoencoder is to generate an output image that is identical to the input image, and it has to do that by fully encoding the 28×28 (784) image in the intermediate representation vector of size 64.\n"
      ]
    },
    {
      "cell_type": "code",
      "execution_count": 3,
      "metadata": {
        "id": "NMUEkGhxlGzE",
        "outputId": "694f9e3d-2e7c-4f4f-e950-1feba007ee3b",
        "colab": {
          "base_uri": "https://localhost:8080/"
        }
      },
      "outputs": [
        {
          "output_type": "stream",
          "name": "stdout",
          "text": [
            "Epoch 1/10\n",
            "938/938 - 6s - loss: 0.1632 - mean_absolute_error: 0.0860 - val_loss: 0.1085 - val_mean_absolute_error: 0.0473 - 6s/epoch - 7ms/step\n",
            "Epoch 2/10\n",
            "938/938 - 6s - loss: 0.0963 - mean_absolute_error: 0.0380 - val_loss: 0.0858 - val_mean_absolute_error: 0.0300 - 6s/epoch - 6ms/step\n",
            "Epoch 3/10\n",
            "938/938 - 5s - loss: 0.0824 - mean_absolute_error: 0.0269 - val_loss: 0.0784 - val_mean_absolute_error: 0.0236 - 5s/epoch - 5ms/step\n",
            "Epoch 4/10\n",
            "938/938 - 4s - loss: 0.0777 - mean_absolute_error: 0.0228 - val_loss: 0.0758 - val_mean_absolute_error: 0.0212 - 4s/epoch - 4ms/step\n",
            "Epoch 5/10\n",
            "938/938 - 3s - loss: 0.0759 - mean_absolute_error: 0.0211 - val_loss: 0.0747 - val_mean_absolute_error: 0.0202 - 3s/epoch - 3ms/step\n",
            "Epoch 6/10\n",
            "938/938 - 3s - loss: 0.0751 - mean_absolute_error: 0.0203 - val_loss: 0.0741 - val_mean_absolute_error: 0.0197 - 3s/epoch - 3ms/step\n",
            "Epoch 7/10\n",
            "938/938 - 4s - loss: 0.0746 - mean_absolute_error: 0.0199 - val_loss: 0.0737 - val_mean_absolute_error: 0.0194 - 4s/epoch - 4ms/step\n",
            "Epoch 8/10\n",
            "938/938 - 3s - loss: 0.0743 - mean_absolute_error: 0.0196 - val_loss: 0.0735 - val_mean_absolute_error: 0.0191 - 3s/epoch - 4ms/step\n",
            "Epoch 9/10\n",
            "938/938 - 3s - loss: 0.0740 - mean_absolute_error: 0.0194 - val_loss: 0.0734 - val_mean_absolute_error: 0.0191 - 3s/epoch - 4ms/step\n",
            "Epoch 10/10\n",
            "938/938 - 4s - loss: 0.0739 - mean_absolute_error: 0.0193 - val_loss: 0.0732 - val_mean_absolute_error: 0.0189 - 4s/epoch - 4ms/step\n"
          ]
        }
      ],
      "source": [
        "# Create and train autoencoder.\n",
        "model = keras.Sequential([\n",
        "    keras.layers.Flatten(input_shape=(28, 28)),\n",
        "    keras.layers.Dense(64, activation='relu',\n",
        "                       kernel_initializer='glorot_normal',\n",
        "                       bias_initializer='zeros'),\n",
        "    keras.layers.Dense(784, activation='sigmoid',\n",
        "                       kernel_initializer='glorot_normal',\n",
        "                       bias_initializer='zeros'),\n",
        "    keras.layers.Reshape((28, 28))])\n",
        "\n",
        "model.compile(loss='binary_crossentropy', optimizer = 'adam',\n",
        "              metrics =['mean_absolute_error'])\n",
        "\n",
        "history = model.fit(train_images, train_images,\n",
        "                    validation_data=(test_images, test_images),\n",
        "                    epochs=EPOCHS, batch_size=64, verbose=2,\n",
        "                    shuffle=True)\n"
      ]
    },
    {
      "cell_type": "markdown",
      "metadata": {
        "id": "abZ7cgeklGzF"
      },
      "source": [
        "Next, we use the trained model to try to reproduce the images in the test dataset. After applying the model to all test images, we plot one of the test images next to its corresponding version produced by the network.\n"
      ]
    },
    {
      "cell_type": "code",
      "execution_count": 4,
      "metadata": {
        "id": "STJPw4qplGzG",
        "outputId": "af01eb4e-4de7-42d9-f947-29ec4d6dfa29",
        "colab": {
          "base_uri": "https://localhost:8080/",
          "height": 306
        }
      },
      "outputs": [
        {
          "output_type": "stream",
          "name": "stdout",
          "text": [
            "313/313 [==============================] - 1s 2ms/step\n"
          ]
        },
        {
          "output_type": "display_data",
          "data": {
            "text/plain": [
              "<Figure size 640x480 with 2 Axes>"
            ],
            "image/png": "[encoded data removed]"
          },
          "metadata": {}
        }
      ],
      "source": [
        "# Predict on test dataset.\n",
        "predict_images = model.predict(test_images)\n",
        "\n",
        "# Plot one input example and resulting prediction.\n",
        "plt.subplot(1, 2, 1)\n",
        "plt.imshow(test_images[0], cmap=plt.get_cmap('gray'))\n",
        "plt.subplot(1, 2, 2)\n",
        "plt.imshow(predict_images[0], cmap=plt.get_cmap('gray'))\n",
        "plt.show()\n"
      ]
    },
    {
      "cell_type": "markdown",
      "metadata": {
        "id": "J6rDZwrwlGzG"
      },
      "source": [
        "The next step is to apply our autoencoder to a different image. We use a different dataset known as Fashion MNIST. This dataset is designed to serve as a drop-in replacement for MNIST. It consists of the same number of training and test images, using the same 28×28 resolution. Just as for MNIST, each image belongs to one of ten classes. The difference compared to MNIST is that instead of depicting handwritten images, the images depict various pieces of clothing: dress, shirt, sneaker, and so on. The code snippet below loads this dataset and uses the trained model to try to reproduce the fashion MNIST test images."
      ]
    },
    {
      "cell_type": "code",
      "execution_count": 5,
      "metadata": {
        "id": "B3xOrCselGzH",
        "outputId": "d67a44ee-d550-44c3-e12d-bfce23127be2",
        "colab": {
          "base_uri": "https://localhost:8080/",
          "height": 457
        }
      },
      "outputs": [
        {
          "output_type": "stream",
          "name": "stdout",
          "text": [
            "Downloading data from https://storage.googleapis.com/tensorflow/tf-keras-datasets/train-labels-idx1-ubyte.gz\n",
            "29515/29515 [==============================] - 0s 0us/step\n",
            "Downloading data from https://storage.googleapis.com/tensorflow/tf-keras-datasets/train-images-idx3-ubyte.gz\n",
            "26421880/26421880 [==============================] - 0s 0us/step\n",
            "Downloading data from https://storage.googleapis.com/tensorflow/tf-keras-datasets/t10k-labels-idx1-ubyte.gz\n",
            "5148/5148 [==============================] - 0s 0us/step\n",
            "Downloading data from https://storage.googleapis.com/tensorflow/tf-keras-datasets/t10k-images-idx3-ubyte.gz\n",
            "4422102/4422102 [==============================] - 0s 0us/step\n",
            "313/313 [==============================] - 0s 1ms/step\n"
          ]
        },
        {
          "output_type": "display_data",
          "data": {
            "text/plain": [
              "<Figure size 640x480 with 2 Axes>"
            ],
            "image/png": "[encoded data removed]"
          },
          "metadata": {}
        }
      ],
      "source": [
        "# Load Fashion MNIST.\n",
        "f_mnist = keras.datasets.fashion_mnist\n",
        "(f_train_images, f_train_labels), (f_test_images,\n",
        "                        f_test_labels) = f_mnist.load_data()\n",
        "\n",
        "f_train_images = f_train_images / 255.0\n",
        "f_test_images = f_test_images / 255.0\n",
        "\n",
        "# Predict and plot.\n",
        "f_predict_images = model.predict(f_test_images)\n",
        "plt.subplot(1, 2, 1)\n",
        "plt.imshow(f_test_images[0], cmap=plt.get_cmap('gray'))\n",
        "plt.subplot(1, 2, 2)\n",
        "plt.imshow(f_predict_images[0], cmap=plt.get_cmap('gray'))\n",
        "plt.show()\n"
      ]
    },
    {
      "cell_type": "markdown",
      "metadata": {
        "id": "fDN-spkElGzH"
      },
      "source": [
        "The result should indicate that the autoencoder is not good at reproducing images that look vastly different from the MNIST images. To quantify this further, the code snippet below computes the mean absolute error for the autoencoder, both for all MNIST test examples and all Fashion MNIST test examples. We then plot the results. The resulting chart shows how the autoencoder can be used to identify images that look different than the ones in the training dataset.\n"
      ]
    },
    {
      "cell_type": "code",
      "execution_count": 6,
      "metadata": {
        "id": "LCfUdizClGzI",
        "outputId": "7acec8aa-3155-484d-8cb3-ede3b5085a2f",
        "colab": {
          "base_uri": "https://localhost:8080/",
          "height": 472
        }
      },
      "outputs": [
        {
          "output_type": "display_data",
          "data": {
            "text/plain": [
              "<Figure size 640x480 with 1 Axes>"
            ],
            "image/png": "[encoded data removed]"
          },
          "metadata": {}
        }
      ],
      "source": [
        "# Compute errors and plot.\n",
        "error = np.mean(np.abs(test_images - predict_images), (1, 2))\n",
        "f_error = np.mean(np.abs(f_test_images - f_predict_images), (1, 2))\n",
        "_ = plt.hist((error, f_error), bins=50, label=['mnist',\n",
        "                                               'fashion mnist'])\n",
        "plt.legend()\n",
        "plt.xlabel('mean absolute error')\n",
        "plt.ylabel('examples')\n",
        "plt.title(\"Autoencoder for outlier detection\")\n",
        "plt.show()\n"
      ]
    },
    {
      "cell_type": "markdown",
      "metadata": {
        "id": "-6pgsOUulGzI"
      },
      "source": [
        "The chart indicates that there is some overlap between the two datasets in terms of resulting error. The code snippet below provides some insight into why this is the case by plotting the images with the highest error from the MNIST dataset. See the book for more details of the expected result.\n"
      ]
    },
    {
      "cell_type": "code",
      "execution_count": 7,
      "metadata": {
        "id": "QTY8VSCilGzI",
        "outputId": "8c6732f7-1af9-413f-93a1-3b4a8cd16016",
        "colab": {
          "base_uri": "https://localhost:8080/",
          "height": 287
        }
      },
      "outputs": [
        {
          "output_type": "display_data",
          "data": {
            "text/plain": [
              "<Figure size 640x480 with 2 Axes>"
            ],
            "image/png": "[encoded data removed]"
          },
          "metadata": {}
        }
      ],
      "source": [
        "# Print outliers in mnist data.\n",
        "index = error.argmax()\n",
        "plt.subplot(1, 2, 1)\n",
        "plt.imshow(test_images[index], cmap=plt.get_cmap('gray'))\n",
        "error[index] = 0\n",
        "index = error.argmax()\n",
        "plt.subplot(1, 2, 2)\n",
        "plt.imshow(test_images[index], cmap=plt.get_cmap('gray'))\n",
        "plt.show()\n"
      ]
    }
  ],
  "metadata": {
    "kernelspec": {
      "display_name": "Python 3",
      "language": "python",
      "name": "python3"
    },
    "language_info": {
      "codemirror_mode": {
        "name": "ipython",
        "version": 3
      },
      "file_extension": ".py",
      "mimetype": "text/x-python",
      "name": "python",
      "nbconvert_exporter": "python",
      "pygments_lexer": "ipython3",
      "version": "3.6.7"
    },
    "colab": {
      "provenance": [],
      "include_colab_link": true
    }
  },
  "nbformat": 4,
  "nbformat_minor": 0
}