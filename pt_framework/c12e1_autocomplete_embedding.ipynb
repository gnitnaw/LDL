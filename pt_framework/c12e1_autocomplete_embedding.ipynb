{
  "cells": [
    {
      "cell_type": "markdown",
      "metadata": {
        "id": "view-in-github",
        "colab_type": "text"
      },
      "source": [
        "<a href=\"https://colab.research.google.com/github/gnitnaw/LDL/blob/main/pt_framework/c12e1_autocomplete_embedding.ipynb\" target=\"_parent\"><img src=\"https://colab.research.google.com/assets/colab-badge.svg\" alt=\"Open In Colab\"/></a>"
      ]
    },
    {
      "cell_type": "code",
      "execution_count": 1,
      "metadata": {
        "id": "u8MAZjn9zXIU",
        "outputId": "82bc5bfc-423c-40c6-94e4-599dfd31839f",
        "colab": {
          "base_uri": "https://localhost:8080/",
          "height": 111
        }
      },
      "outputs": [
        {
          "output_type": "execute_result",
          "data": {
            "text/plain": [
              "'\\nThe MIT License (MIT)\\nCopyright (c) 2021 NVIDIA\\nPermission is hereby granted, free of charge, to any person obtaining a copy of\\nthis software and associated documentation files (the \"Software\"), to deal in\\nthe Software without restriction, including without limitation the rights to\\nuse, copy, modify, merge, publish, distribute, sublicense, and/or sell copies of\\nthe Software, and to permit persons to whom the Software is furnished to do so,\\nsubject to the following conditions:\\nThe above copyright notice and this permission notice shall be included in all\\ncopies or substantial portions of the Software.\\nTHE SOFTWARE IS PROVIDED \"AS IS\", WITHOUT WARRANTY OF ANY KIND, EXPRESS OR\\nIMPLIED, INCLUDING BUT NOT LIMITED TO THE WARRANTIES OF MERCHANTABILITY, FITNESS\\nFOR A PARTICULAR PURPOSE AND NONINFRINGEMENT. IN NO EVENT SHALL THE AUTHORS OR\\nCOPYRIGHT HOLDERS BE LIABLE FOR ANY CLAIM, DAMAGES OR OTHER LIABILITY, WHETHER\\nIN AN ACTION OF CONTRACT, TORT OR OTHERWISE, ARISING FROM, OUT OF OR IN\\nCONNECTION WITH THE SOFTWARE OR THE USE OR OTHER DEALINGS IN THE SOFTWARE.\\n'"
            ],
            "application/vnd.google.colaboratory.intrinsic+json": {
              "type": "string"
            }
          },
          "metadata": {},
          "execution_count": 1
        }
      ],
      "source": [
        "\"\"\"\n",
        "The MIT License (MIT)\n",
        "Copyright (c) 2021 NVIDIA\n",
        "Permission is hereby granted, free of charge, to any person obtaining a copy of\n",
        "this software and associated documentation files (the \"Software\"), to deal in\n",
        "the Software without restriction, including without limitation the rights to\n",
        "use, copy, modify, merge, publish, distribute, sublicense, and/or sell copies of\n",
        "the Software, and to permit persons to whom the Software is furnished to do so,\n",
        "subject to the following conditions:\n",
        "The above copyright notice and this permission notice shall be included in all\n",
        "copies or substantial portions of the Software.\n",
        "THE SOFTWARE IS PROVIDED \"AS IS\", WITHOUT WARRANTY OF ANY KIND, EXPRESS OR\n",
        "IMPLIED, INCLUDING BUT NOT LIMITED TO THE WARRANTIES OF MERCHANTABILITY, FITNESS\n",
        "FOR A PARTICULAR PURPOSE AND NONINFRINGEMENT. IN NO EVENT SHALL THE AUTHORS OR\n",
        "COPYRIGHT HOLDERS BE LIABLE FOR ANY CLAIM, DAMAGES OR OTHER LIABILITY, WHETHER\n",
        "IN AN ACTION OF CONTRACT, TORT OR OTHERWISE, ARISING FROM, OUT OF OR IN\n",
        "CONNECTION WITH THE SOFTWARE OR THE USE OR OTHER DEALINGS IN THE SOFTWARE.\n",
        "\"\"\"\n"
      ]
    },
    {
      "cell_type": "markdown",
      "metadata": {
        "id": "zO5ddFNZzXIX"
      },
      "source": [
        "This code example is similar to c11_e1_autocomplete, but it works on words (encoded with an embedding layer) instead of characters and it does not do beam search. More context for this code example can be found in the section \"Programming Example: Neural Language Model and Resulting Embeddings\" in Chapter 12 in the book Learning Deep Learning by Magnus Ekman (ISBN: 9780137470358).\n"
      ]
    },
    {
      "cell_type": "markdown",
      "source": [
        "# Google Drive"
      ],
      "metadata": {
        "id": "q0p3bR2hHSkG"
      }
    },
    {
      "cell_type": "code",
      "source": [
        "!wget https://github.com/gnitnaw/LDL/raw/main/pt_framework/utilities.py\n",
        "from google.colab import drive\n",
        "drive.mount('/content/drive')\n",
        "path_head = '/content/drive/MyDrive/Colab Notebooks/' # You have to change this. "
      ],
      "metadata": {
        "id": "o9ex2hN2HUaL",
        "outputId": "0ee54647-974f-4709-e745-1d216595ef33",
        "colab": {
          "base_uri": "https://localhost:8080/"
        }
      },
      "execution_count": 2,
      "outputs": [
        {
          "output_type": "stream",
          "name": "stdout",
          "text": [
            "--2023-03-23 15:37:28--  https://github.com/gnitnaw/LDL/raw/main/pt_framework/utilities.py\n",
            "Resolving github.com (github.com)... 140.82.114.4\n",
            "Connecting to github.com (github.com)|140.82.114.4|:443... connected.\n",
            "HTTP request sent, awaiting response... 302 Found\n",
            "Location: https://raw.githubusercontent.com/gnitnaw/LDL/main/pt_framework/utilities.py [following]\n",
            "--2023-03-23 15:37:28--  https://raw.githubusercontent.com/gnitnaw/LDL/main/pt_framework/utilities.py\n",
            "Resolving raw.githubusercontent.com (raw.githubusercontent.com)... 185.199.108.133, 185.199.109.133, 185.199.110.133, ...\n",
            "Connecting to raw.githubusercontent.com (raw.githubusercontent.com)|185.199.108.133|:443... connected.\n",
            "HTTP request sent, awaiting response... 200 OK\n",
            "Length: 4326 (4.2K) [text/plain]\n",
            "Saving to: ‘utilities.py’\n",
            "\n",
            "utilities.py        100%[===================>]   4.22K  --.-KB/s    in 0s      \n",
            "\n",
            "2023-03-23 15:37:28 (63.8 MB/s) - ‘utilities.py’ saved [4326/4326]\n",
            "\n",
            "Mounted at /content/drive\n"
          ]
        }
      ]
    },
    {
      "cell_type": "markdown",
      "metadata": {
        "id": "3amV9CDGzXIY"
      },
      "source": [
        "The initialization code below contains a couple of additional imports compared to c11_e1_autocomplete. It might seem odd that we are importing modules from TensorFlow given that this code example is supposed to be implemented in PyTorch. This is not a typo. We simply decided to use some functionality from TensorFlow for preprocessing text. The DL model itself is fully implemented in PyTorch.\n",
        "\n",
        "We also define two new constants MAX_WORDS and EMBEDDING_WIDTH that define the max size of our vocabulary and the dimensionality of the word vectors.\n"
      ]
    },
    {
      "cell_type": "code",
      "execution_count": 3,
      "metadata": {
        "id": "wKnvoaskzXIZ"
      },
      "outputs": [],
      "source": [
        "import torch\n",
        "import torch.nn as nn\n",
        "from sklearn.model_selection import train_test_split\n",
        "from torch.utils.data import TensorDataset, DataLoader\n",
        "# Using Keras Tokenizer for simplicity\n",
        "from tensorflow.keras.preprocessing.text import Tokenizer\n",
        "from tensorflow.keras.preprocessing.text \\\n",
        "    import text_to_word_sequence\n",
        "import numpy as np\n",
        "from utilities import train_model\n",
        "\n",
        "device = torch.device(\"cuda:0\" if torch.cuda.is_available() else \"cpu\")\n",
        "EPOCHS = 32\n",
        "BATCH_SIZE = 256\n",
        "# INPUT_FILE_NAME = '../data/frankenstein.txt'\n",
        "INPUT_FILE_NAME = path_head+'data/frankenstein.txt'\n",
        "WINDOW_LENGTH = 40\n",
        "WINDOW_STEP = 3\n",
        "PREDICT_LENGTH = 3\n",
        "MAX_WORDS = 10000\n",
        "EMBEDDING_WIDTH = 100\n"
      ]
    },
    {
      "cell_type": "markdown",
      "metadata": {
        "id": "LQSHLtS-zXIZ"
      },
      "source": [
        "The next code snippet first reads the input file and splits the text into a list of individual words. The latter is done by using the imported function text_to_word_sequence(), which also removes punctuation and converts the text to lowercase, so we do not need to do that manually in this example. We then create input fragments and associated target words just as in the characterbased example. Because we are working at the granularity of words, these training sentences will be longer from a human perspective, but from the network perspective, they still contain the same number of symbols. However, it will result in fewer training examples than for the character-based example, given that we slide the window forward by a fixed number of words instead of a fixed number of characters for each example. Combined with the fact that the number of unique symbols (the vocabulary) is larger for a word-based system (10,000 words in our case vs. 26 characters), this generally results in a need for a larger text corpus for training a word-based language model than for training a character-based model, but we will still stick with using Frankenstein for this example.\n"
      ]
    },
    {
      "cell_type": "code",
      "execution_count": 4,
      "metadata": {
        "id": "WaF2S1oQzXIa"
      },
      "outputs": [],
      "source": [
        "# Open the input file.\n",
        "file = open(INPUT_FILE_NAME, 'r', encoding='utf-8-sig')\n",
        "text = file.read()\n",
        "file.close()\n",
        "\n",
        "# Make lower case and split into individual words.\n",
        "text = text_to_word_sequence(text)\n",
        "\n",
        "# Create training examples.\n",
        "fragments = []\n",
        "targets = []\n",
        "for i in range(0, len(text) - WINDOW_LENGTH, WINDOW_STEP):\n",
        "    fragments.append(text[i: i + WINDOW_LENGTH])\n",
        "    targets.append(text[i + WINDOW_LENGTH])\n"
      ]
    },
    {
      "cell_type": "markdown",
      "metadata": {
        "id": "kZNSxFTTzXIb"
      },
      "source": [
        "The next step is to convert the training examples into the correct format. Each input word needs to be encoded to a corresponding word index (an integer). This index will then be converted into an embedding by the Embedding layer. The target (output) word should still be one-hot encoded. To simplify how to interpret the output, we want the one-hot encoding to be done in such a way that bit N is hot when the network outputs the word corresponding to index N in the input encoding.\n",
        "\n",
        "We make use of the Tokenizer class. When we construct our tokenizer, we provide an argument num_words = MAX_WORDS that caps the size of the vocabulary. The tokenizer object reserves index 0 to use as a special padding value and index 1 for unknown words. The remaining 9,998 indices (MAX_WORDS was set to 10,000) are used to represent words in the vocabulary.\n",
        "\n",
        "The padding value (index 0) can be used to make all training examples within the same batch have the same length. The Embedding layer can be instructed to ignore this value, so the network does not train on the padding values.\n",
        "\n",
        "Index 1 is reserved for UNKnown (UNK) words because we have declared UNK as an out-of-vocabulary (oov) token. When using the tokenizer to convert text to tokens, any word that is not in the vocabulary will be replaced by the word UNK. Similarly, if we try to convert an index that is not assigned to a word, the tokenizer will return UNK. If we do not set the oov_token parameter, it will simply ignore such words/indices.\n",
        "\n",
        "After instantiating our tokenizer, we call fit_on_texts() with our entire text corpus, which will result in the tokenizer assigning indices to words. We can then use the function texts_to_sequences to convert a text string into a list of indices, where unknown words will be assigned the index 1.\n"
      ]
    },
    {
      "cell_type": "code",
      "execution_count": 5,
      "metadata": {
        "id": "to_aSrypzXIb"
      },
      "outputs": [],
      "source": [
        "# Convert to indices.\n",
        "tokenizer = Tokenizer(num_words=MAX_WORDS, oov_token='UNK')\n",
        "tokenizer.fit_on_texts(text)\n",
        "fragments_indexed = tokenizer.texts_to_sequences(fragments)\n",
        "targets_indexed = tokenizer.texts_to_sequences(targets)\n",
        "\n",
        "# Convert to appropriate input and output formats.\n",
        "X = np.array(fragments_indexed, dtype=np.int64)\n",
        "y = np.zeros(len(targets_indexed), dtype=np.int64)\n",
        "for i, target_index in enumerate(targets_indexed):\n",
        "    y[i] = target_index[0]\n"
      ]
    },
    {
      "cell_type": "markdown",
      "metadata": {
        "id": "rTiwrVwozXIb"
      },
      "source": [
        "Just like in the previous example, we split the data into a training set and a test set and create Dataset objects."
      ]
    },
    {
      "cell_type": "code",
      "execution_count": 6,
      "metadata": {
        "id": "B1jEU5tyzXIc"
      },
      "outputs": [],
      "source": [
        "# Split into training and test set.\n",
        "train_X, test_X, train_y, test_y = train_test_split(\n",
        "    X, y, test_size=0.05, random_state=0)\n",
        "\n",
        "# Create Dataset objects.\n",
        "trainset = TensorDataset(torch.from_numpy(train_X), torch.from_numpy(train_y))\n",
        "testset = TensorDataset(torch.from_numpy(test_X), torch.from_numpy(test_y))\n"
      ]
    },
    {
      "cell_type": "markdown",
      "metadata": {
        "id": "bKKPt-k2zXId"
      },
      "source": [
        "We are now ready to create the model, but we do this differently than we have done in previous examples, both to illustrate some new constructs but also to provide more flexibility in what we are building. Instead of instantiating a Sequential model with standard layers, we build a fully customized model. This is done by extending the nn.Module class. We already saw examples of that when we built custom layers, and we use a similar methodolgoy when building a fully custom model.\n",
        "\n",
        "To understand the details of this model we first need to take a detour and discuss some details of how we plan to use the model to do predictions. We do this a little bit differently than in the previous chapters. Instead of feeding a string of symbols as input to the model, we feed it only a single symbol at a time. This is an alternative implementation compared to the implementation in Chapter 11, where we repeatedly fed the model a growing sequence of characters. To clarify, in c11e1_autocomplete, we first fed the model the sequence 'the body ', which resulted in the character ‘w’ as output. In the next step, we fed it 'the body w', followed by 'the body wh', and so on. That is, for every prediction, we started over from the beginning. Had we instead used the implementation from this chapter, we would have fed it 't', 'h', 'e', ' ', 'b', 'o', 'd', 'y', ' ', which would have resulted in an output 'w', and we would then just feed that character back as input.\n",
        "\n",
        "The scheme used in this chapter has a subtle implication, which has to do with dependencies between multiple consecutive calls to the model. In Chapter 11, we did not have an expectation that the inputs to the first prediction should impact the second prediction. We probably would have found it odd if they had because that would mean that the output value we would get from the model could be different for two consecutive calls that had identical input values. This has been implicitly taken care of in the previous models by the internal state (c and h for LSTM cells) being reset to 0 between each call to the model.\n",
        "\n",
        "In this chapter, we do not want this behavior. We want the LSTM layers to retain their c and h states from one call to another so that the outputs of subsequent calls to the model will depend on the prior calls to the model. We provide this functionality with our own custom methods set_state(), get_state(), and clear_state().\n",
        "\n",
        "We are now ready to describe the details of our model. The __init__() function will be called a single time when the model is created. When buildging a custo model, this is the place to put any initialization code, such as declaring the layers to be used by the model as well as any other variables that will be needed.\n",
        "\n",
        "We start with declaring two variables state and use_state to control how we handle initialization of the internal state of the LSTM layers (see below).\n",
        "\n",
        "For the model, we start with declaring an Embedding layer with MAX_WORDS as input size and EMBEDDING_WIDTH as output size. We adjust the weight initialization to use uniform random numbers between -0.05 and 0.05, as opposed to the default range of -1.0 to 1.0. We did this to match the range used in our TensorFlow examples. \n",
        "\n",
        "Next we declare an LSTM module containing two LSTM layers, similar to c11e1_autocomplete. We also add a Dropout layer, followed by two fully connected layers, with ReLU activation in-between. You might wonder why we no longer need the custom layer between the LSTM module and the Dropout layer, when we needed that in c11e1_autocomplete. The reason is that in a custom model the layers are not automatically connected to each other but we handle that explicitly in the forward() method. In fact, we could have declared the layers in any order in the __init__ function, and the model would still do the same thing.\n",
        "\n",
        "The behavior of the model is defined in the forward method. We feed the inputs to the embedding layer and the resulting outputs are temporarily stored in the variable x. Next we arrive at the custom state handling code for the LSTM layers. If our variable use_state is False (the value we initialized it to), we will call the LSTM layers with just x as input. This implies that the LSTM module will use 0 as initial h and c states. However, if use_state is set to true, we will also supply the variable self.state as input to the LSTM layers. In that case the LSTM layers will use these states as their initial states instead of 0.\n",
        "\n",
        "After the LSTM layers has been called, we retrieve the resulting internal state and store it in self.state so it can be used as input for the next timestep. Apart from calling detach() we also call clone(), which makes a copy of the state so it does not change under the hood by the layers themselves if they are later called with new inputs.\n",
        "\n",
        "We then feed the output from the top LSTM layer through the Dropout layer. The indices after variable x results in selecting the final timestep for the top LSTM layer. That is, this is equivalent to the functionality of the custom layer in c11e1_autocomplete. Given that we are building a custom model and have explicit control of how the layers are connected, there is no need to declare a custom layer.\n",
        "\n",
        "The rest of the forward method is straight forward and we feed the output from the Dropout layer through a Linear layer, followed by a ReLU layer, and finally another Linear layer that represents the Softmax layer but without its activation function, which is later included in the loss function.\n",
        "\n",
        "Now let us detail the intended use of set_state, get_state, and clear_state. At the beginning of time the use_state variable is set to False. When calling the model, it will use 0 as internal state. After each call to the model, we can retrieve the resulting state by calling get_state. If we later want the model to use this state as its initial state, we simply call set_state and supply that state to the model, before we call the model with its input data. If we later decide that we want to start with a cleared internal state again, we simply call the clear_state method. This concludes the description of the custom model.\n",
        "\n",
        "Next we instantiate the model, select our normal optimizer and loss function, and finally train the model. Our training process does not make use of the just described state handling and the model will simply use 0 as initial state for each call to the model during training.\n"
      ]
    },
    {
      "cell_type": "code",
      "execution_count": 7,
      "metadata": {
        "id": "DGZg6T7ezXIe",
        "outputId": "5a28ae30-af6b-4ed4-d1a8-7e3ff9de5e55",
        "colab": {
          "base_uri": "https://localhost:8080/"
        }
      },
      "outputs": [
        {
          "output_type": "stream",
          "name": "stdout",
          "text": [
            "Epoch 1/32 loss: 7.2524 - acc: 0.0442 - val_loss: 6.8457 - val_acc: 0.0443\n",
            "Epoch 2/32 loss: 6.5160 - acc: 0.0555 - val_loss: 6.9190 - val_acc: 0.0443\n",
            "Epoch 3/32 loss: 6.3628 - acc: 0.0561 - val_loss: 6.8108 - val_acc: 0.0443\n",
            "Epoch 4/32 loss: 6.2462 - acc: 0.0642 - val_loss: 6.8536 - val_acc: 0.0540\n",
            "Epoch 5/32 loss: 6.1498 - acc: 0.0741 - val_loss: 6.8597 - val_acc: 0.0625\n",
            "Epoch 6/32 loss: 6.0216 - acc: 0.0797 - val_loss: 6.8870 - val_acc: 0.0651\n",
            "Epoch 7/32 loss: 5.8864 - acc: 0.0847 - val_loss: 6.9128 - val_acc: 0.0664\n",
            "Epoch 8/32 loss: 5.7675 - acc: 0.0893 - val_loss: 7.0248 - val_acc: 0.0684\n",
            "Epoch 9/32 loss: 5.6705 - acc: 0.0927 - val_loss: 7.0696 - val_acc: 0.0664\n",
            "Epoch 10/32 loss: 5.5808 - acc: 0.0957 - val_loss: 7.2443 - val_acc: 0.0612\n",
            "Epoch 11/32 loss: 5.4971 - acc: 0.0993 - val_loss: 7.3605 - val_acc: 0.0716\n",
            "Epoch 12/32 loss: 5.4098 - acc: 0.1076 - val_loss: 7.4068 - val_acc: 0.0677\n",
            "Epoch 13/32 loss: 5.3149 - acc: 0.1122 - val_loss: 7.6057 - val_acc: 0.0807\n",
            "Epoch 14/32 loss: 5.2332 - acc: 0.1189 - val_loss: 7.7029 - val_acc: 0.0749\n",
            "Epoch 15/32 loss: 5.1442 - acc: 0.1224 - val_loss: 7.8555 - val_acc: 0.0775\n",
            "Epoch 16/32 loss: 5.0557 - acc: 0.1297 - val_loss: 8.0091 - val_acc: 0.0820\n",
            "Epoch 17/32 loss: 4.9694 - acc: 0.1359 - val_loss: 8.2950 - val_acc: 0.0866\n",
            "Epoch 18/32 loss: 4.8731 - acc: 0.1407 - val_loss: 8.5018 - val_acc: 0.0859\n",
            "Epoch 19/32 loss: 4.7812 - acc: 0.1460 - val_loss: 8.5720 - val_acc: 0.0853\n",
            "Epoch 20/32 loss: 4.6926 - acc: 0.1523 - val_loss: 8.7431 - val_acc: 0.0814\n",
            "Epoch 21/32 loss: 4.6118 - acc: 0.1566 - val_loss: 9.2246 - val_acc: 0.0781\n",
            "Epoch 22/32 loss: 4.5272 - acc: 0.1608 - val_loss: 9.2557 - val_acc: 0.0788\n",
            "Epoch 23/32 loss: 4.4467 - acc: 0.1666 - val_loss: 9.5724 - val_acc: 0.0736\n",
            "Epoch 24/32 loss: 4.3720 - acc: 0.1713 - val_loss: 9.7128 - val_acc: 0.0801\n",
            "Epoch 25/32 loss: 4.2892 - acc: 0.1781 - val_loss: 9.9955 - val_acc: 0.0788\n",
            "Epoch 26/32 loss: 4.2167 - acc: 0.1834 - val_loss: 10.2501 - val_acc: 0.0677\n",
            "Epoch 27/32 loss: 4.1432 - acc: 0.1902 - val_loss: 10.5010 - val_acc: 0.0710\n",
            "Epoch 28/32 loss: 4.0599 - acc: 0.1985 - val_loss: 10.5849 - val_acc: 0.0651\n",
            "Epoch 29/32 loss: 3.9856 - acc: 0.2013 - val_loss: 11.0688 - val_acc: 0.0645\n",
            "Epoch 30/32 loss: 3.9257 - acc: 0.2065 - val_loss: 11.0747 - val_acc: 0.0618\n",
            "Epoch 31/32 loss: 3.8486 - acc: 0.2162 - val_loss: 11.2939 - val_acc: 0.0651\n",
            "Epoch 32/32 loss: 3.7737 - acc: 0.2219 - val_loss: 11.7598 - val_acc: 0.0605\n"
          ]
        },
        {
          "output_type": "execute_result",
          "data": {
            "text/plain": [
              "[0.22185905612244897, 0.060546875]"
            ]
          },
          "metadata": {},
          "execution_count": 7
        }
      ],
      "source": [
        "# Define model.\n",
        "class LanguageModel(nn.Module):\n",
        "    def __init__(self):\n",
        "        super().__init__()\n",
        "        self.state = None\n",
        "        self.use_state = False\n",
        "        self.embedding_layer = nn.Embedding(MAX_WORDS, EMBEDDING_WIDTH)\n",
        "        nn.init.uniform_(self.embedding_layer.weight, -0.05, 0.05) # Default is -1, 1.\n",
        "        self.lstm_layers = nn.LSTM(EMBEDDING_WIDTH, 128, num_layers=2, dropout=0.2, batch_first=True)\n",
        "        self.dropout_layer = nn.Dropout(0.2)\n",
        "        self.linear_layer = nn.Linear(128, 128)\n",
        "        self.relu_layer = nn.ReLU()\n",
        "        self.output_layer = nn.Linear(128, MAX_WORDS)\n",
        "\n",
        "    def forward(self, inputs):\n",
        "        x = self.embedding_layer(inputs)\n",
        "        if(self.use_state):\n",
        "            x = self.lstm_layers(x, self.state)\n",
        "        else:\n",
        "            x = self.lstm_layers(x)\n",
        "        self.state = (x[1][0].detach().clone(), x[1][1].detach().clone()) # Store most recent internal state.\n",
        "        x = self.dropout_layer(x[1][0][1])\n",
        "        x = self.linear_layer(x)\n",
        "        x = self.relu_layer(x)\n",
        "        x = self.output_layer(x)\n",
        "        return x\n",
        "\n",
        "    # Functions to provide explicit control of LSTM state.\n",
        "    def set_state(self, state):\n",
        "        self.state = state\n",
        "        self.use_state = True\n",
        "        return\n",
        "\n",
        "    def get_state(self):\n",
        "        return self.state\n",
        "\n",
        "    def clear_state(self):\n",
        "        self.use_state = False\n",
        "        return\n",
        "\n",
        "model = LanguageModel()\n",
        "\n",
        "# Loss function and optimizer\n",
        "optimizer = torch.optim.Adam(model.parameters())\n",
        "loss_function = nn.CrossEntropyLoss()\n",
        "\n",
        "# Train the model.\n",
        "train_model(model, device, EPOCHS, BATCH_SIZE, trainset, testset,\n",
        "            optimizer, loss_function, 'acc')\n"
      ]
    },
    {
      "cell_type": "markdown",
      "metadata": {
        "id": "nzfCnXBCzXIf"
      },
      "source": [
        "After training the model, we are ready to use it to do predictions. The first loop in the code snippet below feeds an initial sequence of words to the model. Note how we call get_state after each call followed by set_state, which instructs the model to use this stat instead of reseting it before each word.\n",
        "\n",
        "The second loop contains the autoregression logic where we identify the word that the model predicts as highest probability and then feed that as input to the model in the next timestep. To simplify the implementation, we do not do beam search this time around but simply predict the most probable word at each timestep.\n",
        "\n",
        "We conclude with printing the resulting autocompleted text sequence.\n"
      ]
    },
    {
      "cell_type": "code",
      "execution_count": 8,
      "metadata": {
        "id": "8g918QJkzXIf",
        "outputId": "067c150d-5712-4aa2-9c35-5f8aa736ead8",
        "colab": {
          "base_uri": "https://localhost:8080/"
        }
      },
      "outputs": [
        {
          "output_type": "stream",
          "name": "stdout",
          "text": [
            "i saw the most creature \n"
          ]
        }
      ],
      "source": [
        "# Provide beginning of sentence and\n",
        "# predict next words in a greedy manner.\n",
        "first_words = ['i', 'saw']\n",
        "first_words_indexed = tokenizer.texts_to_sequences(\n",
        "    first_words)\n",
        "model.clear_state()\n",
        "predicted_string = ''\n",
        "# Feed initial words to the model.\n",
        "for i, word_index in enumerate(first_words_indexed):\n",
        "    x = np.zeros((1, 1), dtype=np.int64)\n",
        "    x[0][0] = word_index[0]\n",
        "    predicted_string += first_words[i]\n",
        "    predicted_string += ' '\n",
        "    inputs = torch.from_numpy(x)\n",
        "    inputs = inputs.to(device)\n",
        "    outputs = model(inputs)\n",
        "    y_predict = outputs.cpu().detach().numpy()[0]\n",
        "    state = model.get_state()\n",
        "    model.set_state(state)\n",
        "# Predict PREDICT_LENGTH words.\n",
        "for i in range(PREDICT_LENGTH):\n",
        "    new_word_index = np.argmax(y_predict)\n",
        "    word = tokenizer.sequences_to_texts(\n",
        "        [[new_word_index]])\n",
        "    x[0][0] = new_word_index\n",
        "    predicted_string += word[0]\n",
        "    predicted_string += ' '\n",
        "    inputs = torch.from_numpy(x)\n",
        "    inputs = inputs.to(device)\n",
        "    outputs = model(inputs)\n",
        "    y_predict = outputs.cpu().detach().numpy()[0]\n",
        "    state = model.get_state()\n",
        "    model.set_state(state)\n",
        "print(predicted_string)\n"
      ]
    },
    {
      "cell_type": "markdown",
      "metadata": {
        "id": "fwarhqMJzXIf"
      },
      "source": [
        "All of the preceding code had to do with building and using a language model. The next code snippet adds some functionality to explore the learned embeddings. We first read out the word embeddings from the Embedding layer by accessing the weight variable from the model's first layer, which represents the Embedding layer. We move the weights back to the CPU and convert them to NumPy format. We first have to call detach() and clone() (see section \"Explicit moves of data between NumPy and PyTorch\n",
        "\" in Appendix I for a brief discussion about these constructs).\n",
        "\n",
        "We then declare a list of a number of arbitrary lookup words. This is followed by a loop that does one iteration per lookup word. The loop uses the Tokenizer to convert the lookup word to a word index, which is then used to retrieve the corresponding word embedding. The Tokenizer functions are generally assumed to work on lists. Therefore, although we work with a single word at a time, we need to provide it as a list of size 1, and then we need to retrieve element zero ([0]) from the output.\n",
        "\n",
        "Once we have retrieved the corresponding word embedding, we loop through all the other embeddings and calculate the Euclidean distance to the embedding for the lookup word using the NumPy function norm(). We add the distance and the corresponding word to the dictionary word_indices. Once we have calculated the distance to each word, we simply sort the distances and retrieve the five word indices that correspond to the word embeddings that are closest in vector space. We use the Tokenizer to convert these indices back to words and print them and their corresponding distances.\n",
        "\n",
        "See table 12-4 in Chapter 12 for examples of how words were grouped when we did this experiment with an equivalent TensorFlow implementation. Note that given the stochastic nature of this process, your model will likely produce a quite different output, but there should be a high probability that your model produces a correct sentence. Note that because we replaced rare words with UNK (for UNKnown) in the training set, the model may well produce an output sentence that includes UNK as a word.\n"
      ]
    },
    {
      "cell_type": "code",
      "execution_count": 9,
      "metadata": {
        "id": "IroXgZmZzXIg",
        "outputId": "07f63e72-ef37-44b8-cc8b-bb32378f4628",
        "colab": {
          "base_uri": "https://localhost:8080/"
        }
      },
      "outputs": [
        {
          "output_type": "stream",
          "name": "stdout",
          "text": [
            "words close to: the\n",
            "the:  0.0\n",
            "a:  1.2241365\n",
            "youthful:  1.6229844\n",
            "“the:  1.6717534\n",
            "809:  1.7016971\n",
            "\n",
            "words close to: saw\n",
            "saw:  0.0\n",
            "delightful:  0.4851461\n",
            "surprised:  0.49244562\n",
            "waters:  0.49818456\n",
            "UNK:  0.49855107\n",
            "\n",
            "words close to: see\n",
            "see:  0.0\n",
            "followed:  0.48561257\n",
            "waters:  0.5186665\n",
            "plunge:  0.5308033\n",
            "unite:  0.5425224\n",
            "\n",
            "words close to: of\n",
            "of:  0.0\n",
            "at:  0.48613122\n",
            "by:  0.48957255\n",
            "in:  0.4993064\n",
            "with:  0.5208904\n",
            "\n",
            "words close to: and\n",
            "and:  0.0\n",
            "UNK:  0.46118343\n",
            "breeze:  0.46469906\n",
            "now:  0.46775377\n",
            "swiftness:  0.47087872\n",
            "\n",
            "words close to: monster\n",
            "monster:  0.0\n",
            "UNK:  0.4298347\n",
            "UNK:  0.4318131\n",
            "UNK:  0.44438556\n",
            "again:  0.44721502\n",
            "\n",
            "words close to: frankenstein\n",
            "frankenstein:  0.0\n",
            "UNK:  0.4891713\n",
            "UNK:  0.49190924\n",
            "UNK:  0.4935035\n",
            "UNK:  0.494501\n",
            "\n",
            "words close to: read\n",
            "read:  0.0\n",
            "idea:  0.49435824\n",
            "wonderful:  0.50103796\n",
            "days:  0.5029214\n",
            "exclaimed:  0.50901455\n",
            "\n",
            "words close to: eat\n",
            "eat:  0.0\n",
            "cottages:  0.4487393\n",
            "attacks:  0.5346755\n",
            "bestowing:  0.54676855\n",
            "persuasions:  0.5571986\n",
            "\n"
          ]
        }
      ],
      "source": [
        "# Explore embedding similarities.\n",
        "it = model.modules()\n",
        "next(it)\n",
        "embeddings = next(it).weight\n",
        "embeddings = embeddings.detach().clone().cpu().numpy()\n",
        "\n",
        "lookup_words = ['the', 'saw', 'see', 'of', 'and',\n",
        "                'monster', 'frankenstein', 'read', 'eat']\n",
        "for lookup_word in lookup_words:\n",
        "    lookup_word_indexed = tokenizer.texts_to_sequences(\n",
        "        [lookup_word])\n",
        "    print('words close to:', lookup_word)\n",
        "    lookup_embedding = embeddings[lookup_word_indexed[0]]\n",
        "    word_indices = {}\n",
        "    # Calculate distances.\n",
        "    for i, embedding in enumerate(embeddings):\n",
        "        distance = np.linalg.norm(\n",
        "            embedding - lookup_embedding)\n",
        "        word_indices[distance] = i\n",
        "    # Print sorted by distance.\n",
        "    for distance in sorted(word_indices.keys())[:5]:\n",
        "        word_index = word_indices[distance]\n",
        "        word = tokenizer.sequences_to_texts([[word_index]])[0]\n",
        "        print(word + ': ', distance)\n",
        "    print('')\n"
      ]
    }
  ],
  "metadata": {
    "kernelspec": {
      "display_name": "Python 3",
      "language": "python",
      "name": "python3"
    },
    "language_info": {
      "codemirror_mode": {
        "name": "ipython",
        "version": 3
      },
      "file_extension": ".py",
      "mimetype": "text/x-python",
      "name": "python",
      "nbconvert_exporter": "python",
      "pygments_lexer": "ipython3",
      "version": "3.8.6"
    },
    "colab": {
      "provenance": [],
      "include_colab_link": true
    },
    "accelerator": "GPU",
    "gpuClass": "standard"
  },
  "nbformat": 4,
  "nbformat_minor": 0
}