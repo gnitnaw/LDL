{
  "cells": [
    {
      "cell_type": "markdown",
      "metadata": {
        "id": "view-in-github",
        "colab_type": "text"
      },
      "source": [
        "<a href=\"https://colab.research.google.com/github/gnitnaw/LDL/blob/main/pt_framework/c7e2_convnet_cifar.ipynb\" target=\"_parent\"><img src=\"https://colab.research.google.com/assets/colab-badge.svg\" alt=\"Open In Colab\"/></a>"
      ]
    },
    {
      "cell_type": "code",
      "execution_count": 1,
      "metadata": {
        "id": "vQ8r9WZqpzkr",
        "outputId": "77853b3f-2bc0-4cd2-e84e-eaa5bbce8e02",
        "colab": {
          "base_uri": "https://localhost:8080/",
          "height": 109
        }
      },
      "outputs": [
        {
          "output_type": "execute_result",
          "data": {
            "text/plain": [
              "'\\nThe MIT License (MIT)\\nCopyright (c) 2021 NVIDIA\\nPermission is hereby granted, free of charge, to any person obtaining a copy of\\nthis software and associated documentation files (the \"Software\"), to deal in\\nthe Software without restriction, including without limitation the rights to\\nuse, copy, modify, merge, publish, distribute, sublicense, and/or sell copies of\\nthe Software, and to permit persons to whom the Software is furnished to do so,\\nsubject to the following conditions:\\nThe above copyright notice and this permission notice shall be included in all\\ncopies or substantial portions of the Software.\\nTHE SOFTWARE IS PROVIDED \"AS IS\", WITHOUT WARRANTY OF ANY KIND, EXPRESS OR\\nIMPLIED, INCLUDING BUT NOT LIMITED TO THE WARRANTIES OF MERCHANTABILITY, FITNESS\\nFOR A PARTICULAR PURPOSE AND NONINFRINGEMENT. IN NO EVENT SHALL THE AUTHORS OR\\nCOPYRIGHT HOLDERS BE LIABLE FOR ANY CLAIM, DAMAGES OR OTHER LIABILITY, WHETHER\\nIN AN ACTION OF CONTRACT, TORT OR OTHERWISE, ARISING FROM, OUT OF OR IN\\nCONNECTION WITH THE SOFTWARE OR THE USE OR OTHER DEALINGS IN THE SOFTWARE.\\n'"
            ],
            "application/vnd.google.colaboratory.intrinsic+json": {
              "type": "string"
            }
          },
          "metadata": {},
          "execution_count": 1
        }
      ],
      "source": [
        "\"\"\"\n",
        "The MIT License (MIT)\n",
        "Copyright (c) 2021 NVIDIA\n",
        "Permission is hereby granted, free of charge, to any person obtaining a copy of\n",
        "this software and associated documentation files (the \"Software\"), to deal in\n",
        "the Software without restriction, including without limitation the rights to\n",
        "use, copy, modify, merge, publish, distribute, sublicense, and/or sell copies of\n",
        "the Software, and to permit persons to whom the Software is furnished to do so,\n",
        "subject to the following conditions:\n",
        "The above copyright notice and this permission notice shall be included in all\n",
        "copies or substantial portions of the Software.\n",
        "THE SOFTWARE IS PROVIDED \"AS IS\", WITHOUT WARRANTY OF ANY KIND, EXPRESS OR\n",
        "IMPLIED, INCLUDING BUT NOT LIMITED TO THE WARRANTIES OF MERCHANTABILITY, FITNESS\n",
        "FOR A PARTICULAR PURPOSE AND NONINFRINGEMENT. IN NO EVENT SHALL THE AUTHORS OR\n",
        "COPYRIGHT HOLDERS BE LIABLE FOR ANY CLAIM, DAMAGES OR OTHER LIABILITY, WHETHER\n",
        "IN AN ACTION OF CONTRACT, TORT OR OTHERWISE, ARISING FROM, OUT OF OR IN\n",
        "CONNECTION WITH THE SOFTWARE OR THE USE OR OTHER DEALINGS IN THE SOFTWARE.\n",
        "\"\"\"\n"
      ]
    },
    {
      "cell_type": "markdown",
      "metadata": {
        "id": "kfDNkudgpzkt"
      },
      "source": [
        "This code example demonstrates how to use a convolutional neural network to solve an image classification problem, using the CIFAR-10 dataset. More context for this code example can be found in the section \"Programming Example: Image Classification with a Convolutional Network\" in Chapter 7 in the book Learning Deep Learning by Magnus Ekman (ISBN: 9780137470358).\n"
      ]
    },
    {
      "cell_type": "markdown",
      "metadata": {
        "id": "kAxkmkLcpzkw"
      },
      "source": [
        "The first code snippet shows the initialization code for our CNN program. The code is similar to c5e2_mnist_learning but instead of MNIST we load and standardize the CIFAR-10 dataset.\n"
      ]
    },
    {
      "cell_type": "code",
      "execution_count": 2,
      "metadata": {
        "id": "t2Cv2h_Apzkx",
        "outputId": "9f0252b4-e5f8-4155-e830-44c56961295d",
        "colab": {
          "base_uri": "https://localhost:8080/",
          "height": 412,
          "referenced_widgets": [
            "57d97df21cdb4912a7fa9015ea261dbb",
            "dcca0880b2094bdca07dd9e3e9adea49",
            "9e39deafa7d84780a36307659455db74",
            "e3a6d7495f574b5a82c8a131407ea66e",
            "20ccbc1a65494635a94d48671b73ce32",
            "8acd84f02cea46aeb4e91d451d41da19",
            "0fb83ce60185485d9f9b3e8156b4c0fd",
            "0ad0b691a1cb40ec9ff8a8c6389f3fc3",
            "636a92d4ce944fbd9974aced00e54d6b",
            "37e6f4402a5a493196fc982d43bd6681",
            "7c70e9c2dca1407b91682b87b86301df"
          ]
        }
      },
      "outputs": [
        {
          "output_type": "stream",
          "name": "stdout",
          "text": [
            "--2023-03-05 19:39:21--  https://github.com/gnitnaw/LDL/raw/main/pt_framework/utilities.py\n",
            "Resolving github.com (github.com)... 20.205.243.166\n",
            "Connecting to github.com (github.com)|20.205.243.166|:443... connected.\n",
            "HTTP request sent, awaiting response... 302 Found\n",
            "Location: https://raw.githubusercontent.com/gnitnaw/LDL/main/pt_framework/utilities.py [following]\n",
            "--2023-03-05 19:39:21--  https://raw.githubusercontent.com/gnitnaw/LDL/main/pt_framework/utilities.py\n",
            "Resolving raw.githubusercontent.com (raw.githubusercontent.com)... 185.199.108.133, 185.199.110.133, 185.199.111.133, ...\n",
            "Connecting to raw.githubusercontent.com (raw.githubusercontent.com)|185.199.108.133|:443... connected.\n",
            "HTTP request sent, awaiting response... 200 OK\n",
            "Length: 4326 (4.2K) [text/plain]\n",
            "Saving to: ‘utilities.py’\n",
            "\n",
            "utilities.py        100%[===================>]   4.22K  --.-KB/s    in 0s      \n",
            "\n",
            "2023-03-05 19:39:21 (53.8 MB/s) - ‘utilities.py’ saved [4326/4326]\n",
            "\n",
            "Downloading https://www.cs.toronto.edu/~kriz/cifar-10-python.tar.gz to ./pt_data/cifar-10-python.tar.gz\n"
          ]
        },
        {
          "output_type": "display_data",
          "data": {
            "text/plain": [
              "  0%|          | 0/170498071 [00:00<?, ?it/s]"
            ],
            "application/vnd.jupyter.widget-view+json": {
              "version_major": 2,
              "version_minor": 0,
              "model_id": "57d97df21cdb4912a7fa9015ea261dbb"
            }
          },
          "metadata": {}
        },
        {
          "output_type": "stream",
          "name": "stdout",
          "text": [
            "Extracting ./pt_data/cifar-10-python.tar.gz to ./pt_data\n",
            "Files already downloaded and verified\n",
            "Files already downloaded and verified\n"
          ]
        }
      ],
      "source": [
        "!wget https://github.com/gnitnaw/LDL/raw/main/pt_framework/utilities.py\n",
        "import torch\n",
        "import torch.nn as nn\n",
        "import torchvision\n",
        "import torchvision.transforms as transforms\n",
        "from torchvision.datasets import CIFAR10\n",
        "from torch.utils.data import DataLoader\n",
        "import numpy as np\n",
        "import utilities\n",
        "from utilities import train_model\n",
        "\n",
        "device = torch.device(\"cuda:0\" if torch.cuda.is_available() else \"cpu\")\n",
        "EPOCHS = 128\n",
        "BATCH_SIZE = 32\n",
        "\n",
        "# Load training dataset into a single batch to compute mean and stddev.\n",
        "transform = transforms.Compose([transforms.ToTensor()])\n",
        "trainset = CIFAR10(root='./pt_data', train=True, download=True, transform=transform)\n",
        "trainloader = DataLoader(trainset, batch_size=len(trainset), shuffle=False)\n",
        "data = next(iter(trainloader))\n",
        "mean = data[0].mean()\n",
        "stddev = data[0].std()\n",
        "\n",
        "# Load and standardize training and test dataset.\n",
        "transform = transforms.Compose(\n",
        "    [transforms.ToTensor(),\n",
        "     transforms.Normalize(mean, stddev)])\n",
        "\n",
        "trainset = CIFAR10(root='./pt_data', train=True, download=True, transform=transform)\n",
        "testset = CIFAR10(root='./pt_data', train=False, download=True, transform=transform)\n"
      ]
    },
    {
      "cell_type": "markdown",
      "metadata": {
        "id": "yrK_thxRpzky"
      },
      "source": [
        "The actual model is created by the next code snippet, which declares a Sequential model. We are now working with a 2D convolutional layer, so there is no need to start with a Flatten layer because the dimensions of the input image already match the required dimension of the first layer. We tell the layer that the input image has 3 channels and we want the layer to output 64 channels. We also state that we want a kernel size of 5×5, a stride of 2x2. Finally, we state that we want to pad the image with 2 pixels on each side, which in combination with the 5x5 kernel size and 2x2 stride will result in the output resolution being half of the resolution of the input image. That is, the output of the layer will be 16x16 neurons per channel. We specify the neuron type as ReLU because that has been shown to be a good activation function.\n",
        "\n",
        "The next convolutional layer is similar but with a smaller kernel size. The number of input channels (64) must match the number of output channels from the previous layer. The number of neurons per channel is implicitly defined as 8×8 because the previous layer was 16×16 outputs per channel, and we choose a stride of 2x2 for this layer as well. We set padding to 1 since our kernel size is 3.\n",
        "\n",
        "Before we can add the fully connected (Linear) layer, we need to flatten (convert from three dimensions to a single dimension) the outputs from the second convolutional layer. We compute the number of inputs for this layer as 64x8x8 (the previous convolutional layer was 64 channels and 8x8 neurons per channel). We use softmax activation for the fully connected layer so we can interpret the one-hot encoded outputs as probabilities.\n",
        "\n",
        "We use Kaiming (He) initialization for the weights in the convolutional layers and Xavier (Glorot) for the fully connected layer.\n",
        "\n",
        "We finally select the categorical_crossentropy loss function and use the Adam optimizer in our call to compile. We then print out a description of the network with a call to model.summary().\n"
      ]
    },
    {
      "cell_type": "code",
      "execution_count": 3,
      "metadata": {
        "id": "CSlIF0RHpzkz"
      },
      "outputs": [],
      "source": [
        "# Model with 2 convolutional and 1 fully-connected layer.\n",
        "model = nn.Sequential(\n",
        "    nn.Conv2d(3, 64, 5, stride=2, padding=2), # Output is 64x16x16.\n",
        "    nn.ReLU(),\n",
        "    nn.Conv2d(64, 64, 3, stride=2, padding=1), # Output is 64x8x8.\n",
        "    nn.ReLU(),\n",
        "    nn.Flatten(),\n",
        "    nn.Linear(64 * 8 * 8, 10)\n",
        ")\n",
        "\n",
        "# Retrieve layers for custom weight initialization.\n",
        "layers = next(model.modules())\n",
        "conv_layer0 = layers[0]\n",
        "conv_layer1 = layers[2]\n",
        "output_layer = layers[5]\n",
        "\n",
        "# Kaiming (He) initialization.\n",
        "nn.init.kaiming_normal_(conv_layer0.weight)\n",
        "nn.init.constant_(conv_layer0.bias, 0.0)\n",
        "nn.init.kaiming_normal_(conv_layer1.weight)\n",
        "nn.init.constant_(conv_layer1.bias, 0.0)\n",
        "\n",
        "# Xavier (Glorot) initialization.\n",
        "nn.init.xavier_uniform_(output_layer.weight)\n",
        "nn.init.constant_(output_layer.bias, 0.0)\n",
        "\n",
        "# Loss function and optimizer\n",
        "optimizer = torch.optim.Adam(model.parameters())\n",
        "loss_function = nn.CrossEntropyLoss()\n"
      ]
    },
    {
      "cell_type": "markdown",
      "metadata": {
        "id": "TRAQ1lHMpzk0"
      },
      "source": [
        "We are now ready to train the network by calling the same train_model() function that was used in the c6e1_boston example, but this time we give the argument \"acc\" because we work on a classification problem and therefore want the function to compute accuracy instead of mean absolute error (mae).\n"
      ]
    },
    {
      "cell_type": "code",
      "execution_count": 4,
      "metadata": {
        "id": "h8kfmBTOpzk1",
        "outputId": "d417eccb-e619-4732-e16e-d00b1f0cb1bd",
        "colab": {
          "base_uri": "https://localhost:8080/"
        }
      },
      "outputs": [
        {
          "output_type": "stream",
          "name": "stdout",
          "text": [
            "Epoch 1/128 loss: 1.3902 - acc: 0.5119 - val_loss: 1.1877 - val_acc: 0.5797\n",
            "Epoch 2/128 loss: 1.0441 - acc: 0.6375 - val_loss: 1.0800 - val_acc: 0.6237\n",
            "Epoch 3/128 loss: 0.9026 - acc: 0.6860 - val_loss: 1.0727 - val_acc: 0.6303\n",
            "Epoch 4/128 loss: 0.8062 - acc: 0.7196 - val_loss: 1.0511 - val_acc: 0.6474\n",
            "Epoch 5/128 loss: 0.7224 - acc: 0.7450 - val_loss: 1.0899 - val_acc: 0.6432\n",
            "Epoch 6/128 loss: 0.6573 - acc: 0.7688 - val_loss: 1.1281 - val_acc: 0.6415\n",
            "Epoch 7/128 loss: 0.5946 - acc: 0.7918 - val_loss: 1.2073 - val_acc: 0.6324\n",
            "Epoch 8/128 loss: 0.5474 - acc: 0.8088 - val_loss: 1.2765 - val_acc: 0.6290\n",
            "Epoch 9/128 loss: 0.5001 - acc: 0.8248 - val_loss: 1.2792 - val_acc: 0.6345\n",
            "Epoch 10/128 loss: 0.4629 - acc: 0.8357 - val_loss: 1.3711 - val_acc: 0.6277\n",
            "Epoch 11/128 loss: 0.4275 - acc: 0.8484 - val_loss: 1.4343 - val_acc: 0.6236\n",
            "Epoch 12/128 loss: 0.3947 - acc: 0.8605 - val_loss: 1.5380 - val_acc: 0.6298\n",
            "Epoch 13/128 loss: 0.3645 - acc: 0.8695 - val_loss: 1.6143 - val_acc: 0.6284\n",
            "Epoch 14/128 loss: 0.3380 - acc: 0.8793 - val_loss: 1.7164 - val_acc: 0.6220\n",
            "Epoch 15/128 loss: 0.3176 - acc: 0.8863 - val_loss: 1.8063 - val_acc: 0.6179\n",
            "Epoch 16/128 loss: 0.2957 - acc: 0.8931 - val_loss: 1.8771 - val_acc: 0.6276\n",
            "Epoch 17/128 loss: 0.2811 - acc: 0.8985 - val_loss: 2.0013 - val_acc: 0.6254\n",
            "Epoch 18/128 loss: 0.2631 - acc: 0.9064 - val_loss: 2.1123 - val_acc: 0.6157\n",
            "Epoch 19/128 loss: 0.2462 - acc: 0.9109 - val_loss: 2.1813 - val_acc: 0.6224\n",
            "Epoch 20/128 loss: 0.2363 - acc: 0.9143 - val_loss: 2.3537 - val_acc: 0.6174\n",
            "Epoch 21/128 loss: 0.2221 - acc: 0.9195 - val_loss: 2.3933 - val_acc: 0.6185\n",
            "Epoch 22/128 loss: 0.2133 - acc: 0.9229 - val_loss: 2.4972 - val_acc: 0.6130\n",
            "Epoch 23/128 loss: 0.2082 - acc: 0.9244 - val_loss: 2.6413 - val_acc: 0.6200\n",
            "Epoch 24/128 loss: 0.2015 - acc: 0.9278 - val_loss: 2.8320 - val_acc: 0.6178\n",
            "Epoch 25/128 loss: 0.1927 - acc: 0.9297 - val_loss: 2.7842 - val_acc: 0.6204\n",
            "Epoch 26/128 loss: 0.1822 - acc: 0.9357 - val_loss: 2.9504 - val_acc: 0.6142\n",
            "Epoch 27/128 loss: 0.1912 - acc: 0.9332 - val_loss: 2.9915 - val_acc: 0.6199\n",
            "Epoch 28/128 loss: 0.1715 - acc: 0.9388 - val_loss: 3.0672 - val_acc: 0.6148\n",
            "Epoch 29/128 loss: 0.1775 - acc: 0.9365 - val_loss: 3.1628 - val_acc: 0.6174\n",
            "Epoch 30/128 loss: 0.1719 - acc: 0.9401 - val_loss: 3.2638 - val_acc: 0.6155\n",
            "Epoch 31/128 loss: 0.1615 - acc: 0.9434 - val_loss: 3.3537 - val_acc: 0.6179\n",
            "Epoch 32/128 loss: 0.1660 - acc: 0.9426 - val_loss: 3.4546 - val_acc: 0.6185\n",
            "Epoch 33/128 loss: 0.1579 - acc: 0.9457 - val_loss: 3.5373 - val_acc: 0.6065\n",
            "Epoch 34/128 loss: 0.1545 - acc: 0.9466 - val_loss: 3.7370 - val_acc: 0.6137\n",
            "Epoch 35/128 loss: 0.1556 - acc: 0.9482 - val_loss: 3.7746 - val_acc: 0.6110\n",
            "Epoch 36/128 loss: 0.1604 - acc: 0.9454 - val_loss: 3.7776 - val_acc: 0.6087\n",
            "Epoch 37/128 loss: 0.1524 - acc: 0.9491 - val_loss: 3.9839 - val_acc: 0.6179\n",
            "Epoch 38/128 loss: 0.1464 - acc: 0.9516 - val_loss: 4.0096 - val_acc: 0.6115\n",
            "Epoch 39/128 loss: 0.1479 - acc: 0.9496 - val_loss: 4.0685 - val_acc: 0.6181\n",
            "Epoch 40/128 loss: 0.1494 - acc: 0.9510 - val_loss: 4.2256 - val_acc: 0.6096\n",
            "Epoch 41/128 loss: 0.1476 - acc: 0.9525 - val_loss: 4.3187 - val_acc: 0.6166\n",
            "Epoch 42/128 loss: 0.1501 - acc: 0.9521 - val_loss: 4.4247 - val_acc: 0.6170\n",
            "Epoch 43/128 loss: 0.1562 - acc: 0.9501 - val_loss: 4.4770 - val_acc: 0.6111\n",
            "Epoch 44/128 loss: 0.1428 - acc: 0.9545 - val_loss: 4.6329 - val_acc: 0.5993\n",
            "Epoch 45/128 loss: 0.1424 - acc: 0.9557 - val_loss: 4.6871 - val_acc: 0.6058\n",
            "Epoch 46/128 loss: 0.1473 - acc: 0.9534 - val_loss: 4.8958 - val_acc: 0.6100\n",
            "Epoch 47/128 loss: 0.1368 - acc: 0.9581 - val_loss: 5.0540 - val_acc: 0.6049\n",
            "Epoch 48/128 loss: 0.1416 - acc: 0.9564 - val_loss: 5.0120 - val_acc: 0.6089\n",
            "Epoch 49/128 loss: 0.1525 - acc: 0.9547 - val_loss: 4.9880 - val_acc: 0.6073\n",
            "Epoch 50/128 loss: 0.1397 - acc: 0.9571 - val_loss: 5.1706 - val_acc: 0.6103\n",
            "Epoch 51/128 loss: 0.1387 - acc: 0.9581 - val_loss: 5.1744 - val_acc: 0.6103\n",
            "Epoch 52/128 loss: 0.1393 - acc: 0.9577 - val_loss: 5.2512 - val_acc: 0.6121\n",
            "Epoch 53/128 loss: 0.1332 - acc: 0.9604 - val_loss: 5.3678 - val_acc: 0.6044\n",
            "Epoch 54/128 loss: 0.1331 - acc: 0.9608 - val_loss: 5.4507 - val_acc: 0.6115\n",
            "Epoch 55/128 loss: 0.1363 - acc: 0.9589 - val_loss: 5.6284 - val_acc: 0.6124\n",
            "Epoch 56/128 loss: 0.1507 - acc: 0.9579 - val_loss: 5.6794 - val_acc: 0.6078\n",
            "Epoch 57/128 loss: 0.1313 - acc: 0.9620 - val_loss: 5.6836 - val_acc: 0.6130\n",
            "Epoch 58/128 loss: 0.1371 - acc: 0.9608 - val_loss: 5.8447 - val_acc: 0.6119\n",
            "Epoch 59/128 loss: 0.1330 - acc: 0.9619 - val_loss: 5.9053 - val_acc: 0.6077\n",
            "Epoch 60/128 loss: 0.1362 - acc: 0.9612 - val_loss: 6.1677 - val_acc: 0.6038\n",
            "Epoch 61/128 loss: 0.1432 - acc: 0.9611 - val_loss: 6.2725 - val_acc: 0.6070\n",
            "Epoch 62/128 loss: 0.1301 - acc: 0.9626 - val_loss: 6.2485 - val_acc: 0.6073\n",
            "Epoch 63/128 loss: 0.1352 - acc: 0.9624 - val_loss: 6.4862 - val_acc: 0.6074\n",
            "Epoch 64/128 loss: 0.1328 - acc: 0.9641 - val_loss: 6.4761 - val_acc: 0.6123\n",
            "Epoch 65/128 loss: 0.1479 - acc: 0.9611 - val_loss: 6.7246 - val_acc: 0.6128\n",
            "Epoch 66/128 loss: 0.1384 - acc: 0.9637 - val_loss: 6.7000 - val_acc: 0.6089\n",
            "Epoch 67/128 loss: 0.1343 - acc: 0.9650 - val_loss: 6.7691 - val_acc: 0.6031\n",
            "Epoch 68/128 loss: 0.1308 - acc: 0.9645 - val_loss: 6.6423 - val_acc: 0.6095\n",
            "Epoch 69/128 loss: 0.1423 - acc: 0.9626 - val_loss: 6.9758 - val_acc: 0.6133\n",
            "Epoch 70/128 loss: 0.1397 - acc: 0.9642 - val_loss: 6.9929 - val_acc: 0.6170\n",
            "Epoch 71/128 loss: 0.1328 - acc: 0.9660 - val_loss: 7.1413 - val_acc: 0.6049\n",
            "Epoch 72/128 loss: 0.1448 - acc: 0.9640 - val_loss: 7.2906 - val_acc: 0.6085\n",
            "Epoch 73/128 loss: 0.1287 - acc: 0.9676 - val_loss: 7.2921 - val_acc: 0.6127\n",
            "Epoch 74/128 loss: 0.1445 - acc: 0.9649 - val_loss: 7.3465 - val_acc: 0.6144\n",
            "Epoch 75/128 loss: 0.1298 - acc: 0.9678 - val_loss: 7.3276 - val_acc: 0.6036\n",
            "Epoch 76/128 loss: 0.1404 - acc: 0.9666 - val_loss: 7.6683 - val_acc: 0.6097\n",
            "Epoch 77/128 loss: 0.1477 - acc: 0.9639 - val_loss: 7.7337 - val_acc: 0.6098\n",
            "Epoch 78/128 loss: 0.1309 - acc: 0.9678 - val_loss: 7.7831 - val_acc: 0.6129\n",
            "Epoch 79/128 loss: 0.1417 - acc: 0.9670 - val_loss: 7.9197 - val_acc: 0.6134\n",
            "Epoch 80/128 loss: 0.1361 - acc: 0.9670 - val_loss: 8.0206 - val_acc: 0.6088\n",
            "Epoch 81/128 loss: 0.1418 - acc: 0.9653 - val_loss: 8.1569 - val_acc: 0.6087\n",
            "Epoch 82/128 loss: 0.1392 - acc: 0.9667 - val_loss: 8.2159 - val_acc: 0.6081\n",
            "Epoch 83/128 loss: 0.1391 - acc: 0.9685 - val_loss: 8.2533 - val_acc: 0.6025\n",
            "Epoch 84/128 loss: 0.1366 - acc: 0.9688 - val_loss: 8.2685 - val_acc: 0.6033\n",
            "Epoch 85/128 loss: 0.1364 - acc: 0.9685 - val_loss: 8.4563 - val_acc: 0.6118\n",
            "Epoch 86/128 loss: 0.1384 - acc: 0.9680 - val_loss: 8.5001 - val_acc: 0.6033\n",
            "Epoch 87/128 loss: 0.1366 - acc: 0.9688 - val_loss: 8.7770 - val_acc: 0.6142\n",
            "Epoch 88/128 loss: 0.1361 - acc: 0.9701 - val_loss: 8.8556 - val_acc: 0.6068\n",
            "Epoch 89/128 loss: 0.1393 - acc: 0.9690 - val_loss: 8.9085 - val_acc: 0.6043\n",
            "Epoch 90/128 loss: 0.1384 - acc: 0.9686 - val_loss: 8.9177 - val_acc: 0.6120\n",
            "Epoch 91/128 loss: 0.1398 - acc: 0.9689 - val_loss: 9.1656 - val_acc: 0.6084\n",
            "Epoch 92/128 loss: 0.1383 - acc: 0.9698 - val_loss: 9.3568 - val_acc: 0.6137\n",
            "Epoch 93/128 loss: 0.1542 - acc: 0.9679 - val_loss: 9.3602 - val_acc: 0.6123\n",
            "Epoch 94/128 loss: 0.1441 - acc: 0.9699 - val_loss: 9.2111 - val_acc: 0.6037\n",
            "Epoch 95/128 loss: 0.1344 - acc: 0.9719 - val_loss: 9.6049 - val_acc: 0.6069\n",
            "Epoch 96/128 loss: 0.1464 - acc: 0.9694 - val_loss: 9.5895 - val_acc: 0.6105\n",
            "Epoch 97/128 loss: 0.1357 - acc: 0.9717 - val_loss: 9.7770 - val_acc: 0.6031\n",
            "Epoch 98/128 loss: 0.1315 - acc: 0.9718 - val_loss: 10.0300 - val_acc: 0.6056\n",
            "Epoch 99/128 loss: 0.1482 - acc: 0.9701 - val_loss: 10.0312 - val_acc: 0.6074\n",
            "Epoch 100/128 loss: 0.1383 - acc: 0.9716 - val_loss: 10.1489 - val_acc: 0.6079\n",
            "Epoch 101/128 loss: 0.1459 - acc: 0.9712 - val_loss: 10.1367 - val_acc: 0.6083\n",
            "Epoch 102/128 loss: 0.1365 - acc: 0.9714 - val_loss: 10.3168 - val_acc: 0.6069\n",
            "Epoch 103/128 loss: 0.1431 - acc: 0.9711 - val_loss: 10.3952 - val_acc: 0.6064\n",
            "Epoch 104/128 loss: 0.1449 - acc: 0.9711 - val_loss: 10.5883 - val_acc: 0.6050\n",
            "Epoch 105/128 loss: 0.1317 - acc: 0.9730 - val_loss: 10.5685 - val_acc: 0.6118\n",
            "Epoch 106/128 loss: 0.1362 - acc: 0.9737 - val_loss: 10.7056 - val_acc: 0.6137\n",
            "Epoch 107/128 loss: 0.1471 - acc: 0.9718 - val_loss: 10.7816 - val_acc: 0.6075\n",
            "Epoch 108/128 loss: 0.1385 - acc: 0.9732 - val_loss: 11.1356 - val_acc: 0.6093\n",
            "Epoch 109/128 loss: 0.1470 - acc: 0.9731 - val_loss: 11.2320 - val_acc: 0.6054\n",
            "Epoch 110/128 loss: 0.1453 - acc: 0.9726 - val_loss: 11.1634 - val_acc: 0.6082\n",
            "Epoch 111/128 loss: 0.1390 - acc: 0.9739 - val_loss: 11.3486 - val_acc: 0.6046\n",
            "Epoch 112/128 loss: 0.1403 - acc: 0.9726 - val_loss: 11.2514 - val_acc: 0.6065\n",
            "Epoch 113/128 loss: 0.1501 - acc: 0.9727 - val_loss: 11.3457 - val_acc: 0.6078\n",
            "Epoch 114/128 loss: 0.1413 - acc: 0.9732 - val_loss: 11.8087 - val_acc: 0.6114\n",
            "Epoch 115/128 loss: 0.1412 - acc: 0.9744 - val_loss: 12.0754 - val_acc: 0.6053\n",
            "Epoch 116/128 loss: 0.1391 - acc: 0.9742 - val_loss: 11.9428 - val_acc: 0.6078\n",
            "Epoch 117/128 loss: 0.1437 - acc: 0.9739 - val_loss: 12.1115 - val_acc: 0.6036\n",
            "Epoch 118/128 loss: 0.1488 - acc: 0.9738 - val_loss: 12.6788 - val_acc: 0.6088\n",
            "Epoch 119/128 loss: 0.1580 - acc: 0.9734 - val_loss: 12.0791 - val_acc: 0.6077\n",
            "Epoch 120/128 loss: 0.1369 - acc: 0.9755 - val_loss: 12.6455 - val_acc: 0.6004\n",
            "Epoch 121/128 loss: 0.1376 - acc: 0.9753 - val_loss: 12.6235 - val_acc: 0.6060\n",
            "Epoch 122/128 loss: 0.1548 - acc: 0.9729 - val_loss: 12.6459 - val_acc: 0.6008\n",
            "Epoch 123/128 loss: 0.1339 - acc: 0.9760 - val_loss: 12.8309 - val_acc: 0.6058\n",
            "Epoch 124/128 loss: 0.1532 - acc: 0.9731 - val_loss: 12.8222 - val_acc: 0.6052\n",
            "Epoch 125/128 loss: 0.1368 - acc: 0.9765 - val_loss: 13.1294 - val_acc: 0.6078\n",
            "Epoch 126/128 loss: 0.1411 - acc: 0.9750 - val_loss: 13.0385 - val_acc: 0.6036\n",
            "Epoch 127/128 loss: 0.1385 - acc: 0.9768 - val_loss: 13.1730 - val_acc: 0.6054\n",
            "Epoch 128/128 loss: 0.1532 - acc: 0.9747 - val_loss: 13.1607 - val_acc: 0.6118\n"
          ]
        },
        {
          "output_type": "execute_result",
          "data": {
            "text/plain": [
              "[0.9746681062060141, 0.6118210862619808]"
            ]
          },
          "metadata": {},
          "execution_count": 4
        }
      ],
      "source": [
        "# Train the model.\n",
        "train_model(model, device, EPOCHS, BATCH_SIZE, trainset, testset,\n",
        "            optimizer, loss_function, 'acc')\n"
      ]
    }
  ],
  "metadata": {
    "kernelspec": {
      "display_name": "Python 3",
      "language": "python",
      "name": "python3"
    },
    "language_info": {
      "codemirror_mode": {
        "name": "ipython",
        "version": 3
      },
      "file_extension": ".py",
      "mimetype": "text/x-python",
      "name": "python",
      "nbconvert_exporter": "python",
      "pygments_lexer": "ipython3",
      "version": "3.6.7"
    },
    "colab": {
      "provenance": [],
      "include_colab_link": true
    },
    "accelerator": "GPU",
    "gpuClass": "standard",
    "widgets": {
      "application/vnd.jupyter.widget-state+json": {
        "57d97df21cdb4912a7fa9015ea261dbb": {
          "model_module": "@jupyter-widgets/controls",
          "model_name": "HBoxModel",
          "model_module_version": "1.5.0",
          "state": {
            "_dom_classes": [],
            "_model_module": "@jupyter-widgets/controls",
            "_model_module_version": "1.5.0",
            "_model_name": "HBoxModel",
            "_view_count": null,
            "_view_module": "@jupyter-widgets/controls",
            "_view_module_version": "1.5.0",
            "_view_name": "HBoxView",
            "box_style": "",
            "children": [
              "IPY_MODEL_dcca0880b2094bdca07dd9e3e9adea49",
              "IPY_MODEL_9e39deafa7d84780a36307659455db74",
              "IPY_MODEL_e3a6d7495f574b5a82c8a131407ea66e"
            ],
            "layout": "IPY_MODEL_20ccbc1a65494635a94d48671b73ce32"
          }
        },
        "dcca0880b2094bdca07dd9e3e9adea49": {
          "model_module": "@jupyter-widgets/controls",
          "model_name": "HTMLModel",
          "model_module_version": "1.5.0",
          "state": {
            "_dom_classes": [],
            "_model_module": "@jupyter-widgets/controls",
            "_model_module_version": "1.5.0",
            "_model_name": "HTMLModel",
            "_view_count": null,
            "_view_module": "@jupyter-widgets/controls",
            "_view_module_version": "1.5.0",
            "_view_name": "HTMLView",
            "description": "",
            "description_tooltip": null,
            "layout": "IPY_MODEL_8acd84f02cea46aeb4e91d451d41da19",
            "placeholder": "​",
            "style": "IPY_MODEL_0fb83ce60185485d9f9b3e8156b4c0fd",
            "value": "100%"
          }
        },
        "9e39deafa7d84780a36307659455db74": {
          "model_module": "@jupyter-widgets/controls",
          "model_name": "FloatProgressModel",
          "model_module_version": "1.5.0",
          "state": {
            "_dom_classes": [],
            "_model_module": "@jupyter-widgets/controls",
            "_model_module_version": "1.5.0",
            "_model_name": "FloatProgressModel",
            "_view_count": null,
            "_view_module": "@jupyter-widgets/controls",
            "_view_module_version": "1.5.0",
            "_view_name": "ProgressView",
            "bar_style": "success",
            "description": "",
            "description_tooltip": null,
            "layout": "IPY_MODEL_0ad0b691a1cb40ec9ff8a8c6389f3fc3",
            "max": 170498071,
            "min": 0,
            "orientation": "horizontal",
            "style": "IPY_MODEL_636a92d4ce944fbd9974aced00e54d6b",
            "value": 170498071
          }
        },
        "e3a6d7495f574b5a82c8a131407ea66e": {
          "model_module": "@jupyter-widgets/controls",
          "model_name": "HTMLModel",
          "model_module_version": "1.5.0",
          "state": {
            "_dom_classes": [],
            "_model_module": "@jupyter-widgets/controls",
            "_model_module_version": "1.5.0",
            "_model_name": "HTMLModel",
            "_view_count": null,
            "_view_module": "@jupyter-widgets/controls",
            "_view_module_version": "1.5.0",
            "_view_name": "HTMLView",
            "description": "",
            "description_tooltip": null,
            "layout": "IPY_MODEL_37e6f4402a5a493196fc982d43bd6681",
            "placeholder": "​",
            "style": "IPY_MODEL_7c70e9c2dca1407b91682b87b86301df",
            "value": " 170498071/170498071 [00:13&lt;00:00, 15547540.02it/s]"
          }
        },
        "20ccbc1a65494635a94d48671b73ce32": {
          "model_module": "@jupyter-widgets/base",
          "model_name": "LayoutModel",
          "model_module_version": "1.2.0",
          "state": {
            "_model_module": "@jupyter-widgets/base",
            "_model_module_version": "1.2.0",
            "_model_name": "LayoutModel",
            "_view_count": null,
            "_view_module": "@jupyter-widgets/base",
            "_view_module_version": "1.2.0",
            "_view_name": "LayoutView",
            "align_content": null,
            "align_items": null,
            "align_self": null,
            "border": null,
            "bottom": null,
            "display": null,
            "flex": null,
            "flex_flow": null,
            "grid_area": null,
            "grid_auto_columns": null,
            "grid_auto_flow": null,
            "grid_auto_rows": null,
            "grid_column": null,
            "grid_gap": null,
            "grid_row": null,
            "grid_template_areas": null,
            "grid_template_columns": null,
            "grid_template_rows": null,
            "height": null,
            "justify_content": null,
            "justify_items": null,
            "left": null,
            "margin": null,
            "max_height": null,
            "max_width": null,
            "min_height": null,
            "min_width": null,
            "object_fit": null,
            "object_position": null,
            "order": null,
            "overflow": null,
            "overflow_x": null,
            "overflow_y": null,
            "padding": null,
            "right": null,
            "top": null,
            "visibility": null,
            "width": null
          }
        },
        "8acd84f02cea46aeb4e91d451d41da19": {
          "model_module": "@jupyter-widgets/base",
          "model_name": "LayoutModel",
          "model_module_version": "1.2.0",
          "state": {
            "_model_module": "@jupyter-widgets/base",
            "_model_module_version": "1.2.0",
            "_model_name": "LayoutModel",
            "_view_count": null,
            "_view_module": "@jupyter-widgets/base",
            "_view_module_version": "1.2.0",
            "_view_name": "LayoutView",
            "align_content": null,
            "align_items": null,
            "align_self": null,
            "border": null,
            "bottom": null,
            "display": null,
            "flex": null,
            "flex_flow": null,
            "grid_area": null,
            "grid_auto_columns": null,
            "grid_auto_flow": null,
            "grid_auto_rows": null,
            "grid_column": null,
            "grid_gap": null,
            "grid_row": null,
            "grid_template_areas": null,
            "grid_template_columns": null,
            "grid_template_rows": null,
            "height": null,
            "justify_content": null,
            "justify_items": null,
            "left": null,
            "margin": null,
            "max_height": null,
            "max_width": null,
            "min_height": null,
            "min_width": null,
            "object_fit": null,
            "object_position": null,
            "order": null,
            "overflow": null,
            "overflow_x": null,
            "overflow_y": null,
            "padding": null,
            "right": null,
            "top": null,
            "visibility": null,
            "width": null
          }
        },
        "0fb83ce60185485d9f9b3e8156b4c0fd": {
          "model_module": "@jupyter-widgets/controls",
          "model_name": "DescriptionStyleModel",
          "model_module_version": "1.5.0",
          "state": {
            "_model_module": "@jupyter-widgets/controls",
            "_model_module_version": "1.5.0",
            "_model_name": "DescriptionStyleModel",
            "_view_count": null,
            "_view_module": "@jupyter-widgets/base",
            "_view_module_version": "1.2.0",
            "_view_name": "StyleView",
            "description_width": ""
          }
        },
        "0ad0b691a1cb40ec9ff8a8c6389f3fc3": {
          "model_module": "@jupyter-widgets/base",
          "model_name": "LayoutModel",
          "model_module_version": "1.2.0",
          "state": {
            "_model_module": "@jupyter-widgets/base",
            "_model_module_version": "1.2.0",
            "_model_name": "LayoutModel",
            "_view_count": null,
            "_view_module": "@jupyter-widgets/base",
            "_view_module_version": "1.2.0",
            "_view_name": "LayoutView",
            "align_content": null,
            "align_items": null,
            "align_self": null,
            "border": null,
            "bottom": null,
            "display": null,
            "flex": null,
            "flex_flow": null,
            "grid_area": null,
            "grid_auto_columns": null,
            "grid_auto_flow": null,
            "grid_auto_rows": null,
            "grid_column": null,
            "grid_gap": null,
            "grid_row": null,
            "grid_template_areas": null,
            "grid_template_columns": null,
            "grid_template_rows": null,
            "height": null,
            "justify_content": null,
            "justify_items": null,
            "left": null,
            "margin": null,
            "max_height": null,
            "max_width": null,
            "min_height": null,
            "min_width": null,
            "object_fit": null,
            "object_position": null,
            "order": null,
            "overflow": null,
            "overflow_x": null,
            "overflow_y": null,
            "padding": null,
            "right": null,
            "top": null,
            "visibility": null,
            "width": null
          }
        },
        "636a92d4ce944fbd9974aced00e54d6b": {
          "model_module": "@jupyter-widgets/controls",
          "model_name": "ProgressStyleModel",
          "model_module_version": "1.5.0",
          "state": {
            "_model_module": "@jupyter-widgets/controls",
            "_model_module_version": "1.5.0",
            "_model_name": "ProgressStyleModel",
            "_view_count": null,
            "_view_module": "@jupyter-widgets/base",
            "_view_module_version": "1.2.0",
            "_view_name": "StyleView",
            "bar_color": null,
            "description_width": ""
          }
        },
        "37e6f4402a5a493196fc982d43bd6681": {
          "model_module": "@jupyter-widgets/base",
          "model_name": "LayoutModel",
          "model_module_version": "1.2.0",
          "state": {
            "_model_module": "@jupyter-widgets/base",
            "_model_module_version": "1.2.0",
            "_model_name": "LayoutModel",
            "_view_count": null,
            "_view_module": "@jupyter-widgets/base",
            "_view_module_version": "1.2.0",
            "_view_name": "LayoutView",
            "align_content": null,
            "align_items": null,
            "align_self": null,
            "border": null,
            "bottom": null,
            "display": null,
            "flex": null,
            "flex_flow": null,
            "grid_area": null,
            "grid_auto_columns": null,
            "grid_auto_flow": null,
            "grid_auto_rows": null,
            "grid_column": null,
            "grid_gap": null,
            "grid_row": null,
            "grid_template_areas": null,
            "grid_template_columns": null,
            "grid_template_rows": null,
            "height": null,
            "justify_content": null,
            "justify_items": null,
            "left": null,
            "margin": null,
            "max_height": null,
            "max_width": null,
            "min_height": null,
            "min_width": null,
            "object_fit": null,
            "object_position": null,
            "order": null,
            "overflow": null,
            "overflow_x": null,
            "overflow_y": null,
            "padding": null,
            "right": null,
            "top": null,
            "visibility": null,
            "width": null
          }
        },
        "7c70e9c2dca1407b91682b87b86301df": {
          "model_module": "@jupyter-widgets/controls",
          "model_name": "DescriptionStyleModel",
          "model_module_version": "1.5.0",
          "state": {
            "_model_module": "@jupyter-widgets/controls",
            "_model_module_version": "1.5.0",
            "_model_name": "DescriptionStyleModel",
            "_view_count": null,
            "_view_module": "@jupyter-widgets/base",
            "_view_module_version": "1.2.0",
            "_view_name": "StyleView",
            "description_width": ""
          }
        }
      }
    }
  },
  "nbformat": 4,
  "nbformat_minor": 0
}