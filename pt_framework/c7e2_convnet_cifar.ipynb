{
  "cells": [
    {
      "cell_type": "markdown",
      "metadata": {
        "id": "view-in-github",
        "colab_type": "text"
      },
      "source": [
        "<a href=\"https://colab.research.google.com/github/gnitnaw/LDL/blob/main/pt_framework/c7e2_convnet_cifar.ipynb\" target=\"_parent\"><img src=\"https://colab.research.google.com/assets/colab-badge.svg\" alt=\"Open In Colab\"/></a>"
      ]
    },
    {
      "cell_type": "code",
      "execution_count": 1,
      "metadata": {
        "id": "vQ8r9WZqpzkr",
        "outputId": "8259cbb3-41b3-40e6-9976-b9087d558405",
        "colab": {
          "base_uri": "https://localhost:8080/",
          "height": 109
        }
      },
      "outputs": [
        {
          "output_type": "execute_result",
          "data": {
            "text/plain": [
              "'\\nThe MIT License (MIT)\\nCopyright (c) 2021 NVIDIA\\nPermission is hereby granted, free of charge, to any person obtaining a copy of\\nthis software and associated documentation files (the \"Software\"), to deal in\\nthe Software without restriction, including without limitation the rights to\\nuse, copy, modify, merge, publish, distribute, sublicense, and/or sell copies of\\nthe Software, and to permit persons to whom the Software is furnished to do so,\\nsubject to the following conditions:\\nThe above copyright notice and this permission notice shall be included in all\\ncopies or substantial portions of the Software.\\nTHE SOFTWARE IS PROVIDED \"AS IS\", WITHOUT WARRANTY OF ANY KIND, EXPRESS OR\\nIMPLIED, INCLUDING BUT NOT LIMITED TO THE WARRANTIES OF MERCHANTABILITY, FITNESS\\nFOR A PARTICULAR PURPOSE AND NONINFRINGEMENT. IN NO EVENT SHALL THE AUTHORS OR\\nCOPYRIGHT HOLDERS BE LIABLE FOR ANY CLAIM, DAMAGES OR OTHER LIABILITY, WHETHER\\nIN AN ACTION OF CONTRACT, TORT OR OTHERWISE, ARISING FROM, OUT OF OR IN\\nCONNECTION WITH THE SOFTWARE OR THE USE OR OTHER DEALINGS IN THE SOFTWARE.\\n'"
            ],
            "application/vnd.google.colaboratory.intrinsic+json": {
              "type": "string"
            }
          },
          "metadata": {},
          "execution_count": 1
        }
      ],
      "source": [
        "\"\"\"\n",
        "The MIT License (MIT)\n",
        "Copyright (c) 2021 NVIDIA\n",
        "Permission is hereby granted, free of charge, to any person obtaining a copy of\n",
        "this software and associated documentation files (the \"Software\"), to deal in\n",
        "the Software without restriction, including without limitation the rights to\n",
        "use, copy, modify, merge, publish, distribute, sublicense, and/or sell copies of\n",
        "the Software, and to permit persons to whom the Software is furnished to do so,\n",
        "subject to the following conditions:\n",
        "The above copyright notice and this permission notice shall be included in all\n",
        "copies or substantial portions of the Software.\n",
        "THE SOFTWARE IS PROVIDED \"AS IS\", WITHOUT WARRANTY OF ANY KIND, EXPRESS OR\n",
        "IMPLIED, INCLUDING BUT NOT LIMITED TO THE WARRANTIES OF MERCHANTABILITY, FITNESS\n",
        "FOR A PARTICULAR PURPOSE AND NONINFRINGEMENT. IN NO EVENT SHALL THE AUTHORS OR\n",
        "COPYRIGHT HOLDERS BE LIABLE FOR ANY CLAIM, DAMAGES OR OTHER LIABILITY, WHETHER\n",
        "IN AN ACTION OF CONTRACT, TORT OR OTHERWISE, ARISING FROM, OUT OF OR IN\n",
        "CONNECTION WITH THE SOFTWARE OR THE USE OR OTHER DEALINGS IN THE SOFTWARE.\n",
        "\"\"\"\n"
      ]
    },
    {
      "cell_type": "markdown",
      "metadata": {
        "id": "kfDNkudgpzkt"
      },
      "source": [
        "This code example demonstrates how to use a convolutional neural network to solve an image classification problem, using the CIFAR-10 dataset. More context for this code example can be found in the section \"Programming Example: Image Classification with a Convolutional Network\" in Chapter 7 in the book Learning Deep Learning by Magnus Ekman (ISBN: 9780137470358).\n"
      ]
    },
    {
      "cell_type": "markdown",
      "metadata": {
        "id": "kAxkmkLcpzkw"
      },
      "source": [
        "The first code snippet shows the initialization code for our CNN program. The code is similar to c5e2_mnist_learning but instead of MNIST we load and standardize the CIFAR-10 dataset.\n"
      ]
    },
    {
      "cell_type": "code",
      "execution_count": 2,
      "metadata": {
        "id": "t2Cv2h_Apzkx",
        "outputId": "2a53b7e3-4f70-4dc9-eede-5cd11d6db6f5",
        "colab": {
          "base_uri": "https://localhost:8080/",
          "height": 389
        }
      },
      "outputs": [
        {
          "output_type": "error",
          "ename": "ModuleNotFoundError",
          "evalue": "ignored",
          "traceback": [
            "\u001b[0;31m---------------------------------------------------------------------------\u001b[0m",
            "\u001b[0;31mModuleNotFoundError\u001b[0m                       Traceback (most recent call last)",
            "\u001b[0;32m<ipython-input-2-e2dcf1f2c2a3>\u001b[0m in \u001b[0;36m<module>\u001b[0;34m\u001b[0m\n\u001b[1;32m      6\u001b[0m \u001b[0;32mfrom\u001b[0m \u001b[0mtorch\u001b[0m\u001b[0;34m.\u001b[0m\u001b[0mutils\u001b[0m\u001b[0;34m.\u001b[0m\u001b[0mdata\u001b[0m \u001b[0;32mimport\u001b[0m \u001b[0mDataLoader\u001b[0m\u001b[0;34m\u001b[0m\u001b[0;34m\u001b[0m\u001b[0m\n\u001b[1;32m      7\u001b[0m \u001b[0;32mimport\u001b[0m \u001b[0mnumpy\u001b[0m \u001b[0;32mas\u001b[0m \u001b[0mnp\u001b[0m\u001b[0;34m\u001b[0m\u001b[0;34m\u001b[0m\u001b[0m\n\u001b[0;32m----> 8\u001b[0;31m \u001b[0;32mimport\u001b[0m \u001b[0mutilities\u001b[0m\u001b[0;34m\u001b[0m\u001b[0;34m\u001b[0m\u001b[0m\n\u001b[0m\u001b[1;32m      9\u001b[0m \u001b[0;32mfrom\u001b[0m \u001b[0mutilities\u001b[0m \u001b[0;32mimport\u001b[0m \u001b[0mtrain_model\u001b[0m\u001b[0;34m\u001b[0m\u001b[0;34m\u001b[0m\u001b[0m\n\u001b[1;32m     10\u001b[0m \u001b[0;34m\u001b[0m\u001b[0m\n",
            "\u001b[0;31mModuleNotFoundError\u001b[0m: No module named 'utilities'",
            "",
            "\u001b[0;31m---------------------------------------------------------------------------\u001b[0;32m\nNOTE: If your import is failing due to a missing package, you can\nmanually install dependencies using either !pip or !apt.\n\nTo view examples of installing some common dependencies, click the\n\"Open Examples\" button below.\n\u001b[0;31m---------------------------------------------------------------------------\u001b[0m\n"
          ],
          "errorDetails": {
            "actions": [
              {
                "action": "open_url",
                "actionText": "Open Examples",
                "url": "/notebooks/snippets/importing_libraries.ipynb"
              }
            ]
          }
        }
      ],
      "source": [
        "import torch\n",
        "import torch.nn as nn\n",
        "import torchvision\n",
        "import torchvision.transforms as transforms\n",
        "from torchvision.datasets import CIFAR10\n",
        "from torch.utils.data import DataLoader\n",
        "import numpy as np\n",
        "import utilities\n",
        "from utilities import train_model\n",
        "\n",
        "device = torch.device(\"cuda:0\" if torch.cuda.is_available() else \"cpu\")\n",
        "EPOCHS = 128\n",
        "BATCH_SIZE = 32\n",
        "\n",
        "# Load training dataset into a single batch to compute mean and stddev.\n",
        "transform = transforms.Compose([transforms.ToTensor()])\n",
        "trainset = CIFAR10(root='./pt_data', train=True, download=True, transform=transform)\n",
        "trainloader = DataLoader(trainset, batch_size=len(trainset), shuffle=False)\n",
        "data = next(iter(trainloader))\n",
        "mean = data[0].mean()\n",
        "stddev = data[0].std()\n",
        "\n",
        "# Load and standardize training and test dataset.\n",
        "transform = transforms.Compose(\n",
        "    [transforms.ToTensor(),\n",
        "     transforms.Normalize(mean, stddev)])\n",
        "\n",
        "trainset = CIFAR10(root='./pt_data', train=True, download=True, transform=transform)\n",
        "testset = CIFAR10(root='./pt_data', train=False, download=True, transform=transform)\n"
      ]
    },
    {
      "cell_type": "markdown",
      "metadata": {
        "id": "yrK_thxRpzky"
      },
      "source": [
        "The actual model is created by the next code snippet, which declares a Sequential model. We are now working with a 2D convolutional layer, so there is no need to start with a Flatten layer because the dimensions of the input image already match the required dimension of the first layer. We tell the layer that the input image has 3 channels and we want the layer to output 64 channels. We also state that we want a kernel size of 5×5, a stride of 2x2. Finally, we state that we want to pad the image with 2 pixels on each side, which in combination with the 5x5 kernel size and 2x2 stride will result in the output resolution being half of the resolution of the input image. That is, the output of the layer will be 16x16 neurons per channel. We specify the neuron type as ReLU because that has been shown to be a good activation function.\n",
        "\n",
        "The next convolutional layer is similar but with a smaller kernel size. The number of input channels (64) must match the number of output channels from the previous layer. The number of neurons per channel is implicitly defined as 8×8 because the previous layer was 16×16 outputs per channel, and we choose a stride of 2x2 for this layer as well. We set padding to 1 since our kernel size is 3.\n",
        "\n",
        "Before we can add the fully connected (Linear) layer, we need to flatten (convert from three dimensions to a single dimension) the outputs from the second convolutional layer. We compute the number of inputs for this layer as 64x8x8 (the previous convolutional layer was 64 channels and 8x8 neurons per channel). We use softmax activation for the fully connected layer so we can interpret the one-hot encoded outputs as probabilities.\n",
        "\n",
        "We use Kaiming (He) initialization for the weights in the convolutional layers and Xavier (Glorot) for the fully connected layer.\n",
        "\n",
        "We finally select the categorical_crossentropy loss function and use the Adam optimizer in our call to compile. We then print out a description of the network with a call to model.summary().\n"
      ]
    },
    {
      "cell_type": "code",
      "execution_count": null,
      "metadata": {
        "id": "CSlIF0RHpzkz"
      },
      "outputs": [],
      "source": [
        "# Model with 2 convolutional and 1 fully-connected layer.\n",
        "model = nn.Sequential(\n",
        "    nn.Conv2d(3, 64, 5, stride=2, padding=2), # Output is 64x16x16.\n",
        "    nn.ReLU(),\n",
        "    nn.Conv2d(64, 64, 3, stride=2, padding=1), # Output is 64x8x8.\n",
        "    nn.ReLU(),\n",
        "    nn.Flatten(),\n",
        "    nn.Linear(64 * 8 * 8, 10)\n",
        ")\n",
        "\n",
        "# Retrieve layers for custom weight initialization.\n",
        "layers = next(model.modules())\n",
        "conv_layer0 = layers[0]\n",
        "conv_layer1 = layers[2]\n",
        "output_layer = layers[5]\n",
        "\n",
        "# Kaiming (He) initialization.\n",
        "nn.init.kaiming_normal_(conv_layer0.weight)\n",
        "nn.init.constant_(conv_layer0.bias, 0.0)\n",
        "nn.init.kaiming_normal_(conv_layer1.weight)\n",
        "nn.init.constant_(conv_layer1.bias, 0.0)\n",
        "\n",
        "# Xavier (Glorot) initialization.\n",
        "nn.init.xavier_uniform_(output_layer.weight)\n",
        "nn.init.constant_(output_layer.bias, 0.0)\n",
        "\n",
        "# Loss function and optimizer\n",
        "optimizer = torch.optim.Adam(model.parameters())\n",
        "loss_function = nn.CrossEntropyLoss()\n"
      ]
    },
    {
      "cell_type": "markdown",
      "metadata": {
        "id": "TRAQ1lHMpzk0"
      },
      "source": [
        "We are now ready to train the network by calling the same train_model() function that was used in the c6e1_boston example, but this time we give the argument \"acc\" because we work on a classification problem and therefore want the function to compute accuracy instead of mean absolute error (mae).\n"
      ]
    },
    {
      "cell_type": "code",
      "execution_count": null,
      "metadata": {
        "id": "h8kfmBTOpzk1"
      },
      "outputs": [],
      "source": [
        "# Train the model.\n",
        "train_model(model, device, EPOCHS, BATCH_SIZE, trainset, testset,\n",
        "            optimizer, loss_function, 'acc')\n"
      ]
    }
  ],
  "metadata": {
    "kernelspec": {
      "display_name": "Python 3",
      "language": "python",
      "name": "python3"
    },
    "language_info": {
      "codemirror_mode": {
        "name": "ipython",
        "version": 3
      },
      "file_extension": ".py",
      "mimetype": "text/x-python",
      "name": "python",
      "nbconvert_exporter": "python",
      "pygments_lexer": "ipython3",
      "version": "3.6.7"
    },
    "colab": {
      "provenance": [],
      "include_colab_link": true
    },
    "accelerator": "GPU",
    "gpuClass": "standard"
  },
  "nbformat": 4,
  "nbformat_minor": 0
}